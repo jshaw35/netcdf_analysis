{
 "cells": [
  {
   "cell_type": "markdown",
   "metadata": {},
   "source": [
    "# Checking the 1 month long nudged runs against previous runs\n",
    "I want to validate their function before submitting something longer."
   ]
  },
  {
   "cell_type": "code",
   "execution_count": 58,
   "metadata": {},
   "outputs": [],
   "source": [
    "import sys\n",
    "\n",
    "# Add last directory to path\n",
    "sys.path.append(\"/mnt/mcc-ns9600k/jonahks/git_repos/netcdf_analysis\")\n",
    "# Add common resources\n",
    "sys.path.append(\"/mnt/mcc-ns9600k/jonahks/git_repos/netcdf_analysis/Common/\")\n",
    "\n",
    "from imports import (\n",
    "    pd, np, xr, mpl, plt, sns, os, \n",
    "    datetime, crt, gridspec,\n",
    "    polyfit, ccrs, LinearRegression, metrics\n",
    "    )\n",
    "\n",
    "from functions import (\n",
    "    masked_average, interpretNS, plot_slf_isotherms, \n",
    "    add_weights, process_caliop, process_for_slf,\n",
    "    noresm_slf_to_df, regress_1d\n",
    "    )\n",
    "\n",
    "%matplotlib inline"
   ]
  },
  {
   "cell_type": "markdown",
   "metadata": {},
   "source": [
    "Set up directories based on where the program is being run from"
   ]
  },
  {
   "cell_type": "code",
   "execution_count": 59,
   "metadata": {},
   "outputs": [
    {
     "name": "stdout",
     "output_type": "stream",
     "text": [
      "Running through MC2 Jupyter Hub\n",
      "Can access all directory paths: True\n"
     ]
    }
   ],
   "source": [
    "host = os.uname()[1]\n",
    "if 'jupyter' in host.split('-'): # Check if running on NIRD through the Jupyter Hub\n",
    "    print('Running through MC2 Jupyter Hub')\n",
    "    op_dir = '/mnt/mcc-ns9600k/jonahks/'\n",
    "    os.chdir(op_dir)\n",
    "\n",
    "else:  # Assume that we're running on a local machine and mounting NIRD\n",
    "    print('Running on %s, attempting to mount ns9600k/jonahks/ from NIRD' % str(host))\n",
    "    os.system('fusermount -zu ~/drivemount/')  # unmount first\n",
    "    os.system('sshfs jonahks@login.nird.sigma2.no:\"p/jonahks/\" ~/drivemount/')    # Calling mountnird from .bashrc doesn't work\n",
    "    os.chdir('/home/jonahks/drivemount/')\n",
    "    save_dir = '~/DATAOUT/'\n",
    "    save_to = os.path.expanduser(save_dir)\n",
    "\n",
    "obs_dir = 'caliop_slfs/'\n",
    "output_dir = 'figures/'\n",
    "case_dir = 'nudging_dev/' # inconsistent label compared to jupy_test\n",
    "    \n",
    "# Check that each important directory can be accessed:    \n",
    "access_paths = os.path.exists(obs_dir) and os.path.exists(output_dir) and os.path.exists(case_dir)\n",
    "print('Can access all directory paths:', access_paths)"
   ]
  },
  {
   "cell_type": "markdown",
   "metadata": {},
   "source": [
    "Get unnudged output from the normal compset/resolution as a control:"
   ]
  },
  {
   "cell_type": "code",
   "execution_count": 60,
   "metadata": {},
   "outputs": [],
   "source": [
    "val_dir = 'NorESM_validation/'\n",
    "basecase = '20191219_151155_singleparam_cttest_wbf_1_inp_1.cam.h0.0001-01.nc'\n",
    "\n",
    "os.path.exists('%s%s' % (val_dir, basecase))\n",
    "\n",
    "bc = xr.open_dataset('%s%s' % (val_dir, basecase))\n",
    "\n",
    "nudging_cases = os.listdir(case_dir)"
   ]
  },
  {
   "cell_type": "code",
   "execution_count": 61,
   "metadata": {},
   "outputs": [],
   "source": [
    "arc_slf = 100*(bc['CT_SLFXCLD_ISOTM']/bc['CT_CLD_ISOTM']).sel(lat=slice(66.667,90)).mean(dim=['lat','lon','time'])\n",
    "caselist = [arc_slf]\n",
    "namelist = ['Unnudged']\n",
    "\n",
    "_rng = [66.667, 90]\n",
    "\n",
    "for i in nudging_cases:\n",
    "#    print(os.path.exists('%s%s/atm/hist/%s.cam.h0.2000-01.nc' % (case_dir, i,i)))\n",
    "    da = xr.open_dataset('%s%s/atm/hist/%s.cam.h0.2000-01.nc' % (case_dir, i,i))\n",
    "    da = add_weights(da)\n",
    "\n",
    "    mask = np.bitwise_or(da['lat']<_rng[0], da['lat']>_rng[1])\n",
    "    weight = da['cell_weight']\n",
    "    arc_slf = 100*masked_average(da['CT_SLFXCLD_ISOTM']/da['CT_CLD_ISOTM'], dim=['lat','lon','time'],weights=weight, mask=mask)\n",
    "    \n",
    "#    arc_slf = 100*(da['CT_SLFXCLD_ISOTM']/da['CT_CLD_ISOTM']).sel(lat=slice(66.667,90)).mean(dim=['lat','lon','time'])\n",
    "    caselist.append(arc_slf)\n",
    "    namelist.append(i)"
   ]
  },
  {
   "cell_type": "code",
   "execution_count": 70,
   "metadata": {},
   "outputs": [
    {
     "data": {
      "text/plain": [
       "['Unnudged',\n",
       " '20200109_drydepmanual',\n",
       " '20200110_144808_singleparam_nudgetest_wbf_1_inp_1000',\n",
       " '20200109_nfclimo_f19tn14',\n",
       " '20200108_newfilelist',\n",
       " '20200110_140715_singleparam_nudgetest_1_1']"
      ]
     },
     "execution_count": 70,
     "metadata": {},
     "output_type": "execute_result"
    }
   ],
   "source": [
    "namelist"
   ]
  },
  {
   "cell_type": "code",
   "execution_count": 73,
   "metadata": {},
   "outputs": [],
   "source": [
    "selected = ['Unnudged','20200108_newfilelist', '20200110_144808_singleparam_nudgetest_wbf_1_inp_1000','20200109_nfclimo_f19tn14']"
   ]
  },
  {
   "cell_type": "code",
   "execution_count": 74,
   "metadata": {},
   "outputs": [
    {
     "data": {
      "text/plain": [
       "<matplotlib.legend.Legend at 0x7fc3ac1ce4e0>"
      ]
     },
     "execution_count": 74,
     "metadata": {},
     "output_type": "execute_result"
    },
    {
     "data": {
      "image/png": "[encoded data removed]",
      "text/plain": [
       "<Figure size 720x432 with 1 Axes>"
      ]
     },
     "metadata": {
      "needs_background": "light"
     },
     "output_type": "display_data"
    }
   ],
   "source": [
    "fig1 = plt.figure(figsize=(10,6))#constrained_layout=True)\n",
    "spec1 = gridspec.GridSpec(ncols=3, nrows=1, figure=fig1)#, hspace=0.4)\n",
    "f1_ax1 = fig1.add_subplot(spec1[0, :-1])\n",
    "#f1_ax2 = fig1.add_subplot(spec1[0, -1], sharey=f1_ax1)\n",
    "#axes = [f1_ax1, f1_ax2]\n",
    "#plt.setp(f1_ax2.get_yticklabels(), visible=False)\n",
    "\n",
    "fig1.gca().invert_yaxis()\n",
    "f1_ax1.set_title('CALIOP Observations: Cloudtop vs. Bulk Cloud SLF'); f1_ax1.set_ylabel('Isotherm (C)'); f1_ax1.set_xlabel('SLF (%)')\n",
    "#f1_ax2.set_title('NorESM error'); f1_ax2.set_xlabel('SLF Error (%)')\n",
    "for da,name in zip(caselist, namelist):\n",
    "    if name in selected:\n",
    "        f1_ax1.scatter(da, da['isotherms_mpc']-273, label=name)#, color = 'r', marker='D')\n",
    "\n",
    "f1_ax1.legend(loc='lower left')"
   ]
  },
  {
   "cell_type": "code",
   "execution_count": 52,
   "metadata": {},
   "outputs": [],
   "source": [
    "filename = 'nudging_comparison.png'\n",
    "\n",
    "if not os.path.exists(filename):\n",
    "    fig1.savefig(output_dir + filename,format = 'png', dpi = 200)\n",
    "    fig.clf()"
   ]
  },
  {
   "cell_type": "markdown",
   "metadata": {},
   "source": [
    "This is pretty surprising to me. The two different compsets that I am using have noticeably different SLF trends, which the nudged compset producing significantly less SLF at the colder isotherms, which may be better in line with our observations. The least difference is between the nudged runs that only have a different resolution (orange and green). I should look at the difference between the two compsets."
   ]
  },
  {
   "cell_type": "markdown",
   "metadata": {},
   "source": [
    "Nudging compset:\n",
    "2000_CAM60%NUDGEPTAERO_CLM50%SP_CICE%PRES_DOCN%DOM_RTM_SGLC_SWAV\n",
    "Normal compset:\n",
    "2000_CAM60_CLM50%SP_CICE%PRES_DOCN%DOM_MOSART_CISM2%NOEVOLVE_SWAV"
   ]
  },
  {
   "cell_type": "code",
   "execution_count": null,
   "metadata": {},
   "outputs": [],
   "source": []
  }
 ],
 "metadata": {
  "kernelspec": {
   "display_name": "Python 3",
   "language": "python",
   "name": "python3"
  },
  "language_info": {
   "codemirror_mode": {
    "name": "ipython",
    "version": 3
   },
   "file_extension": ".py",
   "mimetype": "text/x-python",
   "name": "python",
   "nbconvert_exporter": "python",
   "pygments_lexer": "ipython3",
   "version": "3.7.3"
  }
 },
 "nbformat": 4,
 "nbformat_minor": 4
}
