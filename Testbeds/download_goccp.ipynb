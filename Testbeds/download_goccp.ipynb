{
 "cells": [
  {
   "cell_type": "markdown",
   "metadata": {},
   "source": [
    "# Scrape GOCCP data from FTP site\n",
    "- Get 2D phase and cloud cover data for the period 06-09 - 05.13"
   ]
  },
  {
   "cell_type": "code",
   "execution_count": 1,
   "metadata": {},
   "outputs": [
    {
     "name": "stdout",
     "output_type": "stream",
     "text": [
      "The autoreload extension is already loaded. To reload it, use:\n",
      "  %reload_ext autoreload\n"
     ]
    }
   ],
   "source": [
    "import sys\n",
    "import time\n",
    "# Add common resources folder to path\n",
    "sys.path.append(\"/mnt/mcc-ns9600k/jonahks/git_repos/netcdf_analysis/Common/\")\n",
    "sys.path.append(\"/mnt/mcc-ns9600k/jonahks/git_repos/netcdf_analysis/\")\n",
    "\n",
    "from imports import (\n",
    "    pd, np, xr, mpl, plt, sns, os, \n",
    "    datetime, sys, crt, gridspec,\n",
    "    polyfit, ccrs, LinearRegression, metrics\n",
    "    )\n",
    "\n",
    "from functions import (\n",
    "    masked_average, interpretNS, plot_slf_isotherms, \n",
    "    add_weights, process_caliop, process_for_slf,\n",
    "    noresm_slf_to_df, regress_1d\n",
    "    )\n",
    "\n",
    "from ftplib import FTP # note this import here\n",
    "\n",
    "%matplotlib inline"
   ]
  },
  {
   "cell_type": "code",
   "execution_count": 2,
   "metadata": {},
   "outputs": [
    {
     "name": "stdout",
     "output_type": "stream",
     "text": [
      "Running through MC2 Jupyter Hub\n",
      "Can access all directory paths: True\n"
     ]
    }
   ],
   "source": [
    "host = os.uname()[1]\n",
    "if 'jupyter' in host.split('-'): # Check if running on NIRD through the Jupyter Hub\n",
    "    print('Running through MC2 Jupyter Hub')\n",
    "    model_dir = '/mnt/mcc-ns9600k/jonahks/'\n",
    "    os.chdir(model_dir)\n",
    "\n",
    "else:  # Assume that we're running on a local machine and mounting NIRD\n",
    "    print('Running on %s, attempting to mount ns9600k/jonahks/ from NIRD' % str(host))\n",
    "    os.system('fusermount -zu ~/drivemount/')  # unmount first\n",
    "    os.system('sshfs jonahks@login.nird.sigma2.no:\"p/jonahks/\" ~/drivemount/')    # Calling mountnird from .bashrc doesn't work\n",
    "    os.chdir('/home/jonahks/drivemount/')\n",
    "    save_dir = '~/DATAOUT/'\n",
    "    save_to = os.path.expanduser(save_dir)\n",
    "\n",
    "output_dir = 'GOCCP_data/2Ddata'\n",
    "case_dir = 'mnth15runs/'   # inconsistent label compared to jupy_test\n",
    "mods_dir = 'inp_validation/'\n",
    "\n",
    "# Check that each important directory can be accessed:    \n",
    "access_paths = os.path.exists(mods_dir) and os.path.exists(output_dir) and os.path.exists(model_dir)\n",
    "print('Can access all directory paths:', access_paths)\n",
    "\n",
    "os.chdir(output_dir) # Move to where files will be saved and organized"
   ]
  },
  {
   "cell_type": "markdown",
   "metadata": {},
   "source": [
    "## Function for getting the month of a file on this server"
   ]
  },
  {
   "cell_type": "code",
   "execution_count": 3,
   "metadata": {},
   "outputs": [],
   "source": [
    "def getmonth(filename, year):\n",
    "    parts = filename.split('_')\n",
    "    date = [x for x in parts if year in x] # grab date regardless of position\n",
    "    \n",
    "    if len(date) > 1:\n",
    "        print('Ambiguous naming of file: %s \\n Cannot determine month.' % filename)\n",
    "        return None\n",
    "    else: \n",
    "        stamp = date[0]\n",
    "        month = stamp[-2:]\n",
    "        \n",
    "        return month"
   ]
  },
  {
   "cell_type": "markdown",
   "metadata": {},
   "source": [
    "## FTP download function from:\n",
    "https://stackoverflow.com/questions/11573817/how-to-download-a-file-via-ftp-with-python-ftplib\n"
   ]
  },
  {
   "cell_type": "code",
   "execution_count": 16,
   "metadata": {},
   "outputs": [],
   "source": [
    "# This function will redownload and replace if there is a previously existing file of the same name.\n",
    "def download(filename):\n",
    "    print(\"Downloading=> %s\" % filename)\n",
    "    \n",
    "    #with open(filename,'wb') as f: # \"use w+, wb\"\n",
    "    #    ftp.retrbinary('RETR ' + filename,f.write)\n",
    "    \n",
    "    fhandle = open(filename, 'wb')\n",
    "    ftp.retrbinary('RETR ' + filename, fhandle.write)\n",
    "    fhandle.close()\n",
    "    \n",
    "    print(\"Download Succesful\")\n",
    "    "
   ]
  },
  {
   "cell_type": "markdown",
   "metadata": {},
   "source": [
    "## FTP initializing\n",
    "\n",
    "Following: https://www.pythonforbeginners.com/code-snippets-source-code/how-to-use-ftp-in-python"
   ]
  },
  {
   "cell_type": "code",
   "execution_count": 20,
   "metadata": {},
   "outputs": [
    {
     "data": {
      "text/plain": [
       "'250 Commande CWD exÃ©cutÃ©e avec succÃ¨s'"
      ]
     },
     "execution_count": 20,
     "metadata": {},
     "output_type": "execute_result"
    }
   ],
   "source": [
    "# Site is: ftp://ftp.climserv.ipsl.polytechnique.fr/cfmip/GOCCP_v3/\n",
    "\n",
    "ftp = FTP('ftp.climserv.ipsl.polytechnique.fr')   # connect to host, default port\n",
    "\n",
    "ftp.login()               # user anonymous, passwd anonymous@\n",
    "\n",
    "ftp.cwd('cfmip/GOCCP_v3/2D_Maps/grid_2x2xL40/2018/avg')\n",
    "#ftp.retrlines('LIST')     # list directory contents "
   ]
  },
  {
   "cell_type": "code",
   "execution_count": 5,
   "metadata": {},
   "outputs": [
    {
     "ename": "NameError",
     "evalue": "name 'ftp' is not defined",
     "output_type": "error",
     "traceback": [
      "\u001b[0;31m---------------------------------------------------------------------------\u001b[0m",
      "\u001b[0;31mNameError\u001b[0m                                 Traceback (most recent call last)",
      "\u001b[0;32m<ipython-input-5-a8862ec96876>\u001b[0m in \u001b[0;36m<module>\u001b[0;34m\u001b[0m\n\u001b[0;32m----> 1\u001b[0;31m \u001b[0mftp\u001b[0m\u001b[0;34m.\u001b[0m\u001b[0mcwd\u001b[0m\u001b[0;34m(\u001b[0m\u001b[0;34m'cfmip'\u001b[0m\u001b[0;34m)\u001b[0m\u001b[0;34m\u001b[0m\u001b[0;34m\u001b[0m\u001b[0m\n\u001b[0m",
      "\u001b[0;31mNameError\u001b[0m: name 'ftp' is not defined"
     ]
    }
   ],
   "source": [
    "ftp.cwd('cfmip')"
   ]
  },
  {
   "cell_type": "code",
   "execution_count": 17,
   "metadata": {},
   "outputs": [
    {
     "name": "stdout",
     "output_type": "stream",
     "text": [
      "Downloading=> MapHigh330m_201801_avg_CFMIP2_sat_3.1.2.nc\n",
      "Download Succesful\n"
     ]
    }
   ],
   "source": [
    "download('MapHigh330m_201801_avg_CFMIP2_sat_3.1.2.nc')"
   ]
  },
  {
   "cell_type": "code",
   "execution_count": 8,
   "metadata": {},
   "outputs": [
    {
     "data": {
      "text/plain": [
       "['MapLowMidHigh330m_201403_avg_CFMIP2_sat_3.1.2.nc',\n",
       " 'MapHigh330m_201801_avg_CFMIP2_sat_3.1.2.nc',\n",
       " '2020',\n",
       " 'MapLowMidHigh_Phase330m_201403_avg_CFMIP2_sat_3.1.2.nc']"
      ]
     },
     "execution_count": 8,
     "metadata": {},
     "output_type": "execute_result"
    }
   ],
   "source": [
    "os.listdir()"
   ]
  },
  {
   "cell_type": "code",
   "execution_count": 18,
   "metadata": {},
   "outputs": [],
   "source": [
    "os.mkdir(\"empty\")"
   ]
  },
  {
   "cell_type": "code",
   "execution_count": 298,
   "metadata": {},
   "outputs": [],
   "source": [
    "import stat\n",
    "path= 'MapHigh330m_201801_avg_CFMIP2_sat_3.1.2.nc'\n",
    "st = os.stat(path)\n",
    "os.chmod(path, st.st_mode | stat.S_IWOTH)"
   ]
  },
  {
   "cell_type": "code",
   "execution_count": 248,
   "metadata": {},
   "outputs": [],
   "source": [
    "# ftp.retrlines('LIST') # print files and directories in current directory, useful for navigating around with cwd"
   ]
  },
  {
   "cell_type": "markdown",
   "metadata": {},
   "source": [
    "## FTP initializing\n",
    "\n",
    "Following: https://www.pythonforbeginners.com/code-snippets-source-code/how-to-use-ftp-in-python"
   ]
  },
  {
   "cell_type": "code",
   "execution_count": 20,
   "metadata": {},
   "outputs": [
    {
     "data": {
      "text/plain": [
       "'250 Commande CWD exÃ©cutÃ©e avec succÃ¨s'"
      ]
     },
     "execution_count": 20,
     "metadata": {},
     "output_type": "execute_result"
    }
   ],
   "source": [
    "# Site is: ftp://ftp.climserv.ipsl.polytechnique.fr/cfmip/GOCCP_v3/\n",
    "\n",
    "ftp = FTP('ftp.climserv.ipsl.polytechnique.fr')   # connect to host, default port\n",
    "\n",
    "ftp.login()               # user anonymous, passwd anonymous@\n",
    "\n",
    "ftp.cwd('cfmip/GOCCP_v3/2D_Maps/grid_2x2xL40/2018/avg')\n",
    "#ftp.retrlines('LIST')     # list directory contents "
   ]
  },
  {
   "cell_type": "code",
   "execution_count": 7,
   "metadata": {},
   "outputs": [
    {
     "name": "stdout",
     "output_type": "stream",
     "text": [
      "drwxr-xr-x   4 ftp      ftp          4096 Jan 14  2019 .\n",
      "drwxrwxr-x   5 ftp      ftp          4096 Feb  7  2018 ..\n",
      "drwxr-xr-x   3 ftp      ftp        167936 Jan 14  2019 daily\n",
      "-rw-r--r--   1 ftp      ftp        201552 Jan  9  2019 MapHigh330m_201001_avg_CFMIP2_sat_3.1.2.nc\n",
      "-rw-r--r--   1 ftp      ftp        201184 Jan  9  2019 MapHigh330m_201002_avg_CFMIP2_sat_3.1.2.nc\n",
      "-rw-r--r--   1 ftp      ftp        201552 Jan  9  2019 MapHigh330m_201003_avg_CFMIP2_sat_3.1.2.nc\n",
      "-rw-r--r--   1 ftp      ftp        201428 Jan  9  2019 MapHigh330m_201004_avg_CFMIP2_sat_3.1.2.nc\n",
      "-rw-r--r--   1 ftp      ftp        201552 Jan  9  2019 MapHigh330m_201005_avg_CFMIP2_sat_3.1.2.nc\n",
      "-rw-r--r--   1 ftp      ftp        201428 Jan  9  2019 MapHigh330m_201006_avg_CFMIP2_sat_3.1.2.nc\n",
      "-rw-r--r--   1 ftp      ftp        201552 Jan  9  2019 MapHigh330m_201007_avg_CFMIP2_sat_3.1.2.nc\n",
      "-rw-r--r--   1 ftp      ftp        201184 Jan  9  2019 MapHigh330m_201008_avg_CFMIP2_sat_3.1.2.nc\n",
      "-rw-r--r--   1 ftp      ftp        201428 Jan  9  2019 MapHigh330m_201009_avg_CFMIP2_sat_3.1.2.nc\n",
      "-rw-r--r--   1 ftp      ftp        201552 Jan  9  2019 MapHigh330m_201010_avg_CFMIP2_sat_3.1.2.nc\n",
      "-rw-r--r--   1 ftp      ftp        201428 Jan  9  2019 MapHigh330m_201011_avg_CFMIP2_sat_3.1.2.nc\n",
      "-rw-r--r--   1 ftp      ftp        201552 Jan  9  2019 MapHigh330m_201012_avg_CFMIP2_sat_3.1.2.nc\n",
      "-rw-r--r--   1 ftp      ftp        332000 Jan  9  2019 MapLowMidHigh330m_201001_avg_CFMIP2_sat_3.1.2.nc\n",
      "-rw-r--r--   1 ftp      ftp        331616 Jan  9  2019 MapLowMidHigh330m_201002_avg_CFMIP2_sat_3.1.2.nc\n",
      "-rw-r--r--   1 ftp      ftp        332000 Jan  9  2019 MapLowMidHigh330m_201003_avg_CFMIP2_sat_3.1.2.nc\n",
      "-rw-r--r--   1 ftp      ftp        331872 Jan  9  2019 MapLowMidHigh330m_201004_avg_CFMIP2_sat_3.1.2.nc\n",
      "-rw-r--r--   1 ftp      ftp        332000 Jan  9  2019 MapLowMidHigh330m_201005_avg_CFMIP2_sat_3.1.2.nc\n",
      "-rw-r--r--   1 ftp      ftp        331872 Jan  9  2019 MapLowMidHigh330m_201006_avg_CFMIP2_sat_3.1.2.nc\n",
      "-rw-r--r--   1 ftp      ftp        332000 Jan  9  2019 MapLowMidHigh330m_201007_avg_CFMIP2_sat_3.1.2.nc\n",
      "-rw-r--r--   1 ftp      ftp        331616 Jan  9  2019 MapLowMidHigh330m_201008_avg_CFMIP2_sat_3.1.2.nc\n",
      "-rw-r--r--   1 ftp      ftp        331872 Jan  9  2019 MapLowMidHigh330m_201009_avg_CFMIP2_sat_3.1.2.nc\n",
      "-rw-r--r--   1 ftp      ftp        332000 Jan  9  2019 MapLowMidHigh330m_201010_avg_CFMIP2_sat_3.1.2.nc\n",
      "-rw-r--r--   1 ftp      ftp        331872 Jan  9  2019 MapLowMidHigh330m_201011_avg_CFMIP2_sat_3.1.2.nc\n",
      "-rw-r--r--   1 ftp      ftp        332000 Jan  9  2019 MapLowMidHigh330m_201012_avg_CFMIP2_sat_3.1.2.nc\n",
      "-rw-r--r--   1 ftp      ftp       2343540 Jan  9  2019 MapLowMidHigh_Phase330m_201001_avg_CFMIP2_sat_3.1.2.nc\n",
      "-rw-r--r--   1 ftp      ftp       2343136 Jan  9  2019 MapLowMidHigh_Phase330m_201002_avg_CFMIP2_sat_3.1.2.nc\n",
      "-rw-r--r--   1 ftp      ftp       2343540 Jan  9  2019 MapLowMidHigh_Phase330m_201003_avg_CFMIP2_sat_3.1.2.nc\n",
      "-rw-r--r--   1 ftp      ftp       2343404 Jan  9  2019 MapLowMidHigh_Phase330m_201004_avg_CFMIP2_sat_3.1.2.nc\n",
      "-rw-r--r--   1 ftp      ftp       2343540 Jan  9  2019 MapLowMidHigh_Phase330m_201005_avg_CFMIP2_sat_3.1.2.nc\n",
      "-rw-r--r--   1 ftp      ftp       2343404 Jan  9  2019 MapLowMidHigh_Phase330m_201006_avg_CFMIP2_sat_3.1.2.nc\n",
      "-rw-r--r--   1 ftp      ftp       2343540 Jan  9  2019 MapLowMidHigh_Phase330m_201007_avg_CFMIP2_sat_3.1.2.nc\n",
      "-rw-r--r--   1 ftp      ftp       2343136 Jan  9  2019 MapLowMidHigh_Phase330m_201008_avg_CFMIP2_sat_3.1.2.nc\n",
      "-rw-r--r--   1 ftp      ftp       2343404 Jan  9  2019 MapLowMidHigh_Phase330m_201009_avg_CFMIP2_sat_3.1.2.nc\n",
      "-rw-r--r--   1 ftp      ftp       2343540 Jan  9  2019 MapLowMidHigh_Phase330m_201010_avg_CFMIP2_sat_3.1.2.nc\n",
      "-rw-r--r--   1 ftp      ftp       2343404 Jan  9  2019 MapLowMidHigh_Phase330m_201011_avg_CFMIP2_sat_3.1.2.nc\n",
      "-rw-r--r--   1 ftp      ftp       2343540 Jan  9  2019 MapLowMidHigh_Phase330m_201012_avg_CFMIP2_sat_3.1.2.nc\n",
      "-rw-r--r--   1 ftp      ftp        916920 Jan  9  2019 Map_OPAQ330m_201001_avg_CFMIP2_sat_3.1.2.nc\n",
      "-rw-r--r--   1 ftp      ftp        916552 Jan  9  2019 Map_OPAQ330m_201002_avg_CFMIP2_sat_3.1.2.nc\n",
      "-rw-r--r--   1 ftp      ftp        916920 Jan  9  2019 Map_OPAQ330m_201003_avg_CFMIP2_sat_3.1.2.nc\n",
      "-rw-r--r--   1 ftp      ftp        916800 Jan  9  2019 Map_OPAQ330m_201004_avg_CFMIP2_sat_3.1.2.nc\n",
      "-rw-r--r--   1 ftp      ftp        916920 Jan  9  2019 Map_OPAQ330m_201005_avg_CFMIP2_sat_3.1.2.nc\n",
      "-rw-r--r--   1 ftp      ftp        916800 Jan  9  2019 Map_OPAQ330m_201006_avg_CFMIP2_sat_3.1.2.nc\n",
      "-rw-r--r--   1 ftp      ftp        916920 Jan  9  2019 Map_OPAQ330m_201007_avg_CFMIP2_sat_3.1.2.nc\n",
      "-rw-r--r--   1 ftp      ftp        916552 Jan  9  2019 Map_OPAQ330m_201008_avg_CFMIP2_sat_3.1.2.nc\n",
      "-rw-r--r--   1 ftp      ftp        916800 Jan  9  2019 Map_OPAQ330m_201009_avg_CFMIP2_sat_3.1.2.nc\n",
      "-rw-r--r--   1 ftp      ftp        916920 Jan  9  2019 Map_OPAQ330m_201010_avg_CFMIP2_sat_3.1.2.nc\n",
      "-rw-r--r--   1 ftp      ftp        916800 Jan  9  2019 Map_OPAQ330m_201011_avg_CFMIP2_sat_3.1.2.nc\n",
      "-rw-r--r--   1 ftp      ftp        916920 Jan  9  2019 Map_OPAQ330m_201012_avg_CFMIP2_sat_3.1.2.nc\n",
      "drwxr-xr-x   2 ftp      ftp          4096 Jan 14  2019 .old\n"
     ]
    },
    {
     "data": {
      "text/plain": [
       "'226 TÃ©lÃ©chargement terminÃ©'"
      ]
     },
     "execution_count": 7,
     "metadata": {},
     "output_type": "execute_result"
    }
   ],
   "source": [
    "ftp.retrlines('LIST')"
   ]
  },
  {
   "cell_type": "markdown",
   "metadata": {},
   "source": [
    "## Specify dates and strings for identifying file types."
   ]
  },
  {
   "cell_type": "code",
   "execution_count": 265,
   "metadata": {},
   "outputs": [],
   "source": [
    "#startdate = '06-2009'\n",
    "startdate = '06-2006'\n",
    "#enddate = '05-2013'\n",
    "enddate = '08-2007'\n",
    "\n",
    "# these strings will be used to select files, so make sure they are unique to your data\n",
    "filetypes = ['MapLowMidHigh330m', 'MapLowMidHigh_Phase330m']\n",
    "\n",
    "start_sep = np.array(startdate.split('-')).astype('int')\n",
    "end_sep = np.array(enddate.split('-')).astype('int')\n",
    "\n",
    "years = np.arange(start_sep[-1], end_sep[-1]+1) # Add one to the end to make the interval inclusive\n",
    "first_month = start_sep[0]\n",
    "last_month = end_sep[0]"
   ]
  },
  {
   "cell_type": "markdown",
   "metadata": {},
   "source": [
    "# Main \"for\" loop\n",
    "\n",
    "Current issue. Permissions are not changed to the user when the file is downloaded..."
   ]
  },
  {
   "cell_type": "code",
   "execution_count": 267,
   "metadata": {},
   "outputs": [
    {
     "name": "stdout",
     "output_type": "stream",
     "text": [
      "Downloading=> MapLowMidHigh330m_200606_avg_CFMIP2_sat_3.1.2.nc\n",
      "Download Succesful\n",
      "Downloading=> MapLowMidHigh330m_200607_avg_CFMIP2_sat_3.1.2.nc\n",
      "Download Succesful\n",
      "Downloading=> MapLowMidHigh330m_200608_avg_CFMIP2_sat_3.1.2.nc\n",
      "Download Succesful\n",
      "Downloading=> MapLowMidHigh330m_200609_avg_CFMIP2_sat_3.1.2.nc\n",
      "Download Succesful\n",
      "Downloading=> MapLowMidHigh330m_200610_avg_CFMIP2_sat_3.1.2.nc\n",
      "Download Succesful\n",
      "Downloading=> MapLowMidHigh330m_200611_avg_CFMIP2_sat_3.1.2.nc\n",
      "Download Succesful\n",
      "Downloading=> MapLowMidHigh330m_200612_avg_CFMIP2_sat_3.1.2.nc\n",
      "Download Succesful\n",
      "Downloading=> MapLowMidHigh_Phase330m_200606_avg_CFMIP2_sat_3.1.2.nc\n",
      "Download Succesful\n",
      "Downloading=> MapLowMidHigh_Phase330m_200607_avg_CFMIP2_sat_3.1.2.nc\n",
      "Download Succesful\n",
      "Downloading=> MapLowMidHigh_Phase330m_200608_avg_CFMIP2_sat_3.1.2.nc\n",
      "Download Succesful\n",
      "Downloading=> MapLowMidHigh_Phase330m_200609_avg_CFMIP2_sat_3.1.2.nc\n",
      "Download Succesful\n",
      "Downloading=> MapLowMidHigh_Phase330m_200610_avg_CFMIP2_sat_3.1.2.nc\n",
      "Download Succesful\n",
      "Downloading=> MapLowMidHigh_Phase330m_200611_avg_CFMIP2_sat_3.1.2.nc\n",
      "Download Succesful\n",
      "Downloading=> MapLowMidHigh_Phase330m_200612_avg_CFMIP2_sat_3.1.2.nc\n",
      "Download Succesful\n",
      "Downloading=> MapLowMidHigh330m_200701_avg_CFMIP2_sat_3.1.2.nc\n",
      "Download Succesful\n",
      "Downloading=> MapLowMidHigh330m_200702_avg_CFMIP2_sat_3.1.2.nc\n",
      "Download Succesful\n",
      "Downloading=> MapLowMidHigh330m_200703_avg_CFMIP2_sat_3.1.2.nc\n",
      "Download Succesful\n",
      "Downloading=> MapLowMidHigh330m_200704_avg_CFMIP2_sat_3.1.2.nc\n",
      "Download Succesful\n",
      "Downloading=> MapLowMidHigh330m_200705_avg_CFMIP2_sat_3.1.2.nc\n",
      "Download Succesful\n",
      "Downloading=> MapLowMidHigh330m_200706_avg_CFMIP2_sat_3.1.2.nc\n",
      "Download Succesful\n",
      "Downloading=> MapLowMidHigh330m_200707_avg_CFMIP2_sat_3.1.2.nc\n",
      "Download Succesful\n",
      "Downloading=> MapLowMidHigh330m_200708_avg_CFMIP2_sat_3.1.2.nc\n",
      "Download Succesful\n",
      "Downloading=> MapLowMidHigh_Phase330m_200701_avg_CFMIP2_sat_3.1.2.nc\n",
      "Download Succesful\n",
      "Downloading=> MapLowMidHigh_Phase330m_200702_avg_CFMIP2_sat_3.1.2.nc\n",
      "Download Succesful\n",
      "Downloading=> MapLowMidHigh_Phase330m_200703_avg_CFMIP2_sat_3.1.2.nc\n",
      "Download Succesful\n",
      "Downloading=> MapLowMidHigh_Phase330m_200704_avg_CFMIP2_sat_3.1.2.nc\n",
      "Download Succesful\n",
      "Downloading=> MapLowMidHigh_Phase330m_200705_avg_CFMIP2_sat_3.1.2.nc\n",
      "Download Succesful\n",
      "Downloading=> MapLowMidHigh_Phase330m_200706_avg_CFMIP2_sat_3.1.2.nc\n",
      "Download Succesful\n",
      "Downloading=> MapLowMidHigh_Phase330m_200707_avg_CFMIP2_sat_3.1.2.nc\n",
      "Download Succesful\n",
      "Downloading=> MapLowMidHigh_Phase330m_200708_avg_CFMIP2_sat_3.1.2.nc\n",
      "Download Succesful\n"
     ]
    }
   ],
   "source": [
    "# Navigate to the base folder for use. Here I'm just getting 2D data for CLDTOT variables.\n",
    "\n",
    "ftp.cwd(\"/cfmip/GOCCP_v3/2D_Maps/grid_2x2xL40\")\n",
    "\n",
    "allscrapes = []\n",
    "\n",
    "for i, yr in enumerate(years):\n",
    "    \n",
    "    # store by year to reduce clutter, create directory if it doesn't already exist and move into it\n",
    "    if not os.path.exists(str(yr)): \n",
    "        os.makedirs(str(yr))\n",
    "    os.chdir(str(yr))    \n",
    "    \n",
    "    try:\n",
    "        ftp.cwd(\"%s/avg/\" % str(yr)) # go to where monthly averages are\n",
    "        files = ftp.nlst() # list files\n",
    "        \n",
    "        toscrape = [] # list of files to grab\n",
    "        for var in filetypes:\n",
    "            _temp = [x for x in files if var in x] # select only files of the variable type of interest\n",
    "            toscrape = toscrape + _temp\n",
    "\n",
    "        toscrape.sort()\n",
    "\n",
    "        # check edge cases to remove months before the startdate\n",
    "        if i == 0: # first year\n",
    "            _temp_scrape = []\n",
    "            for j in toscrape:\n",
    "                _mnth = np.int(getmonth(j, str(yr)))\n",
    "                if (_mnth >= first_month): # remove months outside of the intended period\n",
    "                    _temp_scrape.append(j)\n",
    "            \n",
    "            toscrape = _temp_scrape\n",
    "            \n",
    "        if i == len(years)-1:  # last year\n",
    "            _temp_scrape = []\n",
    "            for j in toscrape:\n",
    "                _mnth = np.int(getmonth(j, str(yr)))\n",
    "                if (_mnth <= last_month): # remove months outside of the intended period\n",
    "                    _temp_scrape.append(j)\n",
    "        \n",
    "            toscrape = _temp_scrape\n",
    "        \n",
    "        toscrape.sort()\n",
    "        for selected in toscrape:\n",
    "            download(selected)\n",
    "        \n",
    "        allscrapes = allscrapes + toscrape # not necessary\n",
    "        \n",
    "        ftp.cwd(\"../../\") # return to the outer directory\n",
    "        \n",
    "        \n",
    "    except:\n",
    "        print(\"Didn't work for %s\" % i)\n",
    "    \n",
    "    # Back out to the nesting dir so that next the loop is not buried in successive layers...\n",
    "    os.chdir('../')    "
   ]
  },
  {
   "cell_type": "code",
   "execution_count": 77,
   "metadata": {},
   "outputs": [
    {
     "data": {
      "text/plain": [
       "['..', 'night', '.', 'avg', 'day']"
      ]
     },
     "execution_count": 77,
     "metadata": {},
     "output_type": "execute_result"
    }
   ],
   "source": [
    "files = ftp.nlst()\n",
    "\n",
    "files"
   ]
  }
 ],
 "metadata": {
  "kernelspec": {
   "display_name": "Python 3",
   "language": "python",
   "name": "python3"
  },
  "language_info": {
   "codemirror_mode": {
    "name": "ipython",
    "version": 3
   },
   "file_extension": ".py",
   "mimetype": "text/x-python",
   "name": "python",
   "nbconvert_exporter": "python",
   "pygments_lexer": "ipython3",
   "version": "3.7.3"
  }
 },
 "nbformat": 4,
 "nbformat_minor": 4
}
