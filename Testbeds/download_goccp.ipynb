{
 "cells": [
  {
   "cell_type": "markdown",
   "metadata": {},
   "source": [
    "# Scrape GOCCP data from FTP site\n",
    "- Get 2D phase and cloud cover data for the period 06-09 - 05.13"
   ]
  },
  {
   "cell_type": "code",
   "execution_count": 224,
   "metadata": {},
   "outputs": [],
   "source": [
    "import sys\n",
    "import time\n",
    "# Add common resources folder to path\n",
    "sys.path.append(\"/mnt/mcc-ns9600k/jonahks/git_repos/netcdf_analysis/Common/\")\n",
    "sys.path.append(\"/mnt/mcc-ns9600k/jonahks/git_repos/netcdf_analysis/\")\n",
    "\n",
    "from imports import (\n",
    "    pd, np, xr, mpl, plt, sns, os, \n",
    "    datetime, sys, crt, gridspec,\n",
    "    polyfit, ccrs, LinearRegression, metrics\n",
    "    )\n",
    "\n",
    "from functions import (\n",
    "    masked_average, interpretNS, plot_slf_isotherms, \n",
    "    add_weights, process_caliop, process_for_slf,\n",
    "    noresm_slf_to_df, regress_1d\n",
    "    )\n",
    "\n",
    "from ftplib import FTP # note this import here\n",
    "\n",
    "%matplotlib inline"
   ]
  },
  {
   "cell_type": "code",
   "execution_count": 252,
   "metadata": {},
   "outputs": [
    {
     "name": "stdout",
     "output_type": "stream",
     "text": [
      "Running through MC2 Jupyter Hub\n",
      "Can access all directory paths: True\n"
     ]
    }
   ],
   "source": [
    "host = os.uname()[1]\n",
    "if 'jupyter' in host.split('-'): # Check if running on NIRD through the Jupyter Hub\n",
    "    print('Running through MC2 Jupyter Hub')\n",
    "    model_dir = '/mnt/mcc-ns9600k/jonahks/'\n",
    "    os.chdir(model_dir)\n",
    "\n",
    "else:  # Assume that we're running on a local machine and mounting NIRD\n",
    "    print('Running on %s, attempting to mount ns9600k/jonahks/ from NIRD' % str(host))\n",
    "    os.system('fusermount -zu ~/drivemount/')  # unmount first\n",
    "    os.system('sshfs jonahks@login.nird.sigma2.no:\"p/jonahks/\" ~/drivemount/')    # Calling mountnird from .bashrc doesn't work\n",
    "    os.chdir('/home/jonahks/drivemount/')\n",
    "    save_dir = '~/DATAOUT/'\n",
    "    save_to = os.path.expanduser(save_dir)\n",
    "\n",
    "output_dir = 'GOCCP_data/2Ddata'\n",
    "case_dir = 'mnth15runs/'   # inconsistent label compared to jupy_test\n",
    "mods_dir = 'inp_validation/'\n",
    "\n",
    "# Check that each important directory can be accessed:    \n",
    "access_paths = os.path.exists(mods_dir) and os.path.exists(output_dir) and os.path.exists(model_dir)\n",
    "print('Can access all directory paths:', access_paths)\n",
    "\n",
    "os.chdir(output_dir) # Move to where files will be saved and organized"
   ]
  },
  {
   "cell_type": "markdown",
   "metadata": {},
   "source": [
    "## Function for getting the month of a file on this server"
   ]
  },
  {
   "cell_type": "code",
   "execution_count": 227,
   "metadata": {},
   "outputs": [],
   "source": [
    "def getmonth(filename, year):\n",
    "    parts = filename.split('_')\n",
    "    date = [x for x in parts if year in x] # grab date regardless of position\n",
    "    \n",
    "    if len(date) > 1:\n",
    "        print('Ambiguous naming of file: %s \\n Cannot determine month.' % filename)\n",
    "        return None\n",
    "    else: \n",
    "        stamp = date[0]\n",
    "        month = stamp[-2:]\n",
    "        \n",
    "        return month"
   ]
  },
  {
   "cell_type": "code",
   "execution_count": 269,
   "metadata": {},
   "outputs": [],
   "source": [
    "# FTP download function from https://stackoverflow.com/questions/11573817/how-to-download-a-file-via-ftp-with-python-ftplib\n",
    "\n",
    "# This function will redownload and replace if there is a previously existing file of the same name.\n",
    "def download(filename):\n",
    "    print(\"Downloading=> %s\" % filename)\n",
    "    \n",
    "    with open(filename,'wb') as f:\n",
    "        ftp.retrbinary('RETR ' + filename,f.write)\n",
    "    \n",
    "    #fhandle = open(filename, 'wb')\n",
    "    #ftp.retrbinary('RETR ' + filename, fhandle.write)\n",
    "    fhandle.close()\n",
    "    \n",
    "    print(\"Download Succesful\")\n",
    "    "
   ]
  },
  {
   "cell_type": "code",
   "execution_count": 276,
   "metadata": {},
   "outputs": [
    {
     "name": "stdout",
     "output_type": "stream",
     "text": [
      "drwxr-xr-x   3 ftp      ftp          4096 Nov 29 16:21 .\n",
      "drwxr-xr-x   5 ftp      ftp          4096 Oct 26  2018 ..\n",
      "drwxr-xr-x   2 ftp      ftp        159744 Nov 29 16:14 daily\n",
      "-rw-r--r--   1 ftp      ftp        201376 Jan 10  2019 MapHigh330m_201801_avg_CFMIP2_sat_3.1.2.nc\n",
      "-rw-r--r--   1 ftp      ftp        201024 Jan 10  2019 MapHigh330m_201802_avg_CFMIP2_sat_3.1.2.nc\n",
      "-rw-r--r--   1 ftp      ftp        201376 Jan 10  2019 MapHigh330m_201803_avg_CFMIP2_sat_3.1.2.nc\n",
      "-rw-r--r--   1 ftp      ftp        201376 Nov 29 15:54 MapHigh330m_201804_avg_CFMIP2_sat_3.1.2.nc\n",
      "-rw-r--r--   1 ftp      ftp        201256 Nov 29 15:59 MapHigh330m_201805_avg_CFMIP2_sat_3.1.2.nc\n",
      "-rw-r--r--   1 ftp      ftp        201376 Nov 29 16:02 MapHigh330m_201806_avg_CFMIP2_sat_3.1.2.nc\n",
      "-rw-r--r--   1 ftp      ftp        201492 Nov 29 16:06 MapHigh330m_201807_avg_CFMIP2_sat_3.1.2.nc\n",
      "-rw-r--r--   1 ftp      ftp        201492 Nov 29 16:10 MapHigh330m_201808_avg_CFMIP2_sat_3.1.2.nc\n",
      "-rw-r--r--   1 ftp      ftp        199972 Nov 29 16:13 MapHigh330m_201809_avg_CFMIP2_sat_3.1.2.nc\n",
      "-rw-r--r--   1 ftp      ftp        201024 Nov 29 16:15 MapHigh330m_201810_avg_CFMIP2_sat_3.1.2.nc\n",
      "-rw-r--r--   1 ftp      ftp        201376 Nov 29 16:17 MapHigh330m_201811_avg_CFMIP2_sat_3.1.2.nc\n",
      "-rw-r--r--   1 ftp      ftp        201492 Nov 29 16:21 MapHigh330m_201812_avg_CFMIP2_sat_3.1.2.nc\n",
      "-rw-r--r--   1 ftp      ftp        331824 Jan 10  2019 MapLowMidHigh330m_201801_avg_CFMIP2_sat_3.1.2.nc\n",
      "-rw-r--r--   1 ftp      ftp        331456 Jan 10  2019 MapLowMidHigh330m_201802_avg_CFMIP2_sat_3.1.2.nc\n",
      "-rw-r--r--   1 ftp      ftp        331824 Jan 10  2019 MapLowMidHigh330m_201803_avg_CFMIP2_sat_3.1.2.nc\n",
      "-rw-r--r--   1 ftp      ftp        331820 Nov 29 15:54 MapLowMidHigh330m_201804_avg_CFMIP2_sat_3.1.2.nc\n",
      "-rw-r--r--   1 ftp      ftp        331696 Nov 29 15:59 MapLowMidHigh330m_201805_avg_CFMIP2_sat_3.1.2.nc\n",
      "-rw-r--r--   1 ftp      ftp        331820 Nov 29 16:02 MapLowMidHigh330m_201806_avg_CFMIP2_sat_3.1.2.nc\n",
      "-rw-r--r--   1 ftp      ftp        331940 Nov 29 16:06 MapLowMidHigh330m_201807_avg_CFMIP2_sat_3.1.2.nc\n",
      "-rw-r--r--   1 ftp      ftp        331940 Nov 29 16:10 MapLowMidHigh330m_201808_avg_CFMIP2_sat_3.1.2.nc\n",
      "-rw-r--r--   1 ftp      ftp        330344 Nov 29 16:13 MapLowMidHigh330m_201809_avg_CFMIP2_sat_3.1.2.nc\n",
      "-rw-r--r--   1 ftp      ftp        331448 Nov 29 16:15 MapLowMidHigh330m_201810_avg_CFMIP2_sat_3.1.2.nc\n",
      "-rw-r--r--   1 ftp      ftp        331820 Nov 29 16:17 MapLowMidHigh330m_201811_avg_CFMIP2_sat_3.1.2.nc\n",
      "-rw-r--r--   1 ftp      ftp        331940 Nov 29 16:21 MapLowMidHigh330m_201812_avg_CFMIP2_sat_3.1.2.nc\n",
      "-rw-r--r--   1 ftp      ftp       2343364 Jan 10  2019 MapLowMidHigh_Phase330m_201801_avg_CFMIP2_sat_3.1.2.nc\n",
      "-rw-r--r--   1 ftp      ftp       2342976 Jan 10  2019 MapLowMidHigh_Phase330m_201802_avg_CFMIP2_sat_3.1.2.nc\n",
      "-rw-r--r--   1 ftp      ftp       2343364 Jan 10  2019 MapLowMidHigh_Phase330m_201803_avg_CFMIP2_sat_3.1.2.nc\n",
      "-rw-r--r--   1 ftp      ftp       2343352 Nov 29 15:54 MapLowMidHigh_Phase330m_201804_avg_CFMIP2_sat_3.1.2.nc\n",
      "-rw-r--r--   1 ftp      ftp       2343220 Nov 29 15:59 MapLowMidHigh_Phase330m_201805_avg_CFMIP2_sat_3.1.2.nc\n",
      "-rw-r--r--   1 ftp      ftp       2343352 Nov 29 16:02 MapLowMidHigh_Phase330m_201806_avg_CFMIP2_sat_3.1.2.nc\n",
      "-rw-r--r--   1 ftp      ftp       2343480 Nov 29 16:06 MapLowMidHigh_Phase330m_201807_avg_CFMIP2_sat_3.1.2.nc\n",
      "-rw-r--r--   1 ftp      ftp       2343480 Nov 29 16:10 MapLowMidHigh_Phase330m_201808_avg_CFMIP2_sat_3.1.2.nc\n",
      "-rw-r--r--   1 ftp      ftp       2341804 Nov 29 16:13 MapLowMidHigh_Phase330m_201809_avg_CFMIP2_sat_3.1.2.nc\n",
      "-rw-r--r--   1 ftp      ftp       2342964 Nov 29 16:15 MapLowMidHigh_Phase330m_201810_avg_CFMIP2_sat_3.1.2.nc\n",
      "-rw-r--r--   1 ftp      ftp       2343352 Nov 29 16:17 MapLowMidHigh_Phase330m_201811_avg_CFMIP2_sat_3.1.2.nc\n",
      "-rw-r--r--   1 ftp      ftp       2343480 Nov 29 16:21 MapLowMidHigh_Phase330m_201812_avg_CFMIP2_sat_3.1.2.nc\n",
      "-rw-r--r--   1 ftp      ftp        916748 Jan 10  2019 Map_OPAQ330m_201801_avg_CFMIP2_sat_3.1.2.nc\n",
      "-rw-r--r--   1 ftp      ftp        916392 Jan 10  2019 Map_OPAQ330m_201802_avg_CFMIP2_sat_3.1.2.nc\n",
      "-rw-r--r--   1 ftp      ftp        916748 Jan 10  2019 Map_OPAQ330m_201803_avg_CFMIP2_sat_3.1.2.nc\n",
      "-rw-r--r--   1 ftp      ftp        916744 Nov 29 15:54 Map_OPAQ330m_201804_avg_CFMIP2_sat_3.1.2.nc\n",
      "-rw-r--r--   1 ftp      ftp        916628 Nov 29 15:59 Map_OPAQ330m_201805_avg_CFMIP2_sat_3.1.2.nc\n",
      "-rw-r--r--   1 ftp      ftp        916744 Nov 29 16:02 Map_OPAQ330m_201806_avg_CFMIP2_sat_3.1.2.nc\n",
      "-rw-r--r--   1 ftp      ftp        916864 Nov 29 16:06 Map_OPAQ330m_201807_avg_CFMIP2_sat_3.1.2.nc\n",
      "-rw-r--r--   1 ftp      ftp        916864 Nov 29 16:10 Map_OPAQ330m_201808_avg_CFMIP2_sat_3.1.2.nc\n",
      "-rw-r--r--   1 ftp      ftp        915328 Nov 29 16:13 Map_OPAQ330m_201809_avg_CFMIP2_sat_3.1.2.nc\n",
      "-rw-r--r--   1 ftp      ftp        916392 Nov 29 16:15 Map_OPAQ330m_201810_avg_CFMIP2_sat_3.1.2.nc\n",
      "-rw-r--r--   1 ftp      ftp        916744 Nov 29 16:17 Map_OPAQ330m_201811_avg_CFMIP2_sat_3.1.2.nc\n",
      "-rw-r--r--   1 ftp      ftp        916864 Nov 29 16:21 Map_OPAQ330m_201812_avg_CFMIP2_sat_3.1.2.nc\n"
     ]
    },
    {
     "data": {
      "text/plain": [
       "'226 TÃ©lÃ©chargement terminÃ©'"
      ]
     },
     "execution_count": 276,
     "metadata": {},
     "output_type": "execute_result"
    }
   ],
   "source": [
    "ftp.retrlines('LIST')"
   ]
  },
  {
   "cell_type": "code",
   "execution_count": 275,
   "metadata": {},
   "outputs": [
    {
     "data": {
      "text/plain": [
       "'250 Commande CWD exÃ©cutÃ©e avec succÃ¨s'"
      ]
     },
     "execution_count": 275,
     "metadata": {},
     "output_type": "execute_result"
    }
   ],
   "source": [
    "ftp.cwd('avg')"
   ]
  },
  {
   "cell_type": "code",
   "execution_count": 277,
   "metadata": {},
   "outputs": [
    {
     "name": "stdout",
     "output_type": "stream",
     "text": [
      "Downloading=> MapHigh330m_201801_avg_CFMIP2_sat_3.1.2.nc\n"
     ]
    },
    {
     "ename": "NameError",
     "evalue": "name 'fhandle' is not defined",
     "output_type": "error",
     "traceback": [
      "\u001b[0;31m---------------------------------------------------------------------------\u001b[0m",
      "\u001b[0;31mNameError\u001b[0m                                 Traceback (most recent call last)",
      "\u001b[0;32m<ipython-input-277-ea73637cf1f2>\u001b[0m in \u001b[0;36m<module>\u001b[0;34m\u001b[0m\n\u001b[0;32m----> 1\u001b[0;31m \u001b[0mdownload\u001b[0m\u001b[0;34m(\u001b[0m\u001b[0;34m'MapHigh330m_201801_avg_CFMIP2_sat_3.1.2.nc'\u001b[0m\u001b[0;34m)\u001b[0m\u001b[0;34m\u001b[0m\u001b[0;34m\u001b[0m\u001b[0m\n\u001b[0m",
      "\u001b[0;32m<ipython-input-269-2e60b10e2582>\u001b[0m in \u001b[0;36mdownload\u001b[0;34m(filename)\u001b[0m\n\u001b[1;32m     10\u001b[0m     \u001b[0;31m#fhandle = open(filename, 'wb')\u001b[0m\u001b[0;34m\u001b[0m\u001b[0;34m\u001b[0m\u001b[0;34m\u001b[0m\u001b[0m\n\u001b[1;32m     11\u001b[0m     \u001b[0;31m#ftp.retrbinary('RETR ' + filename, fhandle.write)\u001b[0m\u001b[0;34m\u001b[0m\u001b[0;34m\u001b[0m\u001b[0;34m\u001b[0m\u001b[0m\n\u001b[0;32m---> 12\u001b[0;31m     \u001b[0mfhandle\u001b[0m\u001b[0;34m.\u001b[0m\u001b[0mclose\u001b[0m\u001b[0;34m(\u001b[0m\u001b[0;34m)\u001b[0m\u001b[0;34m\u001b[0m\u001b[0;34m\u001b[0m\u001b[0m\n\u001b[0m\u001b[1;32m     13\u001b[0m \u001b[0;34m\u001b[0m\u001b[0m\n\u001b[1;32m     14\u001b[0m     \u001b[0mprint\u001b[0m\u001b[0;34m(\u001b[0m\u001b[0;34m\"Download Succesful\"\u001b[0m\u001b[0;34m)\u001b[0m\u001b[0;34m\u001b[0m\u001b[0;34m\u001b[0m\u001b[0m\n",
      "\u001b[0;31mNameError\u001b[0m: name 'fhandle' is not defined"
     ]
    }
   ],
   "source": [
    "download('MapHigh330m_201801_avg_CFMIP2_sat_3.1.2.nc')"
   ]
  },
  {
   "cell_type": "code",
   "execution_count": 248,
   "metadata": {},
   "outputs": [],
   "source": [
    "# ftp.retrlines('LIST') # print files and directories in current directory, useful for navigating around with cwd"
   ]
  },
  {
   "cell_type": "markdown",
   "metadata": {},
   "source": [
    "## FTP initializing\n",
    "\n",
    "Following: https://www.pythonforbeginners.com/code-snippets-source-code/how-to-use-ftp-in-python"
   ]
  },
  {
   "cell_type": "code",
   "execution_count": 228,
   "metadata": {},
   "outputs": [
    {
     "data": {
      "text/plain": [
       "'230 User anonymous logged in.'"
      ]
     },
     "execution_count": 228,
     "metadata": {},
     "output_type": "execute_result"
    }
   ],
   "source": [
    "# Site is: ftp://ftp.climserv.ipsl.polytechnique.fr/cfmip/GOCCP_v3/\n",
    "\n",
    "ftp = FTP('ftp.climserv.ipsl.polytechnique.fr')   # connect to host, default port\n",
    "\n",
    "ftp.login()               # user anonymous, passwd anonymous@\n",
    "\n",
    "#ftp.retrlines('LIST')     # list directory contents "
   ]
  },
  {
   "cell_type": "markdown",
   "metadata": {},
   "source": [
    "## Specify dates and strings for identifying file types."
   ]
  },
  {
   "cell_type": "code",
   "execution_count": 265,
   "metadata": {},
   "outputs": [],
   "source": [
    "#startdate = '06-2009'\n",
    "startdate = '06-2006'\n",
    "#enddate = '05-2013'\n",
    "enddate = '08-2007'\n",
    "\n",
    "# these strings will be used to select files, so make sure they are unique to your data\n",
    "filetypes = ['MapLowMidHigh330m', 'MapLowMidHigh_Phase330m']\n",
    "\n",
    "start_sep = np.array(startdate.split('-')).astype('int')\n",
    "end_sep = np.array(enddate.split('-')).astype('int')\n",
    "\n",
    "years = np.arange(start_sep[-1], end_sep[-1]+1) # Add one to the end to make the interval inclusive\n",
    "first_month = start_sep[0]\n",
    "last_month = end_sep[0]"
   ]
  },
  {
   "cell_type": "code",
   "execution_count": 261,
   "metadata": {},
   "outputs": [
    {
     "name": "stdout",
     "output_type": "stream",
     "text": [
      "[]\n",
      "['2020']\n"
     ]
    }
   ],
   "source": [
    "os.listdir()\n",
    "yr = '2020'\n",
    "if not os.path.exists(yr):\n",
    "    os.makedirs(yr)\n",
    "    \n",
    "os.chdir(yr)\n",
    "print(os.listdir())\n",
    "os.chdir('../')\n",
    "print(os.listdir())\n"
   ]
  },
  {
   "cell_type": "markdown",
   "metadata": {},
   "source": [
    "# Main \"for\" loop\n",
    "\n",
    "Current issue. Permissions are not changed to the user when the file is downloaded..."
   ]
  },
  {
   "cell_type": "code",
   "execution_count": 267,
   "metadata": {},
   "outputs": [
    {
     "name": "stdout",
     "output_type": "stream",
     "text": [
      "Downloading=> MapLowMidHigh330m_200606_avg_CFMIP2_sat_3.1.2.nc\n",
      "Download Succesful\n",
      "Downloading=> MapLowMidHigh330m_200607_avg_CFMIP2_sat_3.1.2.nc\n",
      "Download Succesful\n",
      "Downloading=> MapLowMidHigh330m_200608_avg_CFMIP2_sat_3.1.2.nc\n",
      "Download Succesful\n",
      "Downloading=> MapLowMidHigh330m_200609_avg_CFMIP2_sat_3.1.2.nc\n",
      "Download Succesful\n",
      "Downloading=> MapLowMidHigh330m_200610_avg_CFMIP2_sat_3.1.2.nc\n",
      "Download Succesful\n",
      "Downloading=> MapLowMidHigh330m_200611_avg_CFMIP2_sat_3.1.2.nc\n",
      "Download Succesful\n",
      "Downloading=> MapLowMidHigh330m_200612_avg_CFMIP2_sat_3.1.2.nc\n",
      "Download Succesful\n",
      "Downloading=> MapLowMidHigh_Phase330m_200606_avg_CFMIP2_sat_3.1.2.nc\n",
      "Download Succesful\n",
      "Downloading=> MapLowMidHigh_Phase330m_200607_avg_CFMIP2_sat_3.1.2.nc\n",
      "Download Succesful\n",
      "Downloading=> MapLowMidHigh_Phase330m_200608_avg_CFMIP2_sat_3.1.2.nc\n",
      "Download Succesful\n",
      "Downloading=> MapLowMidHigh_Phase330m_200609_avg_CFMIP2_sat_3.1.2.nc\n",
      "Download Succesful\n",
      "Downloading=> MapLowMidHigh_Phase330m_200610_avg_CFMIP2_sat_3.1.2.nc\n",
      "Download Succesful\n",
      "Downloading=> MapLowMidHigh_Phase330m_200611_avg_CFMIP2_sat_3.1.2.nc\n",
      "Download Succesful\n",
      "Downloading=> MapLowMidHigh_Phase330m_200612_avg_CFMIP2_sat_3.1.2.nc\n",
      "Download Succesful\n",
      "Downloading=> MapLowMidHigh330m_200701_avg_CFMIP2_sat_3.1.2.nc\n",
      "Download Succesful\n",
      "Downloading=> MapLowMidHigh330m_200702_avg_CFMIP2_sat_3.1.2.nc\n",
      "Download Succesful\n",
      "Downloading=> MapLowMidHigh330m_200703_avg_CFMIP2_sat_3.1.2.nc\n",
      "Download Succesful\n",
      "Downloading=> MapLowMidHigh330m_200704_avg_CFMIP2_sat_3.1.2.nc\n",
      "Download Succesful\n",
      "Downloading=> MapLowMidHigh330m_200705_avg_CFMIP2_sat_3.1.2.nc\n",
      "Download Succesful\n",
      "Downloading=> MapLowMidHigh330m_200706_avg_CFMIP2_sat_3.1.2.nc\n",
      "Download Succesful\n",
      "Downloading=> MapLowMidHigh330m_200707_avg_CFMIP2_sat_3.1.2.nc\n",
      "Download Succesful\n",
      "Downloading=> MapLowMidHigh330m_200708_avg_CFMIP2_sat_3.1.2.nc\n",
      "Download Succesful\n",
      "Downloading=> MapLowMidHigh_Phase330m_200701_avg_CFMIP2_sat_3.1.2.nc\n",
      "Download Succesful\n",
      "Downloading=> MapLowMidHigh_Phase330m_200702_avg_CFMIP2_sat_3.1.2.nc\n",
      "Download Succesful\n",
      "Downloading=> MapLowMidHigh_Phase330m_200703_avg_CFMIP2_sat_3.1.2.nc\n",
      "Download Succesful\n",
      "Downloading=> MapLowMidHigh_Phase330m_200704_avg_CFMIP2_sat_3.1.2.nc\n",
      "Download Succesful\n",
      "Downloading=> MapLowMidHigh_Phase330m_200705_avg_CFMIP2_sat_3.1.2.nc\n",
      "Download Succesful\n",
      "Downloading=> MapLowMidHigh_Phase330m_200706_avg_CFMIP2_sat_3.1.2.nc\n",
      "Download Succesful\n",
      "Downloading=> MapLowMidHigh_Phase330m_200707_avg_CFMIP2_sat_3.1.2.nc\n",
      "Download Succesful\n",
      "Downloading=> MapLowMidHigh_Phase330m_200708_avg_CFMIP2_sat_3.1.2.nc\n",
      "Download Succesful\n"
     ]
    }
   ],
   "source": [
    "# Navigate to the base folder for use. Here I'm just getting 2D data for CLDTOT variables.\n",
    "\n",
    "ftp.cwd(\"/cfmip/GOCCP_v3/2D_Maps/grid_2x2xL40\")\n",
    "\n",
    "allscrapes = []\n",
    "\n",
    "for i, yr in enumerate(years):\n",
    "    \n",
    "    # store by year to reduce clutter, create directory if it doesn't already exist and move into it\n",
    "    if not os.path.exists(str(yr)): \n",
    "        os.makedirs(str(yr))\n",
    "    os.chdir(str(yr))    \n",
    "    \n",
    "    try:\n",
    "        ftp.cwd(\"%s/avg/\" % str(yr)) # go to where monthly averages are\n",
    "        files = ftp.nlst() # list files\n",
    "        \n",
    "        toscrape = [] # list of files to grab\n",
    "        for var in filetypes:\n",
    "            _temp = [x for x in files if var in x] # select only files of the variable type of interest\n",
    "            toscrape = toscrape + _temp\n",
    "\n",
    "        toscrape.sort()\n",
    "\n",
    "        # check edge cases to remove months before the startdate\n",
    "        if i == 0: # first year\n",
    "            _temp_scrape = []\n",
    "            for j in toscrape:\n",
    "                _mnth = np.int(getmonth(j, str(yr)))\n",
    "                if (_mnth >= first_month): # remove months outside of the intended period\n",
    "                    _temp_scrape.append(j)\n",
    "            \n",
    "            toscrape = _temp_scrape\n",
    "            \n",
    "        if i == len(years)-1:  # last year\n",
    "            _temp_scrape = []\n",
    "            for j in toscrape:\n",
    "                _mnth = np.int(getmonth(j, str(yr)))\n",
    "                if (_mnth <= last_month): # remove months outside of the intended period\n",
    "                    _temp_scrape.append(j)\n",
    "        \n",
    "            toscrape = _temp_scrape\n",
    "        \n",
    "        toscrape.sort()\n",
    "        for selected in toscrape:\n",
    "            download(selected)\n",
    "        \n",
    "        allscrapes = allscrapes + toscrape # not necessary\n",
    "        \n",
    "        ftp.cwd(\"../../\") # return to the outer directory\n",
    "        \n",
    "        \n",
    "    except:\n",
    "        print(\"Didn't work for %s\" % i)\n",
    "    \n",
    "    # Back out to the nesting dir so that next the loop is not buried in successive layers...\n",
    "    os.chdir('../')    "
   ]
  },
  {
   "cell_type": "code",
   "execution_count": 77,
   "metadata": {},
   "outputs": [
    {
     "data": {
      "text/plain": [
       "['..', 'night', '.', 'avg', 'day']"
      ]
     },
     "execution_count": 77,
     "metadata": {},
     "output_type": "execute_result"
    }
   ],
   "source": [
    "files = ftp.nlst()\n",
    "\n",
    "files"
   ]
  }
 ],
 "metadata": {
  "kernelspec": {
   "display_name": "Python 3",
   "language": "python",
   "name": "python3"
  },
  "language_info": {
   "codemirror_mode": {
    "name": "ipython",
    "version": 3
   },
   "file_extension": ".py",
   "mimetype": "text/x-python",
   "name": "python",
   "nbconvert_exporter": "python",
   "pygments_lexer": "ipython3",
   "version": "3.7.3"
  }
 },
 "nbformat": 4,
 "nbformat_minor": 4
}
