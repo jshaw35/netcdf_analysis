{
 "cells": [
  {
   "cell_type": "markdown",
   "metadata": {},
   "source": [
    "## Implementing cloud-top phase retrievals\n",
    "New data from Olimpia (through Trude) is organized differently."
   ]
  },
  {
   "cell_type": "code",
   "execution_count": 1,
   "metadata": {},
   "outputs": [],
   "source": [
    "from imports import (\n",
    "    pd, np, xr, mpl, plt, sns, os, \n",
    "    datetime, sys, crt, gridspec,\n",
    "    polyfit, ccrs, LinearRegression, metrics\n",
    "    )\n",
    "\n",
    "from functions import (\n",
    "    masked_average\n",
    "    )\n",
    "\n",
    "%matplotlib inline"
   ]
  },
  {
   "cell_type": "code",
   "execution_count": 2,
   "metadata": {},
   "outputs": [
    {
     "name": "stdout",
     "output_type": "stream",
     "text": [
      "Running on storm.uio.no, attempting to mount ns9600k/jonahks/ from NIRD\n",
      "Can access all directory paths: True\n"
     ]
    }
   ],
   "source": [
    "host = os.uname()[1]\n",
    "if 'jupyter' in host.split('-'): # Check if running on NIRD through the Jupyter Hub\n",
    "    print('Running through MC2 Jupyter Hub')\n",
    "    model_dir = '/mnt/mcc-ns9600k/jonahks/'\n",
    "    os.chdir(model_dir)\n",
    "\n",
    "else:  # Assume that we're running on a local machine and mounting NIRD\n",
    "    print('Running on %s, attempting to mount ns9600k/jonahks/ from NIRD' % str(host))\n",
    "    os.system('fusermount -zu ~/drivemount/')  # unmount first\n",
    "    os.system('sshfs jonahks@login.nird.sigma2.no:\"p/jonahks/\" ~/drivemount/')    # Calling mountnird from .bashrc doesn't work\n",
    "    os.chdir('/home/jonahks/drivemount/')\n",
    "    save_dir = '~/DATAOUT/'\n",
    "    save_to = os.path.expanduser(save_dir)\n",
    "\n",
    "obs_dir = 'caliop_cloudtop/'\n",
    "output_dir = 'figures/'\n",
    "model_dir = 'mnth15runs/'   # inconsistent label compared to jupy_test\n",
    "    \n",
    "# Check that each important directory can be accessed:    \n",
    "access_paths = os.path.exists(obs_dir) and os.path.exists(output_dir) and os.path.exists(model_dir)\n",
    "print('Can access all directory paths:', access_paths)"
   ]
  },
  {
   "cell_type": "code",
   "execution_count": 3,
   "metadata": {},
   "outputs": [],
   "source": [
    "obs_files = os.listdir(obs_dir)\n",
    "file_str = '.npy'\n",
    "data_files = [x for x in obs_files if file_str in x]   # files with the CALIOP string\n",
    "data_files.sort()"
   ]
  },
  {
   "cell_type": "code",
   "execution_count": 4,
   "metadata": {},
   "outputs": [
    {
     "data": {
      "text/plain": [
       "['slf_00.npy',\n",
       " 'slf_05.npy',\n",
       " 'slf_10.npy',\n",
       " 'slf_15.npy',\n",
       " 'slf_20.npy',\n",
       " 'slf_25.npy',\n",
       " 'slf_30.npy',\n",
       " 'slf_35.npy',\n",
       " 'slf_40.npy']"
      ]
     },
     "execution_count": 4,
     "metadata": {},
     "output_type": "execute_result"
    }
   ],
   "source": [
    "data_files"
   ]
  },
  {
   "cell_type": "code",
   "execution_count": 78,
   "metadata": {},
   "outputs": [],
   "source": [
    "df = np.zeros((180, 360,len(data_files)))\n",
    "for i,file in enumerate(data_files):\n",
    "    _arr = np.load('%s/%s' % (obs_dir, file))\n",
    "#    _lat_avgs = np.nanmean(_arr, axis=1)\n",
    "    df[:, :, i] = _arr\n",
    "\n",
    "iso = np.linspace(0,-40, len(data_files))\n",
    "lon = np.linspace(0, 359, 360)\n",
    "lat = np.linspace(-90, 90, 180)\n",
    "    \n",
    "da = xr.DataArray(data=df,\n",
    "                  coords={\"lat\": lat,\n",
    "                          \"lon\": lon,\n",
    "                          \"isotherm\": iso},\n",
    "                  dims=[\"lat\",\"lon\", \"isotherm\"])"
   ]
  },
  {
   "cell_type": "code",
   "execution_count": 94,
   "metadata": {},
   "outputs": [
    {
     "data": {
      "text/plain": [
       "<xarray.Dataset>\n",
       "Dimensions:   (isotherm: 9, lat: 180, lon: 360)\n",
       "Coordinates:\n",
       "  * lat       (lat) float64 -90.0 -88.99 -87.99 -86.98 ... 87.99 88.99 90.0\n",
       "  * lon       (lon) float64 0.0 1.0 2.0 3.0 4.0 ... 356.0 357.0 358.0 359.0\n",
       "  * isotherm  (isotherm) float64 0.0 -5.0 -10.0 -15.0 ... -30.0 -35.0 -40.0\n",
       "Data variables:\n",
       "    SLF       (lat, lon, isotherm) float64 nan nan nan nan ... nan nan nan nan"
      ]
     },
     "execution_count": 94,
     "metadata": {},
     "output_type": "execute_result"
    }
   ],
   "source": [
    "ds = xr.Dataset()\n",
    "ds['SLF'] = da\n",
    "ds"
   ]
  },
  {
   "cell_type": "code",
   "execution_count": 6,
   "metadata": {},
   "outputs": [
    {
     "data": {
      "text/plain": [
       "<xarray.Dataset>\n",
       "Dimensions:   (isotherm: 9, lat: 180, lon: 360)\n",
       "Coordinates:\n",
       "  * lat       (lat) float64 -90.0 -88.99 -87.99 -86.98 ... 87.99 88.99 90.0\n",
       "  * lon       (lon) float64 0.0 1.0 2.0 3.0 4.0 ... 356.0 357.0 358.0 359.0\n",
       "  * isotherm  (isotherm) float64 0.0 -5.0 -10.0 -15.0 ... -30.0 -35.0 -40.0\n",
       "Data variables:\n",
       "    SLF       (lat, lon, isotherm) float64 ..."
      ]
     },
     "execution_count": 6,
     "metadata": {},
     "output_type": "execute_result"
    }
   ],
   "source": [
    "ct_slf = xr.open_dataset('caliop_cloudtop/cloudtop_slfs.nc')\n",
    "ct_slf"
   ]
  },
  {
   "cell_type": "code",
   "execution_count": 98,
   "metadata": {},
   "outputs": [],
   "source": [
    "ds.to_netcdf(path='%scloudtop_slfs.nc' % obs_dir)"
   ]
  },
  {
   "cell_type": "code",
   "execution_count": 72,
   "metadata": {},
   "outputs": [
    {
     "data": {
      "text/plain": [
       "<xarray.DataArray (isotherm: 9)>\n",
       "array([98.38553312, 97.62352047, 97.46970998, 94.62248523, 87.13147535,\n",
       "       66.95099498, 40.16939184, 11.13300721,  2.47645759])\n",
       "Coordinates:\n",
       "  * isotherm  (isotherm) float64 0.0 -5.0 -10.0 -15.0 ... -30.0 -35.0 -40.0"
      ]
     },
     "execution_count": 72,
     "metadata": {},
     "output_type": "execute_result"
    }
   ],
   "source": [
    "arctic = 100*da.sel(lat=slice(70,90)).mean(dim=['lat','lon'])\n",
    "arctic_stdev = 100*np.std(da.sel(lat=slice(70,90)), axis=(0,1)) \n",
    "all_lat = 100*da.mean(dim=['lat','lon'])\n",
    "all_stdev = 100*np.std(da, axis=(0,1)) \n",
    "\n",
    "arctic"
   ]
  },
  {
   "cell_type": "code",
   "execution_count": 68,
   "metadata": {},
   "outputs": [
    {
     "data": {
      "text/plain": [
       "<xarray.DataArray (isotherm: 9)>\n",
       "array([ 5.77344346,  5.36909913,  2.74508245,  3.30311487,  5.49206107,\n",
       "        9.27286651, 11.40474314,  6.53104702,  2.6182285 ])\n",
       "Coordinates:\n",
       "  * isotherm  (isotherm) float64 0.0 -5.0 -10.0 -15.0 ... -30.0 -35.0 -40.0"
      ]
     },
     "execution_count": 68,
     "metadata": {},
     "output_type": "execute_result"
    }
   ],
   "source": [
    "arctic_stdev"
   ]
  },
  {
   "cell_type": "code",
   "execution_count": 77,
   "metadata": {},
   "outputs": [
    {
     "data": {
      "text/plain": [
       "<matplotlib.legend.Legend at 0x7f6abec76ac8>"
      ]
     },
     "execution_count": 77,
     "metadata": {},
     "output_type": "execute_result"
    },
    {
     "data": {
      "image/png": "[encoded data removed]",
      "text/plain": [
       "<Figure size 720x432 with 1 Axes>"
      ]
     },
     "metadata": {
      "needs_background": "light"
     },
     "output_type": "display_data"
    }
   ],
   "source": [
    "fig1 = plt.figure(figsize=(10,6))#constrained_layout=True)\n",
    "fig1.gca().invert_yaxis()\n",
    "ax1 = fig1.axes\n",
    "#ax1[0].scatter(arctic, da['isotherm'], label='>70N', color = 'b')\n",
    "ax1[0].errorbar(arctic, da['isotherm'], xerr=2*arctic_stdev, label='>70N', color = 'b', fmt='o', marker='D')\n",
    "#ax1[0].fill_betweenx(da['isotherm'], arctic - 2*arctic_stdev, arctic + 2*arctic_stdev, alpha=0.2)\n",
    "\n",
    "ax1[0].scatter(all_lat, da['isotherm'], label='ALL LAT', color = 'r', marker='D')\n",
    "#ax1[0].fill_betweenx(da['isotherm'], all_lat - 2*all_stdev, all_lat + 2*all_stdev, alpha=0.2)\n",
    "plt.legend()"
   ]
  },
  {
   "cell_type": "code",
   "execution_count": 6,
   "metadata": {},
   "outputs": [
    {
     "data": {
      "text/plain": [
       "(180, 360, 9)"
      ]
     },
     "execution_count": 6,
     "metadata": {},
     "output_type": "execute_result"
    }
   ],
   "source": [
    "df.shape"
   ]
  },
  {
   "cell_type": "code",
   "execution_count": 12,
   "metadata": {},
   "outputs": [
    {
     "data": {
      "text/plain": [
       "(180, 360)"
      ]
     },
     "execution_count": 12,
     "metadata": {},
     "output_type": "execute_result"
    }
   ],
   "source": [
    "_arr.shape"
   ]
  },
  {
   "cell_type": "code",
   "execution_count": 13,
   "metadata": {},
   "outputs": [],
   "source": [
    "da = xr.DataArray(data=_arr,\n",
    "                  coords={\"lat\": lat,\n",
    "                          \"lon\": lon},\n",
    "                  dims=[\"lat\",\"lon\"])"
   ]
  },
  {
   "cell_type": "code",
   "execution_count": 15,
   "metadata": {},
   "outputs": [],
   "source": [
    "da2 = xr.DataArray(data=df,\n",
    "                  coords={\"lat\": lat,\n",
    "                          \"lon\": lon,\n",
    "                          \"isotherm\": iso},\n",
    "                  dims=[\"lat\",\"lon\", \"isotherm\"])"
   ]
  },
  {
   "cell_type": "code",
   "execution_count": 16,
   "metadata": {},
   "outputs": [
    {
     "data": {
      "text/plain": [
       "<xarray.DataArray (lat: 180, lon: 360, isotherm: 9)>\n",
       "array([[[nan, nan, nan, ..., nan, nan, nan],\n",
       "        [nan, nan, nan, ..., nan, nan, nan],\n",
       "        [nan, nan, nan, ..., nan, nan, nan],\n",
       "        ...,\n",
       "        [nan, nan, nan, ..., nan, nan, nan],\n",
       "        [nan, nan, nan, ..., nan, nan, nan],\n",
       "        [nan, nan, nan, ..., nan, nan, nan]],\n",
       "\n",
       "       [[nan, nan, nan, ..., nan, nan, nan],\n",
       "        [nan, nan, nan, ..., nan, nan, nan],\n",
       "        [nan, nan, nan, ..., nan, nan, nan],\n",
       "        ...,\n",
       "        [nan, nan, nan, ..., nan, nan, nan],\n",
       "        [nan, nan, nan, ..., nan, nan, nan],\n",
       "        [nan, nan, nan, ..., nan, nan, nan]],\n",
       "\n",
       "       [[nan, nan, nan, ..., nan, nan, nan],\n",
       "        [nan, nan, nan, ..., nan, nan, nan],\n",
       "        [nan, nan, nan, ..., nan, nan, nan],\n",
       "        ...,\n",
       "        [nan, nan, nan, ..., nan, nan, nan],\n",
       "        [nan, nan, nan, ..., nan, nan, nan],\n",
       "        [nan, nan, nan, ..., nan, nan, nan]],\n",
       "\n",
       "       ...,\n",
       "\n",
       "       [[nan, nan, nan, ..., nan, nan, nan],\n",
       "        [nan, nan, nan, ..., nan, nan, nan],\n",
       "        [nan, nan, nan, ..., nan, nan, nan],\n",
       "        ...,\n",
       "        [nan, nan, nan, ..., nan, nan, nan],\n",
       "        [nan, nan, nan, ..., nan, nan, nan],\n",
       "        [nan, nan, nan, ..., nan, nan, nan]],\n",
       "\n",
       "       [[nan, nan, nan, ..., nan, nan, nan],\n",
       "        [nan, nan, nan, ..., nan, nan, nan],\n",
       "        [nan, nan, nan, ..., nan, nan, nan],\n",
       "        ...,\n",
       "        [nan, nan, nan, ..., nan, nan, nan],\n",
       "        [nan, nan, nan, ..., nan, nan, nan],\n",
       "        [nan, nan, nan, ..., nan, nan, nan]],\n",
       "\n",
       "       [[nan, nan, nan, ..., nan, nan, nan],\n",
       "        [nan, nan, nan, ..., nan, nan, nan],\n",
       "        [nan, nan, nan, ..., nan, nan, nan],\n",
       "        ...,\n",
       "        [nan, nan, nan, ..., nan, nan, nan],\n",
       "        [nan, nan, nan, ..., nan, nan, nan],\n",
       "        [nan, nan, nan, ..., nan, nan, nan]]])\n",
       "Coordinates:\n",
       "  * lat       (lat) float64 -90.0 -88.99 -87.99 -86.98 ... 87.99 88.99 90.0\n",
       "  * lon       (lon) float64 0.0 1.0 2.0 3.0 4.0 ... 356.0 357.0 358.0 359.0\n",
       "  * isotherm  (isotherm) float64 -40.0 -35.0 -30.0 -25.0 ... -10.0 -5.0 0.0"
      ]
     },
     "execution_count": 16,
     "metadata": {},
     "output_type": "execute_result"
    }
   ],
   "source": [
    "da2"
   ]
  },
  {
   "cell_type": "markdown",
   "metadata": {},
   "source": [
    "Interesting that the SLF at the -10C isotherm is latitude dependent"
   ]
  },
  {
   "cell_type": "code",
   "execution_count": 16,
   "metadata": {},
   "outputs": [
    {
     "name": "stderr",
     "output_type": "stream",
     "text": [
      "/home/jonahks/anaconda3/envs/esm-python-analysis/lib/python3.7/site-packages/ipykernel_launcher.py:1: RuntimeWarning: Mean of empty slice\n",
      "  \"\"\"Entry point for launching an IPython kernel.\n"
     ]
    },
    {
     "data": {
      "text/plain": [
       "[<matplotlib.lines.Line2D at 0x7fb5d83fac18>]"
      ]
     },
     "execution_count": 16,
     "metadata": {},
     "output_type": "execute_result"
    },
    {
     "data": {
      "image/png": "[encoded data removed]",
      "text/plain": [
       "<Figure size 432x288 with 1 Axes>"
      ]
     },
     "metadata": {
      "needs_background": "light"
     },
     "output_type": "display_data"
    }
   ],
   "source": [
    "_lat_avg = np.nanmean(test, axis = 1)\n",
    "_lat_avg\n",
    "lats = np.linspace(-90, 90, 180)\n",
    "plt.plot(lats, _lat_avg)"
   ]
  },
  {
   "cell_type": "code",
   "execution_count": null,
   "metadata": {},
   "outputs": [],
   "source": []
  }
 ],
 "metadata": {
  "kernelspec": {
   "display_name": "Python 3",
   "language": "python",
   "name": "python3"
  },
  "language_info": {
   "codemirror_mode": {
    "name": "ipython",
    "version": 3
   },
   "file_extension": ".py",
   "mimetype": "text/x-python",
   "name": "python",
   "nbconvert_exporter": "python",
   "pygments_lexer": "ipython3",
   "version": "3.7.3"
  }
 },
 "nbformat": 4,
 "nbformat_minor": 4
}
