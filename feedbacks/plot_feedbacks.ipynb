{
 "cells": [
  {
   "cell_type": "markdown",
   "metadata": {},
   "source": [
    "## Feedbacks visualization\n",
    "Simple bar graph based on code from IH (the true OG)."
   ]
  },
  {
   "cell_type": "code",
   "execution_count": 2,
   "metadata": {},
   "outputs": [],
   "source": [
    "import sys\n",
    "# Add common resources folder to path\n",
    "sys.path.append(\"/mnt/mcc-ns9600k/jonahks/git_repos/netcdf_analysis/Common/\")\n",
    "sys.path.append(\"/mnt/mcc-ns9600k/jonahks/git_repos/netcdf_analysis/\")\n",
    "sys.path.append(\"/home/jonahks/git_repos/netcdf_analysis/\")\n",
    "sys.path.append(\"/home/jonahks/git_repos/netcdf_analysis/Common/\")\n",
    "\n",
    "from imports import (\n",
    "    pd, np, xr, mpl, plt, sns, os, \n",
    "    datetime, sys, crt, gridspec,\n",
    "    ccrs, metrics, Iterable, re\n",
    "    )\n",
    "\n",
    "from functions import (\n",
    "    masked_average, add_weights, sp_map,\n",
    "    season_mean, get_dpm, leap_year, share_ylims,\n",
    "    to_png\n",
    "    )\n",
    "\n",
    "from classes import SatComp_Metric, CT_SLF_Metric\n",
    "from collections import deque\n",
    "%matplotlib inline"
   ]
  },
  {
   "cell_type": "markdown",
   "metadata": {},
   "source": [
    "### Check running location and adjust working directory appropriately."
   ]
  },
  {
   "cell_type": "code",
   "execution_count": 3,
   "metadata": {},
   "outputs": [
    {
     "name": "stdout",
     "output_type": "stream",
     "text": [
      "Running through MC2 Jupyter Hub\n",
      "Can access all directory paths: True\n"
     ]
    }
   ],
   "source": [
    "host = os.uname()[1]\n",
    "if 'jupyter' in host.split('-'): # Check if running on NIRD through the Jupyter Hub\n",
    "    print('Running through MC2 Jupyter Hub')\n",
    "    model_dir = '/mnt/mcc-ns9600k/jonahks/'\n",
    "    os.chdir(model_dir)\n",
    "\n",
    "else:  # Assume that we're running on a local machine and mounting NIRD\n",
    "    print('Running on %s, attempting to mount ns9600k/jonahks/ from NIRD' % str(host))\n",
    "    os.system('fusermount -zu ~/drivemount/')  # unmount first\n",
    "    os.system('sshfs jonahks@login.nird.sigma2.no:\"p/jonahks/\" ~/drivemount/')    # Calling mountnird from .bashrc doesn't work\n",
    "    os.chdir('/home/jonahks/drivemount/')\n",
    "    save_dir = '~/DATAOUT/'\n",
    "    save_to = os.path.expanduser(save_dir)\n",
    "\n",
    "output_dir = 'figures/'\n",
    "case_dir = 'satcomp/'   # inconsistent label compared to jupy_test\n",
    "fb_dir ='feedbacks_soden/mod_by_me/output_jonahks/'\n",
    "\n",
    "# Check that each important directory can be accessed:    \n",
    "access_paths = os.path.exists(output_dir) and os.path.exists(case_dir) and os.path.exists(fb_dir)\n",
    "print('Can access all directory paths:', access_paths)"
   ]
  },
  {
   "cell_type": "code",
   "execution_count": 4,
   "metadata": {},
   "outputs": [
    {
     "data": {
      "text/plain": [
       "['CAM61_1_1_check2',\n",
       " 'CAM61_satcomp_SFC_wbf_1_inp_1',\n",
       " 'CAM6_satcomp_FLDSCS_wbf_1_inp_1',\n",
       " 'CAM61_satcomp_wbf_1_inp_1',\n",
       " 'CAM61_1_1_GFDL_kernels',\n",
       " 'CAM6_satcomp_FLTKERN_wbf_1_inp_1',\n",
       " 'CAM61_test_GFDL_FLT',\n",
       " 'CAM61_test_GFDL_kernels',\n",
       " 'CAM61_satcomp_SFC_wbf_0.2_inp_0.1',\n",
       " 'CAM61_satcomp_wbf_0.2_inp_0.1',\n",
       " 'CAM61_satcomp_SFC_wbf_0.5_inp_0.05',\n",
       " 'CAM6_satcomp_SFCKERN_wbf_1_inp_1',\n",
       " 'CAM61_satcomp_wbf_0.5_inp_0.5',\n",
       " 'CAM61_1_1_check',\n",
       " 'CAM6_Fvars_check',\n",
       " 'TOA_GFDL_KERNEL',\n",
       " 'CAM6_satcomp_wbf_1.25_inp_10',\n",
       " 'CAM6_satcomp_SFC_wbf_1.25_inp_10',\n",
       " 'CAM6_satcomp_wbf_1_inp_1']"
      ]
     },
     "execution_count": 4,
     "metadata": {},
     "output_type": "execute_result"
    }
   ],
   "source": [
    "os.listdir(fb_dir)"
   ]
  },
  {
   "cell_type": "code",
   "execution_count": 15,
   "metadata": {},
   "outputs": [],
   "source": [
    "case_fbs = org_feedbacks_case('CAM6_satcomp_SFCKERN_wbf_1_inp_1')"
   ]
  },
  {
   "cell_type": "code",
   "execution_count": 16,
   "metadata": {},
   "outputs": [
    {
     "data": {
      "text/plain": [
       "<matplotlib.collections.QuadMesh at 0x7ff49ed9ccf8>"
      ]
     },
     "execution_count": 16,
     "metadata": {},
     "output_type": "execute_result"
    },
    {
     "data": {
      "image/png": "[encoded data removed]",
      "text/plain": [
       "<Figure size 432x288 with 2 Axes>"
      ]
     },
     "metadata": {
      "needs_background": "light"
     },
     "output_type": "display_data"
    }
   ],
   "source": [
    "case_fbs['fb_albedo_ttsky'][0,:,:].plot(robust=True)"
   ]
  },
  {
   "cell_type": "code",
   "execution_count": 17,
   "metadata": {},
   "outputs": [
    {
     "name": "stdout",
     "output_type": "stream",
     "text": [
      "fb_albedo_ttsky :  0.7366018568271753\n",
      "fb_cloud_sw :  1.0123458935762877\n",
      "fb_cloud_lw :  0.2754140800280586\n",
      "fb_adj_cloud_sw :  2.0142804824099874\n",
      "fb_adj_cloud_lw :  0.48243572579106664\n",
      "fb_water_vapor_sw_ttsky :  -0.17869395119882914\n",
      "fb_water_vapor_lw_ttsky :  0.8311281825994268\n",
      "fb_lapse_rate_ttsky :  0.10535337270375003\n",
      "fb_planck_ttsky :  -0.3036732584713016\n",
      "cell_weight :  0.004766985970241943\n"
     ]
    }
   ],
   "source": [
    "comp_feedbacks(case_fbs)"
   ]
  },
  {
   "cell_type": "markdown",
   "metadata": {},
   "source": [
    "## Calculate average feedback values for the Arctic\n",
    "Make sure to weight correctly by both area and month length."
   ]
  },
  {
   "cell_type": "code",
   "execution_count": 13,
   "metadata": {},
   "outputs": [],
   "source": [
    "def org_feedbacks_case(case_path):\n",
    "    _fbs = os.listdir(\"%s/%s\" % (fb_dir,case_path)) # List feedback files\n",
    "    \n",
    "    # Calculate the averaged Arctic quantities for each file appropriately:\n",
    "    # Albedo feedback\n",
    "    _albedo_file = [i for i in _fbs if \"albedo_feedback\" in i][0]\n",
    "    _albedo = add_weights(xr.open_dataset(\"%s/%s/%s\" % (fb_dir,case_path,_albedo_file)).sel(run=0))\n",
    "    _albedo_vars = ['fb_albedo_ttsky']\n",
    "    \n",
    "    # Create a new dataset object to store specific variables within\n",
    "    _all_fb = _albedo[_albedo_vars[0]].to_dataset(name=_albedo_vars[0])\n",
    "    _albedo.close()\n",
    "    \n",
    "    # Cloud feedbacks\n",
    "    _cld_file = [i for i in _fbs if \"cloud_feedback\" in i][0] # select file, a little clunky to avoid using regular expressions\n",
    "    _cld = add_weights(xr.open_dataset(\"%s/%s/%s\" % (fb_dir,case_path,_cld_file)).sel(run=0))    \n",
    "    cld_vars = [\"fb_cloud_sw\",\"fb_cloud_lw\",\"fb_adj_cloud_sw\",\"fb_adj_cloud_lw\"]\n",
    "    for _var in cld_vars:\n",
    "        _all_fb[_var] = _cld[_var]\n",
    "    _cld.close()\n",
    "    \n",
    "    # Water Vapor feedback (separate files)\n",
    "    _wv_sw_file = [i for i in _fbs if \"water_vapor_sw\" in i][0]    \n",
    "    _wv_lw_file = [i for i in _fbs if \"water_vapor_lw\" in i][0]\n",
    "    _wv_sw = add_weights(xr.open_dataset(\"%s/%s/%s\" % (fb_dir,case_path,_wv_sw_file)).sel(run=0))\n",
    "    _wv_lw = add_weights(xr.open_dataset(\"%s/%s/%s\" % (fb_dir,case_path,_wv_lw_file)).sel(run=0))\n",
    "    _wv_vars = [\"fb_water_vapor_sw_ttsky\", \"fb_water_vapor_lw_ttsky\"] # Will need to zip\n",
    "    for _var,_da in zip(_wv_vars,[_wv_sw,_wv_lw]):\n",
    "        _all_fb[_var] = _da[_var]\n",
    "        _da.close()\n",
    "        \n",
    "    # Lapse Rate feedback\n",
    "    _lr_file = [i for i in _fbs if \"lapse_rate\" in i][0]\n",
    "    _lr = add_weights(xr.open_dataset(\"%s/%s/%s\" % (fb_dir,case_path,_lr_file)).sel(run=0))\n",
    "    _lr_vars =[\"fb_lapse_rate_ttsky\"]\n",
    "    for _var in _lr_vars:\n",
    "        _all_fb[_var] = _lr[_var]\n",
    "    _lr.close()\n",
    "    \n",
    "    # Planck feedback\n",
    "    _planck_file = [i for i in _fbs if \"planck_feedback\" in i][0]\n",
    "    _planck = add_weights(xr.open_dataset(\"%s/%s/%s\" % (fb_dir,case_path,_planck_file)).sel(run=0))\n",
    "    _planck_vars = ['fb_planck_ttsky']\n",
    "    for _var in _planck_vars:\n",
    "        _all_fb[_var] = _planck[_var]\n",
    "    _planck.close()\n",
    "\n",
    "    _all_fb = add_weights(_all_fb)\n",
    "    \n",
    "    return _all_fb"
   ]
  },
  {
   "cell_type": "code",
   "execution_count": 14,
   "metadata": {},
   "outputs": [],
   "source": [
    "def comp_feedbacks(fb_ds):\n",
    "    # Used for weighting by month. I tested this and it didn't make a big change here, but could elsewhere.\n",
    "    wgt_mon=[31,28,31,30,31,30,31,31,30,31,30,31]\n",
    "    month_length = xr.DataArray(wgt_mon, coords=[fb_ds['fb_albedo_ttsky']['month']], name='month_length')\n",
    "\n",
    "    # This matrix cross-product will allow me to do all of my weighting in a single step.\n",
    "    all_weights = month_length @ fb_ds['cell_weight']\n",
    "    \n",
    "    for _var in fb_ds.data_vars:\n",
    "        _ds = fb_ds[_var]\n",
    "        mask = _ds['lat'] < 66\n",
    "        _arc_val = masked_average(_ds,dim=['lat','lon','month'],weights=all_weights,mask=mask)\n",
    "        print(_var, \": \", _arc_val.values)"
   ]
  },
  {
   "cell_type": "code",
   "execution_count": 9,
   "metadata": {},
   "outputs": [
    {
     "name": "stdout",
     "output_type": "stream",
     "text": [
      "CAM61_1_1_check2\n",
      "CAM61_satcomp_SFC_wbf_1_inp_1\n",
      "CAM61_satcomp_wbf_1_inp_1\n",
      "CAM61_1_1_GFDL_kernels\n",
      "CAM6_satcomp_FLTKERN_wbf_1_inp_1\n",
      "CAM61_test_GFDL_FLT\n",
      "CAM61_satcomp_SFC_wbf_0.2_inp_0.1\n",
      "CAM61_satcomp_wbf_0.2_inp_0.1\n",
      "CAM61_satcomp_SFC_wbf_0.5_inp_0.05\n",
      "CAM6_satcomp_SFCKERN_wbf_1_inp_1\n",
      "CAM61_satcomp_wbf_0.5_inp_0.5\n",
      "CAM6_Fvars_check\n",
      "TOA_GFDL_KERNEL\n",
      "CAM6_satcomp_wbf_1.25_inp_10\n",
      "CAM6_satcomp_SFC_wbf_1.25_inp_10\n",
      "CAM6_satcomp_wbf_1_inp_1\n"
     ]
    }
   ],
   "source": [
    "cases = os.listdir(fb_dir)\n",
    "case_dict = {} # Cases are keys, feedback dictionaries are values\n",
    "\n",
    "# Iterate over each case\n",
    "for _case in cases:\n",
    "    print(_case)\n",
    "    _fbs = os.listdir(\"%s/%s\" % (fb_dir,_case)) # List feedback files\n",
    "    \n",
    "    # Calculate the averaged Arctic quantities for each file appropriately:\n",
    "    # Albedo feedback\n",
    "    _albedo_file = [i for i in _fbs if \"albedo_feedback\" in i][0]\n",
    "    _albedo = add_weights(xr.open_dataset(\"%s/%s/%s\" % (fb_dir,_case,_albedo_file)).sel(run=0))\n",
    "    _albedo_vars = ['fb_albedo_ttsky']\n",
    "    \n",
    "    # Create a new dataset object to store specific variables within\n",
    "    _all_fb = _albedo[_albedo_vars[0]].to_dataset(name=_albedo_vars[0])\n",
    "    _albedo.close()\n",
    "    \n",
    "    # Cloud feedbacks\n",
    "    _cld_file = [i for i in _fbs if \"cloud_feedback\" in i][0] # select file, a little clunky to avoid using regular expressions\n",
    "    _cld = add_weights(xr.open_dataset(\"%s/%s/%s\" % (fb_dir,_case,_cld_file)).sel(run=0))    \n",
    "    cld_vars = [\"fb_cloud_sw\",\"fb_cloud_lw\",\"fb_adj_cloud_sw\",\"fb_adj_cloud_lw\"]\n",
    "    for _var in cld_vars:\n",
    "        _all_fb[_var] = _cld[_var]\n",
    "    _cld.close()\n",
    "    \n",
    "    # Water Vapor feedback (separate files)\n",
    "    _wv_sw_file = [i for i in _fbs if \"water_vapor_sw\" in i][0]    \n",
    "    _wv_lw_file = [i for i in _fbs if \"water_vapor_lw\" in i][0]\n",
    "    _wv_sw = add_weights(xr.open_dataset(\"%s/%s/%s\" % (fb_dir,_case,_wv_sw_file)).sel(run=0))\n",
    "    _wv_lw = add_weights(xr.open_dataset(\"%s/%s/%s\" % (fb_dir,_case,_wv_lw_file)).sel(run=0))\n",
    "    _wv_vars = [\"fb_water_vapor_sw_ttsky\", \"fb_water_vapor_lw_ttsky\"] # Will need to zip\n",
    "    for _var,_da in zip(_wv_vars,[_wv_sw,_wv_lw]):\n",
    "        _all_fb[_var] = _da[_var]\n",
    "        _da.close()\n",
    "        \n",
    "    # Lapse Rate feedback\n",
    "    _lr_file = [i for i in _fbs if \"lapse_rate\" in i][0]\n",
    "    _lr = add_weights(xr.open_dataset(\"%s/%s/%s\" % (fb_dir,_case,_lr_file)).sel(run=0))\n",
    "    _lr_vars =[\"fb_lapse_rate_ttsky\"]\n",
    "    for _var in _lr_vars:\n",
    "        _all_fb[_var] = _lr[_var]\n",
    "    _lr.close()\n",
    "    \n",
    "    # Planck feedback\n",
    "    _planck_file = [i for i in _fbs if \"planck_feedback\" in i][0]\n",
    "    _planck = add_weights(xr.open_dataset(\"%s/%s/%s\" % (fb_dir,_case,_planck_file)).sel(run=0))\n",
    "    _planck_vars = ['fb_planck_ttsky']\n",
    "    for _var in _planck_vars:\n",
    "        _all_fb[_var] = _planck[_var]\n",
    "    _planck.close()\n",
    "    \n",
    "    # Save all to dictionary\n",
    "    case_dict[_case] = _all_fb"
   ]
  },
  {
   "cell_type": "code",
   "execution_count": 10,
   "metadata": {},
   "outputs": [],
   "source": [
    "# Used for weighting by month. I tested this and it didn't make a big change here, but could elsewhere.\n",
    "wgt_mon=[31,28,31,30,31,30,31,31,30,31,30,31]\n",
    "month_length = xr.DataArray(wgt_mon, coords=[_albedo['month']], name='month_length')\n",
    "\n",
    "# This matrix cross-product will allow me to do all of my weighting in a single step.\n",
    "all_weights = month_length @ _planck['cell_weight']"
   ]
  },
  {
   "cell_type": "code",
   "execution_count": null,
   "metadata": {},
   "outputs": [],
   "source": [
    "for _var in _all_fb.data_vars:\n",
    "    _ds = _all_fb[_var]\n",
    "    mask = _ds['lat'] < 66\n",
    "    _arc_val = masked_average(_ds,dim=['lat','lon','month'],weights=all_weights,mask=mask)\n",
    "    print(_var, \": \", _arc_val.values)"
   ]
  },
  {
   "cell_type": "code",
   "execution_count": 15,
   "metadata": {},
   "outputs": [
    {
     "data": {
      "text/plain": [
       "True"
      ]
     },
     "execution_count": 15,
     "metadata": {},
     "output_type": "execute_result"
    }
   ],
   "source": [
    "\"SFC\" in \"tototSFCto\""
   ]
  },
  {
   "cell_type": "code",
   "execution_count": 20,
   "metadata": {},
   "outputs": [
    {
     "name": "stdout",
     "output_type": "stream",
     "text": [
      "CAM61_1_1_check2\n",
      "CAM61_satcomp_SFC_wbf_1_inp_1\n",
      "fb_albedo_ttsky :  0.7240794183630002\n",
      "fb_cloud_sw :  1.1481756858434116\n",
      "fb_cloud_lw :  0.4769698223488817\n",
      "fb_adj_cloud_sw :  2.1338695704446793\n",
      "fb_adj_cloud_lw :  0.7153192218949629\n",
      "fb_water_vapor_sw_ttsky :  -0.1783508032906733\n",
      "fb_water_vapor_lw_ttsky :  0.833360430696482\n",
      "fb_lapse_rate_ttsky :  0.058101957851828756\n",
      "fb_planck_ttsky :  -0.29755931432767446\n",
      "CAM61_satcomp_wbf_1_inp_1\n",
      "CAM61_1_1_GFDL_kernels\n",
      "CAM6_satcomp_FLTKERN_wbf_1_inp_1\n",
      "CAM61_test_GFDL_FLT\n",
      "CAM61_satcomp_SFC_wbf_0.2_inp_0.1\n",
      "fb_albedo_ttsky :  0.7575120030650054\n",
      "fb_cloud_sw :  1.025214590153721\n",
      "fb_cloud_lw :  0.41215087878993306\n",
      "fb_adj_cloud_sw :  2.028188798615205\n",
      "fb_adj_cloud_lw :  0.6215057090783167\n",
      "fb_water_vapor_sw_ttsky :  -0.1793735255494972\n",
      "fb_water_vapor_lw_ttsky :  0.836930508557352\n",
      "fb_lapse_rate_ttsky :  0.04141048346811878\n",
      "fb_planck_ttsky :  -0.3244737116582842\n",
      "CAM61_satcomp_wbf_0.2_inp_0.1\n",
      "CAM61_satcomp_SFC_wbf_0.5_inp_0.05\n",
      "fb_albedo_ttsky :  0.7346363324063988\n",
      "fb_cloud_sw :  1.0336060448788127\n",
      "fb_cloud_lw :  0.39869171684969895\n",
      "fb_adj_cloud_sw :  2.020168442243187\n",
      "fb_adj_cloud_lw :  0.6068758790858139\n",
      "fb_water_vapor_sw_ttsky :  -0.17853927660538868\n",
      "fb_water_vapor_lw_ttsky :  0.8329082416175556\n",
      "fb_lapse_rate_ttsky :  0.05965705590388858\n",
      "fb_planck_ttsky :  -0.31427658290945953\n",
      "CAM6_satcomp_SFCKERN_wbf_1_inp_1\n",
      "fb_albedo_ttsky :  0.736601848471503\n",
      "fb_cloud_sw :  1.0123458689644957\n",
      "fb_cloud_lw :  0.27541407313358457\n",
      "fb_adj_cloud_sw :  2.0142804498628823\n",
      "fb_adj_cloud_lw :  0.48243572006060165\n",
      "fb_water_vapor_sw_ttsky :  -0.1786939541912333\n",
      "fb_water_vapor_lw_ttsky :  0.8311281863771303\n",
      "fb_lapse_rate_ttsky :  0.10535337009998591\n",
      "fb_planck_ttsky :  -0.303673255655382\n",
      "CAM61_satcomp_wbf_0.5_inp_0.5\n",
      "CAM6_Fvars_check\n",
      "TOA_GFDL_KERNEL\n",
      "CAM6_satcomp_wbf_1.25_inp_10\n",
      "CAM6_satcomp_SFC_wbf_1.25_inp_10\n",
      "fb_albedo_ttsky :  0.7389003041594643\n",
      "fb_cloud_sw :  1.0118321746194179\n",
      "fb_cloud_lw :  0.3214453921095257\n",
      "fb_adj_cloud_sw :  2.0259229206208467\n",
      "fb_adj_cloud_lw :  0.5274760716052702\n",
      "fb_water_vapor_sw_ttsky :  -0.17826346894963044\n",
      "fb_water_vapor_lw_ttsky :  0.8309739511532757\n",
      "fb_lapse_rate_ttsky :  0.0889180216308449\n",
      "fb_planck_ttsky :  -0.3029921627897872\n",
      "CAM6_satcomp_wbf_1_inp_1\n"
     ]
    }
   ],
   "source": [
    "# fig, ax = plt.subplots(figsize=(15.,4))\n",
    "barvals_PL = []\n",
    "barvals_LR = []\n",
    "barvals_WV = []\n",
    "barvals_A = []\n",
    "barvals_CLSW = []\n",
    "barvals_CLLW = []\n",
    "\n",
    "cases = []\n",
    "for _mod in case_dict.keys():\n",
    "    print(_mod)\n",
    "    _da = case_dict[_mod]\n",
    "\n",
    "    _avg_dict = {}\n",
    "    if \"SFC\" in _mod: # Filter SFC kernels\n",
    "        cases.append(_mod)\n",
    "        for _var in _da.data_vars:\n",
    "            _ds = _da[_var]\n",
    "            mask = _ds['lat'] < 66\n",
    "            _arc_val = masked_average(_ds,dim=['lat','lon','month'],weights=all_weights,mask=mask)\n",
    "            print(_var, \": \", _arc_val.values)\n",
    "            _avg_dict[_var] = _arc_val.values\n",
    "\n",
    "        barvals_PL.append(_avg_dict['fb_planck_ttsky'])        \n",
    "        barvals_LR.append(_avg_dict['fb_lapse_rate_ttsky'])\n",
    "        barvals_WV.append(_avg_dict['fb_water_vapor_sw_ttsky']+_avg_dict['fb_water_vapor_lw_ttsky'])\n",
    "        barvals_A.append(_avg_dict['fb_albedo_ttsky'])\n",
    "        barvals_CLSW.append(_avg_dict['fb_adj_cloud_sw'])\n",
    "        barvals_CLLW.append(_avg_dict['fb_adj_cloud_lw'])\n"
   ]
  },
  {
   "cell_type": "code",
   "execution_count": 21,
   "metadata": {},
   "outputs": [
    {
     "data": {
      "text/plain": [
       "<matplotlib.legend.Legend at 0x7faf88129400>"
      ]
     },
     "execution_count": 21,
     "metadata": {},
     "output_type": "execute_result"
    },
    {
     "data": {
      "image/png": "[encoded data removed]",
      "text/plain": [
       "<Figure size 1080x432 with 1 Axes>"
      ]
     },
     "metadata": {
      "needs_background": "light"
     },
     "output_type": "display_data"
    }
   ],
   "source": [
    "fig, ax = plt.subplots(figsize=(15.,6))\n",
    "\n",
    "xind = range(len(case_dict.keys()))\n",
    "xind = range(len(barvals_PL))\n",
    "width = 0.167         # the width of the bars\n",
    "xind_p1 = [i-(width*2.5) for i in xind]\n",
    "xind_p2 = [i-(width*1.5) for i in xind]\n",
    "xind_p3 = [i-(width*0.5) for i in xind]\n",
    "xind_p4 = [i+(width*0.5) for i in xind]\n",
    "xind_p5 = [i+(width*1.5) for i in xind]\n",
    "xind_p6 = [i+(width*2.5) for i in xind]\n",
    "p1 = ax.bar(xind_p1, barvals_PL, width, label='Planck')\n",
    "p2 = ax.bar(xind_p2, barvals_LR, width, label='Lapse Rate')\n",
    "p3 = ax.bar(xind_p3, barvals_WV, width, label='Water Vapor')\n",
    "p4 = ax.bar(xind_p4, barvals_A, width, label='Albedo')\n",
    "p5 = ax.bar(xind_p5, barvals_CLSW, width, label='adj. SW-cloud')\n",
    "p6 = ax.bar(xind_p6, barvals_CLLW, width, label='adj. LW-cloud')\n",
    "\n",
    "autolabel2(p1)\n",
    "autolabel2(p2)\n",
    "autolabel2(p3)\n",
    "autolabel2(p4)\n",
    "autolabel2(p5)\n",
    "autolabel2(p6)\n",
    "# plt.ylim(min(barvals_PL)-0.2,abs(min(barvals_PL))+0.2)\n",
    "\n",
    "ax.set_xticks(xind)\n",
    "ax.set_xticklabels(cases, rotation=45)#, fontsize=15)\n",
    "\n",
    "ax.legend((p1[0], p2[0], p3[0], p4[0], p5[0], p6[0]), ('Planck', 'Lapse Rate', 'Water Vapor', 'Albedo', 'adj. SW-cloud', 'adj. LW-cloud'))"
   ]
  },
  {
   "cell_type": "code",
   "execution_count": 18,
   "metadata": {},
   "outputs": [],
   "source": [
    "to_png(fig,\"fb_barplot\")"
   ]
  },
  {
   "cell_type": "code",
   "execution_count": 13,
   "metadata": {},
   "outputs": [],
   "source": [
    "def autolabel2(rects):\n",
    "    \"\"\"Attach a text label above each bar in *rects*, displaying its height.\"\"\"\n",
    "    for rect in rects:\n",
    "        height = rect.get_height()\n",
    "        ax.annotate('%.2f' %height,\n",
    "                    xy=(rect.get_x() + rect.get_width() / 2, height),\n",
    "                    xytext=(0, 3),  # 3 points vertical offset\n",
    "                    textcoords=\"offset points\",\n",
    "                    fontsize=11,\n",
    "                    ha='center', va='bottom')"
   ]
  },
  {
   "cell_type": "markdown",
   "metadata": {},
   "source": [
    "## JShaw notes\n",
    "__Albedo variables:__  \n",
    "<u> fb_albedo_clrsky:</u> Clear-sky albedo feedback by grid.  \n",
    "<u> fb_albedo_clrsky_glAvg:</u> Global average clear-sky albedo feedback by month.  \n",
    "<u>fb_albedo_ttsky:</u> Total-sky albedo feedback by grid.  \n",
    "<u>fb_albedo_ttsky_glAvg:</u> Global average total-sky albedo feedback by month.  \n",
    "\n",
    "__Lapse Rate variables:__ (these are structured the same as albedo)  \n",
    "    <u>fb_lapse_rate_clrsky</u>  \n",
    "    <u>fb_lapse_rate_clrsky_glAvg</u>  \n",
    "    <u>fb_lapse_rate_ttsky</u>  \n",
    "    <u>fb_lapse_rate_ttsky_glAvg</u>  \n",
    "__Planck feedbacks:__ also structured the same  \n",
    "Long- and Short-wave water vapor feedbacks too, as well as temperature feedback \n",
    "\n",
    "__Cloud Feedbacks:__  \n",
    "    <u>fb_cloud_sw:</u> SW cloud feedback  \n",
    "    <u>fb_cloud_sw_glAvg</u> Monthly Global average SW cloud feedback  \n",
    "    <u>fb_cloud_lw</u> LW cloud feedback  \n",
    "    <u>fb_cloud_lw_glAvg</u> Monthly Global average LW cloud feedback  \n",
    "    <u>fb_adj_cloud_sw</u> \"Adjusted\" SW cloud feedback  \n",
    "    <u>fb_adj_cloud_sw_glAvg</u> Monthly Global average \"Adjusted\" SW cloud feedback  \n",
    "    <u>fb_adj_cloud_lw</u> \"Adjusted\" LW cloud feedback  \n",
    "    <u>fb_adj_cloud_lw_glAvg</u> Monthly Global average \"Adjusted\" LW cloud feedback  "
   ]
  },
  {
   "cell_type": "markdown",
   "metadata": {},
   "source": [
    "# IH stuff for reference"
   ]
  },
  {
   "cell_type": "code",
   "execution_count": null,
   "metadata": {},
   "outputs": [],
   "source": [
    "#++ Info:\n",
    "#----------------------------------------------------\n",
    "#\n",
    "#       Inger Helene Hafsahl Karset\n",
    "#       February 13th 2020\n",
    "#\n",
    "#----------------------------------------------------\n",
    "#-- End info\n",
    "\n",
    "#++ Import modules\n",
    "#----------------------------------------------------\n",
    "from netCDF4 import Dataset\n",
    "import numpy as np\n",
    "import glob\n",
    "import os\n",
    "from matplotlib.pylab import *\n",
    "import matplotlib.colors as colors\n",
    "from matplotlib.ticker import ScalarFormatter\n",
    "import seaborn as sns; \n",
    "sns.set(color_codes=True,font_scale=1.5)\n",
    "sns.set_style(\"darkgrid\")\n",
    "#--------------------------------------------------\n",
    "#-- End import modules"
   ]
  },
  {
   "cell_type": "code",
   "execution_count": null,
   "metadata": {},
   "outputs": [],
   "source": [
    "#++ Input, top be modified:\n",
    "#--------------------------------------------------\n",
    "models = ['NorESM2-LM', 'EC-Earth3-Veg', 'NorESM2-MM', 'UKESM1-0-LL']\n",
    "\n",
    "#--------------------------------------------------\n",
    "#-- End of input to be modified. Do no modify code below\n",
    "\n",
    "# NB: values need to be updated! \n",
    "ECS_all = {'NorESM2-LM': 2.53, 'NorESM2-MM': 2.51, 'EC-Earth3-Veg': 4.37, 'UKESM1-0-LL': 5.39}\n",
    "SLOPE_all = {'NorESM2-LM': -1.35, 'NorESM2-MM': -1.47, 'EC-Earth3-Veg': -0.78, 'UKESM1-0-LL': -0.66}\n",
    "SUM_all = {'NorESM2-LM': -1.94, 'NorESM2-MM': -1.85, 'EC-Earth3-Veg': -1.29, 'UKESM1-0-LL': -1.0}  #++IH: NB! default is 0. modify later!!\n",
    "SUM_all_adj = {'NorESM2-LM': -1.57, 'NorESM2-MM': -1.45, 'EC-Earth3-Veg': -0.83, 'UKESM1-0-LL': -0.71}  #++IH: NB! default is 0. modify later!!\n",
    "PL_all = {'NorESM2-LM': -3.50, 'NorESM2-MM': -3.51, 'EC-Earth3-Veg': -3.47, 'UKESM1-0-LL': -3.41}\n",
    "LR_all = {'NorESM2-LM': -0.62, 'NorESM2-MM': -0.64, 'EC-Earth3-Veg': -0.39, 'UKESM1-0-LL': -0.38}\n",
    "WV_all = {'NorESM2-LM': 2.02, 'NorESM2-MM': 2.09, 'EC-Earth3-Veg': 2.01, 'UKESM1-0-LL': 1.66}\n",
    "A_all = {'NorESM2-LM': 0.49, 'NorESM2-MM': 0.47, 'EC-Earth3-Veg': 0.74, 'UKESM1-0-LL': 0.62}\n",
    "CLSW_all = {'NorESM2-LM': 0.17, 'NorESM2-MM': 0.26, 'EC-Earth3-Veg': 0.02, 'UKESM1-0-LL': 1.06}\n",
    "CLSW_all_adj = {'NorESM2-LM': 0.28, 'NorESM2-MM': 0.37, 'EC-Earth3-Veg': 0.22, 'UKESM1-0-LL': 1.19}\n",
    "CLLW_all = {'NorESM2-LM': -0.50, 'NorESM2-MM': -0.52, 'EC-Earth3-Veg': -0.20, 'UKESM1-0-LL': -0.55}\n",
    "CLLW_all_adj = {'NorESM2-LM': -0.24, 'NorESM2-MM': -0.23, 'EC-Earth3-Veg': 0.06, 'UKESM1-0-LL': -0.39}"
   ]
  },
  {
   "cell_type": "code",
   "execution_count": null,
   "metadata": {},
   "outputs": [],
   "source": [
    "# Plot barplots showing ECS and TCR together\n",
    "ECS_all_sorted = {f:ECS_all[f] for f in sorted(ECS_all, key=ECS_all.__getitem__)} \n",
    "#figure(num = 1, figsize = (6.,3.))\n",
    "fig, ax = plt.subplots(figsize=(15.,4))\n",
    "xind_tmp = range(len(ECS_all_sorted))\n",
    "xind = [i*1.05 for i in xind_tmp]\n",
    "#barvals1 = list(ECS_all_sorted.values()) \n",
    "barvals_PL = []\n",
    "barvals_LR = []\n",
    "barvals_WV = []\n",
    "barvals_A = []\n",
    "barvals_CLSW = []\n",
    "barvals_CLLW = []\n",
    "for modelname in list(ECS_all_sorted.keys()):\n",
    "    #print('modelname = ', modelname)\n",
    "    #print('TCR = ', TCR_all[modelname])\n",
    "    barvals_PL.append(PL_all[modelname])\n",
    "    barvals_LR.append(LR_all[modelname])\n",
    "    barvals_WV.append(WV_all[modelname])\n",
    "    barvals_A.append(A_all[modelname])\n",
    "    barvals_CLSW.append(CLSW_all_adj[modelname])\n",
    "    barvals_CLLW.append(CLLW_all_adj[modelname])\n",
    "\n",
    "width = 0.167         # the width of the bars\n",
    "xind_p1 = [i-(width*2.5) for i in xind]\n",
    "xind_p2 = [i-(width*1.5) for i in xind]\n",
    "xind_p3 = [i-(width*0.5) for i in xind]\n",
    "xind_p4 = [i+(width*0.5) for i in xind]\n",
    "xind_p5 = [i+(width*1.5) for i in xind]\n",
    "xind_p6 = [i+(width*2.5) for i in xind]\n",
    "p1 = ax.bar(xind_p1, barvals_PL, width, label='Planck')\n",
    "p2 = ax.bar(xind_p2, barvals_LR, width, label='Lapse Rate')\n",
    "p3 = ax.bar(xind_p3, barvals_WV, width, label='Water Vapor')\n",
    "p4 = ax.bar(xind_p4, barvals_A, width, label='Albedo')\n",
    "p5 = ax.bar(xind_p5, barvals_CLSW, width, label='adj. SW-cloud')\n",
    "p6 = ax.bar(xind_p6, barvals_CLLW, width, label='adj. LW-cloud')\n",
    "#print(xind)\n",
    "#print(width)\n",
    "#xind_width = [i+width for i in xind]\n",
    "#xind_width05 = [i+(width*0.5) for i in xind]\n",
    "#ax.set_xticks(xind_width05)\n",
    "ax.set_xticks(xind)\n",
    "ax.set_xticklabels(list(ECS_all_sorted.keys()), rotation=45)\n",
    "ax.legend((p1[0], p2[0], p3[0], p4[0], p5[0], p6[0]), ('Planck', 'Lapse Rate', 'Water Vapor', 'Albedo', 'adj. SW-cloud', 'adj. LW-cloud'))"
   ]
  },
  {
   "cell_type": "code",
   "execution_count": null,
   "metadata": {},
   "outputs": [],
   "source": [
    "def autolabel2(rects):\n",
    "    \"\"\"Attach a text label above each bar in *rects*, displaying its height.\"\"\"\n",
    "    for rect in rects:\n",
    "        height = rect.get_height()\n",
    "        ax.annotate('%.2f' %height,\n",
    "                    xy=(rect.get_x() + rect.get_width() / 2, height),\n",
    "                    xytext=(0, 3),  # 3 points vertical offset\n",
    "                    textcoords=\"offset points\",\n",
    "                    fontsize=11,\n",
    "                    ha='center', va='bottom')\n",
    "autolabel2(p1)\n",
    "autolabel2(p2)\n",
    "autolabel2(p3)\n",
    "autolabel2(p4)\n",
    "autolabel2(p5)\n",
    "autolabel2(p6)\n",
    "plt.ylim(min(barvals_PL)-0.2,abs(min(barvals_PL))+0.2)\n",
    "plt.legend(loc='upper center', bbox_to_anchor=(1.1,1.0), fontsize=16)\n",
    "title('CMIP6; Feedbacks (years 141-150)')\n",
    "ylabel('[Wm$^{-2}$K$^{-1}$]')\n",
    "savefig('Feedbacks_all', bbox_inches='tight')\n",
    "close(1)"
   ]
  }
 ],
 "metadata": {
  "kernelspec": {
   "display_name": "Python 3",
   "language": "python",
   "name": "python3"
  },
  "language_info": {
   "codemirror_mode": {
    "name": "ipython",
    "version": 3
   },
   "file_extension": ".py",
   "mimetype": "text/x-python",
   "name": "python",
   "nbconvert_exporter": "python",
   "pygments_lexer": "ipython3",
   "version": "3.7.3"
  }
 },
 "nbformat": 4,
 "nbformat_minor": 4
}
