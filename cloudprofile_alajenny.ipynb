{
 "cells": [
  {
   "cell_type": "markdown",
   "metadata": {},
   "source": [
    "# Cloud composition profile\n",
    "Trying to replicate a figure similar to Jenny's"
   ]
  },
  {
   "cell_type": "code",
   "execution_count": 11,
   "metadata": {},
   "outputs": [],
   "source": [
    "from imports import (\n",
    "    pd, np, xr, mpl, plt, sns, os, \n",
    "    datetime, sys, crt, gridspec,\n",
    "    polyfit, ccrs, LinearRegression, metrics\n",
    "    )\n",
    "\n",
    "from functions import (\n",
    "    masked_average, interpretNS, plot_slf_isotherms, \n",
    "    add_weights, process_caliop, process_for_slf,\n",
    "    noresm_slf_to_df, regress_1d\n",
    "    )\n",
    "\n",
    "%matplotlib inline"
   ]
  },
  {
   "cell_type": "markdown",
   "metadata": {},
   "source": [
    "Set up directories based on where the program is being run from"
   ]
  },
  {
   "cell_type": "code",
   "execution_count": 12,
   "metadata": {},
   "outputs": [
    {
     "name": "stdout",
     "output_type": "stream",
     "text": [
      "Running through MC2 Jupyter Hub\n",
      "Can access all directory paths: True\n"
     ]
    }
   ],
   "source": [
    "host = os.uname()[1]\n",
    "if 'jupyter' in host.split('-'): # Check if running on NIRD through the Jupyter Hub\n",
    "    print('Running through MC2 Jupyter Hub')\n",
    "    model_dir = '/mnt/mcc-ns9600k/jonahks/'\n",
    "    os.chdir(model_dir)\n",
    "\n",
    "else:  # Assume that we're running on a local machine and mounting NIRD\n",
    "    print('Running on %s, attempting to mount ns9600k/jonahks/ from NIRD' % str(host))\n",
    "    os.system('fusermount -zu ~/drivemount/')  # unmount first\n",
    "    os.system('sshfs jonahks@login.nird.sigma2.no:\"p/jonahks/\" ~/drivemount/')    # Calling mountnird from .bashrc doesn't work\n",
    "    os.chdir('/home/jonahks/drivemount/')\n",
    "    save_dir = '~/DATAOUT/'\n",
    "    save_to = os.path.expanduser(save_dir)\n",
    "\n",
    "obs_dir = 'caliop_slfs/'\n",
    "output_dir = 'figures/'\n",
    "model_dir = 'mnth15runs/' # inconsistent label compared to jupy_test\n",
    "    \n",
    "# Check that each important directory can be accessed:    \n",
    "access_paths = os.path.exists(obs_dir) and os.path.exists(output_dir) and os.path.exists(model_dir)\n",
    "print('Can access all directory paths:', access_paths)"
   ]
  },
  {
   "cell_type": "code",
   "execution_count": 13,
   "metadata": {},
   "outputs": [
    {
     "data": {
      "text/plain": [
       "['20191230_130025_singleparam_cttest15_wbf_1_inp_1',\n",
       " '20191217_145440_singleparam_jolt_wbf_1_inp_1000',\n",
       " '20191128_171713_sampleparamset_wbf_10_inp_1',\n",
       " '20191209_180424_sampleparamset_wbf_1_inp_0.1',\n",
       " 'error_vs_iso.png',\n",
       " '.ipynb_checkpoints',\n",
       " 'unused',\n",
       " '20191127_162007_sampleparamset_wbf_0.01_inp_1',\n",
       " 'runs_as_vectors.png',\n",
       " '20191210_152149_sampleparamset_wbf_1_inp_0.1',\n",
       " '20191128_171713_sampleparamset_wbf_1_inp_10',\n",
       " '20191219_151155_singleparam_cttest_wbf_1_inp_1.cam.h0.0001-01',\n",
       " '20191210_152149_sampleparamset_wbf_1_inp_10',\n",
       " '20191217_134307_singleparam_jolt_wbf_1_inp_0',\n",
       " 'paramspace.png',\n",
       " '20191122_161009_sampleparamset_wbf_1_inp_1']"
      ]
     },
     "execution_count": 13,
     "metadata": {},
     "output_type": "execute_result"
    }
   ],
   "source": [
    "all_cases = os.listdir('mnth15runs/')\n",
    "all_cases"
   ]
  },
  {
   "cell_type": "code",
   "execution_count": 14,
   "metadata": {},
   "outputs": [
    {
     "data": {
      "text/plain": [
       "True"
      ]
     },
     "execution_count": 14,
     "metadata": {},
     "output_type": "execute_result"
    }
   ],
   "source": [
    "#specific_model = '20191219_151155_singleparam_cttest_wbf_1_inp_1.cam.h0.0001-01.nc'\n",
    "specific_model = '20191122_161009_sampleparamset_wbf_1_inp_1.nc'\n",
    "#ct_val = '20191219_151155_singleparam_cttest_wbf_1_inp_1.cam.h0.0001-01.nc'\n",
    "case = specific_model[:-3]\n",
    "\n",
    "run_dir = 'mnth15runs/%s/' % case # inconsistent label compared to jupy_test\n",
    "#model_dir = 'NorESM_validation/%s' % ct_val\n",
    "os.path.exists(run_dir)"
   ]
  },
  {
   "cell_type": "code",
   "execution_count": 23,
   "metadata": {},
   "outputs": [],
   "source": [
    "relevant_vars = [\n",
    "     'CLDFREE', 'CLDHGH','CLDICE', 'CLDLIQ', 'CLDLOW','CLDMED',\n",
    "     'CLDTAU','CLDTOT','CLD_ISOTM','CLD_ISOTM_NONSIM','CLD_SLF',\n",
    "     'CLD_SLF_NONSIM','CLOUD','CLOUDCOVER_CLUBB','CLOUDFRAC_CLUBB',\n",
    "     'CONCLD', 'BERGO','BERGOXCLD_ISOTM','BERGOXCLD_ISOTM_NONSIM',\n",
    "     'BERGSO','BERGSOXCLD_ISOTM','BERGSOXCLD_ISOTM_NONSIM',\n",
    "     'MG_SADICE','MG_SADLIQ','MNUCCCO','MNUCCDO','MNUCCDOhet',\n",
    "     'MNUCCRO','MNUCCTO','NUMICE','NUMLIQ','NUMRAI','NUMSNO',\n",
    "     'N_AER','PRECIPBINOCC_CC','PRECIPBINOCC_CL','PRECIPBINOCC_CT',\n",
    "     'PRECIPBINRATE_CC','PRECIPBINRATE_CL','PRECIPBINRATE_CT', \n",
    "     'SADICEXCLD_ISOTM','SADICEXCLD_ISOTM_NONSIM','SADLIQXCLD_ISOTM',\n",
    "     'SADLIQXCLD_ISOTM_NONSIM','SLFXCLD_ISOTM','SLFXCLD_ISOTM_NONSIM',\n",
    "     'TS','AQSNOW', 'AQRAIN'\n",
    "    ]"
   ]
  },
  {
   "cell_type": "code",
   "execution_count": 24,
   "metadata": {},
   "outputs": [
    {
     "data": {
      "text/plain": [
       "'mnth15runs/'"
      ]
     },
     "execution_count": 24,
     "metadata": {},
     "output_type": "execute_result"
    }
   ],
   "source": [
    "model_dir"
   ]
  },
  {
   "cell_type": "code",
   "execution_count": 25,
   "metadata": {},
   "outputs": [
    {
     "data": {
      "text/plain": [
       "'mnth15runs/20191122_161009_sampleparamset_wbf_1_inp_1/'"
      ]
     },
     "execution_count": 25,
     "metadata": {},
     "output_type": "execute_result"
    }
   ],
   "source": [
    "run_dir"
   ]
  },
  {
   "cell_type": "code",
   "execution_count": 27,
   "metadata": {},
   "outputs": [],
   "source": [
    "ds = xr.open_dataset('%s%s.nc' % (run_dir, case))"
   ]
  },
  {
   "cell_type": "code",
   "execution_count": 28,
   "metadata": {},
   "outputs": [
    {
     "data": {
      "text/html": [
       "<pre>&lt;xarray.DataArray &#x27;CLDICE&#x27; (time: 15, lev: 32, lat: 96, lon: 144)&gt;\n",
       "[6635520 values with dtype=float32]\n",
       "Coordinates:\n",
       "  * time     (time) object 0001-02-01 00:00:00 ... 0002-04-01 00:00:00\n",
       "  * lat      (lat) float64 -90.0 -88.11 -86.21 -84.32 ... 84.32 86.21 88.11 90.0\n",
       "  * lon      (lon) float64 0.0 2.5 5.0 7.5 10.0 ... 350.0 352.5 355.0 357.5\n",
       "  * lev      (lev) float64 3.643 7.595 14.36 24.61 ... 936.2 957.5 976.3 992.6\n",
       "Attributes:\n",
       "    long_name:     Grid box averaged cloud ice amount\n",
       "    units:         kg/kg\n",
       "    mdims:         1\n",
       "    cell_methods:  time: mean</pre>"
      ],
      "text/plain": [
       "<xarray.DataArray 'CLDICE' (time: 15, lev: 32, lat: 96, lon: 144)>\n",
       "[6635520 values with dtype=float32]\n",
       "Coordinates:\n",
       "  * time     (time) object 0001-02-01 00:00:00 ... 0002-04-01 00:00:00\n",
       "  * lat      (lat) float64 -90.0 -88.11 -86.21 -84.32 ... 84.32 86.21 88.11 90.0\n",
       "  * lon      (lon) float64 0.0 2.5 5.0 7.5 10.0 ... 350.0 352.5 355.0 357.5\n",
       "  * lev      (lev) float64 3.643 7.595 14.36 24.61 ... 936.2 957.5 976.3 992.6\n",
       "Attributes:\n",
       "    long_name:     Grid box averaged cloud ice amount\n",
       "    units:         kg/kg\n",
       "    mdims:         1\n",
       "    cell_methods:  time: mean"
      ]
     },
     "execution_count": 28,
     "metadata": {},
     "output_type": "execute_result"
    }
   ],
   "source": [
    "ds['CLDICE']"
   ]
  },
  {
   "cell_type": "code",
   "execution_count": 29,
   "metadata": {},
   "outputs": [],
   "source": [
    "# Load NorESM data\n",
    "ds = xr.open_dataset('%s/%s.nc' % (run_dir,case))\n",
    "if (len(ds['time']) > 1):\n",
    "    ds = ds.sel(time=slice('0001-04-01', '0002-03-01')) # discard 3 months as wind-up\n",
    "ds = add_weights(ds)"
   ]
  },
  {
   "cell_type": "markdown",
   "metadata": {},
   "source": [
    "These variables are both in units of kg/kg. I'm not sure what 'equivalent' CALIOP value is."
   ]
  },
  {
   "cell_type": "code",
   "execution_count": 33,
   "metadata": {},
   "outputs": [],
   "source": [
    "cldvars = ds[['CLDICE', 'CLDLIQ']]"
   ]
  },
  {
   "cell_type": "code",
   "execution_count": 36,
   "metadata": {},
   "outputs": [],
   "source": [
    "bands = {'Global':[-90,90],'Arctic':[66.667,90],'Antarctic':[-90,-66.667]}\n",
    "df = pd.DataFrame()"
   ]
  },
  {
   "cell_type": "code",
   "execution_count": 52,
   "metadata": {},
   "outputs": [
    {
     "data": {
      "image/png": "[encoded data removed]",
      "text/plain": [
       "<Figure size 432x288 with 1 Axes>"
      ]
     },
     "metadata": {
      "needs_background": "light"
     },
     "output_type": "display_data"
    },
    {
     "data": {
      "image/png": "[encoded data removed]",
      "text/plain": [
       "<Figure size 432x288 with 1 Axes>"
      ]
     },
     "metadata": {
      "needs_background": "light"
     },
     "output_type": "display_data"
    },
    {
     "data": {
      "image/png": "[encoded data removed]",
      "text/plain": [
       "<Figure size 432x288 with 1 Axes>"
      ]
     },
     "metadata": {
      "needs_background": "light"
     },
     "output_type": "display_data"
    }
   ],
   "source": [
    "#df['isotherm'] = slf1['isotherm']\n",
    "#df = df.set_index('isotherm')\n",
    "for i in bands:\n",
    "    _rng = bands[i]\n",
    "    \n",
    "    # Different resolutions, needs different masks. Remember weird mask sign convention: true=not included\n",
    "    mask2 = np.bitwise_or(ds['lat']<_rng[0], ds['lat']>_rng[1])\n",
    "    \n",
    "    weight1 = ds['cell_weight']\n",
    "    \n",
    "    cldice = 100*masked_average(ds['CLDICE'], dim=['lat','lon','time'],weights=weight1, mask=mask2)\n",
    "    cldliq = 100*masked_average(ds['CLDLIQ'], dim=['lat','lon','time'],weights=weight1, mask=mask2)\n",
    "\n",
    "    plt.figure()\n",
    "    plt.plot(cldice, cldice['lev'])\n",
    "    plt.plot(cldliq, cldliq['lev'])"
   ]
  }
 ],
 "metadata": {
  "kernelspec": {
   "display_name": "Python 3",
   "language": "python",
   "name": "python3"
  },
  "language_info": {
   "codemirror_mode": {
    "name": "ipython",
    "version": 3
   },
   "file_extension": ".py",
   "mimetype": "text/x-python",
   "name": "python",
   "nbconvert_exporter": "python",
   "pygments_lexer": "ipython3",
   "version": "3.7.3"
  }
 },
 "nbformat": 4,
 "nbformat_minor": 4
}
