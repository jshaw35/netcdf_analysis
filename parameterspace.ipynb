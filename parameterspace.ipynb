{
 "cells": [
  {
   "cell_type": "markdown",
   "metadata": {},
   "source": [
    "## Metric Calculations"
   ]
  },
  {
   "cell_type": "code",
   "execution_count": 194,
   "metadata": {},
   "outputs": [],
   "source": [
    "from imports import (\n",
    "    np, pd, xr, plt, os, LinearRegression,\n",
    "    metrics, sys)\n",
    "\n",
    "import fnmatch\n",
    "from functions import regress_1d\n",
    "\n",
    "%matplotlib inline"
   ]
  },
  {
   "cell_type": "code",
   "execution_count": 193,
   "metadata": {},
   "outputs": [
    {
     "data": {
      "text/plain": [
       "'/home/jonahks/git_repos/netcdf_analysis'"
      ]
     },
     "execution_count": 193,
     "metadata": {},
     "output_type": "execute_result"
    }
   ],
   "source": [
    "os.getcwd()"
   ]
  },
  {
   "cell_type": "code",
   "execution_count": 192,
   "metadata": {},
   "outputs": [
    {
     "data": {
      "text/plain": [
       "32512"
      ]
     },
     "execution_count": 192,
     "metadata": {},
     "output_type": "execute_result"
    }
   ],
   "source": [
    "os.system('mountnird p/jonahks/') # mount the drive from NIRD, no working :("
   ]
  },
  {
   "cell_type": "code",
   "execution_count": 195,
   "metadata": {},
   "outputs": [],
   "source": [
    "all_cases = os.listdir('/home/jonahks/drivemount/mnth15runs/')\n",
    "\n",
    "case_dir = '/home/jonahks/drivemount/mnth15runs/'"
   ]
  },
  {
   "cell_type": "code",
   "execution_count": 196,
   "metadata": {},
   "outputs": [
    {
     "data": {
      "text/plain": [
       "['20191127_162007_sampleparamset_wbf_0.01_inp_1',\n",
       " '20191124_194151_dud',\n",
       " '20191122_161009_sampleparamset_wbf_1_inp_1',\n",
       " '20191114_183930_sampleparamset_wbf_1_inp_10',\n",
       " '20191114_183930_sampleparamset_wbf_1_inp_1',\n",
       " '20191114_183930_sampleparamset_wbf_0.01_inp_1']"
      ]
     },
     "execution_count": 196,
     "metadata": {},
     "output_type": "execute_result"
    }
   ],
   "source": [
    "all_cases"
   ]
  },
  {
   "cell_type": "code",
   "execution_count": 253,
   "metadata": {},
   "outputs": [],
   "source": [
    "base_case = '20191122_161009_sampleparamset_wbf_1_inp_1'\n",
    "cases = ['20191127_162007_sampleparamset_wbf_0.01_inp_1', '20191122_161009_sampleparamset_wbf_1_inp_1']"
   ]
  },
  {
   "cell_type": "markdown",
   "metadata": {},
   "source": [
    "10,000 foot view of what I am trying to do"
   ]
  },
  {
   "cell_type": "code",
   "execution_count": null,
   "metadata": {},
   "outputs": [],
   "source": [
    "test = create_base(base_case) # instantiate with the unmodified run\n",
    "for case in cases:\n",
    "    test.add_perturbation(case) # add the perturbations\n",
    "\n",
    "test.performanalysis() # Plotting and calculating unit vectors, whatnot"
   ]
  },
  {
   "cell_type": "code",
   "execution_count": 198,
   "metadata": {},
   "outputs": [
    {
     "data": {
      "text/plain": [
       "True"
      ]
     },
     "execution_count": 198,
     "metadata": {},
     "output_type": "execute_result"
    }
   ],
   "source": [
    "os.path.exists(case_dir + base_case)\n",
    "#base_case"
   ]
  },
  {
   "cell_type": "code",
   "execution_count": 199,
   "metadata": {},
   "outputs": [],
   "source": [
    "def create_base(case_dir, origin): # pass the case name as a string, in this case base_case\n",
    "    origin_ds = pd.read_csv('%s/%s_slf_caliop_comparison.csv' % (case_dir + origin, origin)).dropna() # open the .csv summary produced by jupy_test (RENAME)\n",
    "    \n",
    "    # Catch an annoying error\n",
    "    try:\n",
    "        origin_ds = origin_ds.set_index('Isotherm')\n",
    "    except: pass    \n",
    "    \n",
    "    isos = np.array(origin_ds.index).reshape(-1,1)\n",
    "    error = origin_ds['Arctic Error']\n",
    "    # calculate the two parameters of interest, the error slope and the -20C isotherm error\n",
    "    _r = regress_1d(isos, error)\n",
    "#    _s = _r.score(isos, all_slf_clean[error])\n",
    "    error_slope = _r.coef_\n",
    "    \n",
    "    plt.scatter(error, isos)\n",
    "    \n",
    "    error_20c = origin_ds.loc[[-20],['Arctic Error']] #, [\"-20\"]] \n",
    "    \n",
    "    \n",
    "    return origin_ds"
   ]
  },
  {
   "cell_type": "code",
   "execution_count": 200,
   "metadata": {},
   "outputs": [
    {
     "data": {
      "text/html": [
       "<div>\n",
       "<style scoped>\n",
       "    .dataframe tbody tr th:only-of-type {\n",
       "        vertical-align: middle;\n",
       "    }\n",
       "\n",
       "    .dataframe tbody tr th {\n",
       "        vertical-align: top;\n",
       "    }\n",
       "\n",
       "    .dataframe thead th {\n",
       "        text-align: right;\n",
       "    }\n",
       "</style>\n",
       "<table border=\"1\" class=\"dataframe\">\n",
       "  <thead>\n",
       "    <tr style=\"text-align: right;\">\n",
       "      <th></th>\n",
       "      <th>CALIOP_10N-10S</th>\n",
       "      <th>CALIOP_10S-30S</th>\n",
       "      <th>CALIOP_30N-10N</th>\n",
       "      <th>CALIOP_30S-50S</th>\n",
       "      <th>CALIOP_50N-30N</th>\n",
       "      <th>CALIOP_50S-70S</th>\n",
       "      <th>CALIOP_70N-50N</th>\n",
       "      <th>CALIOP_70S-90S</th>\n",
       "      <th>CALIOP_90N-70N</th>\n",
       "      <th>CALIOP Average</th>\n",
       "      <th>...</th>\n",
       "      <th>NorESM_10S-30S</th>\n",
       "      <th>NorESM_30N-10N</th>\n",
       "      <th>NorESM_30S-50S</th>\n",
       "      <th>NorESM_50N-30N</th>\n",
       "      <th>NorESM_50S-70S</th>\n",
       "      <th>NorESM_70N-50N</th>\n",
       "      <th>NorESM_70S-90S</th>\n",
       "      <th>NorESM_90N-70N</th>\n",
       "      <th>Arctic Error</th>\n",
       "      <th>Global Error</th>\n",
       "    </tr>\n",
       "    <tr>\n",
       "      <th>Isotherm</th>\n",
       "      <th></th>\n",
       "      <th></th>\n",
       "      <th></th>\n",
       "      <th></th>\n",
       "      <th></th>\n",
       "      <th></th>\n",
       "      <th></th>\n",
       "      <th></th>\n",
       "      <th></th>\n",
       "      <th></th>\n",
       "      <th></th>\n",
       "      <th></th>\n",
       "      <th></th>\n",
       "      <th></th>\n",
       "      <th></th>\n",
       "      <th></th>\n",
       "      <th></th>\n",
       "      <th></th>\n",
       "      <th></th>\n",
       "      <th></th>\n",
       "      <th></th>\n",
       "    </tr>\n",
       "  </thead>\n",
       "  <tbody>\n",
       "    <tr>\n",
       "      <td>-40.0</td>\n",
       "      <td>0.0</td>\n",
       "      <td>0.0</td>\n",
       "      <td>0.0</td>\n",
       "      <td>0.0</td>\n",
       "      <td>0.0</td>\n",
       "      <td>0.0</td>\n",
       "      <td>0.0</td>\n",
       "      <td>0.0</td>\n",
       "      <td>0.0</td>\n",
       "      <td>0.000000</td>\n",
       "      <td>...</td>\n",
       "      <td>0.649523</td>\n",
       "      <td>0.701112</td>\n",
       "      <td>0.734191</td>\n",
       "      <td>0.762072</td>\n",
       "      <td>0.910711</td>\n",
       "      <td>0.676523</td>\n",
       "      <td>1.686440</td>\n",
       "      <td>0.561619</td>\n",
       "      <td>0.561619</td>\n",
       "      <td>0.714611</td>\n",
       "    </tr>\n",
       "    <tr>\n",
       "      <td>-30.0</td>\n",
       "      <td>4.0</td>\n",
       "      <td>6.0</td>\n",
       "      <td>5.0</td>\n",
       "      <td>7.0</td>\n",
       "      <td>3.0</td>\n",
       "      <td>9.0</td>\n",
       "      <td>5.0</td>\n",
       "      <td>12.0</td>\n",
       "      <td>6.0</td>\n",
       "      <td>5.578054</td>\n",
       "      <td>...</td>\n",
       "      <td>5.272700</td>\n",
       "      <td>5.793299</td>\n",
       "      <td>6.189978</td>\n",
       "      <td>6.756526</td>\n",
       "      <td>12.026680</td>\n",
       "      <td>8.753282</td>\n",
       "      <td>14.389367</td>\n",
       "      <td>8.948410</td>\n",
       "      <td>2.948410</td>\n",
       "      <td>1.445471</td>\n",
       "    </tr>\n",
       "    <tr>\n",
       "      <td>-20.0</td>\n",
       "      <td>26.0</td>\n",
       "      <td>32.0</td>\n",
       "      <td>28.0</td>\n",
       "      <td>30.0</td>\n",
       "      <td>21.0</td>\n",
       "      <td>37.0</td>\n",
       "      <td>26.0</td>\n",
       "      <td>39.0</td>\n",
       "      <td>31.0</td>\n",
       "      <td>28.670216</td>\n",
       "      <td>...</td>\n",
       "      <td>11.964153</td>\n",
       "      <td>12.054469</td>\n",
       "      <td>15.180630</td>\n",
       "      <td>14.878921</td>\n",
       "      <td>28.873837</td>\n",
       "      <td>20.999265</td>\n",
       "      <td>25.780514</td>\n",
       "      <td>20.709251</td>\n",
       "      <td>-10.290749</td>\n",
       "      <td>-13.107442</td>\n",
       "    </tr>\n",
       "    <tr>\n",
       "      <td>-10.0</td>\n",
       "      <td>62.0</td>\n",
       "      <td>64.0</td>\n",
       "      <td>63.0</td>\n",
       "      <td>60.0</td>\n",
       "      <td>56.0</td>\n",
       "      <td>70.0</td>\n",
       "      <td>56.0</td>\n",
       "      <td>61.0</td>\n",
       "      <td>55.0</td>\n",
       "      <td>61.357769</td>\n",
       "      <td>...</td>\n",
       "      <td>30.198966</td>\n",
       "      <td>30.272848</td>\n",
       "      <td>42.999595</td>\n",
       "      <td>32.691968</td>\n",
       "      <td>50.902777</td>\n",
       "      <td>42.500702</td>\n",
       "      <td>44.331243</td>\n",
       "      <td>46.999692</td>\n",
       "      <td>-8.000308</td>\n",
       "      <td>-26.125227</td>\n",
       "    </tr>\n",
       "    <tr>\n",
       "      <td>0.0</td>\n",
       "      <td>100.0</td>\n",
       "      <td>100.0</td>\n",
       "      <td>100.0</td>\n",
       "      <td>100.0</td>\n",
       "      <td>100.0</td>\n",
       "      <td>100.0</td>\n",
       "      <td>100.0</td>\n",
       "      <td>100.0</td>\n",
       "      <td>100.0</td>\n",
       "      <td>100.000000</td>\n",
       "      <td>...</td>\n",
       "      <td>87.985580</td>\n",
       "      <td>82.179623</td>\n",
       "      <td>92.512950</td>\n",
       "      <td>81.682527</td>\n",
       "      <td>86.840288</td>\n",
       "      <td>83.434027</td>\n",
       "      <td>58.937341</td>\n",
       "      <td>84.650561</td>\n",
       "      <td>-15.349439</td>\n",
       "      <td>-13.327181</td>\n",
       "    </tr>\n",
       "  </tbody>\n",
       "</table>\n",
       "<p>5 rows × 22 columns</p>\n",
       "</div>"
      ],
      "text/plain": [
       "          CALIOP_10N-10S  CALIOP_10S-30S  CALIOP_30N-10N  CALIOP_30S-50S  \\\n",
       "Isotherm                                                                   \n",
       "-40.0                0.0             0.0             0.0             0.0   \n",
       "-30.0                4.0             6.0             5.0             7.0   \n",
       "-20.0               26.0            32.0            28.0            30.0   \n",
       "-10.0               62.0            64.0            63.0            60.0   \n",
       " 0.0               100.0           100.0           100.0           100.0   \n",
       "\n",
       "          CALIOP_50N-30N  CALIOP_50S-70S  CALIOP_70N-50N  CALIOP_70S-90S  \\\n",
       "Isotherm                                                                   \n",
       "-40.0                0.0             0.0             0.0             0.0   \n",
       "-30.0                3.0             9.0             5.0            12.0   \n",
       "-20.0               21.0            37.0            26.0            39.0   \n",
       "-10.0               56.0            70.0            56.0            61.0   \n",
       " 0.0               100.0           100.0           100.0           100.0   \n",
       "\n",
       "          CALIOP_90N-70N  CALIOP Average  ...  NorESM_10S-30S  NorESM_30N-10N  \\\n",
       "Isotherm                                  ...                                   \n",
       "-40.0                0.0        0.000000  ...        0.649523        0.701112   \n",
       "-30.0                6.0        5.578054  ...        5.272700        5.793299   \n",
       "-20.0               31.0       28.670216  ...       11.964153       12.054469   \n",
       "-10.0               55.0       61.357769  ...       30.198966       30.272848   \n",
       " 0.0               100.0      100.000000  ...       87.985580       82.179623   \n",
       "\n",
       "          NorESM_30S-50S  NorESM_50N-30N  NorESM_50S-70S  NorESM_70N-50N  \\\n",
       "Isotherm                                                                   \n",
       "-40.0           0.734191        0.762072        0.910711        0.676523   \n",
       "-30.0           6.189978        6.756526       12.026680        8.753282   \n",
       "-20.0          15.180630       14.878921       28.873837       20.999265   \n",
       "-10.0          42.999595       32.691968       50.902777       42.500702   \n",
       " 0.0           92.512950       81.682527       86.840288       83.434027   \n",
       "\n",
       "          NorESM_70S-90S  NorESM_90N-70N  Arctic Error  Global Error  \n",
       "Isotherm                                                              \n",
       "-40.0           1.686440        0.561619      0.561619      0.714611  \n",
       "-30.0          14.389367        8.948410      2.948410      1.445471  \n",
       "-20.0          25.780514       20.709251    -10.290749    -13.107442  \n",
       "-10.0          44.331243       46.999692     -8.000308    -26.125227  \n",
       " 0.0           58.937341       84.650561    -15.349439    -13.327181  \n",
       "\n",
       "[5 rows x 22 columns]"
      ]
     },
     "execution_count": 200,
     "metadata": {},
     "output_type": "execute_result"
    },
    {
     "data": {
      "image/png": "[encoded data removed]",
      "text/plain": [
       "<Figure size 432x288 with 1 Axes>"
      ]
     },
     "metadata": {
      "needs_background": "light"
     },
     "output_type": "display_data"
    }
   ],
   "source": [
    "ds = create_base(case_dir, base_case)\n",
    "ds"
   ]
  },
  {
   "cell_type": "code",
   "execution_count": 76,
   "metadata": {},
   "outputs": [
    {
     "data": {
      "text/html": [
       "<div>\n",
       "<style scoped>\n",
       "    .dataframe tbody tr th:only-of-type {\n",
       "        vertical-align: middle;\n",
       "    }\n",
       "\n",
       "    .dataframe tbody tr th {\n",
       "        vertical-align: top;\n",
       "    }\n",
       "\n",
       "    .dataframe thead th {\n",
       "        text-align: right;\n",
       "    }\n",
       "</style>\n",
       "<table border=\"1\" class=\"dataframe\">\n",
       "  <thead>\n",
       "    <tr style=\"text-align: right;\">\n",
       "      <th></th>\n",
       "      <th>Arctic Error</th>\n",
       "    </tr>\n",
       "    <tr>\n",
       "      <th>Isotherm</th>\n",
       "      <th></th>\n",
       "    </tr>\n",
       "  </thead>\n",
       "  <tbody>\n",
       "    <tr>\n",
       "      <td>-20</td>\n",
       "      <td>-10.290749</td>\n",
       "    </tr>\n",
       "  </tbody>\n",
       "</table>\n",
       "</div>"
      ],
      "text/plain": [
       "          Arctic Error\n",
       "Isotherm              \n",
       "-20         -10.290749"
      ]
     },
     "execution_count": 76,
     "metadata": {},
     "output_type": "execute_result"
    }
   ],
   "source": [
    "# retrieving two rows and three columns by loc method \n",
    "first = ds.loc[[-20],['Arctic Error']] #, [\"-20\"]] \n",
    "first"
   ]
  },
  {
   "cell_type": "code",
   "execution_count": 463,
   "metadata": {},
   "outputs": [],
   "source": [
    "class SLF_Metric(object):\n",
    "    \n",
    "    def __init__(self, casedir):\n",
    "        for cls in reversed(self.__class__.mro()):\n",
    "            if hasattr(cls, 'init'):\n",
    "                cls.init(self, casedir)\n",
    "\n",
    "    def init(self, casedir):\n",
    "        # Catch directory issues from the get-go\n",
    "        if not os.path.exists(casedir):\n",
    "            print('The case directory %s does not exist' % casedir)\n",
    "#            sys.exit() # Is this a problem, does it need to be here?\n",
    "            \n",
    "        self.case_dir = casedir\n",
    "        self.origin = None\n",
    "        self.cases = {}\n",
    "\n",
    "    def set_origin(self, case): # case is a string of the case name\n",
    "        if case not in self.cases: # check if it is already in the dictionary\n",
    "            self.add_case(case) \n",
    "        self.origin = self.cases[case] # should have a check for the object type\n",
    "        \n",
    "    def add_case(self, case): # Dictionary can be overwritten, should be fine\n",
    "        \n",
    "        self.cases[case] = SLF_case(self.case_dir, case) # Add an slf_case object to the cases dictionary\n",
    "    \n",
    "    def get_case(self, case):\n",
    "        if case not in self.cases: # check if it is already in the dictionary\n",
    "            print('Could not find %s in the SLF_Metric object' % case)\n",
    "            return None\n",
    "        else:\n",
    "            return self.cases[case] # should have a check for the object type\n",
    "    \n",
    "    def get_cases(self):\n",
    "        return self.cases\n",
    "#        return list(self.cases.keys()) # This is a dict_keys object and should be an iterable\n",
    "    \n",
    "    def get_origin(self):\n",
    "        return self.origin\n",
    "    \n",
    "    def plot(self):\n",
    "        metric_plot = plt.figure(figsize=[10,10])\n",
    "\n",
    "        origin = [self.origin.error_slope, self.origin.error_20c] # origin point (x,y)\n",
    "\n",
    "        metric_cases = test.get_cases()\n",
    "        for i in self.cases:\n",
    "            _case = self.cases[i]\n",
    "            # xy is the endpoint, xytext is the origin\n",
    "            if not i == self.origin:\n",
    "                oops = plt.scatter(_slope_error, _20c_error, label = str(i))\n",
    "        #        color = oops.get_color()\n",
    "        #        print(color)\n",
    "                plt.annotate('', xy=(_case.error_slope, _case.error_20c), xytext=(origin[0], origin[1]), \n",
    "                            arrowprops=dict(facecolor='black', shrink=0., width=0.5, lw=1.0),\n",
    "                            label = str(i))\n",
    "\n",
    "        plt.scatter([origin[0]], [origin[1]], label = 'Initial Parametrization')\n",
    "        plt.scatter([[0]], [[0]], color = 'black')\n",
    "        plt.xlabel('Error Slope')\n",
    "        plt.ylabel('\"0C Isotherm SLF Error\"')\n",
    "        plt.grid()\n",
    "        plt.legend()\n",
    "\n",
    "        return metric_plot\n",
    "    \n",
    "class SLF_case:\n",
    "    \n",
    "    def __init__(self, casedir, case):\n",
    "        self.case_dir = casedir # General directory where all cases are stored\n",
    "        self.case = case # The origin case name (wbf = 1, slf = 1)\n",
    "        self.case_ds = pd.read_csv('%s/%s_slf_caliop_comparison.csv' % (casedir + case, case)).dropna()\n",
    "        \n",
    "        # Catch an annoying error\n",
    "        try:\n",
    "            self.case_ds = self.case_ds.set_index('Isotherm')\n",
    "        except: pass\n",
    "        \n",
    "#        self.date, self.time, self.paramfile, _, self.wbf_mult, _, self.inp_mult = self.case.split('_') # Parse string to get model parameters\n",
    "        _temp_parsed = self.case.split('_') # Parse string to get model parameters\n",
    "        self.date, self.time, self.paramfile = _temp_parsed[:3]\n",
    "        self.wbf_mult = np.float(_temp_parsed[-3]); self.inp_mult = np.float(_temp_parsed[-1])\n",
    "        self.isos = np.array(self.case_ds.index).reshape(-1,1)\n",
    "        self.error = self.case_ds['Arctic Error']\n",
    "\n",
    "        # calculate the two parameters of interest, the error slope and the -20C isotherm error\n",
    "        self.error_20c = np.float(self.error.loc[[-20]]) # SLF error at the -20C isotherm (metric 2)        \n",
    "        self.error_slope = np.float(regress_1d(self.isos, self.error).coef_)"
   ]
  },
  {
   "cell_type": "code",
   "execution_count": 464,
   "metadata": {},
   "outputs": [],
   "source": [
    "test = SLF_Metric(case_dir)"
   ]
  },
  {
   "cell_type": "code",
   "execution_count": 465,
   "metadata": {},
   "outputs": [
    {
     "name": "stdout",
     "output_type": "stream",
     "text": [
      "{'20191122_161009_sampleparamset_wbf_1_inp_1': <__main__.SLF_case object at 0x7fa00a378748>}\n",
      "{'20191122_161009_sampleparamset_wbf_1_inp_1': <__main__.SLF_case object at 0x7fa00a378748>, '20191127_162007_sampleparamset_wbf_0.01_inp_1': <__main__.SLF_case object at 0x7fa00a378d30>}\n"
     ]
    }
   ],
   "source": [
    "test.add_case(base_case)\n",
    "print(test.get_cases())\n",
    "test.add_case(cases[0])\n",
    "print(test.get_cases())\n",
    "test2 = test.get_case(base_case)"
   ]
  },
  {
   "cell_type": "code",
   "execution_count": 466,
   "metadata": {},
   "outputs": [
    {
     "name": "stdout",
     "output_type": "stream",
     "text": [
      "<__main__.SLF_case object at 0x7fa00a378748>\n",
      "<__main__.SLF_case object at 0x7fa00a378d30>\n"
     ]
    },
    {
     "data": {
      "text/plain": [
       "<matplotlib.legend.Legend at 0x7fa00b5cfda0>"
      ]
     },
     "execution_count": 466,
     "metadata": {},
     "output_type": "execute_result"
    },
    {
     "data": {
      "image/png": "[encoded data removed]",
      "text/plain": [
       "<Figure size 432x288 with 1 Axes>"
      ]
     },
     "metadata": {
      "needs_background": "light"
     },
     "output_type": "display_data"
    }
   ],
   "source": [
    "test_plt = plt.figure(1)\n",
    "test_cases = test.get_cases()\n",
    "case_names = list(test_cases.keys())\n",
    "for j, i in enumerate(test_cases):\n",
    "    case = test_cases[i]\n",
    "    print(case)\n",
    "#    plt.scatter(case.isos, case.error)\n",
    "    plt.scatter(case.error, case.isos, label=str(i))\n",
    "    _r = regress_1d(case.isos, case.error)\n",
    "    plt.plot(_r.predict(case.isos), case.isos)\n",
    "plt.legend()\n",
    "\n",
    "#    _s = _r.score(isos, all_slf_clean[error])\n",
    "#    f1_ax2.plot(_r.predict(isos), isos, color=color, label = ('$R^2 = %f$' % _s))"
   ]
  },
  {
   "cell_type": "code",
   "execution_count": 467,
   "metadata": {},
   "outputs": [
    {
     "data": {
      "text/plain": [
       "-0.4277083447519167"
      ]
     },
     "execution_count": 467,
     "metadata": {},
     "output_type": "execute_result"
    }
   ],
   "source": [
    "test.set_origin(case_names[0])\n",
    "np.float(test.get_origin().error_slope)"
   ]
  },
  {
   "cell_type": "code",
   "execution_count": 469,
   "metadata": {},
   "outputs": [
    {
     "data": {
      "image/png": "[encoded data removed]",
      "text/plain": [
       "<Figure size 720x720 with 1 Axes>"
      ]
     },
     "metadata": {
      "needs_background": "light"
     },
     "output_type": "display_data"
    }
   ],
   "source": [
    "bob = test.plot()"
   ]
  },
  {
   "cell_type": "code",
   "execution_count": 438,
   "metadata": {},
   "outputs": [
    {
     "name": "stdout",
     "output_type": "stream",
     "text": [
      "[-0.4277083447519167, -10.290749029638297]\n",
      "1.0 1.0\n",
      "0.01 1.0\n"
     ]
    },
    {
     "data": {
      "image/png": "[encoded data removed]",
      "text/plain": [
       "<Figure size 720x720 with 1 Axes>"
      ]
     },
     "metadata": {
      "needs_background": "light"
     },
     "output_type": "display_data"
    }
   ],
   "source": [
    "plt.figure(figsize=[10,10])\n",
    "\n",
    "origin = [test.get_origin().error_slope, test.get_origin().error_20c] # origin point (x,y)\n",
    "print(origin)\n",
    "plt.figure(1)\n",
    "\n",
    "metric_cases = test.get_cases()\n",
    "for i in metric_cases:\n",
    "    _case = metric_cases[i]\n",
    "    print(_case.wbf_mult, _case.inp_mult)\n",
    "    _20c_error, _slope_error = _case.error_20c, _case.error_slope\n",
    "    # xy is the endpoint, xytext is the origin\n",
    "    if not [_slope_error, _20c_error] == origin:\n",
    "        oops = plt.scatter(_slope_error, _20c_error, label = str(i))\n",
    "#        color = oops.get_color()\n",
    "#        print(color)\n",
    "        plt.annotate('', xy=(_slope_error, _20c_error), xytext=(origin[0], origin[1]), \n",
    "                    arrowprops=dict(facecolor='black', shrink=0., width=0.5, lw=1.0),\n",
    "                    label = str(i))\n",
    "\n",
    "plt.scatter([origin[0]], [origin[1]], label = 'Initial Parametrization')\n",
    "plt.scatter([[0]], [[0]], color = 'black')\n",
    "#plt.xlim((-0.5,0.5));\n",
    "#plt.ylim((-15,5))\n",
    "plt.xlabel('Error Slope')\n",
    "plt.ylabel('\"0C Isotherm SLF Error\"')\n",
    "plt.grid()\n",
    "plt.legend()\n",
    "plt.show()"
   ]
  },
  {
   "cell_type": "code",
   "execution_count": 375,
   "metadata": {},
   "outputs": [
    {
     "name": "stdout",
     "output_type": "stream",
     "text": [
      "1.0 1.0\n",
      "0.0 0.0\n",
      "0.01 1.0\n",
      "-0.99 0.0\n"
     ]
    },
    {
     "data": {
      "image/png": "[encoded data removed]",
      "text/plain": [
       "<Figure size 432x288 with 1 Axes>"
      ]
     },
     "metadata": {
      "needs_background": "light"
     },
     "output_type": "display_data"
    }
   ],
   "source": [
    "origin = [test.get_origin().wbf_mult, test.get_origin().inp_mult] # origin point (x,y)\n",
    "\n",
    "plt.figure(1)\n",
    "#plt.yscale('log')\n",
    "#plt.xscale('log')\n",
    "\n",
    "metric_cases = test.get_cases()\n",
    "for i in metric_cases:\n",
    "    _case = metric_cases[i]\n",
    "    print(_case.wbf_mult, _case.inp_mult)\n",
    "    _wbf, _inp = _case.wbf_mult, _case.inp_mult\n",
    "    _dx = _wbf - origin[0]\n",
    "    _dy = _inp - origin[1]\n",
    "    print(_dx, _dy)\n",
    "#    plt.quiver(*origin, _vec[:,0], _vec[:,1], scale=10)\n",
    "#    plt.arrow(origin[0], origin[1], _dx, _dy, width = 0.02, head_width=0.1, head_length=0.1, label = 'doop %s' % str(i))\n",
    "\n",
    "    # xy is the endpoint, xytext is the origin\n",
    "    plt.annotate('', xy=(_wbf, _inp), xytext=(origin[0], origin[1]), \n",
    "                arrowprops=dict(facecolor='black', shrink=0., width=0.5, lw=1.0),\n",
    "                )\n",
    "    #    plt.quiver(_wbf, _inp, scale=15)\n",
    "#    plt.scatter(*origin, _wbf, _inp, scale=15)\n",
    "    plt.scatter(_wbf, _inp)\n",
    "\n",
    "#plt.quiver(*origin, V[:,0], V[:,1], color=['r','b','g'], label=['wutt','is','this life'], scale=15)\n",
    "#plt.scatter([0, 1], [0, 1])\n",
    "plt.scatter([origin[0]], [origin[1]], label = 'Initial Parametrization')\n",
    "plt.scatter([[0]], [[0]], color = 'black')\n",
    "plt.xlim((1e-3,1e2));\n",
    "plt.ylim((1e-3,1e2))\n",
    "plt.xlabel('WBF Multiplier')\n",
    "plt.ylabel('INP Multiplier')\n",
    "plt.xscale('log')\n",
    "plt.yscale('log')\n",
    "plt.grid()\n",
    "plt.legend()\n",
    "plt.show()"
   ]
  },
  {
   "cell_type": "code",
   "execution_count": 363,
   "metadata": {},
   "outputs": [
    {
     "data": {
      "text/plain": [
       "Text(2, 0.01, '')"
      ]
     },
     "execution_count": 363,
     "metadata": {},
     "output_type": "execute_result"
    },
    {
     "data": {
      "image/png": "[encoded data removed]",
      "text/plain": [
       "<Figure size 720x720 with 1 Axes>"
      ]
     },
     "metadata": {
      "needs_background": "light"
     },
     "output_type": "display_data"
    }
   ],
   "source": [
    "plt.figure(figsize=[10,10])\n",
    "plt.loglog([1,10,60],[1,0.1,0.005])\n",
    "plt.xlim(1e-2, 1e2)\n",
    "plt.ylim(1e-2, 1e2)\n",
    "plt.grid()\n",
    "\n",
    "# xy is the endpoint, xytext is the origin\n",
    "plt.annotate('', xy=(1, 10), xytext=(2, 0.01), \n",
    "            arrowprops=dict(facecolor='black', shrink=0.),\n",
    "            )"
   ]
  },
  {
   "cell_type": "code",
   "execution_count": 347,
   "metadata": {},
   "outputs": [
    {
     "data": {
      "image/png": "[encoded data removed]",
      "text/plain": [
       "<Figure size 432x288 with 1 Axes>"
      ]
     },
     "metadata": {
      "needs_background": "light"
     },
     "output_type": "display_data"
    }
   ],
   "source": [
    "plt.annotate('', xy=(5, 0.098), xytext=(2, 0.002), \n",
    "            arrowprops=dict(facecolor='black', shrink=0.),\n",
    "            )\n",
    "\n",
    "plt.ylim(0.001, 10)\n",
    "\n",
    "plt.show()"
   ]
  },
  {
   "cell_type": "code",
   "execution_count": 325,
   "metadata": {},
   "outputs": [
    {
     "data": {
      "image/png": "[encoded data removed]",
      "text/plain": [
       "<Figure size 432x288 with 1 Axes>"
      ]
     },
     "metadata": {
      "needs_background": "light"
     },
     "output_type": "display_data"
    }
   ],
   "source": [
    "V = np.array([[1,1],[-2,2],[4,-3]])\n",
    "origin = [test.get_origin().wbf_mult], [test.get_origin().inp_mult] # origin point (x,y)\n",
    "\n",
    "plt.quiver(*origin, V[:,0], V[:,1], color=['r','b','g'], label=['wutt','is','this life'], scale=10)\n",
    "plt.scatter([0, 1], [0, 1])\n",
    "plt.xlim((-5,5));\n",
    "plt.ylim((-5,5))\n",
    "plt.grid()\n",
    "plt.legend()\n",
    "plt.show()"
   ]
  },
  {
   "cell_type": "code",
   "execution_count": 279,
   "metadata": {},
   "outputs": [
    {
     "data": {
      "text/plain": [
       "(array([ 1, -2,  4]), array([ 1,  2, -7]))"
      ]
     },
     "execution_count": 279,
     "metadata": {},
     "output_type": "execute_result"
    }
   ],
   "source": [
    "V[:,0], V[:,1]"
   ]
  },
  {
   "cell_type": "code",
   "execution_count": 161,
   "metadata": {},
   "outputs": [
    {
     "name": "stdout",
     "output_type": "stream",
     "text": [
      "Isotherm\n",
      "-40.0     0.561619\n",
      "-30.0     2.948410\n",
      "-20.0   -10.290749\n",
      "-10.0    -8.000308\n",
      " 0.0    -15.349439\n",
      "Name: Arctic Error, dtype: float64 [[-40.]\n",
      " [-30.]\n",
      " [-20.]\n",
      " [-10.]\n",
      " [  0.]]\n"
     ]
    },
    {
     "data": {
      "text/plain": [
       "<matplotlib.collections.PathCollection at 0x7fa010039eb8>"
      ]
     },
     "execution_count": 161,
     "metadata": {},
     "output_type": "execute_result"
    },
    {
     "data": {
      "image/png": "[encoded data removed]",
      "text/plain": [
       "<Figure size 432x288 with 1 Axes>"
      ]
     },
     "metadata": {
      "needs_background": "light"
     },
     "output_type": "display_data"
    }
   ],
   "source": [
    "print(test2.error, test2.isos)\n",
    "plt.scatter(test2.isos, test2.error)"
   ]
  },
  {
   "cell_type": "code",
   "execution_count": 81,
   "metadata": {},
   "outputs": [
    {
     "data": {
      "text/plain": [
       "'hello'"
      ]
     },
     "execution_count": 81,
     "metadata": {},
     "output_type": "execute_result"
    }
   ],
   "source": [
    "d.value"
   ]
  },
  {
   "cell_type": "code",
   "execution_count": 34,
   "metadata": {},
   "outputs": [],
   "source": [
    "def parse_normally(casename):\n",
    "    '''\n",
    "    Parse a casename to recover run parameters and create an object associated with the output\n",
    "    '''\n",
    "    date, time, paramfile, _, wbf_mult, _, inp_mult = case.split('_')\n",
    "\n",
    "    print('Case from %s at %s with %s WBF fraction and %s INP fraction' % (date, time, wbf_mult, inp_mult))\n",
    "    print(casename)\n",
    "    "
   ]
  },
  {
   "cell_type": "code",
   "execution_count": 23,
   "metadata": {},
   "outputs": [],
   "source": [
    "    # Verify that the case directory exists and is where we expect it\n",
    "    check = os.path.exists('%s%s' % (case_dir, casename))\n",
    "\n",
    "    if check:\n",
    "        return case_obj\n",
    "    else:\n",
    "        print('Could not find directory for %s in %s' % (casename, case_dir))\n",
    "        sys.exit()\n",
    "    return slf_run"
   ]
  },
  {
   "cell_type": "code",
   "execution_count": 35,
   "metadata": {},
   "outputs": [
    {
     "name": "stdout",
     "output_type": "stream",
     "text": [
      "Case from 20191122 at 161009 with 1 WBF fraction and 1 INP fraction\n",
      "20191122_161009_sampleparamset_wbf_1_inp_1\n",
      "Case from 20191127 at 162007 with 0.01 WBF fraction and 1 INP fraction\n",
      "20191127_162007_sampleparamset_wbf_0.01_inp_1\n"
     ]
    }
   ],
   "source": [
    "for case in cases:\n",
    "    parse_normally(case)"
   ]
  }
 ],
 "metadata": {
  "kernelspec": {
   "display_name": "Python 3",
   "language": "python",
   "name": "python3"
  },
  "language_info": {
   "codemirror_mode": {
    "name": "ipython",
    "version": 3
   },
   "file_extension": ".py",
   "mimetype": "text/x-python",
   "name": "python",
   "nbconvert_exporter": "python",
   "pygments_lexer": "ipython3",
   "version": "3.7.3"
  }
 },
 "nbformat": 4,
 "nbformat_minor": 4
}
