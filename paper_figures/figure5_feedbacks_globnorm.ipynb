{
 "cells": [
  {
   "cell_type": "markdown",
   "metadata": {},
   "source": [
    "# Figure 5: Arctic Surface Feedbacks"
   ]
  },
  {
   "cell_type": "markdown",
   "metadata": {},
   "source": [
    "### Add paths to run locally or off NIRD"
   ]
  },
  {
   "cell_type": "code",
   "execution_count": 1,
   "metadata": {},
   "outputs": [
    {
     "name": "stdout",
     "output_type": "stream",
     "text": [
      "The autoreload extension is already loaded. To reload it, use:\n",
      "  %reload_ext autoreload\n"
     ]
    }
   ],
   "source": [
    "import sys\n",
    "# Add common resources folder to path\n",
    "sys.path.append(\"/mnt/mcc-ns9600k/jonahks/git_repos/netcdf_analysis/Common/\")\n",
    "sys.path.append(\"/mnt/mcc-ns9600k/jonahks/git_repos/netcdf_analysis/\")\n",
    "sys.path.append(\"/home/jonahks/git_repos/netcdf_analysis/\")\n",
    "sys.path.append(\"/home/jonahks/git_repos/netcdf_analysis/Common/\")\n",
    "\n",
    "from imports import (\n",
    "    pd, np, xr, mpl, plt, sns, os, \n",
    "    datetime, sys, crt, gridspec,\n",
    "    ccrs, metrics, Iterable\n",
    "    )\n",
    "\n",
    "from functions import (\n",
    "    masked_average, add_weights, sp_map,\n",
    "    season_mean, get_dpm, leap_year, share_ylims,\n",
    "    to_png, mute_ax\n",
    "    )\n",
    "\n",
    "from classes import SatComp_Metric, CT_SLF_Metric\n",
    "from collections import deque\n",
    "%matplotlib inline"
   ]
  },
  {
   "cell_type": "markdown",
   "metadata": {},
   "source": [
    "## Load feedback specific functions"
   ]
  },
  {
   "cell_type": "code",
   "execution_count": 2,
   "metadata": {},
   "outputs": [],
   "source": [
    "from feedback_functions import *"
   ]
  },
  {
   "cell_type": "markdown",
   "metadata": {},
   "source": [
    "### Check running location and adjust working directory appropriately."
   ]
  },
  {
   "cell_type": "code",
   "execution_count": 3,
   "metadata": {},
   "outputs": [
    {
     "name": "stdout",
     "output_type": "stream",
     "text": [
      "Running through MC2 Jupyter Hub\n",
      "Can access all directory paths: True\n"
     ]
    }
   ],
   "source": [
    "host = os.uname()[1]\n",
    "if 'jupyter' in host.split('-'): # Check if running on NIRD through the Jupyter Hub\n",
    "    print('Running through MC2 Jupyter Hub')\n",
    "    model_dir = '/mnt/mcc-ns9600k/jonahks/'\n",
    "    os.chdir(model_dir)\n",
    "\n",
    "else:  # Assume that we're running on a local machine and mounting NIRD\n",
    "    print('Running on %s, attempting to mount ns9600k/jonahks/ from NIRD' % str(host))\n",
    "    os.system('fusermount -zu ~/drivemount/')  # unmount first\n",
    "    os.system('sshfs jonahks@login.nird.sigma2.no:\"p/jonahks/\" ~/drivemount/')    # Calling mountnird from .bashrc doesn't work\n",
    "    os.chdir('/home/jonahks/drivemount/')\n",
    "    save_dir = '~/DATAOUT/'\n",
    "    save_to = os.path.expanduser(save_dir)\n",
    "\n",
    "output_dir = 'figures/'\n",
    "case_dir = 'satcomp/'   # inconsistent label compared to jupy_test\n",
    "conv_dir ='convectivephase/'\n",
    "\n",
    "# Check that each important directory can be accessed:    \n",
    "access_paths = os.path.exists(output_dir) and os.path.exists(case_dir) and os.path.exists(conv_dir)\n",
    "print('Can access all directory paths:', access_paths)"
   ]
  },
  {
   "cell_type": "code",
   "execution_count": 4,
   "metadata": {},
   "outputs": [],
   "source": [
    "fb_dir ='feedbacks_soden/mod_by_me/output_jonahks/'"
   ]
  },
  {
   "cell_type": "markdown",
   "metadata": {},
   "source": [
    "### Arctic-normalized Feedbacks"
   ]
  },
  {
   "cell_type": "markdown",
   "metadata": {},
   "source": [
    "### Calculate the Arctic-average temperature increase."
   ]
  },
  {
   "cell_type": "code",
   "execution_count": 5,
   "metadata": {},
   "outputs": [
    {
     "data": {
      "text/plain": [
       "['CAM61_1_1_check2',\n",
       " 'CAM61_satcomp_SFC_wbf_1_inp_1',\n",
       " 'CAM61_satcomp_wbf_1_inp_1',\n",
       " 'CAM61_1_1_GFDL_kernels',\n",
       " 'CAM6_satcomp_FLTKERN_wbf_1_inp_1',\n",
       " 'CAM6_satcomp_SFCnonorm_wbf_1.25_inp_10',\n",
       " 'CAM61_test_GFDL_FLT',\n",
       " 'CAM61_satcomp_SFCnonorm_wbf_1_inp_1',\n",
       " 'CAM61_satcomp_SFCnonorm_wbf_0.2_inp_0.1',\n",
       " 'CAM61_satcomp_SFCnonorm_wbf_0.5_inp_0.05',\n",
       " 'CAM61_satcomp_SFC_wbf_0.2_inp_0.1',\n",
       " 'CAM61_satcomp_wbf_0.2_inp_0.1',\n",
       " 'CAM61_satcomp_SFC_wbf_0.5_inp_0.05',\n",
       " 'CAM6_satcomp_SFCKERN_wbf_1_inp_1',\n",
       " 'CESM2_satcomp_SFCnonorm_wbf_1_inp_100',\n",
       " 'CESM2_satcomp_SFCnonorm_wbf_1_inp_1',\n",
       " 'CAM61_satcomp_wbf_0.5_inp_0.5',\n",
       " 'CAM6_satcomp_SFCnonorm_wbf_1_inp_1',\n",
       " 'CAM6_Fvars_check',\n",
       " 'TOA_GFDL_KERNEL',\n",
       " 'CAM6_satcomp_wbf_1.25_inp_10',\n",
       " 'CAM6_satcomp_SFC_wbf_1.25_inp_10',\n",
       " 'CAM6_satcomp_wbf_1_inp_1']"
      ]
     },
     "execution_count": 5,
     "metadata": {},
     "output_type": "execute_result"
    }
   ],
   "source": [
    "os.listdir('feedbacks_soden/mod_by_me/output_jonahks/')"
   ]
  },
  {
   "cell_type": "markdown",
   "metadata": {},
   "source": [
    "### Here I use globally averaged surface temperature changes."
   ]
  },
  {
   "cell_type": "code",
   "execution_count": 11,
   "metadata": {},
   "outputs": [
    {
     "name": "stdout",
     "output_type": "stream",
     "text": [
      "{'CAM61_satcomp_SFCnonorm_wbf_1_inp_1': <xarray.DataArray ()>\n",
      "array(4.36399232), 'CAM61_satcomp_SFCnonorm_wbf_0.2_inp_0.1': <xarray.DataArray ()>\n",
      "array(4.37058866), 'CAM61_satcomp_SFCnonorm_wbf_0.5_inp_0.05': <xarray.DataArray ()>\n",
      "array(4.36582646), 'CAM6_satcomp_SFCnonorm_wbf_1_inp_1': <xarray.DataArray ()>\n",
      "array(4.3614393), 'CAM6_satcomp_SFCnonorm_wbf_1.25_inp_10': <xarray.DataArray ()>\n",
      "array(4.36280282), 'CESM2_satcomp_SFCnonorm_wbf_1_inp_1': <xarray.DataArray ()>\n",
      "array(4.40552813), 'CESM2_satcomp_SFCnonorm_wbf_1_inp_100': <xarray.DataArray ()>\n",
      "array(4.41348297)}\n"
     ]
    }
   ],
   "source": [
    "prefix = 'feedbacks_soden/mod_by_me/timeseriesinput'\n",
    "\n",
    "path_dict = {}\n",
    "\n",
    "path_dict['CAM61_satcomp_SFCnonorm_wbf_1_inp_1'] = '%s/CAM61_satcomp_wbf_1_inp_1/' % prefix\n",
    "path_dict['CAM61_satcomp_SFCnonorm_wbf_0.2_inp_0.1'] = '%s/CAM61_satcomp_wbf_0.2_inp_0.1/' % prefix\n",
    "path_dict['CAM61_satcomp_SFCnonorm_wbf_0.5_inp_0.05'] = '%s/CAM61_satcomp_wbf_0.5_inp_0.5/' % prefix\n",
    "path_dict['CAM6_satcomp_SFCnonorm_wbf_1_inp_1'] = '%s/CAM6_satcomp_wbf_1_inp_1/' % prefix\n",
    "path_dict['CAM6_satcomp_SFCnonorm_wbf_1.25_inp_10'] = '%s/CAM6_satcomp_wbf_1.25_inp_10/' % prefix\n",
    "path_dict['CESM2_satcomp_SFCnonorm_wbf_1_inp_1'] = '%s/CESM2_satcomp_wbf_1_inp_1/' % prefix\n",
    "path_dict['CESM2_satcomp_SFCnonorm_wbf_1_inp_100'] = '%s/CESM2_satcomp_wbf_1_inp_100/' % prefix\n",
    "\n",
    "ts_dict = {}\n",
    "for i in path_dict:\n",
    "    _t = path_dict[i]\n",
    "    _files = os.listdir(_t)\n",
    "    for ii in _files: # this won't handle errors well...\n",
    "        if \"4K\" in ii:\n",
    "            _path = '%s%s' % (_t,ii)\n",
    "            ts_file = [i for i in os.listdir(_path) if \"_TS_\" in i] # search for TS file\n",
    "            ts_f = \"%s/%s\" % (_path,ts_file[0])\n",
    "#             print(\"4K: \", ts_f)\n",
    "        else:\n",
    "            _path = '%s%s' % (_t,ii)\n",
    "            ts_file = [i for i in os.listdir(_path) if \"_TS_\" in i] # search for TS file\n",
    "            ts_i = \"%s/%s\" % (_path,ts_file[0])\n",
    "#             print(\"Norm: \",ts_i)\n",
    "            \n",
    "    ts_dict[i] = calc_arc_dT(ts_i,ts_f,lat_range=[-90,90])\n",
    "    \n",
    "print(ts_dict)"
   ]
  },
  {
   "cell_type": "code",
   "execution_count": 37,
   "metadata": {},
   "outputs": [
    {
     "name": "stdout",
     "output_type": "stream",
     "text": [
      "{'CAM61_satcomp_SFCnonorm_wbf_1_inp_1': <xarray.DataArray ()>\n",
      "array(4.89348545), 'CAM61_satcomp_SFCnonorm_wbf_0.2_inp_0.1': <xarray.DataArray ()>\n",
      "array(5.06160638), 'CAM61_satcomp_SFCnonorm_wbf_0.5_inp_0.05': <xarray.DataArray ()>\n",
      "array(4.97446844), 'CAM6_satcomp_SFCnonorm_wbf_1_inp_1': <xarray.DataArray ()>\n",
      "array(4.86478516), 'CAM6_satcomp_SFCnonorm_wbf_1.25_inp_10': <xarray.DataArray ()>\n",
      "array(4.8824035), 'CESM2_satcomp_SFCnonorm_wbf_1_inp_1': <xarray.DataArray ()>\n",
      "array(5.11944737), 'CESM2_satcomp_SFCnonorm_wbf_1_inp_100': <xarray.DataArray ()>\n",
      "array(5.29178813)}\n"
     ]
    }
   ],
   "source": [
    "prefix = 'feedbacks_soden/mod_by_me/timeseriesinput'\n",
    "\n",
    "path_dict = {}\n",
    "\n",
    "path_dict['CAM61_satcomp_SFCnonorm_wbf_1_inp_1'] = '%s/CAM61_satcomp_wbf_1_inp_1/' % prefix\n",
    "path_dict['CAM61_satcomp_SFCnonorm_wbf_0.2_inp_0.1'] = '%s/CAM61_satcomp_wbf_0.2_inp_0.1/' % prefix\n",
    "path_dict['CAM61_satcomp_SFCnonorm_wbf_0.5_inp_0.05'] = '%s/CAM61_satcomp_wbf_0.5_inp_0.5/' % prefix\n",
    "path_dict['CAM6_satcomp_SFCnonorm_wbf_1_inp_1'] = '%s/CAM6_satcomp_wbf_1_inp_1/' % prefix\n",
    "path_dict['CAM6_satcomp_SFCnonorm_wbf_1.25_inp_10'] = '%s/CAM6_satcomp_wbf_1.25_inp_10/' % prefix\n",
    "path_dict['CESM2_satcomp_SFCnonorm_wbf_1_inp_1'] = '%s/CESM2_satcomp_wbf_1_inp_1/' % prefix\n",
    "path_dict['CESM2_satcomp_SFCnonorm_wbf_1_inp_100'] = '%s/CESM2_satcomp_wbf_1_inp_100/' % prefix\n",
    "\n",
    "arc_ts_dict = {}\n",
    "for i in path_dict:\n",
    "    _t = path_dict[i]\n",
    "    _files = os.listdir(_t)\n",
    "    for ii in _files: # this won't handle errors well...\n",
    "        if \"4K\" in ii:\n",
    "            _path = '%s%s' % (_t,ii)\n",
    "            ts_file = [i for i in os.listdir(_path) if \"_TS_\" in i] # search for TS file\n",
    "            ts_f = \"%s/%s\" % (_path,ts_file[0])\n",
    "#             print(\"4K: \", ts_f)\n",
    "        else:\n",
    "            _path = '%s%s' % (_t,ii)\n",
    "            ts_file = [i for i in os.listdir(_path) if \"_TS_\" in i] # search for TS file\n",
    "            ts_i = \"%s/%s\" % (_path,ts_file[0])\n",
    "#             print(\"Norm: \",ts_i)\n",
    "            \n",
    "    arc_ts_dict[i] = calc_arc_dT(ts_i,ts_f,lat_range=[66,90])\n",
    "    \n",
    "print(arc_ts_dict)"
   ]
  },
  {
   "cell_type": "code",
   "execution_count": 12,
   "metadata": {},
   "outputs": [
    {
     "name": "stdout",
     "output_type": "stream",
     "text": [
      "CAM6_satcomp_SFCnonorm_wbf_1.25_inp_10\n",
      "CAM61_satcomp_SFCnonorm_wbf_1_inp_1\n",
      "CAM61_satcomp_SFCnonorm_wbf_0.2_inp_0.1\n",
      "CAM61_satcomp_SFCnonorm_wbf_0.5_inp_0.05\n",
      "CESM2_satcomp_SFCnonorm_wbf_1_inp_100\n",
      "CESM2_satcomp_SFCnonorm_wbf_1_inp_1\n",
      "CAM6_satcomp_SFCnonorm_wbf_1_inp_1\n"
     ]
    }
   ],
   "source": [
    "cases2 = os.listdir(fb_dir)\n",
    "case_dict2 = {} # Cases are keys, feedback dictionaries are values\n",
    "\n",
    "\n",
    "for _case in cases2:\n",
    "    if \"SFCnonorm\" in _case:\n",
    "        print(_case)\n",
    "        case_dict2[_case] = org_feedbacks_case(_case)"
   ]
  },
  {
   "cell_type": "code",
   "execution_count": 13,
   "metadata": {},
   "outputs": [],
   "source": [
    "# Testing something to order cases and label them.\n",
    "label_dict = {}\n",
    "label_dict['CAM6_satcomp_SFCnonorm_wbf_1_inp_1'] = \"CAM6-Oslo\"\n",
    "label_dict['CESM2_satcomp_SFCnonorm_wbf_1_inp_1'] = \"CAM6\"\n",
    "label_dict['CAM61_satcomp_SFCnonorm_wbf_1_inp_1'] = \"CAM6-OsloIce\"\n",
    "label_dict['CAM6_satcomp_SFCnonorm_wbf_1.25_inp_10'] = 'CAM6-Oslo Fit 1'\n",
    "label_dict['CAM61_satcomp_SFCnonorm_wbf_0.5_inp_0.05'] = 'CAM6-OsloIce Fit 2'\n",
    "label_dict['CAM61_satcomp_SFCnonorm_wbf_0.2_inp_0.1'] = 'CAM6-OsloIce Fit 3'\n",
    "label_dict['CESM2_satcomp_SFCnonorm_wbf_1_inp_100'] = \"CAM6 Fit 4\""
   ]
  },
  {
   "cell_type": "code",
   "execution_count": 14,
   "metadata": {},
   "outputs": [],
   "source": [
    "desired_order_list = ['CAM6_satcomp_SFCnonorm_wbf_1_inp_1',\n",
    "                      'CESM2_satcomp_SFCnonorm_wbf_1_inp_1',\n",
    "                      'CAM61_satcomp_SFCnonorm_wbf_1_inp_1',\n",
    "                      'CAM6_satcomp_SFCnonorm_wbf_1.25_inp_10',\n",
    "                      'CAM61_satcomp_SFCnonorm_wbf_0.5_inp_0.05',\n",
    "                      'CAM61_satcomp_SFCnonorm_wbf_0.2_inp_0.1',\n",
    "                      'CESM2_satcomp_SFCnonorm_wbf_1_inp_100'\n",
    "                      ]\n",
    "\n",
    "case_dict2b = {k: case_dict2[k] for k in desired_order_list}"
   ]
  },
  {
   "cell_type": "code",
   "execution_count": 15,
   "metadata": {},
   "outputs": [
    {
     "name": "stdout",
     "output_type": "stream",
     "text": [
      "CAM6_satcomp_SFCnonorm_wbf_1_inp_1\n",
      "CESM2_satcomp_SFCnonorm_wbf_1_inp_1\n",
      "CAM61_satcomp_SFCnonorm_wbf_1_inp_1\n",
      "CAM6_satcomp_SFCnonorm_wbf_1.25_inp_10\n",
      "CAM61_satcomp_SFCnonorm_wbf_0.5_inp_0.05\n",
      "CAM61_satcomp_SFCnonorm_wbf_0.2_inp_0.1\n",
      "CESM2_satcomp_SFCnonorm_wbf_1_inp_100\n"
     ]
    }
   ],
   "source": [
    "out2 = weight_feedbacks(case_dict2b,weights=ts_dict,labels=label_dict)"
   ]
  },
  {
   "cell_type": "code",
   "execution_count": 16,
   "metadata": {},
   "outputs": [
    {
     "data": {
      "text/plain": [
       "(<Figure size 576x432 with 1 Axes>,\n",
       " <matplotlib.axes._subplots.AxesSubplot at 0x7f31a48a44e0>,\n",
       " {'CAM6_satcomp_SFCnonorm_wbf_1_inp_1': <xarray.DataArray ()>\n",
       "  array(0.48251794),\n",
       "  'CESM2_satcomp_SFCnonorm_wbf_1_inp_1': <xarray.DataArray ()>\n",
       "  array(0.45938746),\n",
       "  'CAM61_satcomp_SFCnonorm_wbf_1_inp_1': <xarray.DataArray ()>\n",
       "  array(0.71543104),\n",
       "  'CAM6_satcomp_SFCnonorm_wbf_1.25_inp_10': <xarray.DataArray ()>\n",
       "  array(0.5275661),\n",
       "  'CAM61_satcomp_SFCnonorm_wbf_0.5_inp_0.05': <xarray.DataArray ()>\n",
       "  array(0.60699318),\n",
       "  'CAM61_satcomp_SFCnonorm_wbf_0.2_inp_0.1': <xarray.DataArray ()>\n",
       "  array(0.6216223),\n",
       "  'CESM2_satcomp_SFCnonorm_wbf_1_inp_100': <xarray.DataArray ()>\n",
       "  array(0.91104956)})"
      ]
     },
     "execution_count": 16,
     "metadata": {},
     "output_type": "execute_result"
    },
    {
     "data": {
      "image/png": "[encoded data removed]",
      "text/plain": [
       "<Figure size 576x432 with 1 Axes>"
      ]
     },
     "metadata": {
      "needs_background": "light"
     },
     "output_type": "display_data"
    }
   ],
   "source": [
    "barplot_single(case_dict2b,out2,'cloudlw_fb',labels=label_dict)"
   ]
  },
  {
   "cell_type": "code",
   "execution_count": 18,
   "metadata": {},
   "outputs": [
    {
     "data": {
      "text/plain": [
       "(<Figure size 576x432 with 1 Axes>,\n",
       " <matplotlib.axes._subplots.AxesSubplot at 0x7f31a46e19b0>,\n",
       " {'CAM6_satcomp_SFCnonorm_wbf_1_inp_1': <xarray.DataArray ()>\n",
       "  array(-0.63931982),\n",
       "  'CESM2_satcomp_SFCnonorm_wbf_1_inp_1': <xarray.DataArray ()>\n",
       "  array(-0.64098942),\n",
       "  'CAM61_satcomp_SFCnonorm_wbf_1_inp_1': <xarray.DataArray ()>\n",
       "  array(-0.7794287),\n",
       "  'CAM6_satcomp_SFCnonorm_wbf_1.25_inp_10': <xarray.DataArray ()>\n",
       "  array(-0.62748799),\n",
       "  'CAM61_satcomp_SFCnonorm_wbf_0.5_inp_0.05': <xarray.DataArray ()>\n",
       "  array(-0.66768171),\n",
       "  'CAM61_satcomp_SFCnonorm_wbf_0.2_inp_0.1': <xarray.DataArray ()>\n",
       "  array(-0.62301325),\n",
       "  'CESM2_satcomp_SFCnonorm_wbf_1_inp_100': <xarray.DataArray ()>\n",
       "  array(-0.68871449)})"
      ]
     },
     "execution_count": 18,
     "metadata": {},
     "output_type": "execute_result"
    },
    {
     "data": {
      "image/png": "[encoded data removed]",
      "text/plain": [
       "<Figure size 576x432 with 1 Axes>"
      ]
     },
     "metadata": {
      "needs_background": "light"
     },
     "output_type": "display_data"
    }
   ],
   "source": [
    "barplot_single(case_dict2b,out2,'cloudsw_fb',labels=label_dict)"
   ]
  },
  {
   "cell_type": "code",
   "execution_count": 19,
   "metadata": {},
   "outputs": [
    {
     "data": {
      "image/png": "[encoded data removed]",
      "text/plain": [
       "<Figure size 576x432 with 1 Axes>"
      ]
     },
     "metadata": {
      "needs_background": "light"
     },
     "output_type": "display_data"
    }
   ],
   "source": [
    "dT_plt,dT_axes,_ = barplot_single(case_dict2b,out2,'cloudsw_fb',labels=label_dict,vals=ts_dict)"
   ]
  },
  {
   "cell_type": "code",
   "execution_count": 20,
   "metadata": {},
   "outputs": [
    {
     "data": {
      "text/plain": [
       "Text(28.8313,0.5,'Surface Temperature Change (K)')"
      ]
     },
     "execution_count": 20,
     "metadata": {},
     "output_type": "execute_result"
    }
   ],
   "source": [
    "dT_axes.set_ylabel('Surface Temperature Change (K)', fontsize=14)"
   ]
  },
  {
   "cell_type": "code",
   "execution_count": 21,
   "metadata": {},
   "outputs": [
    {
     "data": {
      "image/png": "[encoded data removed]",
      "text/plain": [
       "<Figure size 576x432 with 1 Axes>"
      ]
     },
     "execution_count": 21,
     "metadata": {},
     "output_type": "execute_result"
    }
   ],
   "source": [
    "dT_plt"
   ]
  },
  {
   "cell_type": "markdown",
   "metadata": {},
   "source": [
    "## Calculate low cloud cover change"
   ]
  },
  {
   "cell_type": "code",
   "execution_count": 22,
   "metadata": {},
   "outputs": [],
   "source": [
    "init_dir = 'satcomp/'\n",
    "pert_dir = 'satcomp_+4K/'"
   ]
  },
  {
   "cell_type": "code",
   "execution_count": 23,
   "metadata": {},
   "outputs": [
    {
     "data": {
      "text/plain": [
       "['20201231_4Ksst_cesm2satcomp_wbf_1_inp_1',\n",
       " '20200817_4Ksst_cam6satcomp_wbf_1_inp_1',\n",
       " 'sst_HadOIBl+4K_bc_1.9x2.5_2000climo_c180511.nc',\n",
       " '20201231_4Ksst_CESM2_satcomp_wbf_1_inp_100',\n",
       " '20200817_4Ksst_cam61satcomp_wbf_0.2_inp_0.1',\n",
       " '20200817_4Ksst_cam6satcomp_wbf_1.25_inp_10',\n",
       " '20200817_4Ksst_cam61satcomp_wbf_1_inp_1',\n",
       " '20200817_4Ksst_cam61satcomp_wbf_0.5_inp_0.05',\n",
       " 'sst_HadOIBl_bc_1.9x2.5_2000climo_c180511.nc',\n",
       " '20200830_152800_FLDSC4K_wbf_1_inp_1']"
      ]
     },
     "execution_count": 23,
     "metadata": {},
     "output_type": "execute_result"
    }
   ],
   "source": [
    "os.listdir(pert_dir)"
   ]
  },
  {
   "cell_type": "code",
   "execution_count": 24,
   "metadata": {},
   "outputs": [],
   "source": [
    "# Testing something to order cases and label them.\n",
    "model_pairs = {}\n",
    "model_pairs['CAM6_satcomp_SFCnonorm_wbf_1_inp_1'] = ['20200504_145018_fitting_runs_cam6satcomp_wbf_1_inp_1','20200817_4Ksst_cam6satcomp_wbf_1_inp_1']\n",
    "model_pairs['CESM2_satcomp_SFCnonorm_wbf_1_inp_1'] = ['CESM2_slfvars','20201231_4Ksst_cesm2satcomp_wbf_1_inp_1']\n",
    "model_pairs['CAM61_satcomp_SFCnonorm_wbf_1_inp_1'] = ['20200414_205148_singleparam_cam61satcomp_wbf_1_inp_1','20200817_4Ksst_cam61satcomp_wbf_1_inp_1']\n",
    "model_pairs['CAM6_satcomp_SFCnonorm_wbf_1.25_inp_10'] = ['20200512_013308_fitting_runs_cam6satcomp16_wbf_1.25_inp_10','20200817_4Ksst_cam6satcomp_wbf_1.25_inp_10']\n",
    "model_pairs['CAM61_satcomp_SFCnonorm_wbf_0.5_inp_0.05'] = ['20200629_morn_cam61satcomp_wbf_0.5_inp_0.05','20200817_4Ksst_cam61satcomp_wbf_0.5_inp_0.05']\n",
    "model_pairs['CAM61_satcomp_SFCnonorm_wbf_0.2_inp_0.1'] = ['20200512_012745_fitting_runs_cam61satcomp_wbf_0.2_inp_0.1','20200817_4Ksst_cam61satcomp_wbf_0.2_inp_0.1']\n",
    "model_pairs['CESM2_satcomp_SFCnonorm_wbf_1_inp_100'] = ['20200713_CESM2_satcomp_wbf_1_inp_100','20201231_4Ksst_CESM2_satcomp_wbf_1_inp_100']"
   ]
  },
  {
   "cell_type": "code",
   "execution_count": 25,
   "metadata": {},
   "outputs": [
    {
     "name": "stdout",
     "output_type": "stream",
     "text": [
      "CAM6_satcomp_SFCnonorm_wbf_1_inp_1\n",
      "CESM2_satcomp_SFCnonorm_wbf_1_inp_1\n",
      "CAM61_satcomp_SFCnonorm_wbf_1_inp_1\n",
      "CAM6_satcomp_SFCnonorm_wbf_1.25_inp_10\n",
      "CAM61_satcomp_SFCnonorm_wbf_0.5_inp_0.05\n",
      "CAM61_satcomp_SFCnonorm_wbf_0.2_inp_0.1\n",
      "CESM2_satcomp_SFCnonorm_wbf_1_inp_100\n"
     ]
    }
   ],
   "source": [
    "low_cloud_init = {}\n",
    "low_cloud_pert = {}\n",
    "\n",
    "for i in model_pairs:\n",
    "    print(i)\n",
    "    _pair = model_pairs[i]\n",
    "    _init_path = '%s%s/%s.nc' % (init_dir,_pair[0],_pair[0])\n",
    "    _pert_path = '%s%s/%s.nc' % (pert_dir,_pair[1],_pair[1])\n",
    "    \n",
    "    _initall = xr.open_dataset(_init_path)\n",
    "    _temp_dat = _initall['CLDTOT_CAL'].sel(time=slice('2010-02-01','2013-01-01')).groupby('time.month').mean('time')\n",
    "    low_cloud_init[i] = _temp_dat\n",
    "    _initall.close()\n",
    "    \n",
    "    _pertall = xr.open_dataset(_pert_path)\n",
    "    _temp_dat = _pertall['CLDTOT_CAL'].sel(time=slice('2010-02-01','2013-01-01')).groupby('time.month').mean('time')\n",
    "    low_cloud_pert[i] = _temp_dat\n",
    "    _pertall.close()\n"
   ]
  },
  {
   "cell_type": "code",
   "execution_count": 26,
   "metadata": {},
   "outputs": [],
   "source": [
    "low_cloud_diff = {}\n",
    "\n",
    "for i in low_cloud_init:\n",
    "    diff = low_cloud_pert[i] - low_cloud_init[i]\n",
    "    \n",
    "    low_cloud_diff[i] = diff"
   ]
  },
  {
   "cell_type": "code",
   "execution_count": 27,
   "metadata": {},
   "outputs": [
    {
     "name": "stderr",
     "output_type": "stream",
     "text": [
      "/opt/conda/lib/python3.7/site-packages/xarray/core/computation.py:1188: FutureWarning: This DataArray contains multi-dimensional coordinates. In the future, these coordinates will be transposed as well unless you specify transpose_coords=False.\n",
      "  return result.transpose(*[d for d in all_dims if d in result.dims])\n"
     ]
    }
   ],
   "source": [
    "first_ds = next(iter(low_cloud_diff.values()))\n",
    "weight_ds = add_weights(first_ds)\n",
    "\n",
    "wgt_mon=[31,28,31,30,31,30,31,31,30,31,30,31]\n",
    "month_length = xr.DataArray(wgt_mon, coords=[first_ds['month']], name='month_length')\n",
    "\n",
    "all_weights = month_length @ weight_ds['cell_weight']"
   ]
  },
  {
   "cell_type": "code",
   "execution_count": 28,
   "metadata": {},
   "outputs": [],
   "source": [
    "dC_dict = {}\n",
    "for i in low_cloud_diff:\n",
    "    _ds = low_cloud_diff[i]\n",
    "    mask = _ds['lat'] < 66\n",
    "    _final_diff = masked_average(_ds,dim=['lat','lon','month'],weights=all_weights,mask=mask)\n",
    "#     print(_final_diff)\n",
    "    dC_dict[i] = _final_diff"
   ]
  },
  {
   "cell_type": "code",
   "execution_count": 29,
   "metadata": {},
   "outputs": [
    {
     "data": {
      "text/plain": [
       "Text(0,0.5,'Change in low cloud fraction (%)')"
      ]
     },
     "execution_count": 29,
     "metadata": {},
     "output_type": "execute_result"
    },
    {
     "data": {
      "image/png": "[encoded data removed]",
      "text/plain": [
       "<Figure size 576x432 with 1 Axes>"
      ]
     },
     "metadata": {
      "needs_background": "light"
     },
     "output_type": "display_data"
    }
   ],
   "source": [
    "dC_plt,dC_axes,_ = barplot_single(case_dict2b,out2,'cloudsw_fb',labels=label_dict,vals=dC_dict)\n",
    "dC_axes.set_ylabel('Change in low cloud fraction (%)')"
   ]
  },
  {
   "cell_type": "markdown",
   "metadata": {},
   "source": [
    "## Plot the stuff"
   ]
  },
  {
   "cell_type": "code",
   "execution_count": null,
   "metadata": {},
   "outputs": [
    {
     "name": "stderr",
     "output_type": "stream",
     "text": [
      "No handles with labels found to put in legend.\n",
      "No handles with labels found to put in legend.\n",
      "No handles with labels found to put in legend.\n",
      "No handles with labels found to put in legend.\n"
     ]
    }
   ],
   "source": [
    "fig,axs = plt.subplots(nrows=2,ncols=2)#,sharey='row')\n",
    "fig.set_figheight(10)\n",
    "fig.set_figwidth(20)\n",
    "fig.set_dpi(200)\n",
    "\n",
    "axs = axs.flat\n",
    "fig.subplots_adjust(wspace=0.16,hspace=0.07)\n",
    "\n",
    "LWfb_plt,LWfb_axes,vals1 = barplot_single(case_dict2b,out2,'cloudlw_fb',\n",
    "                                    labels=label_dict,ax=axs[0])\n",
    "\n",
    "SWfb_plt,SWfb_axes,vals2 = barplot_single(case_dict2b,out2,'cloudsw_fb',\n",
    "                                    labels=label_dict,ax=axs[0])\n",
    "\n",
    "net_vals = {}\n",
    "for i in vals1:\n",
    "    net_vals[i] = vals1[i]+vals2[i]\n",
    "\n",
    "out_test = axs[0].plot(np.arange(0,7),net_vals.values(),marker='D',color='black',linestyle=\"\")\n",
    "# autolabel4(out_test[0],axs[0])\n",
    "\n",
    "dT_plt,dT_axes,_ = barplot_single(case_dict2b,out2,'filler',\n",
    "                                  labels=label_dict,vals=arc_ts_dict,ax=axs[1])\n",
    "\n",
    "dC_plt,dC_axes,_ = barplot_single(case_dict2b,out2,'filler',\n",
    "                                  labels=label_dict,vals=dC_dict,ax=axs[2])\n",
    "\n",
    "# Do correlation\n",
    "y = np.array(out2['cloudlw_fb'])\n",
    "x = np.array(apr_totcloud)\n",
    "model = LinearRegression()\n",
    "model.fit(x.reshape(-1,1), y.reshape(-1,1))\n",
    "x_new = np.linspace(min(x), max(x), 100)\n",
    "y_new = model.predict(x_new[:, np.newaxis])\n",
    "y_pred = model.predict(x.reshape(-1,1))\n",
    "categories = np.array([0, 1, 2, 3, 4, 5, 6, 7])\n",
    "colormap = np.array(sns.color_palette('colorblind'))\n",
    "\n",
    "# Plot correlation\n",
    "axs[3].scatter(x, y, c=colormap[categories])\n",
    "axs[3].plot(x_new, y_new,c='grey')#,linestyle='dashed')\n",
    "\n",
    "# Mute existing labels and draw zero lines\n",
    "for i,_ax in enumerate(axs):\n",
    "    mute_ax(_ax)\n",
    "    if i != 3:\n",
    "        _ax.set_xticklabels([])\n",
    "        _ax.set_ylim(1.1*np.array(_ax.get_ylim())) # Create space for labels\n",
    "\n",
    "axs[0].hlines(0,axs[1].get_xlim()[0],axs[1].get_xlim()[1])#, linestyle='dashed',color='gray')\n",
    "axs[0].set_xlim(axs[1].get_xlim()[0],axs[1].get_xlim()[1])\n",
    "_ax0max = max(np.absolute(axs[0].get_ylim()))\n",
    "axs[0].set_ylim(-1*_ax0max,_ax0max)\n",
    "axs[0].set_ylabel('Cloud Feedback (Wm$^{-2}$K$^{-1}$)',fontsize=14)\n",
    "\n",
    "axs[1].set_ylabel('Surface Temperature Change (K)',fontsize=14)\n",
    "axs[1].set_ylim((4,axs[1].get_ylim()[1]))\n",
    "\n",
    "axs[2].set_ylabel('Cloud Fraction Change (%)',fontsize=14)\n",
    "\n",
    "axs[3].set_ylabel('LW Cloud Feedback (Wm$^{-2}$K$^{-1}$)',fontsize=14)\n",
    "axs[3].set_xlabel('Initial State Cloud Amount - April (%)',fontsize=14)\n",
    "\n",
    "fig.text(0.65, 0.44, '$R^2 = %.2f$' % r2_score(y, y_pred), va='bottom', ha='center', rotation='horizontal', \n",
    "         rotation_mode='anchor', fontsize=18)\n",
    "\n",
    "fig.text(0.15, 0.83, 'a.', va='bottom', ha='center', rotation='horizontal', \n",
    "         rotation_mode='anchor', fontsize=24)\n",
    "fig.text(0.49, 0.83, 'b.', va='bottom', ha='center', rotation='horizontal', \n",
    "         rotation_mode='anchor', fontsize=24)\n",
    "fig.text(0.15, 0.44, 'c.', va='bottom', ha='center', rotation='horizontal', \n",
    "         rotation_mode='anchor', fontsize=24)\n",
    "fig.text(0.49, 0.44, 'd.', va='bottom', ha='center', rotation='horizontal', \n",
    "         rotation_mode='anchor', fontsize=24)\n",
    "\n",
    "labels = []; lines = [] #Plot invisible bar graph but have the legends specified\n",
    "for _key,_color in zip(case_dict2b,sns.color_palette('colorblind')):\n",
    "    labels.append(label_dict[_key])\n",
    "    _line = axs[0].bar(1,1,width=0,color=_color)\n",
    "    lines.append(_line)\n",
    "\n",
    "lgd = fig.legend(labels=labels,handles=lines,loc=(0.78, 0.40),fontsize=20)\n",
    "\n",
    "fig.subplots_adjust(right=0.75)"
   ]
  },
  {
   "cell_type": "code",
   "execution_count": 40,
   "metadata": {},
   "outputs": [],
   "source": [
    "to_png(fig,\"feedbacks_aprcorrelation_globnorm\")"
   ]
  },
  {
   "cell_type": "markdown",
   "metadata": {},
   "source": [
    "## Trying a simple linear regression against the LW feedback"
   ]
  },
  {
   "cell_type": "markdown",
   "metadata": {},
   "source": [
    "Get variables"
   ]
  },
  {
   "cell_type": "markdown",
   "metadata": {},
   "source": [
    "__LW Feedback Parameter__"
   ]
  },
  {
   "cell_type": "code",
   "execution_count": 30,
   "metadata": {},
   "outputs": [
    {
     "data": {
      "text/plain": [
       "[<xarray.DataArray ()>\n",
       " array(0.48251794), <xarray.DataArray ()>\n",
       " array(0.45938746), <xarray.DataArray ()>\n",
       " array(0.71543104), <xarray.DataArray ()>\n",
       " array(0.5275661), <xarray.DataArray ()>\n",
       " array(0.60699318), <xarray.DataArray ()>\n",
       " array(0.6216223), <xarray.DataArray ()>\n",
       " array(0.91104956)]"
      ]
     },
     "execution_count": 30,
     "metadata": {},
     "output_type": "execute_result"
    }
   ],
   "source": [
    "out2['cloudlw_fb']"
   ]
  },
  {
   "cell_type": "markdown",
   "metadata": {},
   "source": [
    "__Winter Cloud from the Models__"
   ]
  },
  {
   "cell_type": "code",
   "execution_count": 31,
   "metadata": {},
   "outputs": [],
   "source": [
    "# Testing something to order cases and label them.\n",
    "model_pairs = {}\n",
    "model_pairs['CAM6_satcomp_SFCnonorm_wbf_1_inp_1'] = ['20200504_145018_fitting_runs_cam6satcomp_wbf_1_inp_1','20200817_4Ksst_cam6satcomp_wbf_1_inp_1']\n",
    "model_pairs['CESM2_satcomp_SFCnonorm_wbf_1_inp_1'] = ['CESM2_slfvars','20201231_4Ksst_cesm2satcomp_wbf_1_inp_1']\n",
    "model_pairs['CAM61_satcomp_SFCnonorm_wbf_1_inp_1'] = ['20200414_205148_singleparam_cam61satcomp_wbf_1_inp_1','20200817_4Ksst_cam61satcomp_wbf_1_inp_1']\n",
    "model_pairs['CAM6_satcomp_SFCnonorm_wbf_1.25_inp_10'] = ['20200512_013308_fitting_runs_cam6satcomp16_wbf_1.25_inp_10','20200817_4Ksst_cam6satcomp_wbf_1.25_inp_10']\n",
    "model_pairs['CAM61_satcomp_SFCnonorm_wbf_0.5_inp_0.05'] = ['20200629_morn_cam61satcomp_wbf_0.5_inp_0.05','20200817_4Ksst_cam61satcomp_wbf_0.5_inp_0.05']\n",
    "model_pairs['CAM61_satcomp_SFCnonorm_wbf_0.2_inp_0.1'] = ['20200512_012745_fitting_runs_cam61satcomp_wbf_0.2_inp_0.1','20200817_4Ksst_cam61satcomp_wbf_0.2_inp_0.1']\n",
    "model_pairs['CESM2_satcomp_SFCnonorm_wbf_1_inp_100'] = ['20200713_CESM2_satcomp_wbf_1_inp_100','20201231_4Ksst_CESM2_satcomp_wbf_1_inp_100']"
   ]
  },
  {
   "cell_type": "code",
   "execution_count": 32,
   "metadata": {},
   "outputs": [
    {
     "name": "stdout",
     "output_type": "stream",
     "text": [
      "CAM6_satcomp_SFCnonorm_wbf_1_inp_1\n",
      "CESM2_satcomp_SFCnonorm_wbf_1_inp_1\n",
      "CAM61_satcomp_SFCnonorm_wbf_1_inp_1\n",
      "CAM6_satcomp_SFCnonorm_wbf_1.25_inp_10\n",
      "CAM61_satcomp_SFCnonorm_wbf_0.5_inp_0.05\n",
      "CAM61_satcomp_SFCnonorm_wbf_0.2_inp_0.1\n",
      "CESM2_satcomp_SFCnonorm_wbf_1_inp_100\n"
     ]
    }
   ],
   "source": [
    "winter_totcloud_init = {}\n",
    "winter_lowcloud_init = {}\n",
    "# winter_midcloud_init = {}\n",
    "# winter_highcloud_init = {}\n",
    "# winter_liqcloud_init = {}\n",
    "# winter_icecloud_init = {}\n",
    "\n",
    "for i in model_pairs:\n",
    "    print(i)\n",
    "    _pair = model_pairs[i]\n",
    "    _init_path = '%s%s/%s.nc' % (init_dir,_pair[0],_pair[0])\n",
    "    \n",
    "    _initall = xr.open_dataset(_init_path)\n",
    "    _temp_dat = _initall['CLDTOT_CAL'].sel(time=slice('2010-02-01','2013-01-01'))#.groupby('time.season').mean('time')\n",
    "    winter_totcloud_init[i] = _temp_dat\n",
    "    _temp_dat = _initall['CLDLOW_CAL'].sel(time=slice('2010-02-01','2013-01-01'))#.groupby('time.season').mean('time')\n",
    "    winter_lowcloud_init[i] = _temp_dat\n",
    "#     _temp_dat = _initall['CLDMED_CAL'].sel(time=slice('2010-02-01','2013-01-01'))#.groupby('time.season').mean('time')\n",
    "#     winter_midcloud_init[i] = _temp_dat\n",
    "#     _temp_dat = _initall['CLDHGH_CAL'].sel(time=slice('2010-02-01','2013-01-01'))#.groupby('time.season').mean('time')\n",
    "#     winter_highcloud_init[i] = _temp_dat\n",
    "#     _temp_dat = _initall['CLDTOT_CAL_LIQ'].sel(time=slice('2010-02-01','2013-01-01'))#.groupby('time.season').mean('time')\n",
    "#     winter_liqcloud_init[i] = _temp_dat\n",
    "#     _temp_dat = _initall['CLDTOT_CAL_ICE'].sel(time=slice('2010-02-01','2013-01-01'))#.groupby('time.season').mean('time')\n",
    "#     winter_icecloud_init[i] = _temp_dat\n",
    "    \n",
    "    _initall.close()"
   ]
  },
  {
   "cell_type": "code",
   "execution_count": 33,
   "metadata": {},
   "outputs": [
    {
     "name": "stderr",
     "output_type": "stream",
     "text": [
      "/opt/conda/lib/python3.7/site-packages/xarray/core/common.py:664: FutureWarning: This DataArray contains multi-dimensional coordinates. In the future, the dimension order of these coordinates will be restored as well unless you specify restore_coord_dims=False.\n",
      "  self, group, squeeze=squeeze, restore_coord_dims=restore_coord_dims\n",
      "/opt/conda/lib/python3.7/site-packages/xarray/core/common.py:664: FutureWarning: This DataArray contains multi-dimensional coordinates. In the future, the dimension order of these coordinates will be restored as well unless you specify restore_coord_dims=False.\n",
      "  self, group, squeeze=squeeze, restore_coord_dims=restore_coord_dims\n",
      "/opt/conda/lib/python3.7/site-packages/xarray/core/common.py:664: FutureWarning: This DataArray contains multi-dimensional coordinates. In the future, the dimension order of these coordinates will be restored as well unless you specify restore_coord_dims=False.\n",
      "  self, group, squeeze=squeeze, restore_coord_dims=restore_coord_dims\n",
      "/opt/conda/lib/python3.7/site-packages/xarray/core/common.py:664: FutureWarning: This DataArray contains multi-dimensional coordinates. In the future, the dimension order of these coordinates will be restored as well unless you specify restore_coord_dims=False.\n",
      "  self, group, squeeze=squeeze, restore_coord_dims=restore_coord_dims\n",
      "/opt/conda/lib/python3.7/site-packages/xarray/core/common.py:664: FutureWarning: This DataArray contains multi-dimensional coordinates. In the future, the dimension order of these coordinates will be restored as well unless you specify restore_coord_dims=False.\n",
      "  self, group, squeeze=squeeze, restore_coord_dims=restore_coord_dims\n",
      "/opt/conda/lib/python3.7/site-packages/xarray/core/common.py:664: FutureWarning: This DataArray contains multi-dimensional coordinates. In the future, the dimension order of these coordinates will be restored as well unless you specify restore_coord_dims=False.\n",
      "  self, group, squeeze=squeeze, restore_coord_dims=restore_coord_dims\n",
      "/opt/conda/lib/python3.7/site-packages/xarray/core/common.py:664: FutureWarning: This DataArray contains multi-dimensional coordinates. In the future, the dimension order of these coordinates will be restored as well unless you specify restore_coord_dims=False.\n",
      "  self, group, squeeze=squeeze, restore_coord_dims=restore_coord_dims\n"
     ]
    }
   ],
   "source": [
    "winter_totcloud_dict = {}\n",
    "for i in winter_totcloud_init:\n",
    "    _ds = add_weights(winter_totcloud_init[i])\n",
    "    _mean = _ds.groupby('time.season').mean('time').sel(season='DJF')\n",
    "    mask = _ds['lat'] < 66\n",
    "    _winter_avg = masked_average(_mean,dim=['lat','lon'],weights=_mean['cell_weight'],mask=mask)\n",
    "    winter_totcloud_dict[i] = _winter_avg\n",
    "    \n",
    "winter_totcloud = np.array(list(winter_totcloud_dict.values())).flatten()"
   ]
  },
  {
   "cell_type": "code",
   "execution_count": 34,
   "metadata": {},
   "outputs": [
    {
     "name": "stderr",
     "output_type": "stream",
     "text": [
      "/opt/conda/lib/python3.7/site-packages/xarray/core/common.py:664: FutureWarning: This DataArray contains multi-dimensional coordinates. In the future, the dimension order of these coordinates will be restored as well unless you specify restore_coord_dims=False.\n",
      "  self, group, squeeze=squeeze, restore_coord_dims=restore_coord_dims\n",
      "/opt/conda/lib/python3.7/site-packages/xarray/core/common.py:664: FutureWarning: This DataArray contains multi-dimensional coordinates. In the future, the dimension order of these coordinates will be restored as well unless you specify restore_coord_dims=False.\n",
      "  self, group, squeeze=squeeze, restore_coord_dims=restore_coord_dims\n",
      "/opt/conda/lib/python3.7/site-packages/xarray/core/common.py:664: FutureWarning: This DataArray contains multi-dimensional coordinates. In the future, the dimension order of these coordinates will be restored as well unless you specify restore_coord_dims=False.\n",
      "  self, group, squeeze=squeeze, restore_coord_dims=restore_coord_dims\n",
      "/opt/conda/lib/python3.7/site-packages/xarray/core/common.py:664: FutureWarning: This DataArray contains multi-dimensional coordinates. In the future, the dimension order of these coordinates will be restored as well unless you specify restore_coord_dims=False.\n",
      "  self, group, squeeze=squeeze, restore_coord_dims=restore_coord_dims\n",
      "/opt/conda/lib/python3.7/site-packages/xarray/core/common.py:664: FutureWarning: This DataArray contains multi-dimensional coordinates. In the future, the dimension order of these coordinates will be restored as well unless you specify restore_coord_dims=False.\n",
      "  self, group, squeeze=squeeze, restore_coord_dims=restore_coord_dims\n",
      "/opt/conda/lib/python3.7/site-packages/xarray/core/common.py:664: FutureWarning: This DataArray contains multi-dimensional coordinates. In the future, the dimension order of these coordinates will be restored as well unless you specify restore_coord_dims=False.\n",
      "  self, group, squeeze=squeeze, restore_coord_dims=restore_coord_dims\n",
      "/opt/conda/lib/python3.7/site-packages/xarray/core/common.py:664: FutureWarning: This DataArray contains multi-dimensional coordinates. In the future, the dimension order of these coordinates will be restored as well unless you specify restore_coord_dims=False.\n",
      "  self, group, squeeze=squeeze, restore_coord_dims=restore_coord_dims\n"
     ]
    }
   ],
   "source": [
    "apr_totcloud_dict = {}\n",
    "for i in winter_totcloud_init:\n",
    "    _ds = add_weights(winter_totcloud_init[i])\n",
    "    _mean = _ds.groupby('time.month').mean('time').sel(month=4)\n",
    "    mask = _ds['lat'] < 66\n",
    "    _winter_avg = masked_average(_mean,dim=['lat','lon'],weights=_mean['cell_weight'],mask=mask)\n",
    "    apr_totcloud_dict[i] = _winter_avg\n",
    "    \n",
    "apr_totcloud = np.array(list(apr_totcloud_dict.values())).flatten()"
   ]
  },
  {
   "cell_type": "code",
   "execution_count": 35,
   "metadata": {},
   "outputs": [
    {
     "data": {
      "image/png": "[encoded data removed]",
      "text/plain": [
       "<Figure size 288x216 with 1 Axes>"
      ]
     },
     "metadata": {
      "needs_background": "light"
     },
     "output_type": "display_data"
    },
    {
     "name": "stdout",
     "output_type": "stream",
     "text": [
      "Mean squared error: 0.00\n",
      "Coefficient of determination: 0.83\n"
     ]
    }
   ],
   "source": [
    "import numpy as np\n",
    "import matplotlib.pyplot as plt\n",
    "from sklearn.linear_model import LinearRegression\n",
    "from sklearn.metrics import mean_squared_error, r2_score\n",
    "\n",
    "y = np.array(out2['cloudlw_fb'])\n",
    "\n",
    "x = np.array(apr_totcloud)\n",
    "\n",
    "# create a linear regression model\n",
    "model = LinearRegression()\n",
    "model.fit(x.reshape(-1,1), y.reshape(-1,1))\n",
    "\n",
    "# predict y from the data\n",
    "x_new = np.linspace(min(x), max(x), 100)\n",
    "y_new = model.predict(x_new[:, np.newaxis])\n",
    "y_pred = model.predict(x.reshape(-1,1))\n",
    "\n",
    "categories = np.array([0, 1, 2, 3, 4, 5, 6, 7])\n",
    "\n",
    "colormap = np.array(sns.color_palette('colorblind'))\n",
    "\n",
    "# plot the results\n",
    "plt.figure(figsize=(4, 3))\n",
    "ax = plt.axes()\n",
    "ax.scatter(x, y, c=colormap[categories])\n",
    "ax.plot(x_new, y_new,c='grey')#,linestyle='dashed')\n",
    "\n",
    "ax.set_xlabel('Winter Cloud Amount (DJF)')\n",
    "ax.set_ylabel('Long-wave cloud feedback parameter')\n",
    "\n",
    "ax.axis('tight')\n",
    "\n",
    "plt.show()\n",
    "\n",
    "print('Mean squared error: %.2f' % mean_squared_error(y, y_pred))\n",
    "print('Coefficient of determination: %.2f' % r2_score(y, y_pred))"
   ]
  },
  {
   "cell_type": "code",
   "execution_count": 43,
   "metadata": {},
   "outputs": [
    {
     "data": {
      "image/png": "[encoded data removed]",
      "text/plain": [
       "<Figure size 288x216 with 1 Axes>"
      ]
     },
     "metadata": {
      "needs_background": "light"
     },
     "output_type": "display_data"
    },
    {
     "name": "stdout",
     "output_type": "stream",
     "text": [
      "Mean squared error: 0.00\n",
      "Coefficient of determination: 0.87\n"
     ]
    }
   ],
   "source": [
    "import numpy as np\n",
    "import matplotlib.pyplot as plt\n",
    "from sklearn.linear_model import LinearRegression\n",
    "from sklearn.metrics import mean_squared_error, r2_score\n",
    "\n",
    "y = np.array(out2['cloudlw_fb'])\n",
    "\n",
    "x = np.array(list(dC_dict.values())).flatten()\n",
    "\n",
    "# create a linear regression model\n",
    "model = LinearRegression()\n",
    "model.fit(x.reshape(-1,1), y.reshape(-1,1))\n",
    "\n",
    "# predict y from the data\n",
    "x_new = np.linspace(0.35, 0.85, 100)\n",
    "x_new = np.linspace(4, 10, 100)\n",
    "y_new = model.predict(x_new[:, np.newaxis])\n",
    "y_pred = model.predict(x.reshape(-1,1))\n",
    "\n",
    "categories = np.array([0, 1, 2, 3, 4, 5, 6, 7])\n",
    "\n",
    "colormap = np.array(sns.color_palette('colorblind'))\n",
    "\n",
    "# plot the results\n",
    "plt.figure(figsize=(4, 3))\n",
    "ax = plt.axes()\n",
    "ax.scatter(x, y, c=colormap[categories])\n",
    "# ax.plot(x_new, y_new,c='grey')#,linestyle='dashed')\n",
    "ax.plot(x, y_pred,c='grey')#,linestyle='dashed')\n",
    "\n",
    "ax.set_xlabel('Winter Cloud Amount (DJF)')\n",
    "ax.set_ylabel('Long-wave cloud feedback parameter')\n",
    "\n",
    "ax.axis('tight')\n",
    "\n",
    "plt.show()\n",
    "\n",
    "print('Mean squared error: %.2f' % mean_squared_error(y, y_pred))\n",
    "print('Coefficient of determination: %.2f' % r2_score(y, y_pred))"
   ]
  },
  {
   "cell_type": "code",
   "execution_count": null,
   "metadata": {},
   "outputs": [],
   "source": [
    "np.array(list(dC_dict.values())).flatten()"
   ]
  }
 ],
 "metadata": {
  "kernelspec": {
   "display_name": "Python 3",
   "language": "python",
   "name": "python3"
  },
  "language_info": {
   "codemirror_mode": {
    "name": "ipython",
    "version": 3
   },
   "file_extension": ".py",
   "mimetype": "text/x-python",
   "name": "python",
   "nbconvert_exporter": "python",
   "pygments_lexer": "ipython3",
   "version": "3.7.3"
  }
 },
 "nbformat": 4,
 "nbformat_minor": 4
}
