{
 "cells": [
  {
   "cell_type": "markdown",
   "metadata": {},
   "source": [
    "# Table values\n",
    "\n",
    "Storing the function calls for calculating the values in tables 1 and 2."
   ]
  },
  {
   "cell_type": "code",
   "execution_count": 1,
   "metadata": {},
   "outputs": [
    {
     "name": "stdout",
     "output_type": "stream",
     "text": [
      "The autoreload extension is already loaded. To reload it, use:\n",
      "  %reload_ext autoreload\n"
     ]
    }
   ],
   "source": [
    "import sys\n",
    "# Add common resources folder to path\n",
    "sys.path.append(\"/mnt/mcc-ns9600k/jonahks/git_repos/netcdf_analysis/Common/\")\n",
    "sys.path.append(\"/mnt/mcc-ns9600k/jonahks/git_repos/netcdf_analysis/\")\n",
    "sys.path.append(\"/home/jonahks/git_repos/netcdf_analysis/\")\n",
    "sys.path.append(\"/home/jonahks/git_repos/netcdf_analysis/Common/\")\n",
    "\n",
    "from imports import (\n",
    "    pd, np, xr, mpl, plt, sns, os, \n",
    "    datetime, sys, crt, gridspec,\n",
    "    ccrs, metrics, Iterable\n",
    "    )\n",
    "\n",
    "from functions import (\n",
    "    masked_average, add_weights, sp_map,\n",
    "    season_mean, get_dpm, leap_year, share_ylims,\n",
    "    to_png\n",
    "    )\n",
    "\n",
    "from classes import SatComp_Metric, CT_SLF_Metric\n",
    "from collections import deque\n",
    "%matplotlib inline"
   ]
  },
  {
   "cell_type": "markdown",
   "metadata": {},
   "source": [
    "### Check running location and adjust working directory appropriately."
   ]
  },
  {
   "cell_type": "code",
   "execution_count": 2,
   "metadata": {},
   "outputs": [
    {
     "name": "stdout",
     "output_type": "stream",
     "text": [
      "Running through MC2 Jupyter Hub\n",
      "Can access all directory paths: True\n"
     ]
    }
   ],
   "source": [
    "host = os.uname()[1]\n",
    "if 'jupyter' in host.split('-'): # Check if running on NIRD through the Jupyter Hub\n",
    "    print('Running through MC2 Jupyter Hub')\n",
    "    model_dir = '/mnt/mcc-ns9600k/jonahks/'\n",
    "    os.chdir(model_dir)\n",
    "\n",
    "else:  # Assume that we're running on a local machine and mounting NIRD\n",
    "    print('Running on %s, attempting to mount ns9600k/jonahks/ from NIRD' % str(host))\n",
    "    os.system('fusermount -zu ~/drivemount/')  # unmount first\n",
    "    os.system('sshfs jonahks@login.nird.sigma2.no:\"p/jonahks/\" ~/drivemount/')    # Calling mountnird from .bashrc doesn't work\n",
    "    os.chdir('/home/jonahks/drivemount/')\n",
    "    save_dir = '~/DATAOUT/'\n",
    "    save_to = os.path.expanduser(save_dir)\n",
    "\n",
    "output_dir = 'figures/'\n",
    "case_dir = 'satcomp/'   # inconsistent label compared to jupy_test\n",
    "conv_dir ='convectivephase/'\n",
    "\n",
    "# Check that each important directory can be accessed:    \n",
    "access_paths = os.path.exists(output_dir) and os.path.exists(case_dir) and os.path.exists(conv_dir)\n",
    "print('Can access all directory paths:', access_paths)"
   ]
  },
  {
   "cell_type": "code",
   "execution_count": null,
   "metadata": {},
   "outputs": [],
   "source": [
    "allmetric = SatComp_Metric(case_dir)\n",
    "\n",
    "allmetric.add_case('20200504_145018_fitting_runs_cam6satcomp_wbf_1_inp_1', label=\"CAM6-Oslo\")\n",
    "allmetric.add_case('CESM2_slfvars', label=\"CAM6\")\n",
    "allmetric.add_case('20200414_205148_singleparam_cam61satcomp_wbf_1_inp_1', label=\"CAM6-OsloIce\")\n",
    "\n",
    "allmetric.add_case(\"20200512_013308_fitting_runs_cam6satcomp16_wbf_1.25_inp_10\",label='CAM6-Oslo \\n Fit 1')\n",
    "allmetric.add_case('20200629_morn_cam61satcomp_wbf_0.5_inp_0.05',label='CAM6-OsloIce \\n Fit 2')\n",
    "allmetric.add_case('20200512_012745_fitting_runs_cam61satcomp_wbf_0.2_inp_0.1',label='CAM6-OsloIce \\n Fit 3')\n",
    "allmetric.add_case('20200713_CESM2_satcomp_wbf_1_inp_100',label=\"CAM6 Fit\")"
   ]
  },
  {
   "cell_type": "code",
   "execution_count": 3,
   "metadata": {},
   "outputs": [
    {
     "name": "stdout",
     "output_type": "stream",
     "text": [
      "Loading GOCCP data...done.\n",
      "Loading CALIOP SLFs...done\n",
      "Loading CERES-EBAF fluxes...done.\n",
      "Trying to load concatenated file for 20211124_102800_cam6satcomp16_wbf_1.25_inp_1\n",
      "20211124_102800_cam6satcomp16_wbf_1.25_inp_1 load successfully.\n",
      "Trying to load concatenated file for 20211124_102800_cam6satcomp16_wbf_1_inp_10\n",
      "20211124_102800_cam6satcomp16_wbf_1_inp_10 load successfully.\n",
      "Trying to load concatenated file for 20211124_103400_cam6satcomp16_wbf_0.5_inp_1\n",
      "20211124_103400_cam6satcomp16_wbf_0.5_inp_1 load successfully.\n",
      "Trying to load concatenated file for 20211124_103600_cam6satcomp16_wbf_1_inp_0.05\n",
      "20211124_103600_cam6satcomp16_wbf_1_inp_0.05 load successfully.\n",
      "Trying to load concatenated file for 20211124_103800_cam6satcomp16_wbf_0.2_inp_1\n",
      "20211124_103800_cam6satcomp16_wbf_0.2_inp_1 load successfully.\n",
      "Trying to load concatenated file for 20211124_103900_cam6satcomp16_wbf_1_inp_0.1\n",
      "20211124_103900_cam6satcomp16_wbf_1_inp_0.1 load successfully.\n"
     ]
    }
   ],
   "source": [
    "completemetric = SatComp_Metric(case_dir) # Add completeness runs.\n",
    "\n",
    "completemetric.add_case('20211124_102800_cam6satcomp16_wbf_1.25_inp_1',label=\"CAM6 WBF:1.25 INP:1\")\n",
    "completemetric.add_case('20211124_102800_cam6satcomp16_wbf_1_inp_10',label=\"CAM6 WBF:1 INP:10\")\n",
    "completemetric.add_case('20211124_103400_cam6satcomp16_wbf_0.5_inp_1',label=\"CAM61 WBF:0.5 INP:1\")\n",
    "completemetric.add_case('20211124_103600_cam6satcomp16_wbf_1_inp_0.05',label=\"CAM61 WBF:1 INP:0.05\")\n",
    "completemetric.add_case('20211124_103800_cam6satcomp16_wbf_0.2_inp_1',label=\"CAM61 WBF:0.2 INP:1\")\n",
    "completemetric.add_case('20211124_103900_cam6satcomp16_wbf_1_inp_0.1',label=\"CAM61 WBF:1 INP:0.1\")"
   ]
  },
  {
   "cell_type": "markdown",
   "metadata": {},
   "source": [
    "# Table 1"
   ]
  },
  {
   "cell_type": "markdown",
   "metadata": {},
   "source": [
    "## Ice concentration at 860hPa averaged between 66-82N."
   ]
  },
  {
   "cell_type": "code",
   "execution_count": 4,
   "metadata": {},
   "outputs": [
    {
     "name": "stdout",
     "output_type": "stream",
     "text": [
      "20200504_145018_fitting_runs_cam6satcomp_wbf_1_inp_1 :  4116.331637568774\n",
      "CESM2_slfvars :  5551.3886610670315\n",
      "20200414_205148_singleparam_cam61satcomp_wbf_1_inp_1 :  15666.312188603899\n",
      "20200512_013308_fitting_runs_cam6satcomp16_wbf_1.25_inp_10 :  3867.513203404934\n",
      "20200629_morn_cam61satcomp_wbf_0.5_inp_0.05 :  5412.88870268456\n",
      "20200512_012745_fitting_runs_cam61satcomp_wbf_0.2_inp_0.1 :  8604.530560860781\n",
      "20200713_CESM2_satcomp_wbf_1_inp_100 :  5060.4165295560815\n"
     ]
    }
   ],
   "source": [
    "for i in allmetric.get_cases():\n",
    "    _case = allmetric.get_case(i)\n",
    "    _da = _case.case_da\n",
    "    _da = _da.sel(lat=slice(66,82))\n",
    "    _da = _da.sel(lev = 860, method='nearest') # 860\n",
    "    \n",
    "    _weights = _da['cell_weight'] # I could easily weight by month length here\n",
    "    try:\n",
    "        ice_rad = _da['AWNI'] / _da['FREQI']\n",
    "        mean_rad = masked_average(ice_rad, dim=['lat','lon','time'], \n",
    "                                  weights=_weights)\n",
    "#         mean_rad = ice_rad.mean(['time','lat','lon'])\n",
    "        print(i,': ',mean_rad.values)\n",
    "    except:\n",
    "        pass\n",
    "#     ice_rad = _case['AREI'] /"
   ]
  },
  {
   "cell_type": "code",
   "execution_count": 4,
   "metadata": {},
   "outputs": [
    {
     "name": "stdout",
     "output_type": "stream",
     "text": [
      "20211124_102800_cam6satcomp16_wbf_1.25_inp_1 :  3950.623673315101\n",
      "20211124_102800_cam6satcomp16_wbf_1_inp_10 :  4015.6684108803734\n",
      "20211124_103400_cam6satcomp16_wbf_0.5_inp_1 :  16538.926897767356\n",
      "20211124_103600_cam6satcomp16_wbf_1_inp_0.05 :  4252.489757663627\n",
      "20211124_103800_cam6satcomp16_wbf_0.2_inp_1 :  23462.9791559725\n",
      "20211124_103900_cam6satcomp16_wbf_1_inp_0.1 :  4427.70474902864\n"
     ]
    }
   ],
   "source": [
    "for i in completemetric.get_cases():\n",
    "    _case = completemetric.get_case(i)\n",
    "    _da = _case.case_da\n",
    "    _da = _da.sel(lat=slice(66,82))\n",
    "    _da = _da.sel(lev = 860, method='nearest') # 860\n",
    "    \n",
    "    _weights = _da['cell_weight']\n",
    "    try:\n",
    "        ice_rad = _da['AWNI'] / _da['FREQI']\n",
    "        mean_rad = masked_average(ice_rad, dim=['lat','lon','time'], \n",
    "                                  weights=_weights)\n",
    "#         mean_rad = ice_rad.mean(['time','lat','lon'])\n",
    "        print(i,': ',mean_rad.values)\n",
    "    except:\n",
    "        pass\n",
    "#     ice_rad = _case['AREI'] /"
   ]
  },
  {
   "cell_type": "markdown",
   "metadata": {},
   "source": [
    "## Ice size at 860hPa averaged between 66-82N."
   ]
  },
  {
   "cell_type": "code",
   "execution_count": 15,
   "metadata": {},
   "outputs": [
    {
     "name": "stdout",
     "output_type": "stream",
     "text": [
      "20200504_145018_fitting_runs_cam6satcomp_wbf_1_inp_1 :  150.70281258639352\n",
      "CESM2_slfvars :  164.52245121208912\n",
      "20200414_205148_singleparam_cam61satcomp_wbf_1_inp_1 :  132.43616186219836\n",
      "20200512_013308_fitting_runs_cam6satcomp16_wbf_1.25_inp_10 :  163.31143531764374\n",
      "20200629_morn_cam61satcomp_wbf_0.5_inp_0.05 :  124.17246029942044\n",
      "20200512_012745_fitting_runs_cam61satcomp_wbf_0.2_inp_0.1 :  112.3887552872834\n",
      "20200713_CESM2_satcomp_wbf_1_inp_100 :  209.22911677769198\n"
     ]
    }
   ],
   "source": [
    "for i in allmetric.get_cases():\n",
    "    _case = allmetric.get_case(i)\n",
    "    _da = _case.case_da\n",
    "    _da = _da.sel(lat=slice(66,82))\n",
    "    _da = _da.sel(lev = 860, method='nearest') # 860\n",
    "    \n",
    "    _weights = _da['cell_weight']\n",
    "    try:\n",
    "        ice_rad = _da['AREI'] / _da['FREQI']\n",
    "        mean_rad = masked_average(ice_rad, dim=['lat','lon','time'], \n",
    "                                  weights=_weights)\n",
    "#         mean_rad = ice_rad.mean(['time','lat','lon']) # old no lat weighting\n",
    "        print(i,': ',mean_rad.values)\n",
    "    except:\n",
    "        pass\n",
    "#     ice_rad = _case['AREI'] /"
   ]
  },
  {
   "cell_type": "code",
   "execution_count": 5,
   "metadata": {},
   "outputs": [
    {
     "name": "stdout",
     "output_type": "stream",
     "text": [
      "20211124_102800_cam6satcomp16_wbf_1.25_inp_1 :  155.62724948577082\n",
      "20211124_102800_cam6satcomp16_wbf_1_inp_10 :  160.0204175361136\n",
      "20211124_103400_cam6satcomp16_wbf_0.5_inp_1 :  122.83047645996525\n",
      "20211124_103600_cam6satcomp16_wbf_1_inp_0.05 :  134.0904181200037\n",
      "20211124_103800_cam6satcomp16_wbf_0.2_inp_1 :  111.60986190475714\n",
      "20211124_103900_cam6satcomp16_wbf_1_inp_0.1 :  134.07755958249388\n"
     ]
    }
   ],
   "source": [
    "for i in completemetric.get_cases():\n",
    "    _case = completemetric.get_case(i)\n",
    "    _da = _case.case_da\n",
    "    _da = _da.sel(lat=slice(66,82))\n",
    "    _da = _da.sel(lev = 860, method='nearest') # 860\n",
    "    \n",
    "    _weights = _da['cell_weight']\n",
    "    try:\n",
    "        ice_rad = _da['AREI'] / _da['FREQI']\n",
    "        mean_rad = masked_average(ice_rad, dim=['lat','lon','time'], \n",
    "                                  weights=_weights)\n",
    "#         mean_rad = ice_rad.mean(['time','lat','lon']) # old no lat weighting\n",
    "        print(i,': ',mean_rad.values)\n",
    "    except:\n",
    "        pass\n",
    "#     ice_rad = _case['AREI'] /"
   ]
  },
  {
   "cell_type": "markdown",
   "metadata": {},
   "source": [
    "# Table 2"
   ]
  },
  {
   "cell_type": "markdown",
   "metadata": {},
   "source": [
    "### Total cloud fraction"
   ]
  },
  {
   "cell_type": "code",
   "execution_count": 22,
   "metadata": {},
   "outputs": [
    {
     "name": "stderr",
     "output_type": "stream",
     "text": [
      "/opt/conda/lib/python3.7/site-packages/dask/array/numpy_compat.py:40: RuntimeWarning: invalid value encountered in true_divide\n",
      "  x = np.divide(x1, x2, out)\n",
      "/opt/conda/lib/python3.7/site-packages/dask/array/numpy_compat.py:40: RuntimeWarning: invalid value encountered in true_divide\n",
      "  x = np.divide(x1, x2, out)\n",
      "/opt/conda/lib/python3.7/site-packages/dask/array/numpy_compat.py:40: RuntimeWarning: invalid value encountered in true_divide\n",
      "  x = np.divide(x1, x2, out)\n",
      "/opt/conda/lib/python3.7/site-packages/dask/array/numpy_compat.py:40: RuntimeWarning: invalid value encountered in true_divide\n",
      "  x = np.divide(x1, x2, out)\n",
      "/opt/conda/lib/python3.7/site-packages/dask/array/numpy_compat.py:40: RuntimeWarning: invalid value encountered in true_divide\n",
      "  x = np.divide(x1, x2, out)\n",
      "/opt/conda/lib/python3.7/site-packages/dask/array/numpy_compat.py:40: RuntimeWarning: invalid value encountered in true_divide\n",
      "  x = np.divide(x1, x2, out)\n",
      "/opt/conda/lib/python3.7/site-packages/dask/array/numpy_compat.py:40: RuntimeWarning: invalid value encountered in true_divide\n",
      "  x = np.divide(x1, x2, out)\n"
     ]
    }
   ],
   "source": [
    "tot_bias = allmetric.band_bias(\"CLDTOT_CAL\",[66,82])"
   ]
  },
  {
   "cell_type": "code",
   "execution_count": 6,
   "metadata": {},
   "outputs": [
    {
     "name": "stderr",
     "output_type": "stream",
     "text": [
      "/opt/conda/lib/python3.7/site-packages/dask/array/numpy_compat.py:40: RuntimeWarning: invalid value encountered in true_divide\n",
      "  x = np.divide(x1, x2, out)\n",
      "/opt/conda/lib/python3.7/site-packages/dask/array/numpy_compat.py:40: RuntimeWarning: invalid value encountered in true_divide\n",
      "  x = np.divide(x1, x2, out)\n",
      "/opt/conda/lib/python3.7/site-packages/dask/array/numpy_compat.py:40: RuntimeWarning: invalid value encountered in true_divide\n",
      "  x = np.divide(x1, x2, out)\n",
      "/opt/conda/lib/python3.7/site-packages/dask/array/numpy_compat.py:40: RuntimeWarning: invalid value encountered in true_divide\n",
      "  x = np.divide(x1, x2, out)\n",
      "/opt/conda/lib/python3.7/site-packages/dask/array/numpy_compat.py:40: RuntimeWarning: invalid value encountered in true_divide\n",
      "  x = np.divide(x1, x2, out)\n",
      "/opt/conda/lib/python3.7/site-packages/dask/array/numpy_compat.py:40: RuntimeWarning: invalid value encountered in true_divide\n",
      "  x = np.divide(x1, x2, out)\n"
     ]
    }
   ],
   "source": [
    "tot_bias_complete = completemetric.band_bias(\"CLDTOT_CAL\",[66,82])"
   ]
  },
  {
   "cell_type": "markdown",
   "metadata": {},
   "source": [
    "### Liquid phase cloud fraction"
   ]
  },
  {
   "cell_type": "code",
   "execution_count": 23,
   "metadata": {},
   "outputs": [
    {
     "name": "stderr",
     "output_type": "stream",
     "text": [
      "/opt/conda/lib/python3.7/site-packages/dask/array/numpy_compat.py:40: RuntimeWarning: invalid value encountered in true_divide\n",
      "  x = np.divide(x1, x2, out)\n",
      "/opt/conda/lib/python3.7/site-packages/dask/array/numpy_compat.py:40: RuntimeWarning: invalid value encountered in true_divide\n",
      "  x = np.divide(x1, x2, out)\n",
      "/opt/conda/lib/python3.7/site-packages/dask/array/numpy_compat.py:40: RuntimeWarning: invalid value encountered in true_divide\n",
      "  x = np.divide(x1, x2, out)\n",
      "/opt/conda/lib/python3.7/site-packages/dask/array/numpy_compat.py:40: RuntimeWarning: invalid value encountered in true_divide\n",
      "  x = np.divide(x1, x2, out)\n",
      "/opt/conda/lib/python3.7/site-packages/dask/array/numpy_compat.py:40: RuntimeWarning: invalid value encountered in true_divide\n",
      "  x = np.divide(x1, x2, out)\n",
      "/opt/conda/lib/python3.7/site-packages/dask/array/numpy_compat.py:40: RuntimeWarning: invalid value encountered in true_divide\n",
      "  x = np.divide(x1, x2, out)\n",
      "/opt/conda/lib/python3.7/site-packages/dask/array/numpy_compat.py:40: RuntimeWarning: invalid value encountered in true_divide\n",
      "  x = np.divide(x1, x2, out)\n"
     ]
    }
   ],
   "source": [
    "liq_bias = allmetric.band_bias(\"CLDTOT_CAL_LIQ\",[66,82])"
   ]
  },
  {
   "cell_type": "code",
   "execution_count": 7,
   "metadata": {},
   "outputs": [
    {
     "name": "stderr",
     "output_type": "stream",
     "text": [
      "/opt/conda/lib/python3.7/site-packages/dask/array/numpy_compat.py:40: RuntimeWarning: invalid value encountered in true_divide\n",
      "  x = np.divide(x1, x2, out)\n",
      "/opt/conda/lib/python3.7/site-packages/dask/array/numpy_compat.py:40: RuntimeWarning: invalid value encountered in true_divide\n",
      "  x = np.divide(x1, x2, out)\n",
      "/opt/conda/lib/python3.7/site-packages/dask/array/numpy_compat.py:40: RuntimeWarning: invalid value encountered in true_divide\n",
      "  x = np.divide(x1, x2, out)\n",
      "/opt/conda/lib/python3.7/site-packages/dask/array/numpy_compat.py:40: RuntimeWarning: invalid value encountered in true_divide\n",
      "  x = np.divide(x1, x2, out)\n",
      "/opt/conda/lib/python3.7/site-packages/dask/array/numpy_compat.py:40: RuntimeWarning: invalid value encountered in true_divide\n",
      "  x = np.divide(x1, x2, out)\n",
      "/opt/conda/lib/python3.7/site-packages/dask/array/numpy_compat.py:40: RuntimeWarning: invalid value encountered in true_divide\n",
      "  x = np.divide(x1, x2, out)\n"
     ]
    }
   ],
   "source": [
    "liq_bias_complete = completemetric.band_bias(\"CLDTOT_CAL_LIQ\",[66,82])"
   ]
  },
  {
   "cell_type": "markdown",
   "metadata": {},
   "source": [
    "### Ice phase cloud fraction"
   ]
  },
  {
   "cell_type": "code",
   "execution_count": 24,
   "metadata": {},
   "outputs": [
    {
     "name": "stderr",
     "output_type": "stream",
     "text": [
      "/opt/conda/lib/python3.7/site-packages/dask/array/numpy_compat.py:40: RuntimeWarning: invalid value encountered in true_divide\n",
      "  x = np.divide(x1, x2, out)\n",
      "/opt/conda/lib/python3.7/site-packages/dask/array/numpy_compat.py:40: RuntimeWarning: invalid value encountered in true_divide\n",
      "  x = np.divide(x1, x2, out)\n",
      "/opt/conda/lib/python3.7/site-packages/dask/array/numpy_compat.py:40: RuntimeWarning: invalid value encountered in true_divide\n",
      "  x = np.divide(x1, x2, out)\n",
      "/opt/conda/lib/python3.7/site-packages/dask/array/numpy_compat.py:40: RuntimeWarning: invalid value encountered in true_divide\n",
      "  x = np.divide(x1, x2, out)\n",
      "/opt/conda/lib/python3.7/site-packages/dask/array/numpy_compat.py:40: RuntimeWarning: invalid value encountered in true_divide\n",
      "  x = np.divide(x1, x2, out)\n",
      "/opt/conda/lib/python3.7/site-packages/dask/array/numpy_compat.py:40: RuntimeWarning: invalid value encountered in true_divide\n",
      "  x = np.divide(x1, x2, out)\n",
      "/opt/conda/lib/python3.7/site-packages/dask/array/numpy_compat.py:40: RuntimeWarning: invalid value encountered in true_divide\n",
      "  x = np.divide(x1, x2, out)\n"
     ]
    }
   ],
   "source": [
    "ice_bias = allmetric.band_bias(\"CLDTOT_CAL_ICE\",[66,82])"
   ]
  },
  {
   "cell_type": "code",
   "execution_count": 8,
   "metadata": {},
   "outputs": [
    {
     "name": "stderr",
     "output_type": "stream",
     "text": [
      "/opt/conda/lib/python3.7/site-packages/dask/array/numpy_compat.py:40: RuntimeWarning: invalid value encountered in true_divide\n",
      "  x = np.divide(x1, x2, out)\n",
      "/opt/conda/lib/python3.7/site-packages/dask/array/numpy_compat.py:40: RuntimeWarning: invalid value encountered in true_divide\n",
      "  x = np.divide(x1, x2, out)\n",
      "/opt/conda/lib/python3.7/site-packages/dask/array/numpy_compat.py:40: RuntimeWarning: invalid value encountered in true_divide\n",
      "  x = np.divide(x1, x2, out)\n",
      "/opt/conda/lib/python3.7/site-packages/dask/array/numpy_compat.py:40: RuntimeWarning: invalid value encountered in true_divide\n",
      "  x = np.divide(x1, x2, out)\n",
      "/opt/conda/lib/python3.7/site-packages/dask/array/numpy_compat.py:40: RuntimeWarning: invalid value encountered in true_divide\n",
      "  x = np.divide(x1, x2, out)\n",
      "/opt/conda/lib/python3.7/site-packages/dask/array/numpy_compat.py:40: RuntimeWarning: invalid value encountered in true_divide\n",
      "  x = np.divide(x1, x2, out)\n"
     ]
    }
   ],
   "source": [
    "ice_bias_complete = completemetric.band_bias(\"CLDTOT_CAL_ICE\",[66,82])"
   ]
  },
  {
   "cell_type": "markdown",
   "metadata": {},
   "source": [
    "### Un-phased cloud fraction"
   ]
  },
  {
   "cell_type": "code",
   "execution_count": 25,
   "metadata": {},
   "outputs": [
    {
     "name": "stderr",
     "output_type": "stream",
     "text": [
      "/opt/conda/lib/python3.7/site-packages/dask/array/numpy_compat.py:40: RuntimeWarning: invalid value encountered in true_divide\n",
      "  x = np.divide(x1, x2, out)\n",
      "/opt/conda/lib/python3.7/site-packages/dask/array/numpy_compat.py:40: RuntimeWarning: invalid value encountered in true_divide\n",
      "  x = np.divide(x1, x2, out)\n",
      "/opt/conda/lib/python3.7/site-packages/dask/array/numpy_compat.py:40: RuntimeWarning: invalid value encountered in true_divide\n",
      "  x = np.divide(x1, x2, out)\n",
      "/opt/conda/lib/python3.7/site-packages/dask/array/numpy_compat.py:40: RuntimeWarning: invalid value encountered in true_divide\n",
      "  x = np.divide(x1, x2, out)\n",
      "/opt/conda/lib/python3.7/site-packages/dask/array/numpy_compat.py:40: RuntimeWarning: invalid value encountered in true_divide\n",
      "  x = np.divide(x1, x2, out)\n",
      "/opt/conda/lib/python3.7/site-packages/dask/array/numpy_compat.py:40: RuntimeWarning: invalid value encountered in true_divide\n",
      "  x = np.divide(x1, x2, out)\n",
      "/opt/conda/lib/python3.7/site-packages/dask/array/numpy_compat.py:40: RuntimeWarning: invalid value encountered in true_divide\n",
      "  x = np.divide(x1, x2, out)\n"
     ]
    }
   ],
   "source": [
    "un_bias = allmetric.band_bias(\"CLDTOT_CAL_UN\",[66,82])"
   ]
  },
  {
   "cell_type": "code",
   "execution_count": 9,
   "metadata": {},
   "outputs": [
    {
     "name": "stderr",
     "output_type": "stream",
     "text": [
      "/opt/conda/lib/python3.7/site-packages/dask/array/numpy_compat.py:40: RuntimeWarning: invalid value encountered in true_divide\n",
      "  x = np.divide(x1, x2, out)\n",
      "/opt/conda/lib/python3.7/site-packages/dask/array/numpy_compat.py:40: RuntimeWarning: invalid value encountered in true_divide\n",
      "  x = np.divide(x1, x2, out)\n",
      "/opt/conda/lib/python3.7/site-packages/dask/array/numpy_compat.py:40: RuntimeWarning: invalid value encountered in true_divide\n",
      "  x = np.divide(x1, x2, out)\n",
      "/opt/conda/lib/python3.7/site-packages/dask/array/numpy_compat.py:40: RuntimeWarning: invalid value encountered in true_divide\n",
      "  x = np.divide(x1, x2, out)\n",
      "/opt/conda/lib/python3.7/site-packages/dask/array/numpy_compat.py:40: RuntimeWarning: invalid value encountered in true_divide\n",
      "  x = np.divide(x1, x2, out)\n",
      "/opt/conda/lib/python3.7/site-packages/dask/array/numpy_compat.py:40: RuntimeWarning: invalid value encountered in true_divide\n",
      "  x = np.divide(x1, x2, out)\n"
     ]
    }
   ],
   "source": [
    "un_bias_complete = completemetric.band_bias(\"CLDTOT_CAL_UN\",[66,82])"
   ]
  },
  {
   "cell_type": "markdown",
   "metadata": {},
   "source": [
    "### Shortwave cloud feedback"
   ]
  },
  {
   "cell_type": "code",
   "execution_count": 17,
   "metadata": {},
   "outputs": [
    {
     "data": {
      "text/plain": [
       "[['CAM6-Oslo', array(-3.5374576)],\n",
       " ['CAM6', array(-3.98126866)],\n",
       " ['CAM6-OsloIce', array(-2.92430609)],\n",
       " ['CAM6-Oslo \\n Fit 1', array(-2.99536988)],\n",
       " ['CAM6-OsloIce \\n Fit 2', array(-3.68558189)],\n",
       " ['CAM6-OsloIce \\n Fit 3', array(-5.13628388)],\n",
       " ['CAM6 Fit', array(-3.31257517)]]"
      ]
     },
     "execution_count": 17,
     "metadata": {},
     "output_type": "execute_result"
    }
   ],
   "source": [
    "allmetric.band_bias(\"SWCF\",[66,82])"
   ]
  },
  {
   "cell_type": "code",
   "execution_count": 10,
   "metadata": {},
   "outputs": [
    {
     "data": {
      "text/plain": [
       "[['CAM6 WBF:1.25 INP:1', array(-3.12971373)],\n",
       " ['CAM6 WBF:1 INP:10', array(-3.39652486)],\n",
       " ['CAM61 WBF:0.5 INP:1', array(-4.12552808)],\n",
       " ['CAM61 WBF:1 INP:0.05', array(-2.21374588)],\n",
       " ['CAM61 WBF:0.2 INP:1', array(-5.49149234)],\n",
       " ['CAM61 WBF:1 INP:0.1', array(-2.15498887)]]"
      ]
     },
     "execution_count": 10,
     "metadata": {},
     "output_type": "execute_result"
    }
   ],
   "source": [
    "completemetric.band_bias(\"SWCF\",[66,82])"
   ]
  },
  {
   "cell_type": "markdown",
   "metadata": {},
   "source": [
    "### Longwave cloud feedback"
   ]
  },
  {
   "cell_type": "code",
   "execution_count": 16,
   "metadata": {},
   "outputs": [
    {
     "data": {
      "text/plain": [
       "[['CAM6-Oslo', array(-0.07488647)],\n",
       " ['CAM6', array(-0.77955509)],\n",
       " ['CAM6-OsloIce', array(0.31772517)],\n",
       " ['CAM6-Oslo \\n Fit 1', array(-0.61040279)],\n",
       " ['CAM6-OsloIce \\n Fit 2', array(0.43195072)],\n",
       " ['CAM6-OsloIce \\n Fit 3', array(1.82633313)],\n",
       " ['CAM6 Fit', array(-1.94298835)]]"
      ]
     },
     "execution_count": 16,
     "metadata": {},
     "output_type": "execute_result"
    }
   ],
   "source": [
    "allmetric.band_bias(\"LWCF\",[66,82])"
   ]
  },
  {
   "cell_type": "code",
   "execution_count": 11,
   "metadata": {},
   "outputs": [
    {
     "data": {
      "text/plain": [
       "[['CAM6 WBF:1.25 INP:1', array(-0.44379185)],\n",
       " ['CAM6 WBF:1 INP:10', array(-0.27383858)],\n",
       " ['CAM61 WBF:0.5 INP:1', array(1.15739832)],\n",
       " ['CAM61 WBF:1 INP:0.05', array(-0.74146593)],\n",
       " ['CAM61 WBF:0.2 INP:1', array(2.46042415)],\n",
       " ['CAM61 WBF:1 INP:0.1', array(-0.78519756)]]"
      ]
     },
     "execution_count": 11,
     "metadata": {},
     "output_type": "execute_result"
    }
   ],
   "source": [
    "completemetric.band_bias(\"LWCF\",[66,82])"
   ]
  },
  {
   "cell_type": "code",
   "execution_count": 26,
   "metadata": {},
   "outputs": [
    {
     "data": {
      "text/plain": [
       "[['CAM6-Oslo', array(-2.0106763)],\n",
       " ['CAM6', array(2.13134918)],\n",
       " ['CAM6-OsloIce', array(-5.79585754)],\n",
       " ['CAM6-Oslo \\n Fit 1', array(-3.55012017)],\n",
       " ['CAM6-OsloIce \\n Fit 2', array(-2.00652738)],\n",
       " ['CAM6-OsloIce \\n Fit 3', array(-0.33358325)],\n",
       " ['CAM6 Fit', array(-5.07441276)]]"
      ]
     },
     "execution_count": 26,
     "metadata": {},
     "output_type": "execute_result"
    }
   ],
   "source": [
    "tot_bias"
   ]
  },
  {
   "cell_type": "code",
   "execution_count": 12,
   "metadata": {},
   "outputs": [
    {
     "data": {
      "text/plain": [
       "[['CAM6 WBF:1.25 INP:1', array(-2.81605473)],\n",
       " ['CAM6 WBF:1 INP:10', array(-2.7964009)],\n",
       " ['CAM61 WBF:0.5 INP:1', array(-4.15692974)],\n",
       " ['CAM61 WBF:1 INP:0.05', array(-4.297861)],\n",
       " ['CAM61 WBF:0.2 INP:1', array(-2.13839722)],\n",
       " ['CAM61 WBF:1 INP:0.1', array(-4.863211)]]"
      ]
     },
     "execution_count": 12,
     "metadata": {},
     "output_type": "execute_result"
    }
   ],
   "source": [
    "tot_bias_complete"
   ]
  },
  {
   "cell_type": "code",
   "execution_count": 27,
   "metadata": {},
   "outputs": [
    {
     "data": {
      "text/plain": [
       "[['CAM6-Oslo', array(-0.6565369)],\n",
       " ['CAM6', array(11.21875298)],\n",
       " ['CAM6-OsloIce', array(-8.20726302)],\n",
       " ['CAM6-Oslo \\n Fit 1', array(-2.18409939)],\n",
       " ['CAM6-OsloIce \\n Fit 2', array(-0.94753746)],\n",
       " ['CAM6-OsloIce \\n Fit 3', array(-1.26644176)],\n",
       " ['CAM6 Fit', array(5.36442114)]]"
      ]
     },
     "execution_count": 27,
     "metadata": {},
     "output_type": "execute_result"
    }
   ],
   "source": [
    "liq_bias"
   ]
  },
  {
   "cell_type": "code",
   "execution_count": 13,
   "metadata": {},
   "outputs": [
    {
     "data": {
      "text/plain": [
       "[['CAM6 WBF:1.25 INP:1', array(-1.50226818)],\n",
       " ['CAM6 WBF:1 INP:10', array(-1.37811709)],\n",
       " ['CAM61 WBF:0.5 INP:1', array(-6.779906)],\n",
       " ['CAM61 WBF:1 INP:0.05', array(-3.32224463)],\n",
       " ['CAM61 WBF:0.2 INP:1', array(-6.44051318)],\n",
       " ['CAM61 WBF:1 INP:0.1', array(-4.26679845)]]"
      ]
     },
     "execution_count": 13,
     "metadata": {},
     "output_type": "execute_result"
    }
   ],
   "source": [
    "liq_bias_complete"
   ]
  },
  {
   "cell_type": "code",
   "execution_count": 28,
   "metadata": {},
   "outputs": [
    {
     "data": {
      "text/plain": [
       "[['CAM6-Oslo', array(0.72205001)],\n",
       " ['CAM6', array(-7.91897894)],\n",
       " ['CAM6-OsloIce', array(6.12218441)],\n",
       " ['CAM6-Oslo \\n Fit 1', array(1.12950528)],\n",
       " ['CAM6-OsloIce \\n Fit 2', array(1.63510622)],\n",
       " ['CAM6-OsloIce \\n Fit 3', array(3.57021379)],\n",
       " ['CAM6 Fit', array(-8.13947182)]]"
      ]
     },
     "execution_count": 28,
     "metadata": {},
     "output_type": "execute_result"
    }
   ],
   "source": [
    "ice_bias"
   ]
  },
  {
   "cell_type": "code",
   "execution_count": 14,
   "metadata": {},
   "outputs": [
    {
     "data": {
      "text/plain": [
       "[['CAM6 WBF:1.25 INP:1', array(1.02336021)],\n",
       " ['CAM6 WBF:1 INP:10', array(0.84548857)],\n",
       " ['CAM61 WBF:0.5 INP:1', array(6.0703193)],\n",
       " ['CAM61 WBF:1 INP:0.05', array(2.11938443)],\n",
       " ['CAM61 WBF:0.2 INP:1', array(7.59677503)],\n",
       " ['CAM61 WBF:1 INP:0.1', array(2.63535043)]]"
      ]
     },
     "execution_count": 14,
     "metadata": {},
     "output_type": "execute_result"
    }
   ],
   "source": [
    "ice_bias_complete"
   ]
  },
  {
   "cell_type": "code",
   "execution_count": 34,
   "metadata": {},
   "outputs": [
    {
     "data": {
      "text/plain": [
       "[['CAM6-Oslo', array(-1.75538762)],\n",
       " ['CAM6', array(-0.84762339)],\n",
       " ['CAM6-OsloIce', array(-3.3899766)],\n",
       " ['CAM6-Oslo \\n Fit 1', array(-2.17472385)],\n",
       " ['CAM6-OsloIce \\n Fit 2', array(-2.37329421)],\n",
       " ['CAM6-OsloIce \\n Fit 3', array(-2.31655364)],\n",
       " ['CAM6 Fit', array(-1.97855967)]]"
      ]
     },
     "execution_count": 34,
     "metadata": {},
     "output_type": "execute_result"
    }
   ],
   "source": [
    "un_bias"
   ]
  },
  {
   "cell_type": "code",
   "execution_count": 15,
   "metadata": {},
   "outputs": [
    {
     "data": {
      "text/plain": [
       "[['CAM6 WBF:1.25 INP:1', array(-2.01634485)],\n",
       " ['CAM6 WBF:1 INP:10', array(-1.94297046)],\n",
       " ['CAM61 WBF:0.5 INP:1', array(-3.12654094)],\n",
       " ['CAM61 WBF:1 INP:0.05', array(-2.77419849)],\n",
       " ['CAM61 WBF:0.2 INP:1', array(-2.97385713)],\n",
       " ['CAM61 WBF:1 INP:0.1', array(-2.91096073)]]"
      ]
     },
     "execution_count": 15,
     "metadata": {},
     "output_type": "execute_result"
    }
   ],
   "source": [
    "un_bias_complete"
   ]
  },
  {
   "cell_type": "markdown",
   "metadata": {},
   "source": [
    "## Trying to understand why the CALIOP GOCCP biases by phase don't equal the total bias..."
   ]
  },
  {
   "cell_type": "markdown",
   "metadata": {},
   "source": [
    "### Total cloud bias is not the sum of the cloud component biases. This seems inconsistent."
   ]
  },
  {
   "cell_type": "code",
   "execution_count": 39,
   "metadata": {},
   "outputs": [
    {
     "data": {
      "text/plain": [
       "array([-1.68987451,  2.45215065, -5.47505521, -3.22931796, -1.68572544,\n",
       "       -0.01278161, -4.75361036])"
      ]
     },
     "execution_count": 39,
     "metadata": {},
     "output_type": "execute_result"
    }
   ],
   "source": [
    "np.array(liq_bias)[:,1].astype('float') + np.array(ice_bias)[:,1].astype('float') + np.array(un_bias)[:,1].astype('float')"
   ]
  },
  {
   "cell_type": "code",
   "execution_count": 40,
   "metadata": {},
   "outputs": [
    {
     "data": {
      "text/plain": [
       "array([-2.0106763 ,  2.13134918, -5.79585754, -3.55012017, -2.00652738,\n",
       "       -0.33358325, -5.07441276])"
      ]
     },
     "execution_count": 40,
     "metadata": {},
     "output_type": "execute_result"
    }
   ],
   "source": [
    "np.array(tot_bias)[:,1].astype('float')"
   ]
  },
  {
   "cell_type": "markdown",
   "metadata": {},
   "source": [
    "### This comes from the GOCCP observations, not my models or analysis"
   ]
  },
  {
   "cell_type": "code",
   "execution_count": 52,
   "metadata": {},
   "outputs": [],
   "source": [
    "goccp = add_weights(allmetric.goccp_data)\n",
    "weights = goccp['cell_weight']"
   ]
  },
  {
   "cell_type": "code",
   "execution_count": 56,
   "metadata": {},
   "outputs": [],
   "source": [
    "cldtot_avg = masked_average(goccp['CLDTOT_CAL'][0,:,:],dim=['lat','lon'],weights=weights)\n",
    "\n",
    "cldliq_avg = masked_average(goccp['CLDTOT_CAL_LIQ'][0,:,:],dim=['lat','lon'],weights=weights)\n",
    "cldice_avg = masked_average(goccp['CLDTOT_CAL_ICE'][0,:,:],dim=['lat','lon'],weights=weights)\n",
    "cldun_avg = masked_average(goccp['CLDTOT_CAL_UN'][0,:,:],dim=['lat','lon'],weights=weights)"
   ]
  },
  {
   "cell_type": "markdown",
   "metadata": {},
   "source": [
    "### The total cloud is slightly (0.35%) more than the sum of the phase components."
   ]
  },
  {
   "cell_type": "code",
   "execution_count": 55,
   "metadata": {},
   "outputs": [
    {
     "data": {
      "text/plain": [
       "array(66.60783959)"
      ]
     },
     "execution_count": 55,
     "metadata": {},
     "output_type": "execute_result"
    }
   ],
   "source": [
    "cldtot_avg.values"
   ]
  },
  {
   "cell_type": "code",
   "execution_count": 60,
   "metadata": {},
   "outputs": [
    {
     "data": {
      "text/plain": [
       "66.25326536949268"
      ]
     },
     "execution_count": 60,
     "metadata": {},
     "output_type": "execute_result"
    }
   ],
   "source": [
    "cldliq_avg.values + cldice_avg.values + cldun_avg.values"
   ]
  },
  {
   "cell_type": "markdown",
   "metadata": {},
   "source": [
    "### Is this inconsistency reproduced by COSP?"
   ]
  },
  {
   "cell_type": "code",
   "execution_count": 63,
   "metadata": {},
   "outputs": [],
   "source": [
    "noresm = allmetric.get_case('20200504_145018_fitting_runs_cam6satcomp_wbf_1_inp_1').case_da"
   ]
  },
  {
   "cell_type": "code",
   "execution_count": 69,
   "metadata": {},
   "outputs": [],
   "source": [
    "noresm_da = add_weights(noresm)\n",
    "weights2 = noresm_da['cell_weight']"
   ]
  },
  {
   "cell_type": "code",
   "execution_count": 70,
   "metadata": {},
   "outputs": [],
   "source": [
    "cldtot_avg_mod = masked_average(noresm_da['CLDTOT_CAL'][0,:,:],dim=['lat','lon'],weights=weights2)\n",
    "\n",
    "cldliq_avg_mod = masked_average(noresm_da['CLDTOT_CAL_LIQ'][0,:,:],dim=['lat','lon'],weights=weights2)\n",
    "cldice_avg_mod = masked_average(noresm_da['CLDTOT_CAL_ICE'][0,:,:],dim=['lat','lon'],weights=weights2)\n",
    "cldun_avg_mod = masked_average(noresm_da['CLDTOT_CAL_UN'][0,:,:],dim=['lat','lon'],weights=weights2)"
   ]
  },
  {
   "cell_type": "code",
   "execution_count": 71,
   "metadata": {},
   "outputs": [
    {
     "data": {
      "text/plain": [
       "array(58.6553173)"
      ]
     },
     "execution_count": 71,
     "metadata": {},
     "output_type": "execute_result"
    }
   ],
   "source": [
    "cldtot_avg_mod.values"
   ]
  },
  {
   "cell_type": "code",
   "execution_count": 72,
   "metadata": {},
   "outputs": [
    {
     "data": {
      "text/plain": [
       "58.65531730403106"
      ]
     },
     "execution_count": 72,
     "metadata": {},
     "output_type": "execute_result"
    }
   ],
   "source": [
    "cldliq_avg_mod.values + cldice_avg_mod.values + cldun_avg_mod.values"
   ]
  },
  {
   "cell_type": "markdown",
   "metadata": {},
   "source": [
    "### No, it isn't!! Case closed!"
   ]
  },
  {
   "cell_type": "code",
   "execution_count": null,
   "metadata": {},
   "outputs": [],
   "source": []
  }
 ],
 "metadata": {
  "kernelspec": {
   "display_name": "Python 3",
   "language": "python",
   "name": "python3"
  },
  "language_info": {
   "codemirror_mode": {
    "name": "ipython",
    "version": 3
   },
   "file_extension": ".py",
   "mimetype": "text/x-python",
   "name": "python",
   "nbconvert_exporter": "python",
   "pygments_lexer": "ipython3",
   "version": "3.7.3"
  }
 },
 "nbformat": 4,
 "nbformat_minor": 4
}
