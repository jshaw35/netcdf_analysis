{
 "cells": [
  {
   "cell_type": "markdown",
   "metadata": {},
   "source": [
    "# Looking at the correlation between cloud fraction and the calculated feedback parameters"
   ]
  },
  {
   "cell_type": "markdown",
   "metadata": {},
   "source": [
    "### Add paths to run locally or off NIRD"
   ]
  },
  {
   "cell_type": "code",
   "execution_count": 11,
   "metadata": {},
   "outputs": [],
   "source": [
    "import sys\n",
    "# Add common resources folder to path\n",
    "sys.path.append(\"/mnt/mcc-ns9600k/jonahks/git_repos/netcdf_analysis/Common/\")\n",
    "sys.path.append(\"/mnt/mcc-ns9600k/jonahks/git_repos/netcdf_analysis/\")\n",
    "sys.path.append(\"/home/jonahks/git_repos/netcdf_analysis/\")\n",
    "sys.path.append(\"/home/jonahks/git_repos/netcdf_analysis/Common/\")\n",
    "\n",
    "from imports import (\n",
    "    pd, np, xr, mpl, plt, sns, os, \n",
    "    datetime, sys, crt, gridspec,\n",
    "    ccrs, metrics, Iterable\n",
    "    )\n",
    "\n",
    "from functions import (\n",
    "    masked_average, add_weights, sp_map,\n",
    "    season_mean, get_dpm, leap_year, share_ylims,\n",
    "    to_png, mute_ax\n",
    "    )\n",
    "\n",
    "from classes import SatComp_Metric, CT_SLF_Metric\n",
    "from collections import deque\n",
    "%matplotlib inline"
   ]
  },
  {
   "cell_type": "markdown",
   "metadata": {},
   "source": [
    "## Load feedback specific functions"
   ]
  },
  {
   "cell_type": "code",
   "execution_count": 12,
   "metadata": {},
   "outputs": [],
   "source": [
    "from feedback_functions import *"
   ]
  },
  {
   "cell_type": "markdown",
   "metadata": {},
   "source": [
    "### Check running location and adjust working directory appropriately."
   ]
  },
  {
   "cell_type": "code",
   "execution_count": 13,
   "metadata": {},
   "outputs": [
    {
     "name": "stdout",
     "output_type": "stream",
     "text": [
      "Running through MC2 Jupyter Hub\n",
      "Can access all directory paths: True\n"
     ]
    }
   ],
   "source": [
    "host = os.uname()[1]\n",
    "if 'jupyter' in host.split('-'): # Check if running on NIRD through the Jupyter Hub\n",
    "    print('Running through MC2 Jupyter Hub')\n",
    "    model_dir = '/mnt/mcc-ns9600k/jonahks/'\n",
    "    os.chdir(model_dir)\n",
    "\n",
    "else:  # Assume that we're running on a local machine and mounting NIRD\n",
    "    print('Running on %s, attempting to mount ns9600k/jonahks/ from NIRD' % str(host))\n",
    "    os.system('fusermount -zu ~/drivemount/')  # unmount first\n",
    "    os.system('sshfs jonahks@login.nird.sigma2.no:\"p/jonahks/\" ~/drivemount/')    # Calling mountnird from .bashrc doesn't work\n",
    "    os.chdir('/home/jonahks/drivemount/')\n",
    "    save_dir = '~/DATAOUT/'\n",
    "    save_to = os.path.expanduser(save_dir)\n",
    "\n",
    "output_dir = 'figures/'\n",
    "case_dir = 'satcomp/'   # inconsistent label compared to jupy_test\n",
    "conv_dir ='convectivephase/'\n",
    "\n",
    "# Check that each important directory can be accessed:    \n",
    "access_paths = os.path.exists(output_dir) and os.path.exists(case_dir) and os.path.exists(conv_dir)\n",
    "print('Can access all directory paths:', access_paths)"
   ]
  },
  {
   "cell_type": "code",
   "execution_count": 4,
   "metadata": {},
   "outputs": [],
   "source": [
    "fb_dir ='feedbacks_soden/mod_by_me/output_jonahks/'"
   ]
  },
  {
   "cell_type": "markdown",
   "metadata": {},
   "source": [
    "## Calculate GOCCP \"present-day\" total cloud fraction"
   ]
  },
  {
   "cell_type": "markdown",
   "metadata": {},
   "source": [
    "Get GOCCP value to calculate bias"
   ]
  },
  {
   "cell_type": "code",
   "execution_count": 25,
   "metadata": {},
   "outputs": [
    {
     "name": "stdout",
     "output_type": "stream",
     "text": [
      "Loading GOCCP data...done.\n",
      "Loading CALIOP SLFs...done\n",
      "Loading CERES-EBAF fluxes...done.\n"
     ]
    }
   ],
   "source": [
    "_goccp_metric = SatComp_Metric(casedir=case_dir)"
   ]
  },
  {
   "cell_type": "code",
   "execution_count": 26,
   "metadata": {},
   "outputs": [],
   "source": [
    "goccp_data = _goccp_metric.goccp_data\n",
    "\n",
    "cldtot_monthly = add_weights(goccp_data['CLDTOT_CAL'].groupby('time.month').mean('time'))\n",
    "\n",
    "# cldtot_monthly\n",
    "mask = cldtot_monthly['lat'] < 66\n",
    "arc_mean = masked_average(cldtot_monthly,mask=mask,weights=cldtot_monthly['cell_weight'],dim=['lat','lon'])"
   ]
  },
  {
   "cell_type": "markdown",
   "metadata": {},
   "source": [
    "Get variables"
   ]
  },
  {
   "cell_type": "markdown",
   "metadata": {},
   "source": [
    "__LW Feedback Parameter__"
   ]
  },
  {
   "cell_type": "markdown",
   "metadata": {},
   "source": [
    "__Winter Cloud from the Models__"
   ]
  },
  {
   "cell_type": "code",
   "execution_count": 7,
   "metadata": {},
   "outputs": [],
   "source": [
    "init_dir = 'satcomp/'\n",
    "pert_dir = 'satcomp_+4K/'"
   ]
  },
  {
   "cell_type": "code",
   "execution_count": 8,
   "metadata": {},
   "outputs": [],
   "source": [
    "# Testing something to order cases and label them.\n",
    "model_pairs = {}\n",
    "model_pairs['CAM6_satcomp_SFCnonorm_wbf_1_inp_1'] = ['20200504_145018_fitting_runs_cam6satcomp_wbf_1_inp_1','20200817_4Ksst_cam6satcomp_wbf_1_inp_1']\n",
    "model_pairs['CESM2_satcomp_SFCnonorm_wbf_1_inp_1'] = ['CESM2_slfvars','20201231_4Ksst_cesm2satcomp_wbf_1_inp_1']\n",
    "model_pairs['CAM61_satcomp_SFCnonorm_wbf_1_inp_1'] = ['20200414_205148_singleparam_cam61satcomp_wbf_1_inp_1','20200817_4Ksst_cam61satcomp_wbf_1_inp_1']\n",
    "model_pairs['CAM6_satcomp_SFCnonorm_wbf_1.25_inp_10'] = ['20200512_013308_fitting_runs_cam6satcomp16_wbf_1.25_inp_10','20200817_4Ksst_cam6satcomp_wbf_1.25_inp_10']\n",
    "model_pairs['CAM61_satcomp_SFCnonorm_wbf_0.5_inp_0.05'] = ['20200629_morn_cam61satcomp_wbf_0.5_inp_0.05','20200817_4Ksst_cam61satcomp_wbf_0.5_inp_0.05']\n",
    "model_pairs['CAM61_satcomp_SFCnonorm_wbf_0.2_inp_0.1'] = ['20200512_012745_fitting_runs_cam61satcomp_wbf_0.2_inp_0.1','20200817_4Ksst_cam61satcomp_wbf_0.2_inp_0.1']\n",
    "model_pairs['CESM2_satcomp_SFCnonorm_wbf_1_inp_100'] = ['20200713_CESM2_satcomp_wbf_1_inp_100','20201231_4Ksst_CESM2_satcomp_wbf_1_inp_100']"
   ]
  },
  {
   "cell_type": "markdown",
   "metadata": {},
   "source": [
    "### Grab total cloud and low cloud from the present-day simulations."
   ]
  },
  {
   "cell_type": "code",
   "execution_count": 9,
   "metadata": {},
   "outputs": [
    {
     "name": "stdout",
     "output_type": "stream",
     "text": [
      "CAM6_satcomp_SFCnonorm_wbf_1_inp_1\n",
      "CESM2_satcomp_SFCnonorm_wbf_1_inp_1\n",
      "CAM61_satcomp_SFCnonorm_wbf_1_inp_1\n",
      "CAM6_satcomp_SFCnonorm_wbf_1.25_inp_10\n",
      "CAM61_satcomp_SFCnonorm_wbf_0.5_inp_0.05\n",
      "CAM61_satcomp_SFCnonorm_wbf_0.2_inp_0.1\n",
      "CESM2_satcomp_SFCnonorm_wbf_1_inp_100\n"
     ]
    }
   ],
   "source": [
    "totcloud_init = {}\n",
    "lowcloud_init = {}\n",
    "\n",
    "for i in model_pairs:\n",
    "    print(i)\n",
    "    _pair = model_pairs[i]\n",
    "    _init_path = '%s%s/%s.nc' % (init_dir,_pair[0],_pair[0])\n",
    "    \n",
    "    _initall = xr.open_dataset(_init_path)\n",
    "    _temp_dat = _initall['CLDTOT_CAL'].sel(time=slice('2010-02-01','2013-01-01'))#.groupby('time.season').mean('time')\n",
    "    totcloud_init[i] = _temp_dat\n",
    "    _temp_dat = _initall['CLDLOW_CAL'].sel(time=slice('2010-02-01','2013-01-01'))#.groupby('time.season').mean('time')\n",
    "    lowcloud_init[i] = _temp_dat\n",
    "    \n",
    "    _initall.close()"
   ]
  },
  {
   "cell_type": "markdown",
   "metadata": {},
   "source": [
    "### Calculate the average model cloud in april and (feb,mar,apr)"
   ]
  },
  {
   "cell_type": "code",
   "execution_count": 10,
   "metadata": {},
   "outputs": [
    {
     "name": "stderr",
     "output_type": "stream",
     "text": [
      "/opt/conda/lib/python3.7/site-packages/xarray/core/common.py:664: FutureWarning: This DataArray contains multi-dimensional coordinates. In the future, the dimension order of these coordinates will be restored as well unless you specify restore_coord_dims=False.\n",
      "  self, group, squeeze=squeeze, restore_coord_dims=restore_coord_dims\n",
      "/opt/conda/lib/python3.7/site-packages/xarray/core/common.py:664: FutureWarning: This DataArray contains multi-dimensional coordinates. In the future, the dimension order of these coordinates will be restored as well unless you specify restore_coord_dims=False.\n",
      "  self, group, squeeze=squeeze, restore_coord_dims=restore_coord_dims\n",
      "/opt/conda/lib/python3.7/site-packages/xarray/core/common.py:664: FutureWarning: This DataArray contains multi-dimensional coordinates. In the future, the dimension order of these coordinates will be restored as well unless you specify restore_coord_dims=False.\n",
      "  self, group, squeeze=squeeze, restore_coord_dims=restore_coord_dims\n",
      "/opt/conda/lib/python3.7/site-packages/xarray/core/common.py:664: FutureWarning: This DataArray contains multi-dimensional coordinates. In the future, the dimension order of these coordinates will be restored as well unless you specify restore_coord_dims=False.\n",
      "  self, group, squeeze=squeeze, restore_coord_dims=restore_coord_dims\n",
      "/opt/conda/lib/python3.7/site-packages/xarray/core/common.py:664: FutureWarning: This DataArray contains multi-dimensional coordinates. In the future, the dimension order of these coordinates will be restored as well unless you specify restore_coord_dims=False.\n",
      "  self, group, squeeze=squeeze, restore_coord_dims=restore_coord_dims\n",
      "/opt/conda/lib/python3.7/site-packages/xarray/core/common.py:664: FutureWarning: This DataArray contains multi-dimensional coordinates. In the future, the dimension order of these coordinates will be restored as well unless you specify restore_coord_dims=False.\n",
      "  self, group, squeeze=squeeze, restore_coord_dims=restore_coord_dims\n",
      "/opt/conda/lib/python3.7/site-packages/xarray/core/common.py:664: FutureWarning: This DataArray contains multi-dimensional coordinates. In the future, the dimension order of these coordinates will be restored as well unless you specify restore_coord_dims=False.\n",
      "  self, group, squeeze=squeeze, restore_coord_dims=restore_coord_dims\n"
     ]
    }
   ],
   "source": [
    "apr_totcloud_dict = {}\n",
    "fma_totcloud_dict = {}\n",
    "for i in totcloud_init:\n",
    "    _ds = add_weights(totcloud_init[i])\n",
    "    _apr_mean = _ds.groupby('time.month').mean('time').sel(month=4)\n",
    "    _fma_mean = _ds.groupby('time.month').mean('time').sel(month=[2,3,4]).mean('month')\n",
    "    mask = _ds['lat'] < 66\n",
    "    _apr_avg = masked_average(_apr_mean,dim=['lat','lon'],weights=_apr_mean['cell_weight'],mask=mask)\n",
    "    _fma_avg = masked_average(_fma_mean,dim=['lat','lon'],weights=_fma_mean['cell_weight'],mask=mask)\n",
    "    apr_totcloud_dict[i] = _apr_avg\n",
    "    fma_totcloud_dict[i] = _fma_avg\n",
    "    \n",
    "apr_totcloud = np.array(list(apr_totcloud_dict.values())).flatten()\n",
    "fma_totcloud = np.array(list(fma_totcloud_dict.values())).flatten()"
   ]
  },
  {
   "cell_type": "code",
   "execution_count": null,
   "metadata": {},
   "outputs": [],
   "source": [
    "# Do correlation\n",
    "y = np.array(out2['cloudlw_fb'])\n",
    "x = np.array(apr_totcloud) - float(arc_mean.sel(month=4))\n",
    "\n",
    "model = LinearRegression()\n",
    "model.fit(x.reshape(-1,1), y.reshape(-1,1))\n",
    "# x_new = np.linspace(min(x), max(x), 100)\n",
    "x_new = np.linspace(min(x), 0, 100)\n",
    "y_new = model.predict(x_new[:, np.newaxis])\n",
    "y_pred = model.predict(x.reshape(-1,1))\n",
    "categories = np.array([0, 1, 2, 3, 4, 5, 6, 7])\n",
    "colormap = np.array(sns.color_palette('colorblind'))\n",
    "\n",
    "# Plot correlation\n",
    "axs[3].scatter(x, y, c=colormap[categories],marker='o')\n",
    "axs[3].plot(x_new,y_new,c='grey',linestyle='dotted')"
   ]
  },
  {
   "cell_type": "code",
   "execution_count": null,
   "metadata": {},
   "outputs": [],
   "source": []
  },
  {
   "cell_type": "code",
   "execution_count": 14,
   "metadata": {},
   "outputs": [],
   "source": [
    "og_cesm = xr.open_dataset('satcomp/CESM2_slfvars/atm/hist/CESM2_slfvars.cam.h0.2009-03.nc')\n",
    "og_noresm = xr.open_dataset('satcomp/20200504_145018_fitting_runs_cam6satcomp_wbf_1_inp_1/atm/hist/20200504_145018_fitting_runs_cam6satcomp_wbf_1_inp_1.cam.h0.2009-03.nc')"
   ]
  },
  {
   "cell_type": "code",
   "execution_count": 17,
   "metadata": {},
   "outputs": [
    {
     "data": {
      "text/plain": [
       "Coordinates:\n",
       "  * lat             (lat) float64 -90.0 -88.11 -86.21 ... 86.21 88.11 90.0\n",
       "  * lon             (lon) float64 0.0 2.5 5.0 7.5 ... 350.0 352.5 355.0 357.5\n",
       "  * lev             (lev) float64 3.643 7.595 14.36 24.61 ... 957.5 976.3 992.6\n",
       "  * ilev            (ilev) float64 2.255 5.032 10.16 18.56 ... 967.5 985.1 1e+03\n",
       "  * isotherms_mpc   (isotherms_mpc) float64 233.1 238.1 243.1 ... 268.1 273.1\n",
       "  * cosp_prs        (cosp_prs) float64 9e+04 7.4e+04 6.2e+04 ... 2.45e+04 9e+03\n",
       "  * cosp_tau        (cosp_tau) float64 0.15 0.8 2.45 6.5 16.2 41.5 100.0\n",
       "  * cosp_scol       (cosp_scol) int32 1 2 3 4 5 6 7 8 9 10\n",
       "  * cosp_ht         (cosp_ht) float64 1.896e+04 1.848e+04 ... 720.0 240.0\n",
       "  * cosp_sr         (cosp_sr) float64 -0.495 0.605 2.1 4.0 ... 55.0 70.0 539.5\n",
       "  * cosp_sza        (cosp_sza) float64 0.0 20.0 40.0 60.0 80.0\n",
       "  * cosp_dbze       (cosp_dbze) float64 -72.5 -42.5 -37.5 ... 12.5 17.5 50.0\n",
       "  * cosp_htmisr     (cosp_htmisr) float64 0.0 250.0 750.0 ... 1.6e+04 1.8e+04\n",
       "  * cosp_tau_modis  (cosp_tau_modis) float64 0.15 0.8 2.45 6.5 16.2 41.5 100.0\n",
       "  * cosp_reffice    (cosp_reffice) float64 5e-06 1.5e-05 ... 5e-05 7.5e-05\n",
       "  * cosp_reffliq    (cosp_reffliq) float64 4e-06 9e-06 ... 1.75e-05 2.5e-05\n",
       "  * time            (time) datetime64[ns] 2009-04-01"
      ]
     },
     "execution_count": 17,
     "metadata": {},
     "output_type": "execute_result"
    }
   ],
   "source": [
    "og_cesm.coords"
   ]
  },
  {
   "cell_type": "code",
   "execution_count": 18,
   "metadata": {},
   "outputs": [
    {
     "ename": "AttributeError",
     "evalue": "'Frozen' object has no attribute 'long_name'",
     "output_type": "error",
     "traceback": [
      "\u001b[0;31m---------------------------------------------------------------------------\u001b[0m",
      "\u001b[0;31mAttributeError\u001b[0m                            Traceback (most recent call last)",
      "\u001b[0;32m<ipython-input-18-eb042347c147>\u001b[0m in \u001b[0;36m<module>\u001b[0;34m\u001b[0m\n\u001b[0;32m----> 1\u001b[0;31m \u001b[0mog_cesm\u001b[0m\u001b[0;34m.\u001b[0m\u001b[0mvariables\u001b[0m\u001b[0;34m.\u001b[0m\u001b[0mlong_name\u001b[0m\u001b[0;34m\u001b[0m\u001b[0;34m\u001b[0m\u001b[0m\n\u001b[0m",
      "\u001b[0;31mAttributeError\u001b[0m: 'Frozen' object has no attribute 'long_name'"
     ]
    }
   ],
   "source": [
    "og_cesm.variables"
   ]
  },
  {
   "cell_type": "code",
   "execution_count": null,
   "metadata": {},
   "outputs": [],
   "source": []
  }
 ],
 "metadata": {
  "kernelspec": {
   "display_name": "Python 3",
   "language": "python",
   "name": "python3"
  },
  "language_info": {
   "codemirror_mode": {
    "name": "ipython",
    "version": 3
   },
   "file_extension": ".py",
   "mimetype": "text/x-python",
   "name": "python",
   "nbconvert_exporter": "python",
   "pygments_lexer": "ipython3",
   "version": "3.7.3"
  }
 },
 "nbformat": 4,
 "nbformat_minor": 4
}
