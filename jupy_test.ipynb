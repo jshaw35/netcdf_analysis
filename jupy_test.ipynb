{
 "cells": [
  {
   "cell_type": "code",
   "execution_count": 100,
   "metadata": {},
   "outputs": [],
   "source": [
    "import xarray as xr\n",
    "import numpy as np\n",
    "import sys\n",
    "import os\n",
    "import matplotlib.pyplot as plt\n",
    "import pandas as pd\n",
    "from matplotlib.gridspec import GridSpec\n",
    "from numpy.polynomial.polynomial import polyfit\n",
    "from sklearn.linear_model import LinearRegression\n",
    "from scipy import stats\n",
    "\n",
    "from functions import masked_average\n",
    "\n",
    "save_dir = '~/DATAOUT/'\n",
    "save_to = os.path.expanduser(save_dir)"
   ]
  },
  {
   "cell_type": "code",
   "execution_count": 2,
   "metadata": {},
   "outputs": [],
   "source": [
    "import cartopy.crs as ccrs\n",
    "import cartopy as cy\n",
    "def sp_map(*nrs, projection = ccrs.PlateCarree(), **kwargs):\n",
    "    return plt.subplots(*nrs, subplot_kw={'projection':projection}, **kwargs)\n",
    "\n",
    "def add_map_features(ax):\n",
    "    ax.coastlines()\n",
    "    gl = ax.gridlines()\n",
    "    ax.add_feature(cy.feature.BORDERS);\n",
    "    gl = ax.gridlines()#draw_labels=True)\n",
    "    gl.xlabels_top = False\n",
    "    gl.ylabels_right = False\n"
   ]
  },
  {
   "cell_type": "code",
   "execution_count": 3,
   "metadata": {},
   "outputs": [],
   "source": [
    "import matplotlib.path as mpath\n",
    "\n",
    "def polarCentral_set_latlim(lat_lims, ax):\n",
    "    ax.set_extent([-180, 180, lat_lims[0], lat_lims[1]], ccrs.PlateCarree())\n",
    "    # Compute a circle in axes coordinates, which we can use as a boundary\n",
    "    # for the map. We can pan/zoom as much as we like - the boundary will be\n",
    "    # permanently circular.\n",
    "    theta = np.linspace(0, 2*np.pi, 100)\n",
    "    center, radius = [0.5, 0.5], 0.5\n",
    "    verts = np.vstack([np.sin(theta), np.cos(theta)]).T\n",
    "    circle = mpath.Path(verts * radius + center)\n",
    "\n",
    "    ax.set_boundary(circle, transform=ax.transAxes)\n"
   ]
  },
  {
   "cell_type": "code",
   "execution_count": 26,
   "metadata": {},
   "outputs": [],
   "source": [
    "def interpretNS(stringin):\n",
    "    first = stringin[:3]\n",
    "    second = stringin[-3:]\n",
    "    \n",
    "    if first[-1] is 'N':\n",
    "        low = int(first[:2])\n",
    "    else: low = -1 * int(first[:2])\n",
    "    if second[-1] is 'N':\n",
    "        high = int(second[:2])\n",
    "    else: high = -1 * int(second[:2])\n",
    "    avg_lat = np.abs(np.mean([low,high]))\n",
    "    weight = np.cos(np.pi/180*avg_lat)\n",
    "    \n",
    "    return(weight)"
   ]
  },
  {
   "cell_type": "code",
   "execution_count": 4,
   "metadata": {},
   "outputs": [
    {
     "data": {
      "text/plain": [
       "'/home/jonahks/git_repos/netcdf_analysis'"
      ]
     },
     "execution_count": 4,
     "metadata": {},
     "output_type": "execute_result"
    }
   ],
   "source": [
    "os.getcwd()"
   ]
  },
  {
   "cell_type": "markdown",
   "metadata": {},
   "source": [
    "Grab CALIOP data first"
   ]
  },
  {
   "cell_type": "code",
   "execution_count": 7,
   "metadata": {},
   "outputs": [
    {
     "data": {
      "text/plain": [
       "['caliop_slfs',\n",
       " 'NorESM_validation',\n",
       " 'mnth15runs',\n",
       " 'python-code',\n",
       " 'slf_validation']"
      ]
     },
     "execution_count": 7,
     "metadata": {},
     "output_type": "execute_result"
    }
   ],
   "source": [
    "os.chdir('/home/jonahks/drivemount/')\n",
    "files = os.listdir()\n",
    "files"
   ]
  },
  {
   "cell_type": "code",
   "execution_count": 9,
   "metadata": {},
   "outputs": [
    {
     "data": {
      "text/plain": [
       "0   -40\n",
       "1   -30\n",
       "2   -20\n",
       "3   -10\n",
       "4     0\n",
       "Name: Isotherm, dtype: int64"
      ]
     },
     "execution_count": 9,
     "metadata": {},
     "output_type": "execute_result"
    }
   ],
   "source": [
    "caliop_arc = pd.read_table('caliop_slfs/MPC_CALIOP_90N-70N.dat', sep=\"\\s+\", names=['Isotherm', 'SLF'])\n",
    "caliop_arc['Isotherm']"
   ]
  },
  {
   "cell_type": "code",
   "execution_count": 65,
   "metadata": {},
   "outputs": [
    {
     "data": {
      "text/html": [
       "<div>\n",
       "<style scoped>\n",
       "    .dataframe tbody tr th:only-of-type {\n",
       "        vertical-align: middle;\n",
       "    }\n",
       "\n",
       "    .dataframe tbody tr th {\n",
       "        vertical-align: top;\n",
       "    }\n",
       "\n",
       "    .dataframe thead th {\n",
       "        text-align: right;\n",
       "    }\n",
       "</style>\n",
       "<table border=\"1\" class=\"dataframe\">\n",
       "  <thead>\n",
       "    <tr style=\"text-align: right;\">\n",
       "      <th></th>\n",
       "      <th>90N-70N</th>\n",
       "      <th>70S-90S</th>\n",
       "      <th>10S-30S</th>\n",
       "      <th>10N-10S</th>\n",
       "      <th>30S-50S</th>\n",
       "      <th>30N-10N</th>\n",
       "      <th>50S-70S</th>\n",
       "      <th>50N-30N</th>\n",
       "      <th>70N-50N</th>\n",
       "      <th>Weighted Avg</th>\n",
       "    </tr>\n",
       "    <tr>\n",
       "      <th>Isotherm</th>\n",
       "      <th></th>\n",
       "      <th></th>\n",
       "      <th></th>\n",
       "      <th></th>\n",
       "      <th></th>\n",
       "      <th></th>\n",
       "      <th></th>\n",
       "      <th></th>\n",
       "      <th></th>\n",
       "      <th></th>\n",
       "    </tr>\n",
       "  </thead>\n",
       "  <tbody>\n",
       "    <tr>\n",
       "      <td>-40</td>\n",
       "      <td>0</td>\n",
       "      <td>0</td>\n",
       "      <td>0</td>\n",
       "      <td>0</td>\n",
       "      <td>0</td>\n",
       "      <td>0</td>\n",
       "      <td>0</td>\n",
       "      <td>0</td>\n",
       "      <td>0</td>\n",
       "      <td>0.000000</td>\n",
       "    </tr>\n",
       "    <tr>\n",
       "      <td>-30</td>\n",
       "      <td>6</td>\n",
       "      <td>12</td>\n",
       "      <td>6</td>\n",
       "      <td>4</td>\n",
       "      <td>7</td>\n",
       "      <td>5</td>\n",
       "      <td>9</td>\n",
       "      <td>3</td>\n",
       "      <td>5</td>\n",
       "      <td>5.578054</td>\n",
       "    </tr>\n",
       "    <tr>\n",
       "      <td>-20</td>\n",
       "      <td>31</td>\n",
       "      <td>39</td>\n",
       "      <td>32</td>\n",
       "      <td>26</td>\n",
       "      <td>30</td>\n",
       "      <td>28</td>\n",
       "      <td>37</td>\n",
       "      <td>21</td>\n",
       "      <td>26</td>\n",
       "      <td>28.670216</td>\n",
       "    </tr>\n",
       "    <tr>\n",
       "      <td>-10</td>\n",
       "      <td>55</td>\n",
       "      <td>61</td>\n",
       "      <td>64</td>\n",
       "      <td>62</td>\n",
       "      <td>60</td>\n",
       "      <td>63</td>\n",
       "      <td>70</td>\n",
       "      <td>56</td>\n",
       "      <td>56</td>\n",
       "      <td>61.357769</td>\n",
       "    </tr>\n",
       "    <tr>\n",
       "      <td>0</td>\n",
       "      <td>100</td>\n",
       "      <td>100</td>\n",
       "      <td>100</td>\n",
       "      <td>100</td>\n",
       "      <td>100</td>\n",
       "      <td>100</td>\n",
       "      <td>100</td>\n",
       "      <td>100</td>\n",
       "      <td>100</td>\n",
       "      <td>100.000000</td>\n",
       "    </tr>\n",
       "  </tbody>\n",
       "</table>\n",
       "</div>"
      ],
      "text/plain": [
       "          90N-70N  70S-90S  10S-30S  10N-10S  30S-50S  30N-10N  50S-70S  \\\n",
       "Isotherm                                                                  \n",
       "-40             0        0        0        0        0        0        0   \n",
       "-30             6       12        6        4        7        5        9   \n",
       "-20            31       39       32       26       30       28       37   \n",
       "-10            55       61       64       62       60       63       70   \n",
       " 0            100      100      100      100      100      100      100   \n",
       "\n",
       "          50N-30N  70N-50N  Weighted Avg  \n",
       "Isotherm                                  \n",
       "-40             0        0      0.000000  \n",
       "-30             3        5      5.578054  \n",
       "-20            21       26     28.670216  \n",
       "-10            56       56     61.357769  \n",
       " 0            100      100    100.000000  "
      ]
     },
     "execution_count": 65,
     "metadata": {},
     "output_type": "execute_result"
    }
   ],
   "source": [
    "all_caliop = pd.DataFrame()\n",
    "weights = 0; avg = np.zeros(5);\n",
    "for file in files:\n",
    "    _name = file[11:-4]\n",
    "    _weight = interpretNS(_name)\n",
    "    _slice = pd.read_table(file, sep=\"\\s+\", names=['Isotherm', _name])\n",
    "    all_caliop = pd.concat([all_caliop, _slice[_name]], axis=1, sort=False)\n",
    "\n",
    "    # Do the averaging\n",
    "    avg += _weight * _slice[_name]\n",
    "    weights += _weight\n",
    "all_caliop = pd.concat([all_caliop, _slice['Isotherm']], axis=1, sort=False)\n",
    "all_caliop = all_caliop.set_index('Isotherm')\n",
    "all_caliop['Weighted Avg'] = np.array(avg / weights)\n",
    "all_caliop"
   ]
  },
  {
   "cell_type": "code",
   "execution_count": 10,
   "metadata": {},
   "outputs": [
    {
     "data": {
      "text/plain": [
       "['20191122_161009_sample_param_set_wbf1_inp1.cam.h0.0001-12.nc',\n",
       " '20191122_161009_sample_param_set_wbf1_inp1.cam.h0.0002-02.nc',\n",
       " '20191122_161009_sample_param_set_wbf1_inp1.cam.h0.0001-08.nc',\n",
       " '20191122_161009_sample_param_set_wbf1_inp1.cam.h0.0001-06.nc',\n",
       " '20191122_161009_sample_param_set_wbf1_inp1.cam.h0.0001-03.nc',\n",
       " '20191122_161009_sample_param_set_wbf1_inp1.nc',\n",
       " '20191122_161009_sample_param_set_wbf1_inp1.cam.h0.0001-05.nc',\n",
       " '20191122_161009_sample_param_set_wbf1_inp1.cam.h0.0002-03.nc',\n",
       " '20191122_161009_sample_param_set_wbf1_inp1.cam.h0.0001-07.nc',\n",
       " '20191122_161009_sample_param_set_wbf1_inp1.cam.i.0002-01-01-00000.nc',\n",
       " '20191122_161009_sample_param_set_wbf1_inp1.cam.h0.0001-09.nc',\n",
       " '20191122_161009_sample_param_set_wbf1_inp1.cam.h0.0001-04.nc',\n",
       " '20191122_161009_sample_param_set_wbf1_inp1.cam.h0.0001-10.nc',\n",
       " '20191122_161009_sample_param_set_wbf1_inp1.cam.h0.0002-01.nc',\n",
       " '20191122_161009_sample_param_set_wbf1_inp1.cam.h0.0001-11.nc',\n",
       " '20191122_161009_sample_param_set_wbf1_inp1.cam.h0.0001-01.nc',\n",
       " '20191122_161009_sample_param_set_wbf1_inp1.cam.h0.0001-02.nc']"
      ]
     },
     "execution_count": 10,
     "metadata": {},
     "output_type": "execute_result"
    }
   ],
   "source": [
    "#mnth15runs/20191122_161009_sample_param_set_wbf1_inp1\n",
    "os.chdir('/home/jonahks/drivemount/mnth15runs/20191122_161009_sample_param_set_wbf1_inp1/')\n",
    "files = os.listdir()\n",
    "files"
   ]
  },
  {
   "cell_type": "code",
   "execution_count": 11,
   "metadata": {},
   "outputs": [],
   "source": [
    "ds = xr.open_dataset('20191122_161009_sample_param_set_wbf1_inp1.nc')\n",
    "#ds = xr.open_dataset(files[0])\n",
    "gw = ds['gw']"
   ]
  },
  {
   "cell_type": "markdown",
   "metadata": {},
   "source": [
    "Create new variable by dividing out the cloud fraction near each isotherm"
   ]
  },
  {
   "cell_type": "code",
   "execution_count": 12,
   "metadata": {},
   "outputs": [],
   "source": [
    "ds['SLF_ISOTM'] = ds['SLFXCLD_ISOTM'] / ds['CLD_ISOTM']"
   ]
  },
  {
   "cell_type": "code",
   "execution_count": 13,
   "metadata": {},
   "outputs": [
    {
     "name": "stdout",
     "output_type": "stream",
     "text": [
      "(15, 9, 96, 144)\n"
     ]
    }
   ],
   "source": [
    "print(ds['SLF_ISOTM'].shape) "
   ]
  },
  {
   "cell_type": "markdown",
   "metadata": {},
   "source": [
    "Select dates after a 3 month wind-up"
   ]
  },
  {
   "cell_type": "code",
   "execution_count": 14,
   "metadata": {},
   "outputs": [
    {
     "name": "stderr",
     "output_type": "stream",
     "text": [
      "/home/jonahks/anaconda3/envs/esm-python-analysis/lib/python3.7/site-packages/xarray/core/nanops.py:140: RuntimeWarning: Mean of empty slice\n",
      "  return np.nanmean(a, axis=axis, dtype=dtype)\n"
     ]
    }
   ],
   "source": [
    "slf_isotm = ds['SLF_ISOTM'].sel(time=slice('0001-04-01', '0002-03-01'))\n",
    "ds['SLF_ISOTM_AVG'] = slf_isotm.mean(dim = 'time', skipna=True)"
   ]
  },
  {
   "cell_type": "code",
   "execution_count": 15,
   "metadata": {},
   "outputs": [],
   "source": [
    "slf_isotm = ds['SLF_ISOTM_AVG']"
   ]
  },
  {
   "cell_type": "markdown",
   "metadata": {},
   "source": [
    "Plot the global SLF at each isotherm"
   ]
  },
  {
   "cell_type": "code",
   "execution_count": 102,
   "metadata": {},
   "outputs": [
    {
     "data": {
      "text/plain": [
       "<Figure size 1440x720 with 0 Axes>"
      ]
     },
     "metadata": {},
     "output_type": "display_data"
    }
   ],
   "source": [
    "fig1, axes1 = plt.subplots(nrows=3,ncols=3, subplot_kw={'projection': ccrs.PlateCarree()}, figsize=[20,10]);\n",
    "\n",
    "cmin_p = np.nanmin(slf_isotm)\n",
    "cmax_p = np.nanmax(slf_isotm)\n",
    "\n",
    "cmap_p = 'bwr'\n",
    "nlevels = 41\n",
    "cmap2 = plt.get_cmap(cmap_p)\n",
    "\n",
    "if cmin_p == cmax_p:\n",
    "   cmax_p = cmax_p + 0.00001\n",
    "\n",
    "levels = np.linspace(cmin_p,cmax_p,nlevels)\n",
    "\n",
    "for data, ax in zip(slf_isotm, axes1.flatten()):\n",
    "    iso = data['isotherms_mpc'].values - 273.15\n",
    "    map = data.plot(ax=ax, transform=ccrs.PlateCarree(), cmap='bwr', robust=True, add_colorbar = False, levels=levels)\n",
    "\n",
    "    ax.set_title('SLF at %s' % str(iso), fontsize=18)\n",
    "    ax.coastlines()\n",
    "cb_ax = fig1.add_axes([0.325, 0.05, 0.4, 0.04])\n",
    "\n",
    "cbar = plt.colorbar(map, cax=cb_ax, extend='both', orientation='horizontal', fraction=0.046, pad=0.04)\n",
    "cbar.ax.tick_params(labelsize=22)\n",
    "cbar.ax.set_xlabel('Supercooled Liquid Fraction', fontsize=16)\n",
    "\n",
    "fig1.suptitle('SLF distribution across isotherms', fontsize=28)\n",
    "\n",
    "filename = \"noresm_slf_isotherms.png\"\n",
    "plt.savefig(save_to + filename,format = 'png', dpi = 200)\n",
    "plt.clf()"
   ]
  },
  {
   "cell_type": "code",
   "execution_count": 17,
   "metadata": {},
   "outputs": [],
   "source": [
    "_wgs = ds['TS'].copy()\n",
    "_wgs = (_wgs * 0 + 1) * gw # copy gw into the 2d array\n",
    "_wgs = _wgs / np.sum(_wgs)  # Normalize\n",
    "_wgs.name = 'cell_weight'\n",
    "\n",
    "ds['cell_weight'] = _wgs"
   ]
  },
  {
   "cell_type": "code",
   "execution_count": 18,
   "metadata": {},
   "outputs": [],
   "source": [
    "mask = np.bitwise_or(ds['lat']<70, ds['lat']>90)"
   ]
  },
  {
   "cell_type": "code",
   "execution_count": 68,
   "metadata": {},
   "outputs": [
    {
     "name": "stdout",
     "output_type": "stream",
     "text": [
      "SLF at -40.0 is  0.5616194389781489\n",
      "SLF at -35.0 is  7.450646799664179\n",
      "SLF at -30.0 is  8.948410228827235\n",
      "SLF at -25.0 is  12.320967587077423\n",
      "SLF at -20.0 is  20.70925097036171\n",
      "SLF at -15.0 is  32.392769621032066\n",
      "SLF at -10.0 is  46.99969184039775\n",
      "SLF at -5.0 is  67.80058221313752\n",
      "SLF at 0.0 is  84.65056139559708\n"
     ]
    }
   ],
   "source": [
    "_dict = {}\n",
    "glob_slf_trend = []\n",
    "arc_slf_trend = []\n",
    "for data in slf_isotm:\n",
    "    arc_mean = masked_average(data, dim=['lat','lon'], weights=ds['cell_weight'], mask=mask)\n",
    "    glob_mean = masked_average(data, dim=['lat','lon'], weights=ds['cell_weight'])\n",
    "    iso = data['isotherms_mpc'].values - 273.15\n",
    "    slf = arc_mean.values[0]*100\n",
    "    slf2 = glob_mean.values[0]*100\n",
    "    print('SLF at %s is ' % str(iso), slf)\n",
    "    arc_slf_trend.append([iso, slf])\n",
    "    glob_slf_trend.append([iso, slf2])\n",
    "arc_slf_trend = np.transpose(arc_slf_trend)\n",
    "glob_slf_trend = np.transpose(glob_slf_trend)\n",
    "_dict['isotherm'] = arc_slf_trend[0]\n",
    "_dict['NorESM 70N-90N'] = arc_slf_trend[1]\n",
    "_dict['NorESM Global Average'] = glob_slf_trend[1]"
   ]
  },
  {
   "cell_type": "code",
   "execution_count": 69,
   "metadata": {},
   "outputs": [
    {
     "data": {
      "text/html": [
       "<div>\n",
       "<style scoped>\n",
       "    .dataframe tbody tr th:only-of-type {\n",
       "        vertical-align: middle;\n",
       "    }\n",
       "\n",
       "    .dataframe tbody tr th {\n",
       "        vertical-align: top;\n",
       "    }\n",
       "\n",
       "    .dataframe thead th {\n",
       "        text-align: right;\n",
       "    }\n",
       "</style>\n",
       "<table border=\"1\" class=\"dataframe\">\n",
       "  <thead>\n",
       "    <tr style=\"text-align: right;\">\n",
       "      <th></th>\n",
       "      <th>isotherm</th>\n",
       "      <th>NorESM 70N-90N</th>\n",
       "      <th>NorESM Global Average</th>\n",
       "    </tr>\n",
       "  </thead>\n",
       "  <tbody>\n",
       "    <tr>\n",
       "      <td>0</td>\n",
       "      <td>-40.0</td>\n",
       "      <td>0.561619</td>\n",
       "      <td>0.714611</td>\n",
       "    </tr>\n",
       "    <tr>\n",
       "      <td>1</td>\n",
       "      <td>-35.0</td>\n",
       "      <td>7.450647</td>\n",
       "      <td>4.394486</td>\n",
       "    </tr>\n",
       "    <tr>\n",
       "      <td>2</td>\n",
       "      <td>-30.0</td>\n",
       "      <td>8.948410</td>\n",
       "      <td>7.023525</td>\n",
       "    </tr>\n",
       "    <tr>\n",
       "      <td>3</td>\n",
       "      <td>-25.0</td>\n",
       "      <td>12.320968</td>\n",
       "      <td>10.579543</td>\n",
       "    </tr>\n",
       "    <tr>\n",
       "      <td>4</td>\n",
       "      <td>-20.0</td>\n",
       "      <td>20.709251</td>\n",
       "      <td>15.562775</td>\n",
       "    </tr>\n",
       "    <tr>\n",
       "      <td>5</td>\n",
       "      <td>-15.0</td>\n",
       "      <td>32.392770</td>\n",
       "      <td>26.998275</td>\n",
       "    </tr>\n",
       "    <tr>\n",
       "      <td>6</td>\n",
       "      <td>-10.0</td>\n",
       "      <td>46.999692</td>\n",
       "      <td>35.232541</td>\n",
       "    </tr>\n",
       "    <tr>\n",
       "      <td>7</td>\n",
       "      <td>-5.0</td>\n",
       "      <td>67.800582</td>\n",
       "      <td>53.402296</td>\n",
       "    </tr>\n",
       "    <tr>\n",
       "      <td>8</td>\n",
       "      <td>0.0</td>\n",
       "      <td>84.650561</td>\n",
       "      <td>86.672819</td>\n",
       "    </tr>\n",
       "  </tbody>\n",
       "</table>\n",
       "</div>"
      ],
      "text/plain": [
       "   isotherm  NorESM 70N-90N  NorESM Global Average\n",
       "0     -40.0        0.561619               0.714611\n",
       "1     -35.0        7.450647               4.394486\n",
       "2     -30.0        8.948410               7.023525\n",
       "3     -25.0       12.320968              10.579543\n",
       "4     -20.0       20.709251              15.562775\n",
       "5     -15.0       32.392770              26.998275\n",
       "6     -10.0       46.999692              35.232541\n",
       "7      -5.0       67.800582              53.402296\n",
       "8       0.0       84.650561              86.672819"
      ]
     },
     "execution_count": 69,
     "metadata": {},
     "output_type": "execute_result"
    }
   ],
   "source": [
    "df = pd.DataFrame(_dict) \n",
    "df"
   ]
  },
  {
   "cell_type": "markdown",
   "metadata": {},
   "source": [
    "Overlap CALIOP data with NorESM output"
   ]
  },
  {
   "cell_type": "code",
   "execution_count": 72,
   "metadata": {},
   "outputs": [],
   "source": [
    "spaced = []\n",
    "spaced2 = []\n",
    "\n",
    "#_caliop_isos = all_caliop['Isotherm'].values\n",
    "\n",
    "_caliop_isos = all_caliop.index\n",
    "\n",
    "_caliop_arc_slfs = all_caliop['90N-70N'].values\n",
    "_caliop_glob_slfs = all_caliop['Weighted Avg'].values\n",
    "#_caliop_isos = caliop_arc['Isotherm'].values\n",
    "#_caliop_slfs = caliop_arc['SLF'].values\n",
    "for i in _dict['isotherm']:\n",
    "    if i in _caliop_isos:\n",
    "        j = np.where(_caliop_isos == i)\n",
    "        spaced.append(_caliop_arc_slfs[j][0])\n",
    "        spaced2.append(_caliop_glob_slfs[j][0])\n",
    "    else: \n",
    "        spaced.append(None)\n",
    "        spaced2.append(None)        "
   ]
  },
  {
   "cell_type": "code",
   "execution_count": 79,
   "metadata": {},
   "outputs": [
    {
     "data": {
      "text/html": [
       "<div>\n",
       "<style scoped>\n",
       "    .dataframe tbody tr th:only-of-type {\n",
       "        vertical-align: middle;\n",
       "    }\n",
       "\n",
       "    .dataframe tbody tr th {\n",
       "        vertical-align: top;\n",
       "    }\n",
       "\n",
       "    .dataframe thead th {\n",
       "        text-align: right;\n",
       "    }\n",
       "</style>\n",
       "<table border=\"1\" class=\"dataframe\">\n",
       "  <thead>\n",
       "    <tr style=\"text-align: right;\">\n",
       "      <th></th>\n",
       "      <th>isotherm</th>\n",
       "      <th>NorESM 70N-90N</th>\n",
       "      <th>NorESM Global Average</th>\n",
       "      <th>CALIOP 70N-90N</th>\n",
       "      <th>CALIOP Global Average</th>\n",
       "      <th>NorESM Error</th>\n",
       "      <th>Arctic Error</th>\n",
       "      <th>Global Error</th>\n",
       "    </tr>\n",
       "  </thead>\n",
       "  <tbody>\n",
       "    <tr>\n",
       "      <td>0</td>\n",
       "      <td>-40.0</td>\n",
       "      <td>0.561619</td>\n",
       "      <td>0.714611</td>\n",
       "      <td>0.0</td>\n",
       "      <td>0.000000</td>\n",
       "      <td>0.561619</td>\n",
       "      <td>0.561619</td>\n",
       "      <td>0.714611</td>\n",
       "    </tr>\n",
       "    <tr>\n",
       "      <td>1</td>\n",
       "      <td>-35.0</td>\n",
       "      <td>7.450647</td>\n",
       "      <td>4.394486</td>\n",
       "      <td>NaN</td>\n",
       "      <td>NaN</td>\n",
       "      <td>NaN</td>\n",
       "      <td>NaN</td>\n",
       "      <td>NaN</td>\n",
       "    </tr>\n",
       "    <tr>\n",
       "      <td>2</td>\n",
       "      <td>-30.0</td>\n",
       "      <td>8.948410</td>\n",
       "      <td>7.023525</td>\n",
       "      <td>6.0</td>\n",
       "      <td>5.578054</td>\n",
       "      <td>2.948410</td>\n",
       "      <td>2.948410</td>\n",
       "      <td>1.445471</td>\n",
       "    </tr>\n",
       "    <tr>\n",
       "      <td>3</td>\n",
       "      <td>-25.0</td>\n",
       "      <td>12.320968</td>\n",
       "      <td>10.579543</td>\n",
       "      <td>NaN</td>\n",
       "      <td>NaN</td>\n",
       "      <td>NaN</td>\n",
       "      <td>NaN</td>\n",
       "      <td>NaN</td>\n",
       "    </tr>\n",
       "    <tr>\n",
       "      <td>4</td>\n",
       "      <td>-20.0</td>\n",
       "      <td>20.709251</td>\n",
       "      <td>15.562775</td>\n",
       "      <td>31.0</td>\n",
       "      <td>28.670216</td>\n",
       "      <td>-10.290749</td>\n",
       "      <td>-10.290749</td>\n",
       "      <td>-13.107442</td>\n",
       "    </tr>\n",
       "    <tr>\n",
       "      <td>5</td>\n",
       "      <td>-15.0</td>\n",
       "      <td>32.392770</td>\n",
       "      <td>26.998275</td>\n",
       "      <td>NaN</td>\n",
       "      <td>NaN</td>\n",
       "      <td>NaN</td>\n",
       "      <td>NaN</td>\n",
       "      <td>NaN</td>\n",
       "    </tr>\n",
       "    <tr>\n",
       "      <td>6</td>\n",
       "      <td>-10.0</td>\n",
       "      <td>46.999692</td>\n",
       "      <td>35.232541</td>\n",
       "      <td>55.0</td>\n",
       "      <td>61.357769</td>\n",
       "      <td>-8.000308</td>\n",
       "      <td>-8.000308</td>\n",
       "      <td>-26.125227</td>\n",
       "    </tr>\n",
       "    <tr>\n",
       "      <td>7</td>\n",
       "      <td>-5.0</td>\n",
       "      <td>67.800582</td>\n",
       "      <td>53.402296</td>\n",
       "      <td>NaN</td>\n",
       "      <td>NaN</td>\n",
       "      <td>NaN</td>\n",
       "      <td>NaN</td>\n",
       "      <td>NaN</td>\n",
       "    </tr>\n",
       "    <tr>\n",
       "      <td>8</td>\n",
       "      <td>0.0</td>\n",
       "      <td>84.650561</td>\n",
       "      <td>86.672819</td>\n",
       "      <td>100.0</td>\n",
       "      <td>100.000000</td>\n",
       "      <td>-15.349439</td>\n",
       "      <td>-15.349439</td>\n",
       "      <td>-13.327181</td>\n",
       "    </tr>\n",
       "  </tbody>\n",
       "</table>\n",
       "</div>"
      ],
      "text/plain": [
       "   isotherm  NorESM 70N-90N  NorESM Global Average  CALIOP 70N-90N  \\\n",
       "0     -40.0        0.561619               0.714611             0.0   \n",
       "1     -35.0        7.450647               4.394486             NaN   \n",
       "2     -30.0        8.948410               7.023525             6.0   \n",
       "3     -25.0       12.320968              10.579543             NaN   \n",
       "4     -20.0       20.709251              15.562775            31.0   \n",
       "5     -15.0       32.392770              26.998275             NaN   \n",
       "6     -10.0       46.999692              35.232541            55.0   \n",
       "7      -5.0       67.800582              53.402296             NaN   \n",
       "8       0.0       84.650561              86.672819           100.0   \n",
       "\n",
       "   CALIOP Global Average  NorESM Error  Arctic Error  Global Error  \n",
       "0               0.000000      0.561619      0.561619      0.714611  \n",
       "1                    NaN           NaN           NaN           NaN  \n",
       "2               5.578054      2.948410      2.948410      1.445471  \n",
       "3                    NaN           NaN           NaN           NaN  \n",
       "4              28.670216    -10.290749    -10.290749    -13.107442  \n",
       "5                    NaN           NaN           NaN           NaN  \n",
       "6              61.357769     -8.000308     -8.000308    -26.125227  \n",
       "7                    NaN           NaN           NaN           NaN  \n",
       "8             100.000000    -15.349439    -15.349439    -13.327181  "
      ]
     },
     "execution_count": 79,
     "metadata": {},
     "output_type": "execute_result"
    }
   ],
   "source": [
    "df['CALIOP 70N-90N'] = spaced\n",
    "df['CALIOP Global Average'] = spaced2\n",
    "df['Arctic Error'] = df['NorESM 70N-90N'] - df['CALIOP 70N-90N']\n",
    "df['Global Error'] = df['NorESM Global Average'] - df['CALIOP Global Average']\n",
    "\n",
    "df_clean = df.dropna()\n",
    "df"
   ]
  },
  {
   "cell_type": "code",
   "execution_count": 106,
   "metadata": {},
   "outputs": [
    {
     "ename": "AttributeError",
     "evalue": "'AxesSubplot' object has no attribute 'get_ytickmarks'",
     "output_type": "error",
     "traceback": [
      "\u001b[0;31m---------------------------------------------------------------------------\u001b[0m",
      "\u001b[0;31mAttributeError\u001b[0m                            Traceback (most recent call last)",
      "\u001b[0;32m<ipython-input-106-ededad4ff274>\u001b[0m in \u001b[0;36m<module>\u001b[0;34m\u001b[0m\n\u001b[1;32m      5\u001b[0m \u001b[0maxes\u001b[0m \u001b[0;34m=\u001b[0m \u001b[0;34m[\u001b[0m\u001b[0mf1_ax1\u001b[0m\u001b[0;34m,\u001b[0m \u001b[0mf1_ax2\u001b[0m\u001b[0;34m]\u001b[0m\u001b[0;34m\u001b[0m\u001b[0;34m\u001b[0m\u001b[0m\n\u001b[1;32m      6\u001b[0m \u001b[0mplt\u001b[0m\u001b[0;34m.\u001b[0m\u001b[0msetp\u001b[0m\u001b[0;34m(\u001b[0m\u001b[0mf1_ax2\u001b[0m\u001b[0;34m.\u001b[0m\u001b[0mget_yticklabels\u001b[0m\u001b[0;34m(\u001b[0m\u001b[0;34m)\u001b[0m\u001b[0;34m,\u001b[0m \u001b[0mvisible\u001b[0m\u001b[0;34m=\u001b[0m\u001b[0;32mFalse\u001b[0m\u001b[0;34m)\u001b[0m\u001b[0;34m\u001b[0m\u001b[0;34m\u001b[0m\u001b[0m\n\u001b[0;32m----> 7\u001b[0;31m \u001b[0mplt\u001b[0m\u001b[0;34m.\u001b[0m\u001b[0msetp\u001b[0m\u001b[0;34m(\u001b[0m\u001b[0mf1_ax2\u001b[0m\u001b[0;34m.\u001b[0m\u001b[0mget_ytickmarks\u001b[0m\u001b[0;34m(\u001b[0m\u001b[0;34m)\u001b[0m\u001b[0;34m,\u001b[0m \u001b[0mvisible\u001b[0m\u001b[0;34m=\u001b[0m\u001b[0;32mFalse\u001b[0m\u001b[0;34m)\u001b[0m\u001b[0;34m\u001b[0m\u001b[0;34m\u001b[0m\u001b[0m\n\u001b[0m\u001b[1;32m      8\u001b[0m \u001b[0;34m\u001b[0m\u001b[0m\n\u001b[1;32m      9\u001b[0m \u001b[0;31m#fig1.gca().invert_yaxis()\u001b[0m\u001b[0;34m\u001b[0m\u001b[0;34m\u001b[0m\u001b[0;34m\u001b[0m\u001b[0m\n",
      "\u001b[0;31mAttributeError\u001b[0m: 'AxesSubplot' object has no attribute 'get_ytickmarks'"
     ]
    },
    {
     "data": {
      "image/png": "[encoded data removed]",
      "text/plain": [
       "<Figure size 720x432 with 2 Axes>"
      ]
     },
     "metadata": {
      "needs_background": "light"
     },
     "output_type": "display_data"
    }
   ],
   "source": [
    "fig1 = plt.figure(figsize=(10,6))#constrained_layout=True)\n",
    "spec1 = GridSpec(ncols=3, nrows=1, figure=fig1)#, hspace=0.4)\n",
    "f1_ax1 = fig1.add_subplot(spec1[0, :-1])\n",
    "f1_ax2 = fig1.add_subplot(spec1[0, -1], sharey=f1_ax1)\n",
    "axes = [f1_ax1, f1_ax2]\n",
    "plt.setp(f1_ax2.get_yticklabels(), visible=False)\n",
    "\n",
    "#fig1.gca().invert_yaxis()\n",
    "f1_ax1.invert_yaxis()\n",
    "f1_ax1.plot(df['NorESM 70N-90N'], df['isotherm'], label='Arctic >70N')\n",
    "f1_ax1.plot(df['NorESM Global Average'], df['isotherm'], label='Global Average')\n",
    "f1_ax1.scatter(df['CALIOP 70N-90N'], df['isotherm'], label='CALIOP 70N-90N', c='b')\n",
    "f1_ax1.scatter(df['CALIOP Global Average'], df['isotherm'], label='CALIOP Global Avg.', c='orange')\n",
    "\n",
    "f1_ax1.legend()\n",
    "f1_ax1.set_title('Supercooled Liquid Fraction Comparison'); f1_ax1.set_ylabel('Isotherm (C)'); f1_ax1.set_xlabel('SLF (%)')\n",
    "\n",
    "f1_ax2.invert_yaxis()\n",
    "f1_ax2.scatter(df['Arctic Error'], df['isotherm'], c='b')\n",
    "f1_ax2.scatter(df['Global Error'], df['isotherm'], c='orange')\n",
    "f1_ax2.set_xlim((-30,10))\n",
    "f1_ax2.set_title('NorESM error'); f1_ax2.set_xlabel('SLF Error (%)')\n",
    "\n",
    "x1 = df_clean['Arctic Error']; y1 = df_clean['isotherm'];\n",
    "coef = np.polyfit(x1,y1,1)\n",
    "poly1d_fn = np.poly1d(coef) \n",
    "f1_ax2.plot(x1, poly1d_fn(x1), color='b')\n",
    "\n",
    "x2 = df_clean['Global Error']; y2 = df_clean['isotherm'];\n",
    "coef = np.polyfit(x2,y2,1)\n",
    "poly1d_fn = np.poly1d(coef) \n",
    "f1_ax2.plot(x2, poly1d_fn(x2), color='orange')"
   ]
  },
  {
   "cell_type": "code",
   "execution_count": 103,
   "metadata": {},
   "outputs": [
    {
     "data": {
      "text/plain": [
       "<Figure size 720x432 with 0 Axes>"
      ]
     },
     "metadata": {},
     "output_type": "display_data"
    }
   ],
   "source": [
    "filename = \"slf_comparison.png\"\n",
    "plt.savefig(save_to + filename,format = 'png', dpi = 200)\n",
    "plt.clf()"
   ]
  },
  {
   "cell_type": "code",
   "execution_count": 24,
   "metadata": {},
   "outputs": [
    {
     "data": {
      "text/plain": [
       "['MPC_CALIOP_90N-70N.dat',\n",
       " 'MPC_CALIOP_70S-90S.dat',\n",
       " 'MPC_CALIOP_10S-30S.dat',\n",
       " 'MPC_CALIOP_10N-10S.dat',\n",
       " 'MPC_CALIOP_30S-50S.dat',\n",
       " 'MPC_CALIOP_30N-10N.dat',\n",
       " 'MPC_CALIOP_50S-70S.dat',\n",
       " 'MPC_CALIOP_50N-30N.dat',\n",
       " 'MPC_CALIOP_70N-50N.dat']"
      ]
     },
     "execution_count": 24,
     "metadata": {},
     "output_type": "execute_result"
    }
   ],
   "source": [
    "os.chdir('/home/jonahks/drivemount/caliop_slfs/')\n",
    "files = os.listdir()\n",
    "files"
   ]
  },
  {
   "cell_type": "code",
   "execution_count": 65,
   "metadata": {},
   "outputs": [
    {
     "data": {
      "text/html": [
       "<div>\n",
       "<style scoped>\n",
       "    .dataframe tbody tr th:only-of-type {\n",
       "        vertical-align: middle;\n",
       "    }\n",
       "\n",
       "    .dataframe tbody tr th {\n",
       "        vertical-align: top;\n",
       "    }\n",
       "\n",
       "    .dataframe thead th {\n",
       "        text-align: right;\n",
       "    }\n",
       "</style>\n",
       "<table border=\"1\" class=\"dataframe\">\n",
       "  <thead>\n",
       "    <tr style=\"text-align: right;\">\n",
       "      <th></th>\n",
       "      <th>90N-70N</th>\n",
       "      <th>70S-90S</th>\n",
       "      <th>10S-30S</th>\n",
       "      <th>10N-10S</th>\n",
       "      <th>30S-50S</th>\n",
       "      <th>30N-10N</th>\n",
       "      <th>50S-70S</th>\n",
       "      <th>50N-30N</th>\n",
       "      <th>70N-50N</th>\n",
       "      <th>Weighted Avg</th>\n",
       "    </tr>\n",
       "    <tr>\n",
       "      <th>Isotherm</th>\n",
       "      <th></th>\n",
       "      <th></th>\n",
       "      <th></th>\n",
       "      <th></th>\n",
       "      <th></th>\n",
       "      <th></th>\n",
       "      <th></th>\n",
       "      <th></th>\n",
       "      <th></th>\n",
       "      <th></th>\n",
       "    </tr>\n",
       "  </thead>\n",
       "  <tbody>\n",
       "    <tr>\n",
       "      <td>-40</td>\n",
       "      <td>0</td>\n",
       "      <td>0</td>\n",
       "      <td>0</td>\n",
       "      <td>0</td>\n",
       "      <td>0</td>\n",
       "      <td>0</td>\n",
       "      <td>0</td>\n",
       "      <td>0</td>\n",
       "      <td>0</td>\n",
       "      <td>0.000000</td>\n",
       "    </tr>\n",
       "    <tr>\n",
       "      <td>-30</td>\n",
       "      <td>6</td>\n",
       "      <td>12</td>\n",
       "      <td>6</td>\n",
       "      <td>4</td>\n",
       "      <td>7</td>\n",
       "      <td>5</td>\n",
       "      <td>9</td>\n",
       "      <td>3</td>\n",
       "      <td>5</td>\n",
       "      <td>5.578054</td>\n",
       "    </tr>\n",
       "    <tr>\n",
       "      <td>-20</td>\n",
       "      <td>31</td>\n",
       "      <td>39</td>\n",
       "      <td>32</td>\n",
       "      <td>26</td>\n",
       "      <td>30</td>\n",
       "      <td>28</td>\n",
       "      <td>37</td>\n",
       "      <td>21</td>\n",
       "      <td>26</td>\n",
       "      <td>28.670216</td>\n",
       "    </tr>\n",
       "    <tr>\n",
       "      <td>-10</td>\n",
       "      <td>55</td>\n",
       "      <td>61</td>\n",
       "      <td>64</td>\n",
       "      <td>62</td>\n",
       "      <td>60</td>\n",
       "      <td>63</td>\n",
       "      <td>70</td>\n",
       "      <td>56</td>\n",
       "      <td>56</td>\n",
       "      <td>61.357769</td>\n",
       "    </tr>\n",
       "    <tr>\n",
       "      <td>0</td>\n",
       "      <td>100</td>\n",
       "      <td>100</td>\n",
       "      <td>100</td>\n",
       "      <td>100</td>\n",
       "      <td>100</td>\n",
       "      <td>100</td>\n",
       "      <td>100</td>\n",
       "      <td>100</td>\n",
       "      <td>100</td>\n",
       "      <td>100.000000</td>\n",
       "    </tr>\n",
       "  </tbody>\n",
       "</table>\n",
       "</div>"
      ],
      "text/plain": [
       "          90N-70N  70S-90S  10S-30S  10N-10S  30S-50S  30N-10N  50S-70S  \\\n",
       "Isotherm                                                                  \n",
       "-40             0        0        0        0        0        0        0   \n",
       "-30             6       12        6        4        7        5        9   \n",
       "-20            31       39       32       26       30       28       37   \n",
       "-10            55       61       64       62       60       63       70   \n",
       " 0            100      100      100      100      100      100      100   \n",
       "\n",
       "          50N-30N  70N-50N  Weighted Avg  \n",
       "Isotherm                                  \n",
       "-40             0        0      0.000000  \n",
       "-30             3        5      5.578054  \n",
       "-20            21       26     28.670216  \n",
       "-10            56       56     61.357769  \n",
       " 0            100      100    100.000000  "
      ]
     },
     "execution_count": 65,
     "metadata": {},
     "output_type": "execute_result"
    }
   ],
   "source": [
    "all_caliop = pd.DataFrame()\n",
    "weights = 0; avg = np.zeros(5);\n",
    "for file in files:\n",
    "    _name = file[11:-4]\n",
    "    _weight = interpretNS(_name)\n",
    "    _slice = pd.read_table(file, sep=\"\\s+\", names=['Isotherm', _name])\n",
    "    all_caliop = pd.concat([all_caliop, _slice[_name]], axis=1, sort=False)\n",
    "\n",
    "    # Do the averaging\n",
    "    avg += _weight * _slice[_name]\n",
    "    weights += _weight\n",
    "all_caliop = pd.concat([all_caliop, _slice['Isotherm']], axis=1, sort=False)\n",
    "all_caliop = all_caliop.set_index('Isotherm')\n",
    "all_caliop['Weighted Avg'] = np.array(avg / weights)\n",
    "all_caliop"
   ]
  },
  {
   "cell_type": "markdown",
   "metadata": {},
   "source": [
    "Function interprets the data name"
   ]
  },
  {
   "cell_type": "code",
   "execution_count": 55,
   "metadata": {},
   "outputs": [
    {
     "data": {
      "text/html": [
       "<div>\n",
       "<style scoped>\n",
       "    .dataframe tbody tr th:only-of-type {\n",
       "        vertical-align: middle;\n",
       "    }\n",
       "\n",
       "    .dataframe tbody tr th {\n",
       "        vertical-align: top;\n",
       "    }\n",
       "\n",
       "    .dataframe thead th {\n",
       "        text-align: right;\n",
       "    }\n",
       "</style>\n",
       "<table border=\"1\" class=\"dataframe\">\n",
       "  <thead>\n",
       "    <tr style=\"text-align: right;\">\n",
       "      <th></th>\n",
       "      <th>90-70N</th>\n",
       "      <th>10N-10S</th>\n",
       "      <th>10-30S</th>\n",
       "      <th>50-70S</th>\n",
       "      <th>50-30N</th>\n",
       "      <th>70-50N</th>\n",
       "      <th>70-90S</th>\n",
       "      <th>30-50S</th>\n",
       "      <th>30-10N</th>\n",
       "      <th>AVG</th>\n",
       "    </tr>\n",
       "    <tr>\n",
       "      <th>Isotherm</th>\n",
       "      <th></th>\n",
       "      <th></th>\n",
       "      <th></th>\n",
       "      <th></th>\n",
       "      <th></th>\n",
       "      <th></th>\n",
       "      <th></th>\n",
       "      <th></th>\n",
       "      <th></th>\n",
       "      <th></th>\n",
       "    </tr>\n",
       "  </thead>\n",
       "  <tbody>\n",
       "    <tr>\n",
       "      <td>-40</td>\n",
       "      <td>0</td>\n",
       "      <td>0</td>\n",
       "      <td>0</td>\n",
       "      <td>0</td>\n",
       "      <td>0</td>\n",
       "      <td>0</td>\n",
       "      <td>0</td>\n",
       "      <td>0</td>\n",
       "      <td>0</td>\n",
       "      <td>0.000000</td>\n",
       "    </tr>\n",
       "    <tr>\n",
       "      <td>-30</td>\n",
       "      <td>6</td>\n",
       "      <td>4</td>\n",
       "      <td>6</td>\n",
       "      <td>9</td>\n",
       "      <td>3</td>\n",
       "      <td>5</td>\n",
       "      <td>12</td>\n",
       "      <td>7</td>\n",
       "      <td>5</td>\n",
       "      <td>6.333333</td>\n",
       "    </tr>\n",
       "    <tr>\n",
       "      <td>-20</td>\n",
       "      <td>31</td>\n",
       "      <td>26</td>\n",
       "      <td>32</td>\n",
       "      <td>37</td>\n",
       "      <td>21</td>\n",
       "      <td>26</td>\n",
       "      <td>39</td>\n",
       "      <td>30</td>\n",
       "      <td>28</td>\n",
       "      <td>30.000000</td>\n",
       "    </tr>\n",
       "    <tr>\n",
       "      <td>-10</td>\n",
       "      <td>55</td>\n",
       "      <td>62</td>\n",
       "      <td>64</td>\n",
       "      <td>70</td>\n",
       "      <td>56</td>\n",
       "      <td>56</td>\n",
       "      <td>61</td>\n",
       "      <td>60</td>\n",
       "      <td>63</td>\n",
       "      <td>60.777778</td>\n",
       "    </tr>\n",
       "    <tr>\n",
       "      <td>0</td>\n",
       "      <td>100</td>\n",
       "      <td>100</td>\n",
       "      <td>100</td>\n",
       "      <td>100</td>\n",
       "      <td>100</td>\n",
       "      <td>100</td>\n",
       "      <td>100</td>\n",
       "      <td>100</td>\n",
       "      <td>100</td>\n",
       "      <td>100.000000</td>\n",
       "    </tr>\n",
       "  </tbody>\n",
       "</table>\n",
       "</div>"
      ],
      "text/plain": [
       "          90-70N  10N-10S  10-30S  50-70S  50-30N  70-50N  70-90S  30-50S  \\\n",
       "Isotherm                                                                    \n",
       "-40            0        0       0       0       0       0       0       0   \n",
       "-30            6        4       6       9       3       5      12       7   \n",
       "-20           31       26      32      37      21      26      39      30   \n",
       "-10           55       62      64      70      56      56      61      60   \n",
       " 0           100      100     100     100     100     100     100     100   \n",
       "\n",
       "          30-10N         AVG  \n",
       "Isotherm                      \n",
       "-40            0    0.000000  \n",
       "-30            5    6.333333  \n",
       "-20           28   30.000000  \n",
       "-10           63   60.777778  \n",
       " 0           100  100.000000  "
      ]
     },
     "execution_count": 55,
     "metadata": {},
     "output_type": "execute_result"
    }
   ],
   "source": [
    "all_caliop['Weighted AVG'] = np.nanmean(all_caliop, axis = 1)\n",
    "all_caliop"
   ]
  },
  {
   "cell_type": "code",
   "execution_count": 85,
   "metadata": {},
   "outputs": [
    {
     "data": {
      "text/plain": [
       "[<matplotlib.lines.Line2D at 0x7ff12ea772b0>]"
      ]
     },
     "execution_count": 85,
     "metadata": {},
     "output_type": "execute_result"
    },
    {
     "data": {
      "image/png": "[encoded data removed]",
      "text/plain": [
       "<Figure size 432x288 with 1 Axes>"
      ]
     },
     "metadata": {
      "needs_background": "light"
     },
     "output_type": "display_data"
    }
   ],
   "source": [
    "plt.gca().invert_yaxis()\n",
    "plt.plot(caliop_arc['SLF'], caliop_arc['Isotherm'])"
   ]
  },
  {
   "cell_type": "code",
   "execution_count": 199,
   "metadata": {},
   "outputs": [
    {
     "name": "stdout",
     "output_type": "stream",
     "text": [
      "SLF at -40.0 is  [1.19741687]\n",
      "SLF at -35.0 is  [6.37842616]\n",
      "SLF at -30.0 is  [8.69901934]\n",
      "SLF at -25.0 is  [13.11064629]\n",
      "SLF at -20.0 is  [18.50281827]\n",
      "SLF at -15.0 is  [29.34061534]\n",
      "SLF at -10.0 is  [38.43012017]\n",
      "SLF at -5.0 is  [54.78347867]\n",
      "SLF at 0.0 is  [87.41093273]\n"
     ]
    }
   ],
   "source": [
    "for data in slf_isotm:\n",
    "    arc_mean = masked_average(data, dim=['lat','lon'], weights=ds['cell_weight'])\n",
    "    iso = data['isotherms_mpc'].values - 273.15\n",
    "    print('SLF at %s is ' % str(iso), arc_mean.values*100)"
   ]
  }
 ],
 "metadata": {
  "kernelspec": {
   "display_name": "Python 3",
   "language": "python",
   "name": "python3"
  },
  "language_info": {
   "codemirror_mode": {
    "name": "ipython",
    "version": 3
   },
   "file_extension": ".py",
   "mimetype": "text/x-python",
   "name": "python",
   "nbconvert_exporter": "python",
   "pygments_lexer": "ipython3",
   "version": "3.7.3"
  }
 },
 "nbformat": 4,
 "nbformat_minor": 4
}
