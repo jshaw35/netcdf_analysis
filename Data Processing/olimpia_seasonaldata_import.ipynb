{
 "cells": [
  {
   "cell_type": "markdown",
   "metadata": {},
   "source": [
    "## Implementing cloud-top phase retrievals\n",
    "New data from Olimpia (through Trude) is organized differently. I need to write it to a .nc format so I can make quick comparisons."
   ]
  },
  {
   "cell_type": "code",
   "execution_count": 3,
   "metadata": {},
   "outputs": [],
   "source": [
    "import sys\n",
    "# Add common resources folder to path\n",
    "sys.path.append(\"/mnt/mcc-ns9600k/jonahks/git_repos/netcdf_analysis/Common/\")\n",
    "sys.path.append(\"/mnt/mcc-ns9600k/jonahks/git_repos/netcdf_analysis/\")\n",
    "sys.path.append(\"/home/jonahks/git_repos/netcdf_analysis/\")\n",
    "sys.path.append(\"/home/jonahks/git_repos/netcdf_analysis/Common/\")\n",
    "\n",
    "from imports import (\n",
    "    pd, np, xr, mpl, plt, sns, os, \n",
    "    datetime, sys, crt, gridspec,\n",
    "    polyfit, ccrs, LinearRegression, metrics,\n",
    "    datetime\n",
    "    )\n",
    "\n",
    "from functions import (\n",
    "    masked_average, plot_slf_isotherms,\n",
    "    season_mean, add_weights\n",
    "    )\n",
    "\n",
    "%matplotlib inline"
   ]
  },
  {
   "cell_type": "code",
   "execution_count": 4,
   "metadata": {},
   "outputs": [
    {
     "name": "stdout",
     "output_type": "stream",
     "text": [
      "Running through MC2 Jupyter Hub\n"
     ]
    }
   ],
   "source": [
    "host = os.uname()[1]\n",
    "if 'jupyter' in host.split('-'): # Check if running on NIRD through the Jupyter Hub\n",
    "    print('Running through MC2 Jupyter Hub')\n",
    "    model_dir = '/mnt/mcc-ns9600k/jonahks/'\n",
    "    os.chdir(model_dir)\n",
    "\n",
    "else:  # Assume that we're running on a local machine and mounting NIRD\n",
    "    print('Running on %s, attempting to mount ns9600k/jonahks/ from NIRD' % str(host))\n",
    "    os.system('fusermount -zu ~/drivemount/')  # unmount first\n",
    "    os.system('sshfs jonahks@login.nird.sigma2.no:\"p/jonahks/\" ~/drivemount/')    # Calling mountnird from .bashrc doesn't work\n",
    "    os.chdir('/home/jonahks/drivemount/')\n",
    "    save_dir = '~/DATAOUT/'\n",
    "    save_to = os.path.expanduser(save_dir)"
   ]
  },
  {
   "cell_type": "markdown",
   "metadata": {},
   "source": [
    "## Load annual values with new filters (06/11/2020)"
   ]
  },
  {
   "cell_type": "code",
   "execution_count": 5,
   "metadata": {},
   "outputs": [
    {
     "name": "stdout",
     "output_type": "stream",
     "text": [
      "Can access all directory paths: True\n"
     ]
    }
   ],
   "source": [
    "output_dir = 'caliop_olimpia_new/netcdf_format/'\n",
    "bulk_obs_dir = \"caliop_olimpia_new/4_Jonah/bulk3/total/global/\"\n",
    "top_obs_dir = 'caliop_olimpia_new/4_Jonah/top03/total/global/'\n",
    "\n",
    "# Check that each important directory can be accessed:    \n",
    "access_paths = os.path.exists(bulk_obs_dir) and os.path.exists(top_obs_dir) and os.path.exists(output_dir)\n",
    "print('Can access all directory paths:', access_paths)"
   ]
  },
  {
   "cell_type": "code",
   "execution_count": 15,
   "metadata": {},
   "outputs": [
    {
     "data": {
      "text/plain": [
       "['slf_count_geo_bulk.npz', 'read_me.txt', 'count_cph_T.npy', 'slf_T.npy']"
      ]
     },
     "execution_count": 15,
     "metadata": {},
     "output_type": "execute_result"
    }
   ],
   "source": [
    "os.listdir(bulk_obs_dir)"
   ]
  },
  {
   "cell_type": "code",
   "execution_count": 21,
   "metadata": {},
   "outputs": [],
   "source": [
    "_npz = np.load(\"%s%s\" % (bulk_obs_dir, 'slf_count_geo_bulk.npz'))\n",
    "_slf_in = _npz[\"slf_geo\"]\n",
    "_slf_out = np.moveaxis(_slf_in, 0, -1)"
   ]
  },
  {
   "cell_type": "code",
   "execution_count": 48,
   "metadata": {},
   "outputs": [],
   "source": [
    "df = np.zeros((180, 360, 9)) # lat, lon, iso\n",
    "\n",
    "lat = np.linspace(-89.5, 89.5, 180)\n",
    "lon = np.linspace(-180, 179, 360)\n",
    "iso = np.linspace(-40, 0, 9)\n",
    "\n",
    "_npz = np.load(\"%s%s\" % (bulk_obs_dir, 'slf_count_geo_bulk.npz'))\n",
    "_slf_in = _npz[\"slf_geo\"]\n",
    "_slf_out = np.moveaxis(_slf_in, 0, -1)\n",
    "        \n",
    "df[:,:,:] = _slf_out\n",
    "\n",
    "da = xr.DataArray(data=df,\n",
    "                  coords={\"lat\": lat,\n",
    "                          \"lon\": lon,\n",
    "                          \"isotherm\": iso},\n",
    "                  dims=[\"lat\",\"lon\", \"isotherm\"])\n",
    "da = da.sortby('isotherm')\n",
    "\n",
    "da.attrs['long_name'] = \"SLF retrieved by CALIOP from within cloud (TAU: 0.0-3.0) \"\n",
    "da.attrs['units'] = \"Fraction [0-1]\"\n",
    "\n",
    "ds = xr.Dataset()\n",
    "ds['SLF'] = da\n",
    "ds = add_weights(ds)"
   ]
  },
  {
   "cell_type": "code",
   "execution_count": 49,
   "metadata": {},
   "outputs": [],
   "source": [
    "ds.to_netcdf(path='%s/bulk_slfs_annual.nc' % output_dir)"
   ]
  },
  {
   "cell_type": "code",
   "execution_count": 50,
   "metadata": {},
   "outputs": [],
   "source": [
    "df = np.zeros((180, 360, 9)) # lat, lon, iso\n",
    "\n",
    "lat = np.linspace(-89.5, 89.5, 180)\n",
    "lon = np.linspace(-180, 179, 360)\n",
    "iso = np.linspace(-40, 0, 9)\n",
    "\n",
    "_npz = np.load(\"%s%s\" % (top_obs_dir, 'slf_count_geo.npz'))\n",
    "_slf_in = _npz[\"slf_geo\"]\n",
    "_slf_out = np.moveaxis(_slf_in, 0, -1)\n",
    "        \n",
    "df[:,:,:] = _slf_out\n",
    "\n",
    "da = xr.DataArray(data=df,\n",
    "                  coords={\"lat\": lat,\n",
    "                          \"lon\": lon,\n",
    "                          \"isotherm\": iso},\n",
    "                  dims=[\"lat\",\"lon\", \"isotherm\"])\n",
    "da = da.sortby('isotherm')\n",
    "\n",
    "da.attrs['long_name'] = \"SLF retrieved by CALIOP from within cloud (TAU: 0.0-3.0) \"\n",
    "da.attrs['units'] = \"Fraction [0-1]\"\n",
    "\n",
    "ds = xr.Dataset()\n",
    "ds['SLF'] = da\n",
    "ds = add_weights(ds)"
   ]
  },
  {
   "cell_type": "code",
   "execution_count": 51,
   "metadata": {},
   "outputs": [],
   "source": [
    "ds.to_netcdf(path='%s/ct_slfs_annual.nc' % output_dir)"
   ]
  },
  {
   "cell_type": "markdown",
   "metadata": {},
   "source": [
    "## Load seasonal values with new filters (06/11/2020)"
   ]
  },
  {
   "cell_type": "code",
   "execution_count": 21,
   "metadata": {},
   "outputs": [
    {
     "name": "stdout",
     "output_type": "stream",
     "text": [
      "Can access all directory paths: True\n"
     ]
    }
   ],
   "source": [
    "output_dir = 'caliop_olimpia_new/netcdf_format/'\n",
    "bulk_obs_dir = \"caliop_olimpia_new/4_Jonah/bulk3/season/global/\"\n",
    "top_obs_dir = 'caliop_olimpia_new/4_Jonah/top03/season/global/'\n",
    "\n",
    "# Check that each important directory can be accessed:    \n",
    "access_paths = os.path.exists(bulk_obs_dir) and os.path.exists(top_obs_dir) and os.path.exists(output_dir)\n",
    "print('Can access all directory paths:', access_paths)"
   ]
  },
  {
   "cell_type": "code",
   "execution_count": 22,
   "metadata": {},
   "outputs": [
    {
     "data": {
      "text/plain": [
       "['count_T_bulk_season.png',\n",
       " 'read_me.txt',\n",
       " 'SON',\n",
       " 'JJA',\n",
       " 'slf_T_bulk_season.png',\n",
       " 'MAM',\n",
       " 'DJF']"
      ]
     },
     "execution_count": 22,
     "metadata": {},
     "output_type": "execute_result"
    }
   ],
   "source": [
    "os.listdir(bulk_obs_dir)"
   ]
  },
  {
   "cell_type": "markdown",
   "metadata": {},
   "source": [
    "### Bulk-seasonal"
   ]
  },
  {
   "cell_type": "code",
   "execution_count": 23,
   "metadata": {},
   "outputs": [
    {
     "name": "stdout",
     "output_type": "stream",
     "text": [
      "DJF 2010-01-01 00:00:00\n",
      "slf_count_geo_bulk_DJF.npz\n",
      "JJA 2010-07-01 00:00:00\n",
      "slf_count_geo_bulk_JJA.npz\n",
      "MAM 2010-04-01 00:00:00\n",
      "slf_count_geo_bulk_MAM.npz\n",
      "SON 2010-10-01 00:00:00\n",
      "slf_count_geo_bulk_SON.npz\n"
     ]
    }
   ],
   "source": [
    "df = np.zeros((180, 360, 9, 4)) # lat, lon, iso, season\n",
    "\n",
    "lat = np.linspace(-89.5, 89.5, 180)\n",
    "lon = np.linspace(-180, 179, 360)\n",
    "iso = np.linspace(-40, 0, 9)\n",
    "time = [datetime(2010, 1, 1),datetime(2010, 7, 1),datetime(2010, 4, 1),datetime(2010, 10, 1)]\n",
    "season = ['DJF', 'JJA', 'MAM', 'SON'] # weird order\n",
    "season_dict = {'DJF':datetime(2010, 1, 15), 'JJA':datetime(2010, 7, 15), \n",
    "               'MAM':datetime(2010, 4, 15), 'SON':datetime(2010, 10, 15)} # by middle month\n",
    "\n",
    "cal_seasons = os.listdir(bulk_obs_dir)\n",
    "cal_seasons.sort()\n",
    "i=0\n",
    "for season in cal_seasons:\n",
    "    if len(season) == 3: # quickly filter out the README\n",
    "        print(season, time[i])\n",
    "        obs_files = os.listdir(\"%s%s\" % (bulk_obs_dir,season))\n",
    "        file_str = '.npz'\n",
    "        data_file = [x for x in obs_files if file_str in x][0] # weird list/indexing things :(\n",
    "        print(data_file)\n",
    "        _npz = np.load('%s%s/%s' % (bulk_obs_dir,season,data_file))\n",
    "        _slf_in = _npz[\"slf_geo\"]\n",
    "        _slf_out = np.moveaxis(_slf_in, 0, -1)\n",
    "        \n",
    "        df[:,:,:,i] = _slf_out\n",
    "        i+=1\n",
    "da = xr.DataArray(data=df,\n",
    "                  coords={\"lat\": lat,\n",
    "                          \"lon\": lon,\n",
    "                          \"isotherm\": iso,\n",
    "                          \"time\": time},\n",
    "                  dims=[\"lat\",\"lon\", \"isotherm\",\"time\"])\n",
    "da = da.sortby('isotherm')\n",
    "\n",
    "da.attrs['long_name'] = \"SLF retrieved by CALIOP from within cloud (TAU: 0.0-3.0) \"\n",
    "da.attrs['units'] = \"Fraction [0-1]\"\n",
    "\n",
    "ds = xr.Dataset()\n",
    "ds['SLF'] = da\n",
    "bulk_ds = add_weights(ds)"
   ]
  },
  {
   "cell_type": "code",
   "execution_count": 24,
   "metadata": {},
   "outputs": [],
   "source": [
    "bulk_ds.to_netcdf(path='%s/bulk_slfs_seasonal.nc' % output_dir)"
   ]
  },
  {
   "cell_type": "markdown",
   "metadata": {},
   "source": [
    "### Cloud top seasonal"
   ]
  },
  {
   "cell_type": "code",
   "execution_count": 25,
   "metadata": {},
   "outputs": [
    {
     "name": "stdout",
     "output_type": "stream",
     "text": [
      "DJF 2010-01-01 00:00:00\n",
      "slf_count_geo_DJF.npz\n",
      "JJA 2010-07-01 00:00:00\n",
      "slf_count_geo_JJA.npz\n",
      "MAM 2010-04-01 00:00:00\n",
      "slf_count_geo_MAM.npz\n",
      "SON 2010-10-01 00:00:00\n",
      "slf_count_geo_SON.npz\n"
     ]
    }
   ],
   "source": [
    "df = np.zeros((180, 360, 9, 4)) # lat, lon, iso, season\n",
    "\n",
    "lat = np.linspace(-89.5, 89.5, 180)\n",
    "lon = np.linspace(-180, 179, 360)\n",
    "iso = np.linspace(-40, 0, 9)\n",
    "time = [datetime(2010, 1, 1),datetime(2010, 7, 1),datetime(2010, 4, 1),datetime(2010, 10, 1)]\n",
    "season = ['DJF', 'JJA', 'MAM', 'SON'] # weird order\n",
    "season_dict = {'DJF':datetime(2010, 1, 15), 'JJA':datetime(2010, 7, 15), \n",
    "               'MAM':datetime(2010, 4, 15), 'SON':datetime(2010, 10, 15)} # by middle month\n",
    "\n",
    "cal_seasons = os.listdir(top_obs_dir)\n",
    "cal_seasons.sort()\n",
    "i = 0\n",
    "for season in cal_seasons:\n",
    "    if len(season) == 3: # quickly filter out the README\n",
    "        print(season, time[i])\n",
    "        obs_files = os.listdir(\"%s%s\" % (top_obs_dir,season))\n",
    "        file_str = '.npz'\n",
    "        data_file = [x for x in obs_files if file_str in x][0] # weird list/indexing things :(\n",
    "        print(data_file)\n",
    "        _npz = np.load('%s%s/%s' % (top_obs_dir,season,data_file))\n",
    "        _slf_in = _npz[\"slf_geo\"]\n",
    "        _slf_out = np.moveaxis(_slf_in, 0, -1)\n",
    "        \n",
    "        df[:,:,:,i] = _slf_out\n",
    "        i+=1\n",
    "\n",
    "da = xr.DataArray(data=df,\n",
    "                  coords={\"lat\": lat,\n",
    "                          \"lon\": lon,\n",
    "                          \"isotherm\": iso,\n",
    "                          \"time\": time},\n",
    "                  dims=[\"lat\",\"lon\", \"isotherm\",\"time\"])\n",
    "da = da.sortby('isotherm')\n",
    "\n",
    "da.attrs['long_name'] = \"SLF retrieved by CALIOP from the top lower discarding TAU < 0.3) \"\n",
    "da.attrs['units'] = \"Fraction [0-1]\"\n",
    "\n",
    "ds = xr.Dataset()\n",
    "ds['SLF'] = da\n",
    "ct_ds = add_weights(ds)"
   ]
  },
  {
   "cell_type": "code",
   "execution_count": 26,
   "metadata": {},
   "outputs": [],
   "source": [
    "ct_ds.to_netcdf(path='%s/ct_slfs_seasonal.nc' % output_dir)"
   ]
  },
  {
   "cell_type": "markdown",
   "metadata": {},
   "source": [
    "## Load incloud/bulk cloud values. 06/02/2020?\n"
   ]
  },
  {
   "cell_type": "code",
   "execution_count": 12,
   "metadata": {},
   "outputs": [
    {
     "name": "stdout",
     "output_type": "stream",
     "text": [
      "Can access all directory paths: True\n"
     ]
    }
   ],
   "source": [
    "output_dir = 'caliop_olimpia/seasonal_data/'\n",
    "bulk_obs_dir = \"caliop_olimpia/4_Jonah/bulk3/season/global/\"\n",
    "top_obs_dir = 'caliop_olimpia/4_Jonah/top03/season/global/'\n",
    "\n",
    "# Check that each important directory can be accessed:    \n",
    "access_paths = os.path.exists(bulk_obs_dir) and os.path.exists(top_obs_dir) and os.path.exists(output_dir)\n",
    "print('Can access all directory paths:', access_paths)"
   ]
  },
  {
   "cell_type": "code",
   "execution_count": 13,
   "metadata": {},
   "outputs": [
    {
     "data": {
      "text/plain": [
       "['read_me.txt', 'SON', 'JJA', 'MAM', 'DJF']"
      ]
     },
     "execution_count": 13,
     "metadata": {},
     "output_type": "execute_result"
    }
   ],
   "source": [
    "os.listdir(bulk_obs_dir)"
   ]
  },
  {
   "cell_type": "code",
   "execution_count": 25,
   "metadata": {},
   "outputs": [
    {
     "name": "stdout",
     "output_type": "stream",
     "text": [
      "DJF 2010-01-01 00:00:00\n",
      "slf_count_geo_bulk_DJF.npz\n",
      "JJA 2010-07-01 00:00:00\n",
      "slf_count_geo_bulk_JJA.npz\n",
      "MAM 2010-04-01 00:00:00\n",
      "slf_count_geo_bulk_MAM.npz\n",
      "SON 2010-10-01 00:00:00\n",
      "slf_count_geo_bulk_SON.npz\n"
     ]
    }
   ],
   "source": [
    "df = np.zeros((180, 360, 9, 4)) # lat, lon, iso, season\n",
    "\n",
    "lat = np.linspace(-89.5, 89.5, 180)\n",
    "lon = np.linspace(-180, 179, 360)\n",
    "iso = np.linspace(-40, 0, 9)\n",
    "time = [datetime(2010, 1, 1),datetime(2010, 7, 1),datetime(2010, 4, 1),datetime(2010, 10, 1)]\n",
    "season = ['DJF', 'JJA', 'MAM', 'SON'] # weird order\n",
    "season_dict = {'DJF':datetime(2010, 1, 15), 'JJA':datetime(2010, 7, 15), \n",
    "               'MAM':datetime(2010, 4, 15), 'SON':datetime(2010, 10, 15)} # by middle month\n",
    "\n",
    "cal_seasons = os.listdir(bulk_obs_dir)\n",
    "cal_seasons.sort()\n",
    "for i,season in enumerate(cal_seasons):\n",
    "    if len(season) == 3: # quickly filter out the README\n",
    "        print(season, time[i])\n",
    "        obs_files = os.listdir(\"%s%s\" % (bulk_obs_dir,season))\n",
    "        file_str = '.npz'\n",
    "        data_file = [x for x in obs_files if file_str in x][0] # weird list/indexing things :(\n",
    "        print(data_file)\n",
    "        _npz = np.load('%s%s/%s' % (bulk_obs_dir,season,data_file))\n",
    "        _slf_in = _npz[\"slf_geo\"]\n",
    "        _slf_out = np.moveaxis(_slf_in, 0, -1)\n",
    "        \n",
    "        df[:,:,:,i] = _slf_out\n",
    "\n",
    "da = xr.DataArray(data=df,\n",
    "                  coords={\"lat\": lat,\n",
    "                          \"lon\": lon,\n",
    "                          \"isotherm\": iso,\n",
    "                          \"time\": time},\n",
    "                  dims=[\"lat\",\"lon\", \"isotherm\",\"time\"])\n",
    "da = da.sortby('isotherm')\n",
    "\n",
    "da.attrs['long_name'] = \"SLF retrieved by CALIOP from within cloud (TAU: 0.0-3.0) \"\n",
    "da.attrs['units'] = \"Fraction [0-1]\"\n",
    "\n",
    "ds = xr.Dataset()\n",
    "ds['SLF'] = da\n",
    "ds = add_weights(ds)"
   ]
  },
  {
   "cell_type": "code",
   "execution_count": 26,
   "metadata": {},
   "outputs": [],
   "source": [
    "ds.to_netcdf(path='%s/incloud_slfs_seasonal.nc' % output_dir)"
   ]
  },
  {
   "cell_type": "markdown",
   "metadata": {},
   "source": [
    "## Load cloudtop slf values."
   ]
  },
  {
   "cell_type": "code",
   "execution_count": 27,
   "metadata": {},
   "outputs": [
    {
     "name": "stdout",
     "output_type": "stream",
     "text": [
      "DJF 2010-01-01 00:00:00\n",
      "slf_count_geo_DJF.npz\n",
      "JJA 2010-07-01 00:00:00\n",
      "slf_count_geo_JJA.npz\n",
      "MAM 2010-04-01 00:00:00\n",
      "slf_count_geo_MAM.npz\n",
      "SON 2010-10-01 00:00:00\n",
      "slf_count_geo_SON.npz\n"
     ]
    }
   ],
   "source": [
    "df = np.zeros((180, 360, 9, 4)) # lat, lon, iso, season\n",
    "\n",
    "lat = np.linspace(-89.5, 89.5, 180)\n",
    "lon = np.linspace(-180, 179, 360)\n",
    "iso = np.linspace(-40, 0, 9)\n",
    "time = [datetime(2010, 1, 1),datetime(2010, 7, 1),datetime(2010, 4, 1),datetime(2010, 10, 1)]\n",
    "season = ['DJF', 'JJA', 'MAM', 'SON'] # weird order\n",
    "season_dict = {'DJF':datetime(2010, 1, 15), 'JJA':datetime(2010, 7, 15), \n",
    "               'MAM':datetime(2010, 4, 15), 'SON':datetime(2010, 10, 15)} # by middle month\n",
    "\n",
    "cal_seasons = os.listdir(top_obs_dir)\n",
    "cal_seasons.sort()\n",
    "for i,season in enumerate(cal_seasons):\n",
    "    if len(season) == 3: # quickly filter out the README\n",
    "        print(season, time[i])\n",
    "        obs_files = os.listdir(\"%s%s\" % (top_obs_dir,season))\n",
    "        file_str = '.npz'\n",
    "        data_file = [x for x in obs_files if file_str in x][0] # weird list/indexing things :(\n",
    "        print(data_file)\n",
    "        _npz = np.load('%s%s/%s' % (top_obs_dir,season,data_file))\n",
    "        _slf_in = _npz[\"slf_geo\"]\n",
    "        _slf_out = np.moveaxis(_slf_in, 0, -1)\n",
    "        \n",
    "        df[:,:,:,i] = _slf_out\n",
    "\n",
    "da = xr.DataArray(data=df,\n",
    "                  coords={\"lat\": lat,\n",
    "                          \"lon\": lon,\n",
    "                          \"isotherm\": iso,\n",
    "                          \"time\": time},\n",
    "                  dims=[\"lat\",\"lon\", \"isotherm\",\"time\"])\n",
    "da = da.sortby('isotherm')\n",
    "\n",
    "da.attrs['long_name'] = \"SLF retrieved by CALIOP from the top lower discarding TAU < 0.3) \"\n",
    "da.attrs['units'] = \"Fraction [0-1]\"\n",
    "\n",
    "ds = xr.Dataset()\n",
    "ds['SLF'] = da\n",
    "ds = add_weights(ds)"
   ]
  },
  {
   "cell_type": "code",
   "execution_count": 28,
   "metadata": {},
   "outputs": [],
   "source": [
    "ds.to_netcdf(path='%s/cloudtop_slfs_seasonal.nc' % output_dir)"
   ]
  },
  {
   "cell_type": "markdown",
   "metadata": {},
   "source": [
    "Interesting that the SLF at the -10C isotherm is latitude dependent"
   ]
  },
  {
   "cell_type": "code",
   "execution_count": 6,
   "metadata": {},
   "outputs": [
    {
     "data": {
      "text/plain": [
       "['GOCCP_data',\n",
       " 'caliop_slfs',\n",
       " 'resolution_stuff',\n",
       " 'olimpia_cosp',\n",
       " 'inp_obs',\n",
       " 'caliop_olimpia',\n",
       " '.ipynb_checkpoints',\n",
       " 'caliop_olimpia_new',\n",
       " 'AMWG_diag',\n",
       " 'NoresmDiagnostics',\n",
       " 'satcomp',\n",
       " 'git_repos',\n",
       " 'convectivephase',\n",
       " 'figures',\n",
       " 'NorESM_validation',\n",
       " 'conspiracy_stuff',\n",
       " 'mnth15runs',\n",
       " 'CERES_EBAF',\n",
       " 'nudging_dev',\n",
       " 'inp_validation',\n",
       " 'Diagnostics_Output',\n",
       " 'slf_validation']"
      ]
     },
     "execution_count": 6,
     "metadata": {},
     "output_type": "execute_result"
    }
   ],
   "source": [
    "os.listdir()"
   ]
  },
  {
   "cell_type": "code",
   "execution_count": 8,
   "metadata": {},
   "outputs": [],
   "source": [
    "ceres_data = xr.open_dataset(\"%s%s\" % ('CERES_EBAF/','CERES_EBAF_Ed4.1_Subset_200901-201312.nc'))"
   ]
  },
  {
   "cell_type": "code",
   "execution_count": 13,
   "metadata": {},
   "outputs": [],
   "source": [
    "noresm_data = xr.open_dataset(\"%s%s\" % ('satcomp/20200504_145018_fitting_runs_cam6satcomp_wbf_1_inp_1/','20200504_145018_fitting_runs_cam6satcomp_wbf_1_inp_1.nc'))"
   ]
  },
  {
   "cell_type": "code",
   "execution_count": 16,
   "metadata": {},
   "outputs": [],
   "source": [
    "noresm_satcomp = noresm_data.sel(time=slice('2009-06-01','2013-05-31'))\n",
    "ceres_satcomp = ceres_data.sel(time=slice('2009-06-01','2013-05-31'))"
   ]
  },
  {
   "cell_type": "code",
   "execution_count": 27,
   "metadata": {},
   "outputs": [
    {
     "data": {
      "text/plain": [
       "<matplotlib.legend.Legend at 0x7f90e938da58>"
      ]
     },
     "execution_count": 27,
     "metadata": {},
     "output_type": "execute_result"
    },
    {
     "data": {
      "image/png": "[encoded data removed]",
      "text/plain": [
       "<Figure size 432x288 with 1 Axes>"
      ]
     },
     "metadata": {
      "needs_background": "light"
     },
     "output_type": "display_data"
    }
   ],
   "source": [
    "ceres_satcomp['toa_lw_all_mon'].mean(['time','lon']).plot(label='toa_lw_all_mon')\n",
    "noresm_satcomp['FLNT'].mean(['time','lon']).plot(label='FLNT')\n",
    "plt.legend()"
   ]
  },
  {
   "cell_type": "code",
   "execution_count": 29,
   "metadata": {},
   "outputs": [
    {
     "data": {
      "text/plain": [
       "<matplotlib.legend.Legend at 0x7f90e95f9710>"
      ]
     },
     "execution_count": 29,
     "metadata": {},
     "output_type": "execute_result"
    },
    {
     "data": {
      "image/png": "[encoded data removed]",
      "text/plain": [
       "<Figure size 432x288 with 1 Axes>"
      ]
     },
     "metadata": {
      "needs_background": "light"
     },
     "output_type": "display_data"
    }
   ],
   "source": [
    "ceres_satcomp['toa_cre_sw_mon'].mean(['time','lon']).plot(label='toa_cre_sw_mon')\n",
    "noresm_satcomp['SWCF'].mean(['time','lon']).plot(label='SWCF')\n",
    "plt.legend()"
   ]
  },
  {
   "cell_type": "code",
   "execution_count": 30,
   "metadata": {},
   "outputs": [
    {
     "data": {
      "text/plain": [
       "<matplotlib.legend.Legend at 0x7f90e9754f28>"
      ]
     },
     "execution_count": 30,
     "metadata": {},
     "output_type": "execute_result"
    },
    {
     "data": {
      "image/png": "[encoded data removed]",
      "text/plain": [
       "<Figure size 432x288 with 1 Axes>"
      ]
     },
     "metadata": {
      "needs_background": "light"
     },
     "output_type": "display_data"
    }
   ],
   "source": [
    "ceres_satcomp['toa_cre_lw_mon'].mean(['time','lon']).plot(label='toa_cre_lw_mon')\n",
    "noresm_satcomp['LWCF'].mean(['time','lon']).plot(label='LWCF')\n",
    "plt.legend()"
   ]
  },
  {
   "cell_type": "code",
   "execution_count": 23,
   "metadata": {},
   "outputs": [
    {
     "data": {
      "text/plain": [
       "<matplotlib.legend.Legend at 0x7f90ebfde978>"
      ]
     },
     "execution_count": 23,
     "metadata": {},
     "output_type": "execute_result"
    },
    {
     "data": {
      "image/png": "[encoded data removed]",
      "text/plain": [
       "<Figure size 432x288 with 1 Axes>"
      ]
     },
     "metadata": {
      "needs_background": "light"
     },
     "output_type": "display_data"
    }
   ],
   "source": [
    "ceres_satcomp['toa_sw_all_mon'].mean(['time','lon']).plot(label='toa_sw_all_mon')\n",
    "ceres_satcomp['toa_lw_all_mon'].mean(['time','lon']).plot(label='toa_lw_all_mon')\n",
    "ceres_satcomp['toa_cre_sw_mon'].mean(['time','lon']).plot(label='toa_cre_sw_mon')\n",
    "ceres_satcomp['toa_cre_lw_mon'].mean(['time','lon']).plot(label='toa_cre_lw_mon')\n",
    "plt.legend()"
   ]
  },
  {
   "cell_type": "code",
   "execution_count": 26,
   "metadata": {},
   "outputs": [
    {
     "data": {
      "text/plain": [
       "<matplotlib.legend.Legend at 0x7f90e9547d68>"
      ]
     },
     "execution_count": 26,
     "metadata": {},
     "output_type": "execute_result"
    },
    {
     "data": {
      "image/png": "[encoded data removed]",
      "text/plain": [
       "<Figure size 432x288 with 1 Axes>"
      ]
     },
     "metadata": {
      "needs_background": "light"
     },
     "output_type": "display_data"
    }
   ],
   "source": [
    "noresm_satcomp['FSNT'].mean(['time','lon']).plot(label='FSNT')\n",
    "noresm_satcomp['FLNT'].mean(['time','lon']).plot(label='FLNT')\n",
    "noresm_satcomp['SWCF'].mean(['time','lon']).plot(label='SWCF')\n",
    "noresm_satcomp['LWCF'].mean(['time','lon']).plot(label='LWCF')\n",
    "plt.legend()"
   ]
  },
  {
   "cell_type": "code",
   "execution_count": 12,
   "metadata": {},
   "outputs": [
    {
     "name": "stdout",
     "output_type": "stream",
     "text": [
      "Top of The Atmosphere Shortwave Flux, All-Sky conditions, Monthly Means\n",
      "Top of The Atmosphere Longwave Flux, All-Sky conditions, Monthly Means \n",
      "Top of The Atmosphere Net Flux, All-Sky conditions, Monthly Means\n",
      "Top of The Atmosphere Shortwave Flux, Clear-Sky (for cloud-free areas of region) conditions, Monthly Means\n",
      "Top of The Atmosphere Longwave Flux, Clear-Sky (for cloud-free areas of region) conditions, Monthly Means\n",
      "Top of The Atmosphere Net Flux, Clear-Sky (for cloud-free areas of region) conditions, Monthly Means\n",
      "Top of The Atmosphere Shortwave Flux, Clear-Sky (for total region) conditions, Monthly Means\n",
      "Top of The Atmosphere Longwave Flux, Clear-Sky (for total region) conditions, Monthly Means\n",
      "Top of The Atmosphere Net Flux, Clear-Sky (for total region) conditions, Monthly Means\n",
      "Top of The Atmosphere Cloud Radiative Effects Shortwave Flux, (uses Clear-Sky for total region), Monthly Means\n",
      "Top of The Atmosphere Cloud Radiative Effects Longwave Flux, (uses Clear-Sky for total region), Monthly Means\n",
      "Top of The Atmosphere Cloud Radiative Effects Net Flux, (uses Clear-Sky for total region), Monthly Means\n"
     ]
    }
   ],
   "source": [
    "for i in ceres_data:\n",
    "    print(ceres_data[i].long_name)"
   ]
  },
  {
   "cell_type": "code",
   "execution_count": null,
   "metadata": {},
   "outputs": [],
   "source": []
  }
 ],
 "metadata": {
  "kernelspec": {
   "display_name": "Python 3",
   "language": "python",
   "name": "python3"
  },
  "language_info": {
   "codemirror_mode": {
    "name": "ipython",
    "version": 3
   },
   "file_extension": ".py",
   "mimetype": "text/x-python",
   "name": "python",
   "nbconvert_exporter": "python",
   "pygments_lexer": "ipython3",
   "version": "3.7.3"
  }
 },
 "nbformat": 4,
 "nbformat_minor": 4
}
