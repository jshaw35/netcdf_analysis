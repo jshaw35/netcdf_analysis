{
 "cells": [
  {
   "cell_type": "markdown",
   "metadata": {},
   "source": [
    "## INP concentrations\n",
    "Trying to plot INP concentration against isotherm to compare with measurements in Tobo et al. 2019"
   ]
  },
  {
   "cell_type": "code",
   "execution_count": 1,
   "metadata": {},
   "outputs": [
    {
     "name": "stdout",
     "output_type": "stream",
     "text": [
      "The autoreload extension is already loaded. To reload it, use:\n",
      "  %reload_ext autoreload\n"
     ]
    }
   ],
   "source": [
    "import sys\n",
    "# Add common resources folder to path\n",
    "sys.path.append(\"/mnt/mcc-ns9600k/jonahks/git_repos/netcdf_analysis/Common/\")\n",
    "\n",
    "from imports import (\n",
    "    pd, np, xr, mpl, plt, sns, os, \n",
    "    datetime, sys, crt, gridspec,\n",
    "    polyfit, ccrs, LinearRegression, metrics\n",
    "    )\n",
    "\n",
    "from functions import (\n",
    "    masked_average, interpretNS, plot_slf_isotherms, \n",
    "    add_weights, process_caliop, process_for_slf,\n",
    "    noresm_slf_to_df, regress_1d\n",
    "    )\n",
    "\n",
    "%matplotlib inline"
   ]
  },
  {
   "cell_type": "code",
   "execution_count": 2,
   "metadata": {},
   "outputs": [
    {
     "name": "stdout",
     "output_type": "stream",
     "text": [
      "Running through MC2 Jupyter Hub\n",
      "Can access all directory paths: True\n"
     ]
    }
   ],
   "source": [
    "host = os.uname()[1]\n",
    "if 'jupyter' in host.split('-'): # Check if running on NIRD through the Jupyter Hub\n",
    "    print('Running through MC2 Jupyter Hub')\n",
    "    model_dir = '/mnt/mcc-ns9600k/jonahks/'\n",
    "    os.chdir(model_dir)\n",
    "\n",
    "else:  # Assume that we're running on a local machine and mounting NIRD\n",
    "    print('Running on %s, attempting to mount ns9600k/jonahks/ from NIRD' % str(host))\n",
    "    os.system('fusermount -zu ~/drivemount/')  # unmount first\n",
    "    os.system('sshfs jonahks@login.nird.sigma2.no:\"p/jonahks/\" ~/drivemount/')    # Calling mountnird from .bashrc doesn't work\n",
    "    os.chdir('/home/jonahks/drivemount/')\n",
    "    save_dir = '~/DATAOUT/'\n",
    "    save_to = os.path.expanduser(save_dir)\n",
    "\n",
    "obs_dir = 'caliop_cloudtop/'\n",
    "output_dir = 'figures/'\n",
    "case_dir = 'mnth15runs/'   # inconsistent label compared to jupy_test\n",
    "    \n",
    "# Check that each important directory can be accessed:    \n",
    "access_paths = os.path.exists(obs_dir) and os.path.exists(output_dir) and os.path.exists(model_dir)\n",
    "print('Can access all directory paths:', access_paths)"
   ]
  },
  {
   "cell_type": "markdown",
   "metadata": {},
   "source": [
    "Get observational data"
   ]
  },
  {
   "cell_type": "code",
   "execution_count": 3,
   "metadata": {},
   "outputs": [],
   "source": [
    "inpobs = pd.read_csv('inp_obs/inp_obs.csv', names=['T','INP'])[:29] # "
   ]
  },
  {
   "cell_type": "code",
   "execution_count": 4,
   "metadata": {},
   "outputs": [],
   "source": [
    "def upper_fit(t):\n",
    "    INP_25C = 0.14\n",
    "    slope = 0.703\n",
    "    inp_t = INP_25C*(slope**(t + 24.83))\n",
    "    return inp_t\n",
    "\n",
    "def lower_fit(t):\n",
    "    INP_25C = 0.027\n",
    "    slope = 0.5537979124908083\n",
    "    inp_t = INP_25C*(slope**(t + 24.87))\n",
    "    return inp_t\n",
    "\n",
    "def mid_fit(t):\n",
    "    INP_25C = 0.05\n",
    "    slope = 0.7\n",
    "    inp_t = INP_25C*(slope**(t + 24.87))\n",
    "    return inp_t"
   ]
  },
  {
   "cell_type": "code",
   "execution_count": 5,
   "metadata": {},
   "outputs": [],
   "source": [
    "inpobs['upper'] = inpobs['INP'] > mid_fit(inpobs['T'])"
   ]
  },
  {
   "cell_type": "code",
   "execution_count": 6,
   "metadata": {},
   "outputs": [
    {
     "data": {
      "text/plain": [
       "Text(0,0.5,'INP concentration ($l{^-1}$)')"
      ]
     },
     "execution_count": 6,
     "metadata": {},
     "output_type": "execute_result"
    },
    {
     "data": {
      "image/png": "[encoded data removed]",
      "text/plain": [
       "<Figure size 432x288 with 1 Axes>"
      ]
     },
     "metadata": {
      "needs_background": "light"
     },
     "output_type": "display_data"
    }
   ],
   "source": [
    "plt.fill_between(inpobs['T'], y1=lower_fit(inpobs['T']), y2=upper_fit(inpobs['T']),alpha=0.2, color='blue', label='Range from observations in Tobo et al., 2019')\n",
    "#plt.scatter(inpobs['T'], inpobs['INP'])\n",
    "plt.yscale('log')\n",
    "plt.xlim((-25,-5)); #plt.ylim((1e-4,1))\n",
    "plt.title('Northern Latitude INP concentrations (March)')\n",
    "plt.xlabel('Temperature (C)'); plt.ylabel('INP concentration ($l{^-1}$)')"
   ]
  },
  {
   "cell_type": "markdown",
   "metadata": {},
   "source": [
    "Determine the correct file paths and load the netcdf files"
   ]
  },
  {
   "cell_type": "code",
   "execution_count": 7,
   "metadata": {},
   "outputs": [
    {
     "data": {
      "text/plain": [
       "['caliop_slfs',\n",
       " 'inp_obs',\n",
       " '.ipynb_checkpoints',\n",
       " 'caliop_cloudtop',\n",
       " 'git_repos',\n",
       " 'sedimentatio_dev',\n",
       " 'figures',\n",
       " 'NorESM_validation',\n",
       " 'mnth15runs',\n",
       " 'nudging_dev',\n",
       " 'python-code',\n",
       " 'slf_validation']"
      ]
     },
     "execution_count": 7,
     "metadata": {},
     "output_type": "execute_result"
    }
   ],
   "source": [
    "os.listdir()"
   ]
  },
  {
   "cell_type": "code",
   "execution_count": 8,
   "metadata": {},
   "outputs": [],
   "source": [
    "case = '20191230_130025_singleparam_cttest15_wbf_1_inp_1'"
   ]
  },
  {
   "cell_type": "markdown",
   "metadata": {},
   "source": [
    "Add INP sum variable, then mask non-Arctic latitudes and weight by cell area to produce concentration vs. temperature relation."
   ]
  },
  {
   "cell_type": "code",
   "execution_count": 45,
   "metadata": {},
   "outputs": [],
   "source": [
    "# Load NorESM data\n",
    "ds = xr.open_dataset('%s/%s/atm/hist/%s.cam.h0.0001-03.nc' % (case_dir, case, case))\n",
    "if (len(ds['time']) > 1):\n",
    "    try:\n",
    "        ds = ds.sel(time=slice('0001-04-01', '0002-03-01'))\n",
    "    except:\n",
    "        ds = ds.sel(time=slice('2000-04-01', '2001-03-01'))\n",
    "#        ds = _ds.isel(time=slice(3,15))\n",
    "ds = add_weights(ds) # still has time here\n",
    "\n",
    "ds['INP_sum'] = ds['NIMIX_DEP'] + ds['NIMIX_IMM'] + ds['NIMIX_CNT'] # add new variable\n",
    "ds['bcINP_sum'] = ds['BCNIDEP'] + ds['BCNIIMM'] + ds['BCNICNT'] # add new variable\n",
    "\n",
    "ds['INP_sum_TAVG'] = ds['INP_sum'].mean(dim = 'time', skipna=True)\n",
    "ds['bcINP_sum_TAVG'] = ds['bcINP_sum'].mean(dim = 'time', skipna=True)\n",
    "\n",
    "# Different resolutions, needs different masks. Remember weird mask sign convention: true=not included\n",
    "mask= np.bitwise_or(ds['lat']<70, ds['lat']>90)\n",
    "\n",
    "weight = ds['cell_weight']\n",
    "\n",
    "inp = masked_average(ds['INP_sum_TAVG'], dim=['lat','lon'],weights=weight, mask=mask)\n",
    "BCinp = masked_average(ds['bcINP_sum_TAVG'], dim=['lat','lon'],weights=weight, mask=mask)\n",
    "tt = masked_average(ds['T'], dim=['lat','lon','time'],weights=weight, mask=mask)\n",
    "\n",
    "stdev = 100*np.std(ds['INP_sum_TAVG'].sel(lat=slice(70,90)), axis=(0,1))\n"
   ]
  },
  {
   "cell_type": "markdown",
   "metadata": {},
   "source": [
    "Plot Stuff"
   ]
  },
  {
   "cell_type": "code",
   "execution_count": 26,
   "metadata": {},
   "outputs": [
    {
     "data": {
      "text/html": [
       "<pre>&lt;xarray.DataArray (lev: 32)&gt;\n",
       "array([235.99246742, 228.42818088, 219.42196166, 214.23621388,\n",
       "       212.03398288, 210.93390544, 210.23859428, 209.73994141,\n",
       "       209.47140075, 209.46963141, 209.63271827, 209.81484138,\n",
       "       209.65322422, 208.72567343, 207.54232452, 207.71974119,\n",
       "       209.92676894, 214.1983136 , 220.01345837, 226.82191324,\n",
       "       234.13588218, 240.90316724, 246.19895899, 249.91180903,\n",
       "       252.2490617 , 253.33990713, 253.72740786, 253.6857546 ,\n",
       "       253.12157124, 252.02965807, 250.00776624, 247.3480846 ])\n",
       "Coordinates:\n",
       "  * lev      (lev) float64 3.643 7.595 14.36 24.61 ... 936.2 957.5 976.3 992.6</pre>"
      ],
      "text/plain": [
       "<xarray.DataArray (lev: 32)>\n",
       "array([235.99246742, 228.42818088, 219.42196166, 214.23621388,\n",
       "       212.03398288, 210.93390544, 210.23859428, 209.73994141,\n",
       "       209.47140075, 209.46963141, 209.63271827, 209.81484138,\n",
       "       209.65322422, 208.72567343, 207.54232452, 207.71974119,\n",
       "       209.92676894, 214.1983136 , 220.01345837, 226.82191324,\n",
       "       234.13588218, 240.90316724, 246.19895899, 249.91180903,\n",
       "       252.2490617 , 253.33990713, 253.72740786, 253.6857546 ,\n",
       "       253.12157124, 252.02965807, 250.00776624, 247.3480846 ])\n",
       "Coordinates:\n",
       "  * lev      (lev) float64 3.643 7.595 14.36 24.61 ... 936.2 957.5 976.3 992.6"
      ]
     },
     "execution_count": 26,
     "metadata": {},
     "output_type": "execute_result"
    }
   ],
   "source": [
    "tt"
   ]
  },
  {
   "cell_type": "code",
   "execution_count": 56,
   "metadata": {},
   "outputs": [
    {
     "data": {
      "text/plain": [
       "<matplotlib.collections.PathCollection at 0x7fce5077d438>"
      ]
     },
     "execution_count": 56,
     "metadata": {},
     "output_type": "execute_result"
    },
    {
     "data": {
      "image/png": "[encoded data removed]",
      "text/plain": [
       "<Figure size 432x288 with 1 Axes>"
      ]
     },
     "metadata": {
      "needs_background": "light"
     },
     "output_type": "display_data"
    }
   ],
   "source": [
    "plt.scatter(tt[27:]-273.15, inp[27:]/1000)"
   ]
  },
  {
   "cell_type": "code",
   "execution_count": 57,
   "metadata": {},
   "outputs": [
    {
     "data": {
      "text/plain": [
       "Text(0,0.5,'INP concentration ($l{^-1}$)')"
      ]
     },
     "execution_count": 57,
     "metadata": {},
     "output_type": "execute_result"
    },
    {
     "data": {
      "image/png": "[encoded data removed]",
      "text/plain": [
       "<Figure size 432x288 with 1 Axes>"
      ]
     },
     "metadata": {
      "needs_background": "light"
     },
     "output_type": "display_data"
    }
   ],
   "source": [
    "plt.fill_between(inpobs['T'], y1=lower_fit(inpobs['T']), y2=upper_fit(inpobs['T']),alpha=0.2, color='blue', label='Range from observations in Tobo et al., 2019')\n",
    "#plt.scatter(inpobs['T'], inpobs['INP'])\n",
    "plt.scatter(tt[27:]-273.15, inp[27:]/1000)\n",
    "plt.yscale('log')\n",
    "plt.xlim((-25,-5)); #plt.ylim((1e-4,1))\n",
    "plt.title('Northern Latitude INP concentrations (March)')\n",
    "plt.xlabel('Temperature (C)'); plt.ylabel('INP concentration ($l{^-1}$)')"
   ]
  },
  {
   "cell_type": "code",
   "execution_count": 49,
   "metadata": {},
   "outputs": [
    {
     "data": {
      "text/plain": [
       "<matplotlib.legend.Legend at 0x7fce2957c358>"
      ]
     },
     "execution_count": 49,
     "metadata": {},
     "output_type": "execute_result"
    },
    {
     "data": {
      "image/png": "[encoded data removed]",
      "text/plain": [
       "<Figure size 432x288 with 1 Axes>"
      ]
     },
     "metadata": {
      "needs_background": "light"
     },
     "output_type": "display_data"
    }
   ],
   "source": [
    "plt.plot(inp[15:]['lev'], inp[15:]/1000, label='Dust')\n",
    "plt.plot(BCinp[15:]['lev'], BCinp[15:]/1000, label='BC')\n",
    "plt.legend()"
   ]
  },
  {
   "cell_type": "code",
   "execution_count": 44,
   "metadata": {},
   "outputs": [
    {
     "data": {
      "text/html": [
       "<pre>&lt;xarray.DataArray &#x27;NIMIX_IMM&#x27; (time: 1, lev: 32, lat: 96, lon: 144)&gt;\n",
       "[442368 values with dtype=float32]\n",
       "Coordinates:\n",
       "  * lat      (lat) float64 -90.0 -88.11 -86.21 -84.32 ... 84.32 86.21 88.11 90.0\n",
       "  * lon      (lon) float64 0.0 2.5 5.0 7.5 10.0 ... 350.0 352.5 355.0 357.5\n",
       "  * lev      (lev) float64 3.643 7.595 14.36 24.61 ... 936.2 957.5 976.3 992.6\n",
       "  * time     (time) object 0001-04-01 00:00:00\n",
       "Attributes:\n",
       "    mdims:         1\n",
       "    units:         #/m3\n",
       "    long_name:     Activated Ice Number Concentration due to het immersion fr...\n",
       "    cell_methods:  time: mean</pre>"
      ],
      "text/plain": [
       "<xarray.DataArray 'NIMIX_IMM' (time: 1, lev: 32, lat: 96, lon: 144)>\n",
       "[442368 values with dtype=float32]\n",
       "Coordinates:\n",
       "  * lat      (lat) float64 -90.0 -88.11 -86.21 -84.32 ... 84.32 86.21 88.11 90.0\n",
       "  * lon      (lon) float64 0.0 2.5 5.0 7.5 10.0 ... 350.0 352.5 355.0 357.5\n",
       "  * lev      (lev) float64 3.643 7.595 14.36 24.61 ... 936.2 957.5 976.3 992.6\n",
       "  * time     (time) object 0001-04-01 00:00:00\n",
       "Attributes:\n",
       "    mdims:         1\n",
       "    units:         #/m3\n",
       "    long_name:     Activated Ice Number Concentration due to het immersion fr...\n",
       "    cell_methods:  time: mean"
      ]
     },
     "execution_count": 44,
     "metadata": {},
     "output_type": "execute_result"
    }
   ],
   "source": [
    "ds['NIMIX_IMM']"
   ]
  },
  {
   "cell_type": "code",
   "execution_count": 96,
   "metadata": {},
   "outputs": [
    {
     "data": {
      "text/plain": [
       "Text(0.5,0.98,'20191230_130025_singleparam_cttest15_wbf_1_inp_1')"
      ]
     },
     "execution_count": 96,
     "metadata": {},
     "output_type": "execute_result"
    },
    {
     "data": {
      "image/png": "[encoded data removed]",
      "text/plain": [
       "<Figure size 720x432 with 2 Axes>"
      ]
     },
     "metadata": {
      "needs_background": "light"
     },
     "output_type": "display_data"
    }
   ],
   "source": [
    "fig1 = plt.figure(figsize=(10,6))#constrained_layout=True)\n",
    "\n",
    "fig1.gca().invert_yaxis()\n",
    "\n",
    "colors = ['blue', 'orange', 'red']\n",
    "\n",
    "for b,c in zip(bands, colors):\n",
    "    if b == 'Arctic':\n",
    "        f1_ax1.errorbar(df['CALIOP %s SLF' % b], df['isotherm'], xerr=2*df['CALIOP %s StDev' % b], label='CALIOP %s' % b, color = c, fmt='o', marker='D')\n",
    "        f1_ax1.plot(df['NorESM %s SLF' % b], df['isotherm'], color = c) #, label=b)\n",
    "        f1_ax1.fill_betweenx(df['isotherm'], df['NorESM %s SLF' % b] - 2*df['NorESM %s StDev' % b], df['NorESM %s SLF' % b] + 2*df['NorESM %s StDev' % b], alpha=0.2, color=c)\n",
    "\n",
    "        slf_error = df['NorESM %s SLF' % b] - df['CALIOP %s SLF' % b]\n",
    "        f1_ax2.scatter(slf_error, df['isotherm'], color=c, label=b)\n",
    "\n",
    "#_r = regress_1d(isos, all_slf_clean[error])\n",
    "#_s = _r.score(isos, all_slf_clean[error])\n",
    "#f1_ax2.plot(_r.predict(isos), isos, color=color, label = ('$R^2 = %f$' % _s))\n",
    "\n",
    "f1_ax1.set_xlim((0,105))\n",
    "f1_ax1.legend()\n",
    "f1_ax2.legend()\n",
    "\n",
    "fig1.suptitle(case, fontsize=16)"
   ]
  },
  {
   "cell_type": "code",
   "execution_count": null,
   "metadata": {},
   "outputs": [],
   "source": []
  }
 ],
 "metadata": {
  "kernelspec": {
   "display_name": "Python 3",
   "language": "python",
   "name": "python3"
  },
  "language_info": {
   "codemirror_mode": {
    "name": "ipython",
    "version": 3
   },
   "file_extension": ".py",
   "mimetype": "text/x-python",
   "name": "python",
   "nbconvert_exporter": "python",
   "pygments_lexer": "ipython3",
   "version": "3.7.3"
  }
 },
 "nbformat": 4,
 "nbformat_minor": 4
}
