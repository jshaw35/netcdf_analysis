{
 "cells": [
  {
   "cell_type": "markdown",
   "metadata": {},
   "source": [
    "Practicing linear regression"
   ]
  },
  {
   "cell_type": "code",
   "execution_count": 55,
   "metadata": {},
   "outputs": [],
   "source": [
    "from imports import (\n",
    "    np, pd, xr, plt, os, LinearRegression,\n",
    "    metrics)\n",
    "\n",
    "%matplotlib inline"
   ]
  },
  {
   "cell_type": "code",
   "execution_count": 56,
   "metadata": {},
   "outputs": [],
   "source": [
    "nird_data = ''\n",
    "\n",
    "model1 = '20191122_161009_sample_param_set_wbf1_inp1.nc'\n",
    "model2 = '20191127_162007_sample_param_set_wbf0_01_inp1.nc'\n",
    "\n",
    "case = model1[:-3]\n",
    "\n",
    "model_dir = '/home/jonahks/drivemount/mnth15runs/%s/' % case"
   ]
  },
  {
   "cell_type": "code",
   "execution_count": 57,
   "metadata": {},
   "outputs": [
    {
     "data": {
      "text/plain": [
       "'/home/jonahks/git_repos/netcdf_analysis'"
      ]
     },
     "execution_count": 57,
     "metadata": {},
     "output_type": "execute_result"
    }
   ],
   "source": [
    "os.getcwd()"
   ]
  },
  {
   "cell_type": "code",
   "execution_count": 58,
   "metadata": {},
   "outputs": [
    {
     "data": {
      "text/plain": [
       "['MPC_COMPARE_CALIOP_NorESM.csv',\n",
       " '20191122_161009_sample_param_set_wbf1_inp1.cam.h0.0001-12.nc',\n",
       " '20191122_161009_sample_param_set_wbf1_inp1.cam.h0.0002-02.nc',\n",
       " '20191122_161009_sample_param_set_wbf1_inp1.cam.h0.0001-08.nc',\n",
       " '20191122_161009_sample_param_set_wbf1_inp1.cam.h0.0001-06.nc',\n",
       " '20191122_161009_sample_param_set_wbf1_inp1.cam.h0.0001-03.nc',\n",
       " '20191122_161009_sample_param_set_wbf1_inp1_slf_caliop_comparison.csv',\n",
       " '20191122_161009_sample_param_set_wbf1_inp1.nc',\n",
       " '20191122_161009_sample_param_set_wbf1_inp1.cam.h0.0001-05.nc',\n",
       " '20191122_161009_sample_param_set_wbf1_inp1_noresm_slf_isotherms.png',\n",
       " '20191122_161009_sample_param_set_wbf1_inp1.cam.h0.0002-03.nc',\n",
       " '20191122_161009_sample_param_set_wbf1_inp1.cam.h0.0001-07.nc',\n",
       " '20191122_161009_sample_param_set_wbf1_inp1.cam.i.0002-01-01-00000.nc',\n",
       " '20191122_161009_sample_param_set_wbf1_inp1.cam.h0.0001-09.nc',\n",
       " '20191122_161009_sample_param_set_wbf1_inp1.cam.h0.0001-04.nc',\n",
       " '20191122_161009_sample_param_set_wbf1_inp1.cam.h0.0001-10.nc',\n",
       " '20191122_161009_sample_param_set_wbf1_inp1.cam.h0.0002-01.nc',\n",
       " '20191122_161009_sample_param_set_wbf1_inp1_slf_comparison.png',\n",
       " '20191122_161009_sample_param_set_wbf1_inp1.cam.h0.0001-11.nc',\n",
       " '20191122_161009_sample_param_set_wbf1_inp1.cam.h0.0001-01.nc',\n",
       " '20191122_161009_sample_param_set_wbf1_inp1.cam.h0.0001-02.nc']"
      ]
     },
     "execution_count": 58,
     "metadata": {},
     "output_type": "execute_result"
    }
   ],
   "source": [
    "os.listdir(model_dir)"
   ]
  },
  {
   "cell_type": "code",
   "execution_count": 59,
   "metadata": {},
   "outputs": [
    {
     "data": {
      "text/plain": [
       "True"
      ]
     },
     "execution_count": 59,
     "metadata": {},
     "output_type": "execute_result"
    }
   ],
   "source": [
    "data_string1 = '%s%s_slf_caliop_comparison.csv' % (model_dir, case)\n",
    "os.path.exists(data_string)"
   ]
  },
  {
   "cell_type": "code",
   "execution_count": 60,
   "metadata": {},
   "outputs": [],
   "source": [
    "ds = pd.read_csv(data_string1)\n",
    "ds_clean = ds.dropna()"
   ]
  },
  {
   "cell_type": "code",
   "execution_count": 65,
   "metadata": {},
   "outputs": [
    {
     "name": "stdout",
     "output_type": "stream",
     "text": [
      "[-14.58026012]\n",
      "[[-0.42770834]]\n"
     ]
    }
   ],
   "source": [
    "X_train = np.array(ds_clean['Isotherm']).reshape(-1,1)\n",
    "y_train = np.array(ds_clean['Arctic Error']).reshape(-1,1)\n",
    "sklearn_regressor = LinearRegression().fit(X_train, y_train) # Train with the right independent/dependent variables\n",
    "\n",
    "score = sklearn_regressor.score(X_train, y_train) # R2 coefficient\n",
    "\n",
    "#To retrieve the intercept:\n",
    "print(sklearn_regressor.intercept_)#For retrieving the slope:\n",
    "print(sklearn_regressor.coef_)\n",
    "\n",
    "y_pred = sklearn_regressor.predict(X_train)"
   ]
  },
  {
   "cell_type": "code",
   "execution_count": 64,
   "metadata": {},
   "outputs": [
    {
     "data": {
      "image/png": "[encoded data removed]",
      "text/plain": [
       "<Figure size 432x432 with 1 Axes>"
      ]
     },
     "metadata": {
      "needs_background": "light"
     },
     "output_type": "display_data"
    }
   ],
   "source": [
    "fig1 = plt.figure(figsize=(6,6))#constrained_layout=True)\n",
    "fig1.gca().invert_yaxis()\n",
    "\n",
    "plt.scatter(ds_clean['Arctic Error'], ds_clean['Isotherm'], label = ('Fit R^2: %f' % score))\n",
    "plt.plot(y_pred, X_train, color='blue', linewidth=2)\n",
    "plt.legend()\n",
    "plt.show()"
   ]
  }
 ],
 "metadata": {
  "kernelspec": {
   "display_name": "Python 3",
   "language": "python",
   "name": "python3"
  },
  "language_info": {
   "codemirror_mode": {
    "name": "ipython",
    "version": 3
   },
   "file_extension": ".py",
   "mimetype": "text/x-python",
   "name": "python",
   "nbconvert_exporter": "python",
   "pygments_lexer": "ipython3",
   "version": "3.7.3"
  }
 },
 "nbformat": 4,
 "nbformat_minor": 4
}
