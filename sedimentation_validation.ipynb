{
 "cells": [
  {
   "cell_type": "markdown",
   "metadata": {},
   "source": [
    "# Sedimentation Test\n",
    "Trying to figure out how much sedimentation contributes to SLF in NorESM"
   ]
  },
  {
   "cell_type": "code",
   "execution_count": 1,
   "metadata": {},
   "outputs": [
    {
     "name": "stdout",
     "output_type": "stream",
     "text": [
      "The autoreload extension is already loaded. To reload it, use:\n",
      "  %reload_ext autoreload\n"
     ]
    }
   ],
   "source": [
    "import sys\n",
    "# Add common resources folder to path\n",
    "sys.path.append(\"/mnt/mcc-ns9600k/jonahks/git_repos/netcdf_analysis/Common/\")\n",
    "\n",
    "from imports import (\n",
    "    pd, np, xr, mpl, plt, sns, os, \n",
    "    datetime, sys, crt, gridspec,\n",
    "    polyfit, ccrs, LinearRegression, metrics\n",
    "    )\n",
    "\n",
    "from functions import (\n",
    "    masked_average, interpretNS, plot_slf_isotherms, \n",
    "    add_weights, process_caliop, process_for_slf,\n",
    "    noresm_slf_to_df, regress_1d\n",
    "    )\n",
    "\n",
    "%matplotlib inline"
   ]
  },
  {
   "cell_type": "markdown",
   "metadata": {},
   "source": [
    "Set up directories based on where the program is being run from"
   ]
  },
  {
   "cell_type": "code",
   "execution_count": 2,
   "metadata": {},
   "outputs": [
    {
     "name": "stdout",
     "output_type": "stream",
     "text": [
      "Running through MC2 Jupyter Hub\n",
      "Can access all directory paths: True\n"
     ]
    }
   ],
   "source": [
    "host = os.uname()[1]\n",
    "if 'jupyter' in host.split('-'): # Check if running on NIRD through the Jupyter Hub\n",
    "    print('Running through MC2 Jupyter Hub')\n",
    "    op_dir = '/mnt/mcc-ns9600k/jonahks/'\n",
    "    os.chdir(op_dir)\n",
    "\n",
    "else:  # Assume that we're running on a local machine and mounting NIRD\n",
    "    print('Running on %s, attempting to mount ns9600k/jonahks/ from NIRD' % str(host))\n",
    "    os.system('fusermount -zu ~/drivemount/')  # unmount first\n",
    "    os.system('sshfs jonahks@login.nird.sigma2.no:\"p/jonahks/\" ~/drivemount/')    # Calling mountnird from .bashrc doesn't work\n",
    "    os.chdir('/home/jonahks/drivemount/')\n",
    "    save_dir = '~/DATAOUT/'\n",
    "    save_to = os.path.expanduser(save_dir)\n",
    "\n",
    "obs_dir = 'caliop_slfs/'\n",
    "output_dir = 'figures/'\n",
    "case_dir = 'mnth15runs/' # inconsistent label compared to jupy_test\n",
    "    \n",
    "# Check that each important directory can be accessed:    \n",
    "access_paths = os.path.exists(obs_dir) and os.path.exists(output_dir) and os.path.exists(case_dir)\n",
    "print('Can access all directory paths:', access_paths)"
   ]
  },
  {
   "cell_type": "code",
   "execution_count": 3,
   "metadata": {},
   "outputs": [
    {
     "data": {
      "text/plain": [
       "True"
      ]
     },
     "execution_count": 3,
     "metadata": {},
     "output_type": "execute_result"
    }
   ],
   "source": [
    "val_dir = 'sedimentatio_dev/'\n",
    "os.path.exists(val_dir)"
   ]
  },
  {
   "cell_type": "code",
   "execution_count": 4,
   "metadata": {},
   "outputs": [
    {
     "data": {
      "text/plain": [
       "['20191219_151155_singleparam_cttest_wbf_1_inp_1.nc',\n",
       " '20200109_1541_wbf_1.0_inp_1.0.cam.h0.2000-01.nc',\n",
       " '20200117_101940_singleparam_nudged_no_sed_1_1']"
      ]
     },
     "execution_count": 4,
     "metadata": {},
     "output_type": "execute_result"
    }
   ],
   "source": [
    "os.listdir(val_dir)"
   ]
  },
  {
   "cell_type": "code",
   "execution_count": 5,
   "metadata": {},
   "outputs": [],
   "source": [
    "basecase = '20200109_1541_wbf_1.0_inp_1.0.cam.h0.2000-01.nc'\n",
    "nosedimentation = '20200117_101940_singleparam_nudged_no_sed_1_1/atm/hist/20200117_101940_singleparam_nudged_no_sed_1_1.cam.h0.2000-01.nc'"
   ]
  },
  {
   "cell_type": "markdown",
   "metadata": {},
   "source": [
    "Comparing the two runs in the Arctic shows that dentrained ice only contributes to 10-15% SLF"
   ]
  },
  {
   "cell_type": "code",
   "execution_count": 7,
   "metadata": {},
   "outputs": [
    {
     "data": {
      "text/plain": [
       "Text(0.5,1,'SLF trends in bulk clouds and cloud tops with detrainment changes')"
      ]
     },
     "execution_count": 7,
     "metadata": {},
     "output_type": "execute_result"
    },
    {
     "data": {
      "image/png": "[encoded data removed]",
      "text/plain": [
       "<Figure size 576x576 with 1 Axes>"
      ]
     },
     "metadata": {
      "needs_background": "light"
     },
     "output_type": "display_data"
    }
   ],
   "source": [
    "fig_detr = plt.figure(figsize=(8,8))\n",
    "plt.gca().invert_yaxis()\n",
    "\n",
    "cases = [basecase,nosedimentation]; names = ['Normal Sedimentation', 'No Sedimentation']\n",
    "colors = ['blue','green']\n",
    "for case, name, color in zip(cases, names, colors):\n",
    "    run = xr.open_dataset('%s%s' % (val_dir, case))\n",
    "    run = add_weights(run)\n",
    "    run['CT_SLF'] = run['CT_SLFXCLD_ISOTM']/run['CT_CLD_ISOTM']\n",
    "    run['SLF'] = run['SLFXCLD_ISOTM']/run['CLD_ISOTM']\n",
    "    mask = np.bitwise_or(run['lat']<66.667, run['lat']>90)\n",
    "#    mask=None\n",
    "    weights = run['cell_weight']\n",
    "    ct_slf = 100*masked_average(run['CT_SLF'], dim=['lat','lon','time'],weights=weights, mask=mask)\n",
    "    slf = 100*masked_average(run['SLF'], dim=['lat','lon','time'],weights=weights, mask=mask)\n",
    "\n",
    "    slf_stdev = 100*np.std(run['SLF'].sel(lat=slice(66.667,90)), axis=(0,2,3))\n",
    "    ct_slf_stdev = 100*np.std(run['CT_SLF'].sel(lat=slice(66.667,90)), axis=(0,2,3))\n",
    "\n",
    "    plt.scatter(ct_slf, ct_slf['isotherms_mpc']-273, label=name+' cloudtop', color=color)\n",
    "#    plt.errorbar(ct_slf, ct_slf['isotherms_mpc']-273, xerr=ct_slf_stdev, label=name+' cloudtop', color=color)\n",
    "    plt.scatter(slf, slf['isotherms_mpc']-273, label=name, marker='D', color=color)\n",
    "#    plt.errorbar(slf, slf['isotherms_mpc']-273, xerr=slf_stdev, label=name, marker='D', color=color)\n",
    "        \n",
    "plt.xlabel('SLF'); plt.ylabel('Isotherm (K)')\n",
    "plt.legend(loc = 'lower left')\n",
    "plt.title('SLF trends in bulk clouds and cloud tops with detrainment changes', fontsize=16)"
   ]
  },
  {
   "cell_type": "markdown",
   "metadata": {},
   "source": [
    "The weird bulk cloud SLF behavior here is likely due to the fact that the dentraintest was just a 1 month run, so the January cloud behavior may not reflect the average and have large uncertainties."
   ]
  },
  {
   "cell_type": "code",
   "execution_count": 8,
   "metadata": {},
   "outputs": [],
   "source": [
    "filename = 'sedimentation_validation.png'\n",
    "filename\n",
    "if not os.path.exists(filename):\n",
    "    fig_detr.savefig(output_dir + filename,format = 'png', dpi = 200)\n",
    "    fig_detr.clf()"
   ]
  },
  {
   "cell_type": "markdown",
   "metadata": {},
   "source": [
    "Define latitude ranges of interest."
   ]
  },
  {
   "cell_type": "code",
   "execution_count": 9,
   "metadata": {},
   "outputs": [],
   "source": [
    "bands = {'Global':[-90,90],'Arctic':[66.667,90],'Antarctic':[-90,-66.667]}\n",
    "df = pd.DataFrame()"
   ]
  },
  {
   "cell_type": "code",
   "execution_count": null,
   "metadata": {},
   "outputs": [],
   "source": []
  }
 ],
 "metadata": {
  "kernelspec": {
   "display_name": "Python 3",
   "language": "python",
   "name": "python3"
  },
  "language_info": {
   "codemirror_mode": {
    "name": "ipython",
    "version": 3
   },
   "file_extension": ".py",
   "mimetype": "text/x-python",
   "name": "python",
   "nbconvert_exporter": "python",
   "pygments_lexer": "ipython3",
   "version": "3.7.3"
  }
 },
 "nbformat": 4,
 "nbformat_minor": 4
}
